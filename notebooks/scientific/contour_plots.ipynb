{
 "cells": [
  {
   "cell_type": "markdown",
   "metadata": {},
   "source": [
    "# Contour Plots in Python\n",
    "- https://plot.ly/python/contour-plots/\n",
    " "
   ]
  },
  {
   "cell_type": "code",
   "execution_count": 1,
   "metadata": {},
   "outputs": [
    {
     "data": {
      "text/html": [
       "<script type=\"text/javascript\">window.PlotlyConfig = {MathJaxConfig: 'local'};</script><script type=\"text/javascript\">if (window.MathJax) {MathJax.Hub.Config({SVG: {font: \"STIX-Web\"}});}</script><script>requirejs.config({paths: { 'plotly': ['https://cdn.plot.ly/plotly-latest.min']},});if(!window._Plotly) {require(['plotly'],function(plotly) {window._Plotly=plotly;});}</script>"
      ],
      "text/vnd.plotly.v1+html": [
       "<script type=\"text/javascript\">window.PlotlyConfig = {MathJaxConfig: 'local'};</script><script type=\"text/javascript\">if (window.MathJax) {MathJax.Hub.Config({SVG: {font: \"STIX-Web\"}});}</script><script>requirejs.config({paths: { 'plotly': ['https://cdn.plot.ly/plotly-latest.min']},});if(!window._Plotly) {require(['plotly'],function(plotly) {window._Plotly=plotly;});}</script>"
      ]
     },
     "metadata": {},
     "output_type": "display_data"
    }
   ],
   "source": [
    "import plotly\n",
    "import plotly.offline as pyo\n",
    "pyo.init_notebook_mode(connected=True)"
   ]
  },
  {
   "cell_type": "markdown",
   "metadata": {},
   "source": [
    "# Basic Contour Plot\n"
   ]
  },
  {
   "cell_type": "code",
   "execution_count": 2,
   "metadata": {},
   "outputs": [
    {
     "data": {
      "application/vnd.plotly.v1+json": {
       "config": {
        "linkText": "Export to plot.ly",
        "plotlyServerURL": "https://plot.ly",
        "showLink": false
       },
       "data": [
        {
         "type": "contour",
         "uid": "d374aa6c-c035-40c4-a1c9-3a3f0ed593f4",
         "z": [
          [
           10,
           10.625,
           12.5,
           15.625,
           20
          ],
          [
           5.625,
           6.25,
           8.125,
           11.25,
           15.625
          ],
          [
           2.5,
           3.125,
           5,
           8.125,
           12.5
          ],
          [
           0.625,
           1.25,
           3.125,
           6.25,
           10.625
          ],
          [
           0,
           0.625,
           2.5,
           5.625,
           10
          ]
         ]
        }
       ],
       "layout": {}
      },
      "text/html": [
       "<div id=\"52a54775-cff5-4104-a0a2-ccebc406f083\" style=\"height: 525px; width: 100%;\" class=\"plotly-graph-div\"></div><script type=\"text/javascript\">require([\"plotly\"], function(Plotly) { window.PLOTLYENV=window.PLOTLYENV || {};window.PLOTLYENV.BASE_URL=\"https://plot.ly\";Plotly.newPlot(\"52a54775-cff5-4104-a0a2-ccebc406f083\", [{\"z\": [[10, 10.625, 12.5, 15.625, 20], [5.625, 6.25, 8.125, 11.25, 15.625], [2.5, 3.125, 5.0, 8.125, 12.5], [0.625, 1.25, 3.125, 6.25, 10.625], [0, 0.625, 2.5, 5.625, 10]], \"type\": \"contour\", \"uid\": \"f9f4ea35-6ae6-450f-afd2-d7b3cd141940\"}], {}, {\"showLink\": false, \"linkText\": \"Export to plot.ly\", \"plotlyServerURL\": \"https://plot.ly\"})});</script><script type=\"text/javascript\">window.addEventListener(\"resize\", function(){window._Plotly.Plots.resize(document.getElementById(\"52a54775-cff5-4104-a0a2-ccebc406f083\"));});</script>"
      ],
      "text/vnd.plotly.v1+html": [
       "<div id=\"52a54775-cff5-4104-a0a2-ccebc406f083\" style=\"height: 525px; width: 100%;\" class=\"plotly-graph-div\"></div><script type=\"text/javascript\">require([\"plotly\"], function(Plotly) { window.PLOTLYENV=window.PLOTLYENV || {};window.PLOTLYENV.BASE_URL=\"https://plot.ly\";Plotly.newPlot(\"52a54775-cff5-4104-a0a2-ccebc406f083\", [{\"z\": [[10, 10.625, 12.5, 15.625, 20], [5.625, 6.25, 8.125, 11.25, 15.625], [2.5, 3.125, 5.0, 8.125, 12.5], [0.625, 1.25, 3.125, 6.25, 10.625], [0, 0.625, 2.5, 5.625, 10]], \"type\": \"contour\", \"uid\": \"f9f4ea35-6ae6-450f-afd2-d7b3cd141940\"}], {}, {\"showLink\": false, \"linkText\": \"Export to plot.ly\", \"plotlyServerURL\": \"https://plot.ly\"})});</script><script type=\"text/javascript\">window.addEventListener(\"resize\", function(){window._Plotly.Plots.resize(document.getElementById(\"52a54775-cff5-4104-a0a2-ccebc406f083\"));});</script>"
      ]
     },
     "metadata": {},
     "output_type": "display_data"
    }
   ],
   "source": [
    "import plotly.plotly as py\n",
    "import plotly.graph_objs as go\n",
    "\n",
    "data = [\n",
    "    go.Contour(\n",
    "        z=[[10, 10.625, 12.5, 15.625, 20],\n",
    "           [5.625, 6.25, 8.125, 11.25, 15.625],\n",
    "           [2.5, 3.125, 5., 8.125, 12.5],\n",
    "           [0.625, 1.25, 3.125, 6.25, 10.625],\n",
    "           [0, 0.625, 2.5, 5.625, 10]]\n",
    "    )\n",
    "]\n",
    "pyo.iplot(data)"
   ]
  },
  {
   "cell_type": "markdown",
   "metadata": {},
   "source": [
    "# Setting X and Y Coordinates in a Contour Plot"
   ]
  },
  {
   "cell_type": "code",
   "execution_count": 3,
   "metadata": {},
   "outputs": [
    {
     "data": {
      "application/vnd.plotly.v1+json": {
       "config": {
        "linkText": "Export to plot.ly",
        "plotlyServerURL": "https://plot.ly",
        "showLink": false
       },
       "data": [
        {
         "type": "contour",
         "uid": "40656765-6453-44b4-9f45-4b8210c3cfd0",
         "x": [
          -9,
          -6,
          -5,
          -3,
          -1
         ],
         "y": [
          0,
          1,
          4,
          5,
          7
         ],
         "z": [
          [
           10,
           10.625,
           12.5,
           15.625,
           20
          ],
          [
           5.625,
           6.25,
           8.125,
           11.25,
           15.625
          ],
          [
           2.5,
           3.125,
           5,
           8.125,
           12.5
          ],
          [
           0.625,
           1.25,
           3.125,
           6.25,
           10.625
          ],
          [
           0,
           0.625,
           2.5,
           5.625,
           10
          ]
         ]
        }
       ],
       "layout": {}
      },
      "text/html": [
       "<div id=\"2693d1f1-3871-4d0d-83e3-fa0d9c7624e2\" style=\"height: 525px; width: 100%;\" class=\"plotly-graph-div\"></div><script type=\"text/javascript\">require([\"plotly\"], function(Plotly) { window.PLOTLYENV=window.PLOTLYENV || {};window.PLOTLYENV.BASE_URL=\"https://plot.ly\";Plotly.newPlot(\"2693d1f1-3871-4d0d-83e3-fa0d9c7624e2\", [{\"x\": [-9, -6, -5, -3, -1], \"y\": [0, 1, 4, 5, 7], \"z\": [[10, 10.625, 12.5, 15.625, 20], [5.625, 6.25, 8.125, 11.25, 15.625], [2.5, 3.125, 5.0, 8.125, 12.5], [0.625, 1.25, 3.125, 6.25, 10.625], [0, 0.625, 2.5, 5.625, 10]], \"type\": \"contour\", \"uid\": \"4b419569-39a5-4c8a-b206-841e47b327af\"}], {}, {\"showLink\": false, \"linkText\": \"Export to plot.ly\", \"plotlyServerURL\": \"https://plot.ly\"})});</script><script type=\"text/javascript\">window.addEventListener(\"resize\", function(){window._Plotly.Plots.resize(document.getElementById(\"2693d1f1-3871-4d0d-83e3-fa0d9c7624e2\"));});</script>"
      ],
      "text/vnd.plotly.v1+html": [
       "<div id=\"2693d1f1-3871-4d0d-83e3-fa0d9c7624e2\" style=\"height: 525px; width: 100%;\" class=\"plotly-graph-div\"></div><script type=\"text/javascript\">require([\"plotly\"], function(Plotly) { window.PLOTLYENV=window.PLOTLYENV || {};window.PLOTLYENV.BASE_URL=\"https://plot.ly\";Plotly.newPlot(\"2693d1f1-3871-4d0d-83e3-fa0d9c7624e2\", [{\"x\": [-9, -6, -5, -3, -1], \"y\": [0, 1, 4, 5, 7], \"z\": [[10, 10.625, 12.5, 15.625, 20], [5.625, 6.25, 8.125, 11.25, 15.625], [2.5, 3.125, 5.0, 8.125, 12.5], [0.625, 1.25, 3.125, 6.25, 10.625], [0, 0.625, 2.5, 5.625, 10]], \"type\": \"contour\", \"uid\": \"4b419569-39a5-4c8a-b206-841e47b327af\"}], {}, {\"showLink\": false, \"linkText\": \"Export to plot.ly\", \"plotlyServerURL\": \"https://plot.ly\"})});</script><script type=\"text/javascript\">window.addEventListener(\"resize\", function(){window._Plotly.Plots.resize(document.getElementById(\"2693d1f1-3871-4d0d-83e3-fa0d9c7624e2\"));});</script>"
      ]
     },
     "metadata": {},
     "output_type": "display_data"
    }
   ],
   "source": [
    "import plotly.graph_objs as go\n",
    "\n",
    "data = [\n",
    "    go.Contour(\n",
    "        z=[[10, 10.625, 12.5, 15.625, 20],\n",
    "           [5.625, 6.25, 8.125, 11.25, 15.625],\n",
    "           [2.5, 3.125, 5., 8.125, 12.5],\n",
    "           [0.625, 1.25, 3.125, 6.25, 10.625],\n",
    "           [0, 0.625, 2.5, 5.625, 10]],\n",
    "        x=[-9, -6, -5 , -3, -1],\n",
    "        y=[0, 1, 4, 5, 7]\n",
    "    )]\n",
    "\n",
    "pyo.iplot(data)"
   ]
  },
  {
   "cell_type": "markdown",
   "metadata": {},
   "source": [
    "# Colorscale for Contour Plot\n"
   ]
  },
  {
   "cell_type": "code",
   "execution_count": 4,
   "metadata": {},
   "outputs": [
    {
     "data": {
      "application/vnd.plotly.v1+json": {
       "config": {
        "linkText": "Export to plot.ly",
        "plotlyServerURL": "https://plot.ly",
        "showLink": false
       },
       "data": [
        {
         "colorscale": "Jet",
         "type": "contour",
         "uid": "6a3305ed-a5df-4f61-a77d-6a0b16d2e7a2",
         "z": [
          [
           10,
           10.625,
           12.5,
           15.625,
           20
          ],
          [
           5.625,
           6.25,
           8.125,
           11.25,
           15.625
          ],
          [
           2.5,
           3.125,
           5,
           8.125,
           12.5
          ],
          [
           0.625,
           1.25,
           3.125,
           6.25,
           10.625
          ],
          [
           0,
           0.625,
           2.5,
           5.625,
           10
          ]
         ]
        }
       ],
       "layout": {}
      },
      "text/html": [
       "<div id=\"4f20a398-7361-4bd3-86b6-c4eeb1eada0b\" style=\"height: 525px; width: 100%;\" class=\"plotly-graph-div\"></div><script type=\"text/javascript\">require([\"plotly\"], function(Plotly) { window.PLOTLYENV=window.PLOTLYENV || {};window.PLOTLYENV.BASE_URL=\"https://plot.ly\";Plotly.newPlot(\"4f20a398-7361-4bd3-86b6-c4eeb1eada0b\", [{\"colorscale\": \"Jet\", \"z\": [[10, 10.625, 12.5, 15.625, 20], [5.625, 6.25, 8.125, 11.25, 15.625], [2.5, 3.125, 5.0, 8.125, 12.5], [0.625, 1.25, 3.125, 6.25, 10.625], [0, 0.625, 2.5, 5.625, 10]], \"type\": \"contour\", \"uid\": \"04037a7b-f32c-4c42-a57a-5ecd4bacef04\"}], {}, {\"showLink\": false, \"linkText\": \"Export to plot.ly\", \"plotlyServerURL\": \"https://plot.ly\"})});</script><script type=\"text/javascript\">window.addEventListener(\"resize\", function(){window._Plotly.Plots.resize(document.getElementById(\"4f20a398-7361-4bd3-86b6-c4eeb1eada0b\"));});</script>"
      ],
      "text/vnd.plotly.v1+html": [
       "<div id=\"4f20a398-7361-4bd3-86b6-c4eeb1eada0b\" style=\"height: 525px; width: 100%;\" class=\"plotly-graph-div\"></div><script type=\"text/javascript\">require([\"plotly\"], function(Plotly) { window.PLOTLYENV=window.PLOTLYENV || {};window.PLOTLYENV.BASE_URL=\"https://plot.ly\";Plotly.newPlot(\"4f20a398-7361-4bd3-86b6-c4eeb1eada0b\", [{\"colorscale\": \"Jet\", \"z\": [[10, 10.625, 12.5, 15.625, 20], [5.625, 6.25, 8.125, 11.25, 15.625], [2.5, 3.125, 5.0, 8.125, 12.5], [0.625, 1.25, 3.125, 6.25, 10.625], [0, 0.625, 2.5, 5.625, 10]], \"type\": \"contour\", \"uid\": \"04037a7b-f32c-4c42-a57a-5ecd4bacef04\"}], {}, {\"showLink\": false, \"linkText\": \"Export to plot.ly\", \"plotlyServerURL\": \"https://plot.ly\"})});</script><script type=\"text/javascript\">window.addEventListener(\"resize\", function(){window._Plotly.Plots.resize(document.getElementById(\"4f20a398-7361-4bd3-86b6-c4eeb1eada0b\"));});</script>"
      ]
     },
     "metadata": {},
     "output_type": "display_data"
    }
   ],
   "source": [
    "import plotly.graph_objs as go\n",
    "\n",
    "data = [\n",
    "     go.Contour(\n",
    "        z=[[10, 10.625, 12.5, 15.625, 20],\n",
    "           [5.625, 6.25, 8.125, 11.25, 15.625],\n",
    "           [2.5, 3.125, 5., 8.125, 12.5],\n",
    "           [0.625, 1.25, 3.125, 6.25, 10.625],\n",
    "           [0, 0.625, 2.5, 5.625, 10]],\n",
    "        colorscale='Jet',\n",
    "    )]\n",
    "pyo.iplot(data)"
   ]
  },
  {
   "cell_type": "markdown",
   "metadata": {},
   "source": [
    "# Customizing Size and Range of a Contour Plot's Contours"
   ]
  },
  {
   "cell_type": "code",
   "execution_count": 5,
   "metadata": {},
   "outputs": [
    {
     "data": {
      "application/vnd.plotly.v1+json": {
       "config": {
        "linkText": "Export to plot.ly",
        "plotlyServerURL": "https://plot.ly",
        "showLink": false
       },
       "data": [
        {
         "autocontour": false,
         "colorscale": "Jet",
         "contours": {
          "end": 8,
          "size": 2,
          "start": 0
         },
         "type": "contour",
         "uid": "1a210af4-c523-4f75-869e-7b06db4de450",
         "z": [
          [
           10,
           10.625,
           12.5,
           15.625,
           20
          ],
          [
           5.625,
           6.25,
           8.125,
           11.25,
           15.625
          ],
          [
           2.5,
           3.125,
           5,
           8.125,
           12.5
          ],
          [
           0.625,
           1.25,
           3.125,
           6.25,
           10.625
          ],
          [
           0,
           0.625,
           2.5,
           5.625,
           10
          ]
         ]
        }
       ],
       "layout": {}
      },
      "text/html": [
       "<div id=\"9cbd0c6f-e1f5-4cbb-a3db-1a2d0163faed\" style=\"height: 525px; width: 100%;\" class=\"plotly-graph-div\"></div><script type=\"text/javascript\">require([\"plotly\"], function(Plotly) { window.PLOTLYENV=window.PLOTLYENV || {};window.PLOTLYENV.BASE_URL=\"https://plot.ly\";Plotly.newPlot(\"9cbd0c6f-e1f5-4cbb-a3db-1a2d0163faed\", [{\"autocontour\": false, \"colorscale\": \"Jet\", \"contours\": {\"end\": 8, \"size\": 2, \"start\": 0}, \"z\": [[10, 10.625, 12.5, 15.625, 20], [5.625, 6.25, 8.125, 11.25, 15.625], [2.5, 3.125, 5.0, 8.125, 12.5], [0.625, 1.25, 3.125, 6.25, 10.625], [0, 0.625, 2.5, 5.625, 10]], \"type\": \"contour\", \"uid\": \"885c8341-348b-4d0f-8157-c91ea61d81e3\"}], {}, {\"showLink\": false, \"linkText\": \"Export to plot.ly\", \"plotlyServerURL\": \"https://plot.ly\"})});</script><script type=\"text/javascript\">window.addEventListener(\"resize\", function(){window._Plotly.Plots.resize(document.getElementById(\"9cbd0c6f-e1f5-4cbb-a3db-1a2d0163faed\"));});</script>"
      ],
      "text/vnd.plotly.v1+html": [
       "<div id=\"9cbd0c6f-e1f5-4cbb-a3db-1a2d0163faed\" style=\"height: 525px; width: 100%;\" class=\"plotly-graph-div\"></div><script type=\"text/javascript\">require([\"plotly\"], function(Plotly) { window.PLOTLYENV=window.PLOTLYENV || {};window.PLOTLYENV.BASE_URL=\"https://plot.ly\";Plotly.newPlot(\"9cbd0c6f-e1f5-4cbb-a3db-1a2d0163faed\", [{\"autocontour\": false, \"colorscale\": \"Jet\", \"contours\": {\"end\": 8, \"size\": 2, \"start\": 0}, \"z\": [[10, 10.625, 12.5, 15.625, 20], [5.625, 6.25, 8.125, 11.25, 15.625], [2.5, 3.125, 5.0, 8.125, 12.5], [0.625, 1.25, 3.125, 6.25, 10.625], [0, 0.625, 2.5, 5.625, 10]], \"type\": \"contour\", \"uid\": \"885c8341-348b-4d0f-8157-c91ea61d81e3\"}], {}, {\"showLink\": false, \"linkText\": \"Export to plot.ly\", \"plotlyServerURL\": \"https://plot.ly\"})});</script><script type=\"text/javascript\">window.addEventListener(\"resize\", function(){window._Plotly.Plots.resize(document.getElementById(\"9cbd0c6f-e1f5-4cbb-a3db-1a2d0163faed\"));});</script>"
      ]
     },
     "metadata": {},
     "output_type": "display_data"
    }
   ],
   "source": [
    "import plotly.graph_objs as go\n",
    "\n",
    "data = [\n",
    "    go.Contour(\n",
    "        z=[[10, 10.625, 12.5, 15.625, 20],\n",
    "           [5.625, 6.25, 8.125, 11.25, 15.625],\n",
    "           [2.5, 3.125, 5., 8.125, 12.5],\n",
    "           [0.625, 1.25, 3.125, 6.25, 10.625],\n",
    "           [0, 0.625, 2.5, 5.625, 10]],\n",
    "        colorscale='Jet',\n",
    "        autocontour=False,\n",
    "        contours=dict(\n",
    "            start=0,\n",
    "            end=8,\n",
    "            size=2,\n",
    "        ),\n",
    "    )\n",
    "]\n",
    "pyo.iplot(data)"
   ]
  },
  {
   "cell_type": "markdown",
   "metadata": {},
   "source": [
    "#  Customizing Spacing Between X and Y Axis Ticks"
   ]
  },
  {
   "cell_type": "code",
   "execution_count": 6,
   "metadata": {},
   "outputs": [
    {
     "data": {
      "application/vnd.plotly.v1+json": {
       "config": {
        "linkText": "Export to plot.ly",
        "plotlyServerURL": "https://plot.ly",
        "showLink": false
       },
       "data": [
        {
         "colorscale": "Jet",
         "dx": 10,
         "dy": 10,
         "type": "contour",
         "uid": "3fb16008-1967-4e95-9ee8-bc119eff3b8d",
         "x0": 5,
         "y0": 10,
         "z": [
          [
           10,
           10.625,
           12.5,
           15.625,
           20
          ],
          [
           5.625,
           6.25,
           8.125,
           11.25,
           15.625
          ],
          [
           2.5,
           3.125,
           5,
           8.125,
           12.5
          ],
          [
           0.625,
           1.25,
           3.125,
           6.25,
           10.625
          ],
          [
           0,
           0.625,
           2.5,
           5.625,
           10
          ]
         ]
        }
       ],
       "layout": {}
      },
      "text/html": [
       "<div id=\"00967fda-2ab9-472f-b4fc-6916de040d85\" style=\"height: 525px; width: 100%;\" class=\"plotly-graph-div\"></div><script type=\"text/javascript\">require([\"plotly\"], function(Plotly) { window.PLOTLYENV=window.PLOTLYENV || {};window.PLOTLYENV.BASE_URL=\"https://plot.ly\";Plotly.newPlot(\"00967fda-2ab9-472f-b4fc-6916de040d85\", [{\"colorscale\": \"Jet\", \"dx\": 10, \"dy\": 10, \"x0\": 5, \"y0\": 10, \"z\": [[10, 10.625, 12.5, 15.625, 20], [5.625, 6.25, 8.125, 11.25, 15.625], [2.5, 3.125, 5.0, 8.125, 12.5], [0.625, 1.25, 3.125, 6.25, 10.625], [0, 0.625, 2.5, 5.625, 10]], \"type\": \"contour\", \"uid\": \"8d580676-9e79-4475-8c87-5bf9432f83dc\"}], {}, {\"showLink\": false, \"linkText\": \"Export to plot.ly\", \"plotlyServerURL\": \"https://plot.ly\"})});</script><script type=\"text/javascript\">window.addEventListener(\"resize\", function(){window._Plotly.Plots.resize(document.getElementById(\"00967fda-2ab9-472f-b4fc-6916de040d85\"));});</script>"
      ],
      "text/vnd.plotly.v1+html": [
       "<div id=\"00967fda-2ab9-472f-b4fc-6916de040d85\" style=\"height: 525px; width: 100%;\" class=\"plotly-graph-div\"></div><script type=\"text/javascript\">require([\"plotly\"], function(Plotly) { window.PLOTLYENV=window.PLOTLYENV || {};window.PLOTLYENV.BASE_URL=\"https://plot.ly\";Plotly.newPlot(\"00967fda-2ab9-472f-b4fc-6916de040d85\", [{\"colorscale\": \"Jet\", \"dx\": 10, \"dy\": 10, \"x0\": 5, \"y0\": 10, \"z\": [[10, 10.625, 12.5, 15.625, 20], [5.625, 6.25, 8.125, 11.25, 15.625], [2.5, 3.125, 5.0, 8.125, 12.5], [0.625, 1.25, 3.125, 6.25, 10.625], [0, 0.625, 2.5, 5.625, 10]], \"type\": \"contour\", \"uid\": \"8d580676-9e79-4475-8c87-5bf9432f83dc\"}], {}, {\"showLink\": false, \"linkText\": \"Export to plot.ly\", \"plotlyServerURL\": \"https://plot.ly\"})});</script><script type=\"text/javascript\">window.addEventListener(\"resize\", function(){window._Plotly.Plots.resize(document.getElementById(\"00967fda-2ab9-472f-b4fc-6916de040d85\"));});</script>"
      ]
     },
     "metadata": {},
     "output_type": "display_data"
    }
   ],
   "source": [
    "import plotly.graph_objs as go\n",
    "\n",
    "data = [\n",
    "    {\n",
    "        'z': [[10, 10.625, 12.5, 15.625, 20],\n",
    "              [5.625, 6.25, 8.125, 11.25, 15.625],\n",
    "              [2.5, 3.125, 5., 8.125, 12.5],\n",
    "              [0.625, 1.25, 3.125, 6.25, 10.625],\n",
    "              [0, 0.625, 2.5, 5.625, 10]],\n",
    "        'colorscale':'Jet',\n",
    "        'type': u'contour',\n",
    "        'dx': 10,\n",
    "        'x0': 5,\n",
    "        'dy': 10,\n",
    "        'y0':10,\n",
    "    }\n",
    "]\n",
    "pyo.iplot(data)"
   ]
  },
  {
   "cell_type": "markdown",
   "metadata": {},
   "source": [
    "# Connect the Gaps Between None Values in the Z Matrix"
   ]
  },
  {
   "cell_type": "code",
   "execution_count": 7,
   "metadata": {},
   "outputs": [
    {
     "name": "stdout",
     "output_type": "stream",
     "text": [
      "This is the format of your plot grid:\n",
      "[ (1,1) x1,y1 ]  [ (1,2) x2,y2 ]\n",
      "[ (2,1) x3,y3 ]  [ (2,2) x4,y4 ]\n",
      "\n"
     ]
    },
    {
     "data": {
      "application/vnd.plotly.v1+json": {
       "config": {
        "linkText": "Export to plot.ly",
        "plotlyServerURL": "https://plot.ly",
        "showLink": false
       },
       "data": [
        {
         "showscale": false,
         "type": "contour",
         "uid": "6d90c19b-3d47-436a-aba2-4b0badb033a8",
         "xaxis": "x",
         "yaxis": "y",
         "z": [
          [
           null,
           null,
           null,
           12,
           13,
           14,
           15,
           16
          ],
          [
           null,
           1,
           null,
           11,
           null,
           null,
           null,
           17
          ],
          [
           null,
           2,
           6,
           7,
           null,
           null,
           null,
           18
          ],
          [
           null,
           3,
           null,
           8,
           null,
           null,
           null,
           19
          ],
          [
           5,
           4,
           10,
           9,
           null,
           null,
           null,
           20
          ],
          [
           null,
           null,
           null,
           27,
           null,
           null,
           null,
           21
          ],
          [
           null,
           null,
           null,
           26,
           25,
           24,
           23,
           22
          ]
         ]
        },
        {
         "connectgaps": true,
         "showscale": false,
         "type": "contour",
         "uid": "83a3518b-51cf-4677-9c58-881d21ab9db4",
         "xaxis": "x2",
         "yaxis": "y2",
         "z": [
          [
           null,
           null,
           null,
           12,
           13,
           14,
           15,
           16
          ],
          [
           null,
           1,
           null,
           11,
           null,
           null,
           null,
           17
          ],
          [
           null,
           2,
           6,
           7,
           null,
           null,
           null,
           18
          ],
          [
           null,
           3,
           null,
           8,
           null,
           null,
           null,
           19
          ],
          [
           5,
           4,
           10,
           9,
           null,
           null,
           null,
           20
          ],
          [
           null,
           null,
           null,
           27,
           null,
           null,
           null,
           21
          ],
          [
           null,
           null,
           null,
           26,
           25,
           24,
           23,
           22
          ]
         ]
        },
        {
         "showscale": false,
         "type": "heatmap",
         "uid": "b34d3bc4-ce84-43c0-8693-067218a04ea5",
         "xaxis": "x3",
         "yaxis": "y3",
         "z": [
          [
           null,
           null,
           null,
           12,
           13,
           14,
           15,
           16
          ],
          [
           null,
           1,
           null,
           11,
           null,
           null,
           null,
           17
          ],
          [
           null,
           2,
           6,
           7,
           null,
           null,
           null,
           18
          ],
          [
           null,
           3,
           null,
           8,
           null,
           null,
           null,
           19
          ],
          [
           5,
           4,
           10,
           9,
           null,
           null,
           null,
           20
          ],
          [
           null,
           null,
           null,
           27,
           null,
           null,
           null,
           21
          ],
          [
           null,
           null,
           null,
           26,
           25,
           24,
           23,
           22
          ]
         ],
         "zsmooth": "best"
        },
        {
         "connectgaps": true,
         "showscale": false,
         "type": "heatmap",
         "uid": "42ddb9a3-52f7-4b71-b31d-7f250e8c8a30",
         "xaxis": "x4",
         "yaxis": "y4",
         "z": [
          [
           null,
           null,
           null,
           12,
           13,
           14,
           15,
           16
          ],
          [
           null,
           1,
           null,
           11,
           null,
           null,
           null,
           17
          ],
          [
           null,
           2,
           6,
           7,
           null,
           null,
           null,
           18
          ],
          [
           null,
           3,
           null,
           8,
           null,
           null,
           null,
           19
          ],
          [
           5,
           4,
           10,
           9,
           null,
           null,
           null,
           20
          ],
          [
           null,
           null,
           null,
           27,
           null,
           null,
           null,
           21
          ],
          [
           null,
           null,
           null,
           26,
           25,
           24,
           23,
           22
          ]
         ],
         "zsmooth": "best"
        }
       ],
       "layout": {
        "annotations": [
         {
          "font": {
           "size": 16
          },
          "showarrow": false,
          "text": "connectgaps = False",
          "x": 0.225,
          "xanchor": "center",
          "xref": "paper",
          "y": 1,
          "yanchor": "bottom",
          "yref": "paper"
         },
         {
          "font": {
           "size": 16
          },
          "showarrow": false,
          "text": "connectgaps = True",
          "x": 0.775,
          "xanchor": "center",
          "xref": "paper",
          "y": 1,
          "yanchor": "bottom",
          "yref": "paper"
         }
        ],
        "xaxis": {
         "anchor": "y",
         "domain": [
          0,
          0.45
         ]
        },
        "xaxis2": {
         "anchor": "y2",
         "domain": [
          0.55,
          1
         ]
        },
        "xaxis3": {
         "anchor": "y3",
         "domain": [
          0,
          0.45
         ]
        },
        "xaxis4": {
         "anchor": "y4",
         "domain": [
          0.55,
          1
         ]
        },
        "yaxis": {
         "anchor": "x",
         "domain": [
          0.625,
          1
         ],
         "title": {
          "text": "Contour map"
         }
        },
        "yaxis2": {
         "anchor": "x2",
         "domain": [
          0.625,
          1
         ]
        },
        "yaxis3": {
         "anchor": "x3",
         "domain": [
          0,
          0.375
         ],
         "title": {
          "text": "Heatmap"
         }
        },
        "yaxis4": {
         "anchor": "x4",
         "domain": [
          0,
          0.375
         ]
        }
       }
      },
      "text/html": [
       "<div id=\"3de0d7bf-e546-4135-a2af-6e1da271e719\" style=\"height: 525px; width: 100%;\" class=\"plotly-graph-div\"></div><script type=\"text/javascript\">require([\"plotly\"], function(Plotly) { window.PLOTLYENV=window.PLOTLYENV || {};window.PLOTLYENV.BASE_URL=\"https://plot.ly\";Plotly.newPlot(\"3de0d7bf-e546-4135-a2af-6e1da271e719\", [{\"showscale\": false, \"z\": [[null, null, null, 12, 13, 14, 15, 16], [null, 1, null, 11, null, null, null, 17], [null, 2, 6, 7, null, null, null, 18], [null, 3, null, 8, null, null, null, 19], [5, 4, 10, 9, null, null, null, 20], [null, null, null, 27, null, null, null, 21], [null, null, null, 26, 25, 24, 23, 22]], \"type\": \"contour\", \"uid\": \"6d90c19b-3d47-436a-aba2-4b0badb033a8\", \"xaxis\": \"x\", \"yaxis\": \"y\"}, {\"connectgaps\": true, \"showscale\": false, \"z\": [[null, null, null, 12, 13, 14, 15, 16], [null, 1, null, 11, null, null, null, 17], [null, 2, 6, 7, null, null, null, 18], [null, 3, null, 8, null, null, null, 19], [5, 4, 10, 9, null, null, null, 20], [null, null, null, 27, null, null, null, 21], [null, null, null, 26, 25, 24, 23, 22]], \"type\": \"contour\", \"uid\": \"83a3518b-51cf-4677-9c58-881d21ab9db4\", \"xaxis\": \"x2\", \"yaxis\": \"y2\"}, {\"showscale\": false, \"z\": [[null, null, null, 12, 13, 14, 15, 16], [null, 1, null, 11, null, null, null, 17], [null, 2, 6, 7, null, null, null, 18], [null, 3, null, 8, null, null, null, 19], [5, 4, 10, 9, null, null, null, 20], [null, null, null, 27, null, null, null, 21], [null, null, null, 26, 25, 24, 23, 22]], \"zsmooth\": \"best\", \"type\": \"heatmap\", \"uid\": \"b34d3bc4-ce84-43c0-8693-067218a04ea5\", \"xaxis\": \"x3\", \"yaxis\": \"y3\"}, {\"connectgaps\": true, \"showscale\": false, \"z\": [[null, null, null, 12, 13, 14, 15, 16], [null, 1, null, 11, null, null, null, 17], [null, 2, 6, 7, null, null, null, 18], [null, 3, null, 8, null, null, null, 19], [5, 4, 10, 9, null, null, null, 20], [null, null, null, 27, null, null, null, 21], [null, null, null, 26, 25, 24, 23, 22]], \"zsmooth\": \"best\", \"type\": \"heatmap\", \"uid\": \"42ddb9a3-52f7-4b71-b31d-7f250e8c8a30\", \"xaxis\": \"x4\", \"yaxis\": \"y4\"}], {\"annotations\": [{\"font\": {\"size\": 16}, \"showarrow\": false, \"text\": \"connectgaps = False\", \"x\": 0.225, \"xanchor\": \"center\", \"xref\": \"paper\", \"y\": 1.0, \"yanchor\": \"bottom\", \"yref\": \"paper\"}, {\"font\": {\"size\": 16}, \"showarrow\": false, \"text\": \"connectgaps = True\", \"x\": 0.775, \"xanchor\": \"center\", \"xref\": \"paper\", \"y\": 1.0, \"yanchor\": \"bottom\", \"yref\": \"paper\"}], \"xaxis\": {\"anchor\": \"y\", \"domain\": [0.0, 0.45]}, \"yaxis\": {\"anchor\": \"x\", \"domain\": [0.625, 1.0], \"title\": {\"text\": \"Contour map\"}}, \"xaxis2\": {\"anchor\": \"y2\", \"domain\": [0.55, 1.0]}, \"yaxis2\": {\"anchor\": \"x2\", \"domain\": [0.625, 1.0]}, \"xaxis3\": {\"anchor\": \"y3\", \"domain\": [0.0, 0.45]}, \"yaxis3\": {\"anchor\": \"x3\", \"domain\": [0.0, 0.375], \"title\": {\"text\": \"Heatmap\"}}, \"xaxis4\": {\"anchor\": \"y4\", \"domain\": [0.55, 1.0]}, \"yaxis4\": {\"anchor\": \"x4\", \"domain\": [0.0, 0.375]}}, {\"showLink\": false, \"linkText\": \"Export to plot.ly\", \"plotlyServerURL\": \"https://plot.ly\"})});</script><script type=\"text/javascript\">window.addEventListener(\"resize\", function(){window._Plotly.Plots.resize(document.getElementById(\"3de0d7bf-e546-4135-a2af-6e1da271e719\"));});</script>"
      ],
      "text/vnd.plotly.v1+html": [
       "<div id=\"3de0d7bf-e546-4135-a2af-6e1da271e719\" style=\"height: 525px; width: 100%;\" class=\"plotly-graph-div\"></div><script type=\"text/javascript\">require([\"plotly\"], function(Plotly) { window.PLOTLYENV=window.PLOTLYENV || {};window.PLOTLYENV.BASE_URL=\"https://plot.ly\";Plotly.newPlot(\"3de0d7bf-e546-4135-a2af-6e1da271e719\", [{\"showscale\": false, \"z\": [[null, null, null, 12, 13, 14, 15, 16], [null, 1, null, 11, null, null, null, 17], [null, 2, 6, 7, null, null, null, 18], [null, 3, null, 8, null, null, null, 19], [5, 4, 10, 9, null, null, null, 20], [null, null, null, 27, null, null, null, 21], [null, null, null, 26, 25, 24, 23, 22]], \"type\": \"contour\", \"uid\": \"6d90c19b-3d47-436a-aba2-4b0badb033a8\", \"xaxis\": \"x\", \"yaxis\": \"y\"}, {\"connectgaps\": true, \"showscale\": false, \"z\": [[null, null, null, 12, 13, 14, 15, 16], [null, 1, null, 11, null, null, null, 17], [null, 2, 6, 7, null, null, null, 18], [null, 3, null, 8, null, null, null, 19], [5, 4, 10, 9, null, null, null, 20], [null, null, null, 27, null, null, null, 21], [null, null, null, 26, 25, 24, 23, 22]], \"type\": \"contour\", \"uid\": \"83a3518b-51cf-4677-9c58-881d21ab9db4\", \"xaxis\": \"x2\", \"yaxis\": \"y2\"}, {\"showscale\": false, \"z\": [[null, null, null, 12, 13, 14, 15, 16], [null, 1, null, 11, null, null, null, 17], [null, 2, 6, 7, null, null, null, 18], [null, 3, null, 8, null, null, null, 19], [5, 4, 10, 9, null, null, null, 20], [null, null, null, 27, null, null, null, 21], [null, null, null, 26, 25, 24, 23, 22]], \"zsmooth\": \"best\", \"type\": \"heatmap\", \"uid\": \"b34d3bc4-ce84-43c0-8693-067218a04ea5\", \"xaxis\": \"x3\", \"yaxis\": \"y3\"}, {\"connectgaps\": true, \"showscale\": false, \"z\": [[null, null, null, 12, 13, 14, 15, 16], [null, 1, null, 11, null, null, null, 17], [null, 2, 6, 7, null, null, null, 18], [null, 3, null, 8, null, null, null, 19], [5, 4, 10, 9, null, null, null, 20], [null, null, null, 27, null, null, null, 21], [null, null, null, 26, 25, 24, 23, 22]], \"zsmooth\": \"best\", \"type\": \"heatmap\", \"uid\": \"42ddb9a3-52f7-4b71-b31d-7f250e8c8a30\", \"xaxis\": \"x4\", \"yaxis\": \"y4\"}], {\"annotations\": [{\"font\": {\"size\": 16}, \"showarrow\": false, \"text\": \"connectgaps = False\", \"x\": 0.225, \"xanchor\": \"center\", \"xref\": \"paper\", \"y\": 1.0, \"yanchor\": \"bottom\", \"yref\": \"paper\"}, {\"font\": {\"size\": 16}, \"showarrow\": false, \"text\": \"connectgaps = True\", \"x\": 0.775, \"xanchor\": \"center\", \"xref\": \"paper\", \"y\": 1.0, \"yanchor\": \"bottom\", \"yref\": \"paper\"}], \"xaxis\": {\"anchor\": \"y\", \"domain\": [0.0, 0.45]}, \"yaxis\": {\"anchor\": \"x\", \"domain\": [0.625, 1.0], \"title\": {\"text\": \"Contour map\"}}, \"xaxis2\": {\"anchor\": \"y2\", \"domain\": [0.55, 1.0]}, \"yaxis2\": {\"anchor\": \"x2\", \"domain\": [0.625, 1.0]}, \"xaxis3\": {\"anchor\": \"y3\", \"domain\": [0.0, 0.45]}, \"yaxis3\": {\"anchor\": \"x3\", \"domain\": [0.0, 0.375], \"title\": {\"text\": \"Heatmap\"}}, \"xaxis4\": {\"anchor\": \"y4\", \"domain\": [0.55, 1.0]}, \"yaxis4\": {\"anchor\": \"x4\", \"domain\": [0.0, 0.375]}}, {\"showLink\": false, \"linkText\": \"Export to plot.ly\", \"plotlyServerURL\": \"https://plot.ly\"})});</script><script type=\"text/javascript\">window.addEventListener(\"resize\", function(){window._Plotly.Plots.resize(document.getElementById(\"3de0d7bf-e546-4135-a2af-6e1da271e719\"));});</script>"
      ]
     },
     "metadata": {},
     "output_type": "display_data"
    }
   ],
   "source": [
    "from plotly import tools\n",
    "\n",
    "import plotly.tools as tls\n",
    "\n",
    "trace0 = {\n",
    "    'z': [[None, None, None, 12, 13, 14, 15, 16],\n",
    "          [None, 1, None, 11, None, None, None, 17],\n",
    "          [None, 2, 6, 7, None, None, None, 18],\n",
    "          [None, 3, None, 8, None, None, None, 19],\n",
    "          [5, 4, 10, 9, None, None, None, 20],\n",
    "          [None, None, None, 27, None, None, None, 21],\n",
    "          [None, None, None, 26, 25, 24, 23, 22]],\n",
    "    'type': 'contour',\n",
    "    'showscale': False\n",
    "}\n",
    "trace1 = {\n",
    "    'z': [[None, None, None, 12, 13, 14, 15, 16],\n",
    "          [None, 1, None, 11, None, None, None, 17],\n",
    "          [None, 2, 6, 7, None, None, None, 18],\n",
    "          [None, 3, None, 8, None, None, None, 19],\n",
    "          [5, 4, 10, 9, None, None, None, 20],\n",
    "          [None, None, None, 27, None, None, None, 21],\n",
    "          [None, None, None, 26, 25, 24, 23, 22]],\n",
    "    'connectgaps': True,\n",
    "    'type': 'contour',\n",
    "    'showscale': False\n",
    "}\n",
    "trace2 = {\n",
    "    'z': [[None, None, None, 12, 13, 14, 15, 16],\n",
    "          [None, 1, None, 11, None, None, None, 17],\n",
    "          [None, 2, 6, 7, None, None, None, 18],\n",
    "          [None, 3, None, 8, None, None, None, 19],\n",
    "          [5, 4, 10, 9, None, None, None, 20],\n",
    "          [None, None, None, 27, None, None, None, 21],\n",
    "          [None, None, None, 26, 25, 24, 23, 22]],\n",
    "    'type': 'heatmap',\n",
    "    'zsmooth': 'best',\n",
    "    'showscale': False\n",
    "}\n",
    "trace3 = {\n",
    "    'z': [[None, None, None, 12, 13, 14, 15, 16],\n",
    "          [None, 1, None, 11, None, None, None, 17],\n",
    "          [None, 2, 6, 7, None, None, None, 18],\n",
    "          [None, 3, None, 8, None, None, None, 19],\n",
    "          [5, 4, 10, 9, None, None, None, 20],\n",
    "          [None, None, None, 27, None, None, None, 21],\n",
    "          [None, None, None, 26, 25, 24, 23, 22]],\n",
    "    'connectgaps': True,\n",
    "    'type': 'heatmap',\n",
    "    'zsmooth': 'best',\n",
    "    'showscale': False\n",
    "}\n",
    "\n",
    "fig = tls.make_subplots(rows=2, cols=2, subplot_titles=('connectgaps = False',\n",
    "                                                        'connectgaps = True'))\n",
    "\n",
    "fig.append_trace(trace0, 1, 1)\n",
    "fig.append_trace(trace1, 1, 2)\n",
    "fig.append_trace(trace2, 2, 1)\n",
    "fig.append_trace(trace3, 2, 2)\n",
    "\n",
    "fig['layout']['yaxis1'].update(title='Contour map')\n",
    "fig['layout']['yaxis3'].update(title='Heatmap')\n",
    "\n",
    "\n",
    "\n",
    "pyo.iplot(fig)"
   ]
  },
  {
   "cell_type": "code",
   "execution_count": 8,
   "metadata": {},
   "outputs": [
    {
     "name": "stdout",
     "output_type": "stream",
     "text": [
      "This is the format of your plot grid:\n",
      "[ (1,1) x1,y1 ]  [ (1,2) x2,y2 ]\n",
      "\n"
     ]
    },
    {
     "data": {
      "application/vnd.plotly.v1+json": {
       "config": {
        "linkText": "Export to plot.ly",
        "plotlyServerURL": "https://plot.ly",
        "showLink": false
       },
       "data": [
        {
         "line": {
          "smoothing": 0
         },
         "type": "contour",
         "uid": "877497e3-d402-4c64-93fd-3674aaa35e8d",
         "xaxis": "x",
         "yaxis": "y",
         "z": [
          [
           2,
           4,
           7,
           12,
           13,
           14,
           15,
           16
          ],
          [
           3,
           1,
           6,
           11,
           12,
           13,
           16,
           17
          ],
          [
           4,
           2,
           7,
           7,
           11,
           14,
           17,
           18
          ],
          [
           5,
           3,
           8,
           8,
           13,
           15,
           18,
           19
          ],
          [
           7,
           4,
           10,
           9,
           16,
           18,
           20,
           19
          ],
          [
           9,
           10,
           5,
           27,
           23,
           21,
           21,
           21
          ],
          [
           11,
           14,
           17,
           26,
           25,
           24,
           23,
           22
          ]
         ]
        },
        {
         "line": {
          "smoothing": 0.85
         },
         "type": "contour",
         "uid": "ae4fdef8-e204-4372-8baa-ddc7ee4b9d34",
         "xaxis": "x2",
         "yaxis": "y2",
         "z": [
          [
           2,
           4,
           7,
           12,
           13,
           14,
           15,
           16
          ],
          [
           3,
           1,
           6,
           11,
           12,
           13,
           16,
           17
          ],
          [
           4,
           2,
           7,
           7,
           11,
           14,
           17,
           18
          ],
          [
           5,
           3,
           8,
           8,
           13,
           15,
           18,
           19
          ],
          [
           7,
           4,
           10,
           9,
           16,
           18,
           20,
           19
          ],
          [
           9,
           10,
           5,
           27,
           23,
           21,
           21,
           21
          ],
          [
           11,
           14,
           17,
           26,
           25,
           24,
           23,
           22
          ]
         ]
        }
       ],
       "layout": {
        "annotations": [
         {
          "font": {
           "size": 16
          },
          "showarrow": false,
          "text": "Without Smoothing",
          "x": 0.225,
          "xanchor": "center",
          "xref": "paper",
          "y": 1,
          "yanchor": "bottom",
          "yref": "paper"
         },
         {
          "font": {
           "size": 16
          },
          "showarrow": false,
          "text": "With Smoothing",
          "x": 0.775,
          "xanchor": "center",
          "xref": "paper",
          "y": 1,
          "yanchor": "bottom",
          "yref": "paper"
         }
        ],
        "xaxis": {
         "anchor": "y",
         "domain": [
          0,
          0.45
         ]
        },
        "xaxis2": {
         "anchor": "y2",
         "domain": [
          0.55,
          1
         ]
        },
        "yaxis": {
         "anchor": "x",
         "domain": [
          0,
          1
         ]
        },
        "yaxis2": {
         "anchor": "x2",
         "domain": [
          0,
          1
         ]
        }
       }
      },
      "text/html": [
       "<div id=\"712c68bd-2d68-48d8-882c-b62456152f94\" style=\"height: 525px; width: 100%;\" class=\"plotly-graph-div\"></div><script type=\"text/javascript\">require([\"plotly\"], function(Plotly) { window.PLOTLYENV=window.PLOTLYENV || {};window.PLOTLYENV.BASE_URL=\"https://plot.ly\";Plotly.newPlot(\"712c68bd-2d68-48d8-882c-b62456152f94\", [{\"line\": {\"smoothing\": 0}, \"z\": [[2, 4, 7, 12, 13, 14, 15, 16], [3, 1, 6, 11, 12, 13, 16, 17], [4, 2, 7, 7, 11, 14, 17, 18], [5, 3, 8, 8, 13, 15, 18, 19], [7, 4, 10, 9, 16, 18, 20, 19], [9, 10, 5, 27, 23, 21, 21, 21], [11, 14, 17, 26, 25, 24, 23, 22]], \"type\": \"contour\", \"uid\": \"877497e3-d402-4c64-93fd-3674aaa35e8d\", \"xaxis\": \"x\", \"yaxis\": \"y\"}, {\"line\": {\"smoothing\": 0.85}, \"z\": [[2, 4, 7, 12, 13, 14, 15, 16], [3, 1, 6, 11, 12, 13, 16, 17], [4, 2, 7, 7, 11, 14, 17, 18], [5, 3, 8, 8, 13, 15, 18, 19], [7, 4, 10, 9, 16, 18, 20, 19], [9, 10, 5, 27, 23, 21, 21, 21], [11, 14, 17, 26, 25, 24, 23, 22]], \"type\": \"contour\", \"uid\": \"ae4fdef8-e204-4372-8baa-ddc7ee4b9d34\", \"xaxis\": \"x2\", \"yaxis\": \"y2\"}], {\"annotations\": [{\"font\": {\"size\": 16}, \"showarrow\": false, \"text\": \"Without Smoothing\", \"x\": 0.225, \"xanchor\": \"center\", \"xref\": \"paper\", \"y\": 1.0, \"yanchor\": \"bottom\", \"yref\": \"paper\"}, {\"font\": {\"size\": 16}, \"showarrow\": false, \"text\": \"With Smoothing\", \"x\": 0.775, \"xanchor\": \"center\", \"xref\": \"paper\", \"y\": 1.0, \"yanchor\": \"bottom\", \"yref\": \"paper\"}], \"xaxis\": {\"anchor\": \"y\", \"domain\": [0.0, 0.45]}, \"yaxis\": {\"anchor\": \"x\", \"domain\": [0.0, 1.0]}, \"xaxis2\": {\"anchor\": \"y2\", \"domain\": [0.55, 1.0]}, \"yaxis2\": {\"anchor\": \"x2\", \"domain\": [0.0, 1.0]}}, {\"showLink\": false, \"linkText\": \"Export to plot.ly\", \"plotlyServerURL\": \"https://plot.ly\"})});</script><script type=\"text/javascript\">window.addEventListener(\"resize\", function(){window._Plotly.Plots.resize(document.getElementById(\"712c68bd-2d68-48d8-882c-b62456152f94\"));});</script>"
      ],
      "text/vnd.plotly.v1+html": [
       "<div id=\"712c68bd-2d68-48d8-882c-b62456152f94\" style=\"height: 525px; width: 100%;\" class=\"plotly-graph-div\"></div><script type=\"text/javascript\">require([\"plotly\"], function(Plotly) { window.PLOTLYENV=window.PLOTLYENV || {};window.PLOTLYENV.BASE_URL=\"https://plot.ly\";Plotly.newPlot(\"712c68bd-2d68-48d8-882c-b62456152f94\", [{\"line\": {\"smoothing\": 0}, \"z\": [[2, 4, 7, 12, 13, 14, 15, 16], [3, 1, 6, 11, 12, 13, 16, 17], [4, 2, 7, 7, 11, 14, 17, 18], [5, 3, 8, 8, 13, 15, 18, 19], [7, 4, 10, 9, 16, 18, 20, 19], [9, 10, 5, 27, 23, 21, 21, 21], [11, 14, 17, 26, 25, 24, 23, 22]], \"type\": \"contour\", \"uid\": \"877497e3-d402-4c64-93fd-3674aaa35e8d\", \"xaxis\": \"x\", \"yaxis\": \"y\"}, {\"line\": {\"smoothing\": 0.85}, \"z\": [[2, 4, 7, 12, 13, 14, 15, 16], [3, 1, 6, 11, 12, 13, 16, 17], [4, 2, 7, 7, 11, 14, 17, 18], [5, 3, 8, 8, 13, 15, 18, 19], [7, 4, 10, 9, 16, 18, 20, 19], [9, 10, 5, 27, 23, 21, 21, 21], [11, 14, 17, 26, 25, 24, 23, 22]], \"type\": \"contour\", \"uid\": \"ae4fdef8-e204-4372-8baa-ddc7ee4b9d34\", \"xaxis\": \"x2\", \"yaxis\": \"y2\"}], {\"annotations\": [{\"font\": {\"size\": 16}, \"showarrow\": false, \"text\": \"Without Smoothing\", \"x\": 0.225, \"xanchor\": \"center\", \"xref\": \"paper\", \"y\": 1.0, \"yanchor\": \"bottom\", \"yref\": \"paper\"}, {\"font\": {\"size\": 16}, \"showarrow\": false, \"text\": \"With Smoothing\", \"x\": 0.775, \"xanchor\": \"center\", \"xref\": \"paper\", \"y\": 1.0, \"yanchor\": \"bottom\", \"yref\": \"paper\"}], \"xaxis\": {\"anchor\": \"y\", \"domain\": [0.0, 0.45]}, \"yaxis\": {\"anchor\": \"x\", \"domain\": [0.0, 1.0]}, \"xaxis2\": {\"anchor\": \"y2\", \"domain\": [0.55, 1.0]}, \"yaxis2\": {\"anchor\": \"x2\", \"domain\": [0.0, 1.0]}}, {\"showLink\": false, \"linkText\": \"Export to plot.ly\", \"plotlyServerURL\": \"https://plot.ly\"})});</script><script type=\"text/javascript\">window.addEventListener(\"resize\", function(){window._Plotly.Plots.resize(document.getElementById(\"712c68bd-2d68-48d8-882c-b62456152f94\"));});</script>"
      ]
     },
     "metadata": {},
     "output_type": "display_data"
    }
   ],
   "source": [
    "import plotly.graph_objs as go\n",
    "\n",
    "trace0 = go.Contour(\n",
    "    z=[[2, 4, 7, 12, 13, 14, 15, 16],\n",
    "       [3, 1, 6, 11, 12, 13, 16, 17],\n",
    "       [4, 2, 7, 7, 11, 14, 17, 18],\n",
    "       [5, 3, 8, 8, 13, 15, 18, 19],\n",
    "       [7, 4, 10, 9, 16, 18, 20, 19],\n",
    "       [9, 10, 5, 27, 23, 21, 21, 21],\n",
    "       [11, 14, 17, 26, 25, 24, 23, 22]],\n",
    "    line=dict(smoothing=0),\n",
    ")\n",
    "trace1 = go.Contour(\n",
    "    z=[[2, 4, 7, 12, 13, 14, 15, 16],\n",
    "       [3, 1, 6, 11, 12, 13, 16, 17],\n",
    "       [4, 2, 7, 7, 11, 14, 17, 18],\n",
    "       [5, 3, 8, 8, 13, 15, 18, 19],\n",
    "       [7, 4, 10, 9, 16, 18, 20, 19],\n",
    "       [9, 10, 5, 27, 23, 21, 21, 21],\n",
    "       [11, 14, 17, 26, 25, 24, 23, 22]],\n",
    "    line=dict(smoothing=0.85),\n",
    ")\n",
    "\n",
    "fig = tools.make_subplots(rows=1, cols=2,\n",
    "                          subplot_titles=('Without Smoothing', 'With Smoothing'))\n",
    "\n",
    "fig.append_trace(trace0, 1, 1)\n",
    "fig.append_trace(trace1, 1, 2)\n",
    "\n",
    "pyo.iplot(fig)"
   ]
  },
  {
   "cell_type": "markdown",
   "metadata": {},
   "source": [
    "# Smooth Contour Coloring\n"
   ]
  },
  {
   "cell_type": "code",
   "execution_count": 9,
   "metadata": {},
   "outputs": [
    {
     "data": {
      "application/vnd.plotly.v1+json": {
       "config": {
        "linkText": "Export to plot.ly",
        "plotlyServerURL": "https://plot.ly",
        "showLink": false
       },
       "data": [
        {
         "contours": {
          "coloring": "heatmap"
         },
         "type": "contour",
         "uid": "a35ac01f-5dac-4649-98df-e8389befc344",
         "z": [
          [
           10,
           10.625,
           12.5,
           15.625,
           20
          ],
          [
           5.625,
           6.25,
           8.125,
           11.25,
           15.625
          ],
          [
           2.5,
           3.125,
           5,
           8.125,
           12.5
          ],
          [
           0.625,
           1.25,
           3.125,
           6.25,
           10.625
          ],
          [
           0,
           0.625,
           2.5,
           5.625,
           10
          ]
         ]
        }
       ],
       "layout": {}
      },
      "text/html": [
       "<div id=\"cc168d75-e9fb-451a-bfc9-59f2a1f740c0\" style=\"height: 525px; width: 100%;\" class=\"plotly-graph-div\"></div><script type=\"text/javascript\">require([\"plotly\"], function(Plotly) { window.PLOTLYENV=window.PLOTLYENV || {};window.PLOTLYENV.BASE_URL=\"https://plot.ly\";Plotly.newPlot(\"cc168d75-e9fb-451a-bfc9-59f2a1f740c0\", [{\"contours\": {\"coloring\": \"heatmap\"}, \"z\": [[10, 10.625, 12.5, 15.625, 20], [5.625, 6.25, 8.125, 11.25, 15.625], [2.5, 3.125, 5.0, 8.125, 12.5], [0.625, 1.25, 3.125, 6.25, 10.625], [0, 0.625, 2.5, 5.625, 10]], \"type\": \"contour\", \"uid\": \"9c5fd5d6-8c94-45b1-a3d6-5e3f46892775\"}], {}, {\"showLink\": false, \"linkText\": \"Export to plot.ly\", \"plotlyServerURL\": \"https://plot.ly\"})});</script><script type=\"text/javascript\">window.addEventListener(\"resize\", function(){window._Plotly.Plots.resize(document.getElementById(\"cc168d75-e9fb-451a-bfc9-59f2a1f740c0\"));});</script>"
      ],
      "text/vnd.plotly.v1+html": [
       "<div id=\"cc168d75-e9fb-451a-bfc9-59f2a1f740c0\" style=\"height: 525px; width: 100%;\" class=\"plotly-graph-div\"></div><script type=\"text/javascript\">require([\"plotly\"], function(Plotly) { window.PLOTLYENV=window.PLOTLYENV || {};window.PLOTLYENV.BASE_URL=\"https://plot.ly\";Plotly.newPlot(\"cc168d75-e9fb-451a-bfc9-59f2a1f740c0\", [{\"contours\": {\"coloring\": \"heatmap\"}, \"z\": [[10, 10.625, 12.5, 15.625, 20], [5.625, 6.25, 8.125, 11.25, 15.625], [2.5, 3.125, 5.0, 8.125, 12.5], [0.625, 1.25, 3.125, 6.25, 10.625], [0, 0.625, 2.5, 5.625, 10]], \"type\": \"contour\", \"uid\": \"9c5fd5d6-8c94-45b1-a3d6-5e3f46892775\"}], {}, {\"showLink\": false, \"linkText\": \"Export to plot.ly\", \"plotlyServerURL\": \"https://plot.ly\"})});</script><script type=\"text/javascript\">window.addEventListener(\"resize\", function(){window._Plotly.Plots.resize(document.getElementById(\"cc168d75-e9fb-451a-bfc9-59f2a1f740c0\"));});</script>"
      ]
     },
     "metadata": {},
     "output_type": "display_data"
    }
   ],
   "source": [
    "import plotly.graph_objs as go\n",
    "\n",
    "data=[\n",
    "    go.Contour(\n",
    "        z=[[10, 10.625, 12.5, 15.625, 20],\n",
    "           [5.625, 6.25, 8.125, 11.25, 15.625],\n",
    "           [2.5, 3.125, 5., 8.125, 12.5],\n",
    "           [0.625, 1.25, 3.125, 6.25, 10.625],\n",
    "           [0, 0.625, 2.5, 5.625, 10]],\n",
    "        contours=dict(\n",
    "            coloring='heatmap'\n",
    "        )\n",
    "    )\n",
    "]\n",
    "pyo.iplot(data)"
   ]
  },
  {
   "cell_type": "markdown",
   "metadata": {},
   "source": [
    "# Contour Line Labels\n"
   ]
  },
  {
   "cell_type": "code",
   "execution_count": 10,
   "metadata": {},
   "outputs": [
    {
     "data": {
      "application/vnd.plotly.v1+json": {
       "config": {
        "linkText": "Export to plot.ly",
        "plotlyServerURL": "https://plot.ly",
        "showLink": false
       },
       "data": [
        {
         "contours": {
          "coloring": "heatmap",
          "labelfont": {
           "color": "white",
           "family": "Raleway",
           "size": 12
          },
          "showlabels": true
         },
         "type": "contour",
         "uid": "e5152ead-bfc6-4d43-ae32-b728da22da5c",
         "z": [
          [
           10,
           10.625,
           12.5,
           15.625,
           20
          ],
          [
           5.625,
           6.25,
           8.125,
           11.25,
           15.625
          ],
          [
           2.5,
           3.125,
           5,
           8.125,
           12.5
          ],
          [
           0.625,
           1.25,
           3.125,
           6.25,
           10.625
          ],
          [
           0,
           0.625,
           2.5,
           5.625,
           10
          ]
         ]
        }
       ],
       "layout": {}
      },
      "text/html": [
       "<div id=\"bc8c047c-4185-411a-b9a4-c6573b9f1751\" style=\"height: 525px; width: 100%;\" class=\"plotly-graph-div\"></div><script type=\"text/javascript\">require([\"plotly\"], function(Plotly) { window.PLOTLYENV=window.PLOTLYENV || {};window.PLOTLYENV.BASE_URL=\"https://plot.ly\";Plotly.newPlot(\"bc8c047c-4185-411a-b9a4-c6573b9f1751\", [{\"contours\": {\"coloring\": \"heatmap\", \"labelfont\": {\"color\": \"white\", \"family\": \"Raleway\", \"size\": 12}, \"showlabels\": true}, \"z\": [[10, 10.625, 12.5, 15.625, 20], [5.625, 6.25, 8.125, 11.25, 15.625], [2.5, 3.125, 5.0, 8.125, 12.5], [0.625, 1.25, 3.125, 6.25, 10.625], [0, 0.625, 2.5, 5.625, 10]], \"type\": \"contour\", \"uid\": \"c0439e3c-9e21-4a10-9b2c-2a7ba58808fd\"}], {}, {\"showLink\": false, \"linkText\": \"Export to plot.ly\", \"plotlyServerURL\": \"https://plot.ly\"})});</script><script type=\"text/javascript\">window.addEventListener(\"resize\", function(){window._Plotly.Plots.resize(document.getElementById(\"bc8c047c-4185-411a-b9a4-c6573b9f1751\"));});</script>"
      ],
      "text/vnd.plotly.v1+html": [
       "<div id=\"bc8c047c-4185-411a-b9a4-c6573b9f1751\" style=\"height: 525px; width: 100%;\" class=\"plotly-graph-div\"></div><script type=\"text/javascript\">require([\"plotly\"], function(Plotly) { window.PLOTLYENV=window.PLOTLYENV || {};window.PLOTLYENV.BASE_URL=\"https://plot.ly\";Plotly.newPlot(\"bc8c047c-4185-411a-b9a4-c6573b9f1751\", [{\"contours\": {\"coloring\": \"heatmap\", \"labelfont\": {\"color\": \"white\", \"family\": \"Raleway\", \"size\": 12}, \"showlabels\": true}, \"z\": [[10, 10.625, 12.5, 15.625, 20], [5.625, 6.25, 8.125, 11.25, 15.625], [2.5, 3.125, 5.0, 8.125, 12.5], [0.625, 1.25, 3.125, 6.25, 10.625], [0, 0.625, 2.5, 5.625, 10]], \"type\": \"contour\", \"uid\": \"c0439e3c-9e21-4a10-9b2c-2a7ba58808fd\"}], {}, {\"showLink\": false, \"linkText\": \"Export to plot.ly\", \"plotlyServerURL\": \"https://plot.ly\"})});</script><script type=\"text/javascript\">window.addEventListener(\"resize\", function(){window._Plotly.Plots.resize(document.getElementById(\"bc8c047c-4185-411a-b9a4-c6573b9f1751\"));});</script>"
      ]
     },
     "metadata": {},
     "output_type": "display_data"
    }
   ],
   "source": [
    "import plotly.graph_objs as go\n",
    "\n",
    "data=[\n",
    "    go.Contour(\n",
    "        z=[[10, 10.625, 12.5, 15.625, 20],\n",
    "           [5.625, 6.25, 8.125, 11.25, 15.625],\n",
    "           [2.5, 3.125, 5., 8.125, 12.5],\n",
    "           [0.625, 1.25, 3.125, 6.25, 10.625],\n",
    "           [0, 0.625, 2.5, 5.625, 10]],\n",
    "        contours=dict(\n",
    "            coloring ='heatmap',\n",
    "            showlabels = True,\n",
    "            labelfont = dict(\n",
    "                family = 'Raleway',\n",
    "                size = 12,\n",
    "                color = 'white',\n",
    "            )\n",
    "        )\n",
    "    )\n",
    "]\n",
    "\n",
    "pyo.iplot(data)"
   ]
  },
  {
   "cell_type": "markdown",
   "metadata": {},
   "source": [
    "# Contour Lines\n"
   ]
  },
  {
   "cell_type": "code",
   "execution_count": 11,
   "metadata": {},
   "outputs": [
    {
     "data": {
      "application/vnd.plotly.v1+json": {
       "config": {
        "linkText": "Export to plot.ly",
        "plotlyServerURL": "https://plot.ly",
        "showLink": false
       },
       "data": [
        {
         "colorscale": "Jet",
         "contours": {
          "coloring": "lines"
         },
         "type": "contour",
         "uid": "3e8bbae2-073d-4b88-9b91-11d110b9bc4e",
         "z": [
          [
           10,
           10.625,
           12.5,
           15.625,
           20
          ],
          [
           5.625,
           6.25,
           8.125,
           11.25,
           15.625
          ],
          [
           2.5,
           3.125,
           5,
           8.125,
           12.5
          ],
          [
           0.625,
           1.25,
           3.125,
           6.25,
           10.625
          ],
          [
           0,
           0.625,
           2.5,
           5.625,
           10
          ]
         ]
        }
       ],
       "layout": {}
      },
      "text/html": [
       "<div id=\"d0fae613-0a42-4599-89b7-c460eb35c12b\" style=\"height: 525px; width: 100%;\" class=\"plotly-graph-div\"></div><script type=\"text/javascript\">require([\"plotly\"], function(Plotly) { window.PLOTLYENV=window.PLOTLYENV || {};window.PLOTLYENV.BASE_URL=\"https://plot.ly\";Plotly.newPlot(\"d0fae613-0a42-4599-89b7-c460eb35c12b\", [{\"colorscale\": \"Jet\", \"contours\": {\"coloring\": \"lines\"}, \"z\": [[10, 10.625, 12.5, 15.625, 20], [5.625, 6.25, 8.125, 11.25, 15.625], [2.5, 3.125, 5.0, 8.125, 12.5], [0.625, 1.25, 3.125, 6.25, 10.625], [0, 0.625, 2.5, 5.625, 10]], \"type\": \"contour\", \"uid\": \"ae1dff13-290e-48ac-9cb0-9838a2c96f11\"}], {}, {\"showLink\": false, \"linkText\": \"Export to plot.ly\", \"plotlyServerURL\": \"https://plot.ly\"})});</script><script type=\"text/javascript\">window.addEventListener(\"resize\", function(){window._Plotly.Plots.resize(document.getElementById(\"d0fae613-0a42-4599-89b7-c460eb35c12b\"));});</script>"
      ],
      "text/vnd.plotly.v1+html": [
       "<div id=\"d0fae613-0a42-4599-89b7-c460eb35c12b\" style=\"height: 525px; width: 100%;\" class=\"plotly-graph-div\"></div><script type=\"text/javascript\">require([\"plotly\"], function(Plotly) { window.PLOTLYENV=window.PLOTLYENV || {};window.PLOTLYENV.BASE_URL=\"https://plot.ly\";Plotly.newPlot(\"d0fae613-0a42-4599-89b7-c460eb35c12b\", [{\"colorscale\": \"Jet\", \"contours\": {\"coloring\": \"lines\"}, \"z\": [[10, 10.625, 12.5, 15.625, 20], [5.625, 6.25, 8.125, 11.25, 15.625], [2.5, 3.125, 5.0, 8.125, 12.5], [0.625, 1.25, 3.125, 6.25, 10.625], [0, 0.625, 2.5, 5.625, 10]], \"type\": \"contour\", \"uid\": \"ae1dff13-290e-48ac-9cb0-9838a2c96f11\"}], {}, {\"showLink\": false, \"linkText\": \"Export to plot.ly\", \"plotlyServerURL\": \"https://plot.ly\"})});</script><script type=\"text/javascript\">window.addEventListener(\"resize\", function(){window._Plotly.Plots.resize(document.getElementById(\"d0fae613-0a42-4599-89b7-c460eb35c12b\"));});</script>"
      ]
     },
     "metadata": {},
     "output_type": "display_data"
    }
   ],
   "source": [
    "import plotly.graph_objs as go\n",
    "\n",
    "data = [\n",
    "    go.Contour(\n",
    "        z=[[10, 10.625, 12.5, 15.625, 20],\n",
    "           [5.625, 6.25, 8.125, 11.25, 15.625],\n",
    "           [2.5, 3.125, 5., 8.125, 12.5],\n",
    "           [0.625, 1.25, 3.125, 6.25, 10.625],\n",
    "           [0, 0.625, 2.5, 5.625, 10]],\n",
    "        colorscale='Jet',\n",
    "        contours=dict(\n",
    "            coloring='lines',\n",
    "        ),\n",
    "    )\n",
    "]\n",
    "pyo.iplot(data)"
   ]
  },
  {
   "cell_type": "markdown",
   "metadata": {},
   "source": [
    "# Custom Contour Plot Colorscale"
   ]
  },
  {
   "cell_type": "code",
   "execution_count": 12,
   "metadata": {},
   "outputs": [
    {
     "data": {
      "application/vnd.plotly.v1+json": {
       "config": {
        "linkText": "Export to plot.ly",
        "plotlyServerURL": "https://plot.ly",
        "showLink": false
       },
       "data": [
        {
         "colorscale": [
          [
           0,
           "rgb(166,206,227)"
          ],
          [
           0.25,
           "rgb(31,120,180)"
          ],
          [
           0.45,
           "rgb(178,223,138)"
          ],
          [
           0.65,
           "rgb(51,160,44)"
          ],
          [
           0.85,
           "rgb(251,154,153)"
          ],
          [
           1,
           "rgb(227,26,28)"
          ]
         ],
         "type": "contour",
         "uid": "2fa9a448-5bfa-4adb-b9f6-0393717e063a",
         "z": [
          [
           10,
           10.625,
           12.5,
           15.625,
           20
          ],
          [
           5.625,
           6.25,
           8.125,
           11.25,
           15.625
          ],
          [
           2.5,
           3.125,
           5,
           8.125,
           12.5
          ],
          [
           0.625,
           1.25,
           3.125,
           6.25,
           10.625
          ],
          [
           0,
           0.625,
           2.5,
           5.625,
           10
          ]
         ]
        }
       ],
       "layout": {}
      },
      "text/html": [
       "<div id=\"a88a9566-6d47-444d-8b3f-9071588f45f0\" style=\"height: 525px; width: 100%;\" class=\"plotly-graph-div\"></div><script type=\"text/javascript\">require([\"plotly\"], function(Plotly) { window.PLOTLYENV=window.PLOTLYENV || {};window.PLOTLYENV.BASE_URL=\"https://plot.ly\";Plotly.newPlot(\"a88a9566-6d47-444d-8b3f-9071588f45f0\", [{\"colorscale\": [[0, \"rgb(166,206,227)\"], [0.25, \"rgb(31,120,180)\"], [0.45, \"rgb(178,223,138)\"], [0.65, \"rgb(51,160,44)\"], [0.85, \"rgb(251,154,153)\"], [1, \"rgb(227,26,28)\"]], \"z\": [[10, 10.625, 12.5, 15.625, 20], [5.625, 6.25, 8.125, 11.25, 15.625], [2.5, 3.125, 5.0, 8.125, 12.5], [0.625, 1.25, 3.125, 6.25, 10.625], [0, 0.625, 2.5, 5.625, 10]], \"type\": \"contour\", \"uid\": \"6fdf907e-1162-40e4-ac67-eb1700f4ffa4\"}], {}, {\"showLink\": false, \"linkText\": \"Export to plot.ly\", \"plotlyServerURL\": \"https://plot.ly\"})});</script><script type=\"text/javascript\">window.addEventListener(\"resize\", function(){window._Plotly.Plots.resize(document.getElementById(\"a88a9566-6d47-444d-8b3f-9071588f45f0\"));});</script>"
      ],
      "text/vnd.plotly.v1+html": [
       "<div id=\"a88a9566-6d47-444d-8b3f-9071588f45f0\" style=\"height: 525px; width: 100%;\" class=\"plotly-graph-div\"></div><script type=\"text/javascript\">require([\"plotly\"], function(Plotly) { window.PLOTLYENV=window.PLOTLYENV || {};window.PLOTLYENV.BASE_URL=\"https://plot.ly\";Plotly.newPlot(\"a88a9566-6d47-444d-8b3f-9071588f45f0\", [{\"colorscale\": [[0, \"rgb(166,206,227)\"], [0.25, \"rgb(31,120,180)\"], [0.45, \"rgb(178,223,138)\"], [0.65, \"rgb(51,160,44)\"], [0.85, \"rgb(251,154,153)\"], [1, \"rgb(227,26,28)\"]], \"z\": [[10, 10.625, 12.5, 15.625, 20], [5.625, 6.25, 8.125, 11.25, 15.625], [2.5, 3.125, 5.0, 8.125, 12.5], [0.625, 1.25, 3.125, 6.25, 10.625], [0, 0.625, 2.5, 5.625, 10]], \"type\": \"contour\", \"uid\": \"6fdf907e-1162-40e4-ac67-eb1700f4ffa4\"}], {}, {\"showLink\": false, \"linkText\": \"Export to plot.ly\", \"plotlyServerURL\": \"https://plot.ly\"})});</script><script type=\"text/javascript\">window.addEventListener(\"resize\", function(){window._Plotly.Plots.resize(document.getElementById(\"a88a9566-6d47-444d-8b3f-9071588f45f0\"));});</script>"
      ]
     },
     "metadata": {},
     "output_type": "display_data"
    }
   ],
   "source": [
    "import plotly.graph_objs as go\n",
    "\n",
    "data = [\n",
    "    go.Contour(\n",
    "        z=[[10, 10.625, 12.5, 15.625, 20],\n",
    "           [5.625, 6.25, 8.125, 11.25, 15.625],\n",
    "           [2.5, 3.125, 5., 8.125, 12.5],\n",
    "           [0.625, 1.25, 3.125, 6.25, 10.625],\n",
    "           [0, 0.625, 2.5, 5.625, 10]],\n",
    "        colorscale=[[0, 'rgb(166,206,227)'], [0.25, 'rgb(31,120,180)'], [0.45, 'rgb(178,223,138)'], [0.65, 'rgb(51,160,44)'], [0.85, 'rgb(251,154,153)'], [1, 'rgb(227,26,28)']],\n",
    "    )\n",
    "]\n",
    "pyo.iplot(data, filename='contour-custom-colorscale')"
   ]
  },
  {
   "cell_type": "markdown",
   "metadata": {},
   "source": [
    "# Color Bar Title\n"
   ]
  },
  {
   "cell_type": "code",
   "execution_count": 13,
   "metadata": {},
   "outputs": [
    {
     "data": {
      "application/vnd.plotly.v1+json": {
       "config": {
        "linkText": "Export to plot.ly",
        "plotlyServerURL": "https://plot.ly",
        "showLink": false
       },
       "data": [
        {
         "colorbar": {
          "title": {
           "font": {
            "family": "Arial, sans-serif",
            "size": 14
           },
           "side": "right",
           "text": "Color bar title"
          }
         },
         "type": "contour",
         "uid": "963e2910-cd42-48ba-adec-d147cada0231",
         "z": [
          [
           10,
           10.625,
           12.5,
           15.625,
           20
          ],
          [
           5.625,
           6.25,
           8.125,
           11.25,
           15.625
          ],
          [
           2.5,
           3.125,
           5,
           8.125,
           12.5
          ],
          [
           0.625,
           1.25,
           3.125,
           6.25,
           10.625
          ],
          [
           0,
           0.625,
           2.5,
           5.625,
           10
          ]
         ]
        }
       ],
       "layout": {}
      },
      "text/html": [
       "<div id=\"bbda5569-4ff6-4f4c-9624-0ba34b4d0ae3\" style=\"height: 525px; width: 100%;\" class=\"plotly-graph-div\"></div><script type=\"text/javascript\">require([\"plotly\"], function(Plotly) { window.PLOTLYENV=window.PLOTLYENV || {};window.PLOTLYENV.BASE_URL=\"https://plot.ly\";Plotly.newPlot(\"bbda5569-4ff6-4f4c-9624-0ba34b4d0ae3\", [{\"colorbar\": {\"title\": {\"font\": {\"family\": \"Arial, sans-serif\", \"size\": 14}, \"side\": \"right\", \"text\": \"Color bar title\"}}, \"z\": [[10, 10.625, 12.5, 15.625, 20], [5.625, 6.25, 8.125, 11.25, 15.625], [2.5, 3.125, 5.0, 8.125, 12.5], [0.625, 1.25, 3.125, 6.25, 10.625], [0, 0.625, 2.5, 5.625, 10]], \"type\": \"contour\", \"uid\": \"769895f5-d31a-4802-9438-1c64163ea440\"}], {}, {\"showLink\": false, \"linkText\": \"Export to plot.ly\", \"plotlyServerURL\": \"https://plot.ly\"})});</script><script type=\"text/javascript\">window.addEventListener(\"resize\", function(){window._Plotly.Plots.resize(document.getElementById(\"bbda5569-4ff6-4f4c-9624-0ba34b4d0ae3\"));});</script>"
      ],
      "text/vnd.plotly.v1+html": [
       "<div id=\"bbda5569-4ff6-4f4c-9624-0ba34b4d0ae3\" style=\"height: 525px; width: 100%;\" class=\"plotly-graph-div\"></div><script type=\"text/javascript\">require([\"plotly\"], function(Plotly) { window.PLOTLYENV=window.PLOTLYENV || {};window.PLOTLYENV.BASE_URL=\"https://plot.ly\";Plotly.newPlot(\"bbda5569-4ff6-4f4c-9624-0ba34b4d0ae3\", [{\"colorbar\": {\"title\": {\"font\": {\"family\": \"Arial, sans-serif\", \"size\": 14}, \"side\": \"right\", \"text\": \"Color bar title\"}}, \"z\": [[10, 10.625, 12.5, 15.625, 20], [5.625, 6.25, 8.125, 11.25, 15.625], [2.5, 3.125, 5.0, 8.125, 12.5], [0.625, 1.25, 3.125, 6.25, 10.625], [0, 0.625, 2.5, 5.625, 10]], \"type\": \"contour\", \"uid\": \"769895f5-d31a-4802-9438-1c64163ea440\"}], {}, {\"showLink\": false, \"linkText\": \"Export to plot.ly\", \"plotlyServerURL\": \"https://plot.ly\"})});</script><script type=\"text/javascript\">window.addEventListener(\"resize\", function(){window._Plotly.Plots.resize(document.getElementById(\"bbda5569-4ff6-4f4c-9624-0ba34b4d0ae3\"));});</script>"
      ]
     },
     "metadata": {},
     "output_type": "display_data"
    }
   ],
   "source": [
    "import plotly.graph_objs as go\n",
    "\n",
    "data = [\n",
    "    go.Contour(\n",
    "        z=[[10, 10.625, 12.5, 15.625, 20],\n",
    "           [5.625, 6.25, 8.125, 11.25, 15.625],\n",
    "           [2.5, 3.125, 5., 8.125, 12.5],\n",
    "           [0.625, 1.25, 3.125, 6.25, 10.625],\n",
    "           [0, 0.625, 2.5, 5.625, 10]],\n",
    "        colorbar=dict(\n",
    "            title='Color bar title',\n",
    "            titleside='right',\n",
    "            titlefont=dict(\n",
    "                size=14,\n",
    "                family='Arial, sans-serif',\n",
    "            ),\n",
    "        )\n",
    "    )\n",
    "]\n",
    "pyo.iplot(data)"
   ]
  },
  {
   "cell_type": "markdown",
   "metadata": {},
   "source": [
    "# Color Bar Size for Contour Plots"
   ]
  },
  {
   "cell_type": "code",
   "execution_count": 14,
   "metadata": {},
   "outputs": [
    {
     "data": {
      "application/vnd.plotly.v1+json": {
       "config": {
        "linkText": "Export to plot.ly",
        "plotlyServerURL": "https://plot.ly",
        "showLink": false
       },
       "data": [
        {
         "colorbar": {
          "len": 0.9,
          "lenmode": "fraction",
          "outlinewidth": 0,
          "thickness": 25,
          "thicknessmode": "pixels"
         },
         "type": "contour",
         "uid": "12c3175f-2e20-4c5a-91c7-73a542f8db05",
         "z": [
          [
           10,
           10.625,
           12.5,
           15.625,
           20
          ],
          [
           5.625,
           6.25,
           8.125,
           11.25,
           15.625
          ],
          [
           2.5,
           3.125,
           5,
           8.125,
           12.5
          ],
          [
           0.625,
           1.25,
           3.125,
           6.25,
           10.625
          ],
          [
           0,
           0.625,
           2.5,
           5.625,
           10
          ]
         ]
        }
       ],
       "layout": {}
      },
      "text/html": [
       "<div id=\"b4f8aa56-3f94-48c8-9432-7dc557fd464f\" style=\"height: 525px; width: 100%;\" class=\"plotly-graph-div\"></div><script type=\"text/javascript\">require([\"plotly\"], function(Plotly) { window.PLOTLYENV=window.PLOTLYENV || {};window.PLOTLYENV.BASE_URL=\"https://plot.ly\";Plotly.newPlot(\"b4f8aa56-3f94-48c8-9432-7dc557fd464f\", [{\"colorbar\": {\"len\": 0.9, \"lenmode\": \"fraction\", \"outlinewidth\": 0, \"thickness\": 25, \"thicknessmode\": \"pixels\"}, \"z\": [[10, 10.625, 12.5, 15.625, 20], [5.625, 6.25, 8.125, 11.25, 15.625], [2.5, 3.125, 5.0, 8.125, 12.5], [0.625, 1.25, 3.125, 6.25, 10.625], [0, 0.625, 2.5, 5.625, 10]], \"type\": \"contour\", \"uid\": \"f20675cb-3d35-43cf-b124-1e87dbfbd019\"}], {}, {\"showLink\": false, \"linkText\": \"Export to plot.ly\", \"plotlyServerURL\": \"https://plot.ly\"})});</script><script type=\"text/javascript\">window.addEventListener(\"resize\", function(){window._Plotly.Plots.resize(document.getElementById(\"b4f8aa56-3f94-48c8-9432-7dc557fd464f\"));});</script>"
      ],
      "text/vnd.plotly.v1+html": [
       "<div id=\"b4f8aa56-3f94-48c8-9432-7dc557fd464f\" style=\"height: 525px; width: 100%;\" class=\"plotly-graph-div\"></div><script type=\"text/javascript\">require([\"plotly\"], function(Plotly) { window.PLOTLYENV=window.PLOTLYENV || {};window.PLOTLYENV.BASE_URL=\"https://plot.ly\";Plotly.newPlot(\"b4f8aa56-3f94-48c8-9432-7dc557fd464f\", [{\"colorbar\": {\"len\": 0.9, \"lenmode\": \"fraction\", \"outlinewidth\": 0, \"thickness\": 25, \"thicknessmode\": \"pixels\"}, \"z\": [[10, 10.625, 12.5, 15.625, 20], [5.625, 6.25, 8.125, 11.25, 15.625], [2.5, 3.125, 5.0, 8.125, 12.5], [0.625, 1.25, 3.125, 6.25, 10.625], [0, 0.625, 2.5, 5.625, 10]], \"type\": \"contour\", \"uid\": \"f20675cb-3d35-43cf-b124-1e87dbfbd019\"}], {}, {\"showLink\": false, \"linkText\": \"Export to plot.ly\", \"plotlyServerURL\": \"https://plot.ly\"})});</script><script type=\"text/javascript\">window.addEventListener(\"resize\", function(){window._Plotly.Plots.resize(document.getElementById(\"b4f8aa56-3f94-48c8-9432-7dc557fd464f\"));});</script>"
      ]
     },
     "metadata": {},
     "output_type": "display_data"
    }
   ],
   "source": [
    "import plotly.graph_objs as go\n",
    "\n",
    "data = [\n",
    "    go.Contour(\n",
    "        z=[[10, 10.625, 12.5, 15.625, 20],\n",
    "           [5.625, 6.25, 8.125, 11.25, 15.625],\n",
    "           [2.5, 3.125, 5., 8.125, 12.5],\n",
    "           [0.625, 1.25, 3.125, 6.25, 10.625],\n",
    "           [0, 0.625, 2.5, 5.625, 10]],\n",
    "        colorbar=dict(\n",
    "            thickness=25,\n",
    "            thicknessmode='pixels',\n",
    "            len=0.9,\n",
    "            lenmode='fraction',\n",
    "            outlinewidth=0\n",
    "        )\n",
    "    )\n",
    "]\n",
    "pyo.iplot(data, filename='contour-custom-colorbar-size')"
   ]
  },
  {
   "cell_type": "markdown",
   "metadata": {},
   "source": [
    "# Styling Color Bar Ticks for Contour Plots"
   ]
  },
  {
   "cell_type": "code",
   "execution_count": 15,
   "metadata": {},
   "outputs": [
    {
     "data": {
      "application/vnd.plotly.v1+json": {
       "config": {
        "linkText": "Export to plot.ly",
        "plotlyServerURL": "https://plot.ly",
        "showLink": false
       },
       "data": [
        {
         "colorbar": {
          "nticks": 10,
          "showticklabels": true,
          "tickangle": 0,
          "tickfont": {
           "size": 12
          },
          "ticklen": 5,
          "ticks": "outside",
          "tickwidth": 1
         },
         "type": "contour",
         "uid": "6ccd0fe7-f3c3-4c16-81fc-399f5646e04c",
         "z": [
          [
           10,
           10.625,
           12.5,
           15.625,
           20
          ],
          [
           5.625,
           6.25,
           8.125,
           11.25,
           15.625
          ],
          [
           2.5,
           3.125,
           5,
           8.125,
           12.5
          ],
          [
           0.625,
           1.25,
           3.125,
           6.25,
           10.625
          ],
          [
           0,
           0.625,
           2.5,
           5.625,
           10
          ]
         ]
        }
       ],
       "layout": {}
      },
      "text/html": [
       "<div id=\"6c1f732b-766e-41b5-a6a8-81d1b6bb2bf0\" style=\"height: 525px; width: 100%;\" class=\"plotly-graph-div\"></div><script type=\"text/javascript\">require([\"plotly\"], function(Plotly) { window.PLOTLYENV=window.PLOTLYENV || {};window.PLOTLYENV.BASE_URL=\"https://plot.ly\";Plotly.newPlot(\"6c1f732b-766e-41b5-a6a8-81d1b6bb2bf0\", [{\"colorbar\": {\"nticks\": 10, \"showticklabels\": true, \"tickangle\": 0, \"tickfont\": {\"size\": 12}, \"ticklen\": 5, \"ticks\": \"outside\", \"tickwidth\": 1}, \"z\": [[10, 10.625, 12.5, 15.625, 20], [5.625, 6.25, 8.125, 11.25, 15.625], [2.5, 3.125, 5.0, 8.125, 12.5], [0.625, 1.25, 3.125, 6.25, 10.625], [0, 0.625, 2.5, 5.625, 10]], \"type\": \"contour\", \"uid\": \"a4a02996-53d0-4800-a672-7f6dc5ddde40\"}], {}, {\"showLink\": false, \"linkText\": \"Export to plot.ly\", \"plotlyServerURL\": \"https://plot.ly\"})});</script><script type=\"text/javascript\">window.addEventListener(\"resize\", function(){window._Plotly.Plots.resize(document.getElementById(\"6c1f732b-766e-41b5-a6a8-81d1b6bb2bf0\"));});</script>"
      ],
      "text/vnd.plotly.v1+html": [
       "<div id=\"6c1f732b-766e-41b5-a6a8-81d1b6bb2bf0\" style=\"height: 525px; width: 100%;\" class=\"plotly-graph-div\"></div><script type=\"text/javascript\">require([\"plotly\"], function(Plotly) { window.PLOTLYENV=window.PLOTLYENV || {};window.PLOTLYENV.BASE_URL=\"https://plot.ly\";Plotly.newPlot(\"6c1f732b-766e-41b5-a6a8-81d1b6bb2bf0\", [{\"colorbar\": {\"nticks\": 10, \"showticklabels\": true, \"tickangle\": 0, \"tickfont\": {\"size\": 12}, \"ticklen\": 5, \"ticks\": \"outside\", \"tickwidth\": 1}, \"z\": [[10, 10.625, 12.5, 15.625, 20], [5.625, 6.25, 8.125, 11.25, 15.625], [2.5, 3.125, 5.0, 8.125, 12.5], [0.625, 1.25, 3.125, 6.25, 10.625], [0, 0.625, 2.5, 5.625, 10]], \"type\": \"contour\", \"uid\": \"a4a02996-53d0-4800-a672-7f6dc5ddde40\"}], {}, {\"showLink\": false, \"linkText\": \"Export to plot.ly\", \"plotlyServerURL\": \"https://plot.ly\"})});</script><script type=\"text/javascript\">window.addEventListener(\"resize\", function(){window._Plotly.Plots.resize(document.getElementById(\"6c1f732b-766e-41b5-a6a8-81d1b6bb2bf0\"));});</script>"
      ]
     },
     "metadata": {},
     "output_type": "display_data"
    }
   ],
   "source": [
    "import plotly.graph_objs as go\n",
    "\n",
    "data = [{\n",
    "        'type': u'contour',\n",
    "        'z': [[10, 10.625, 12.5, 15.625, 20],\n",
    "              [5.625, 6.25, 8.125, 11.25, 15.625],\n",
    "              [2.5, 3.125, 5., 8.125, 12.5],\n",
    "              [0.625, 1.25, 3.125, 6.25, 10.625],\n",
    "              [0, 0.625, 2.5, 5.625, 10]],\n",
    "        'colorbar':{\n",
    "            'nticks': 10,\n",
    "            'ticks': 'outside',\n",
    "            'ticklen': 5,\n",
    "            'tickwidth': 1,\n",
    "            'showticklabels': True,\n",
    "            'tickangle': 0,\n",
    "            'tickfont': {\n",
    "                'size': 12\n",
    "            },\n",
    "        }\n",
    "        }]\n",
    "pyo.iplot(data)"
   ]
  },
  {
   "cell_type": "code",
   "execution_count": null,
   "metadata": {},
   "outputs": [],
   "source": []
  }
 ],
 "metadata": {
  "kernelspec": {
   "display_name": "Python 3",
   "language": "python",
   "name": "python3"
  },
  "language_info": {
   "codemirror_mode": {
    "name": "ipython",
    "version": 3
   },
   "file_extension": ".py",
   "mimetype": "text/x-python",
   "name": "python",
   "nbconvert_exporter": "python",
   "pygments_lexer": "ipython3",
   "version": "3.6.8"
  }
 },
 "nbformat": 4,
 "nbformat_minor": 1
}
