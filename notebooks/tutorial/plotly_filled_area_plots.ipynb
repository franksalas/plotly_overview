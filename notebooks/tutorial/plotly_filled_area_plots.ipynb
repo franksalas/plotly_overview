{
 "cells": [
  {
   "cell_type": "markdown",
   "metadata": {},
   "source": [
    "# Filled Area Plots in Python\n",
    "- https://plot.ly/python/filled-area-plots/"
   ]
  },
  {
   "cell_type": "code",
   "execution_count": 1,
   "metadata": {},
   "outputs": [
    {
     "data": {
      "text/html": [
       "<script type=\"text/javascript\">window.PlotlyConfig = {MathJaxConfig: 'local'};</script><script type=\"text/javascript\">if (window.MathJax) {MathJax.Hub.Config({SVG: {font: \"STIX-Web\"}});}</script><script>requirejs.config({paths: { 'plotly': ['https://cdn.plot.ly/plotly-latest.min']},});if(!window._Plotly) {require(['plotly'],function(plotly) {window._Plotly=plotly;});}</script>"
      ],
      "text/vnd.plotly.v1+html": [
       "<script type=\"text/javascript\">window.PlotlyConfig = {MathJaxConfig: 'local'};</script><script type=\"text/javascript\">if (window.MathJax) {MathJax.Hub.Config({SVG: {font: \"STIX-Web\"}});}</script><script>requirejs.config({paths: { 'plotly': ['https://cdn.plot.ly/plotly-latest.min']},});if(!window._Plotly) {require(['plotly'],function(plotly) {window._Plotly=plotly;});}</script>"
      ]
     },
     "metadata": {},
     "output_type": "display_data"
    }
   ],
   "source": [
    "# local plot\n",
    "import plotly\n",
    "import plotly.offline as pyo\n",
    "pyo.init_notebook_mode(connected=True)"
   ]
  },
  {
   "cell_type": "markdown",
   "metadata": {},
   "source": [
    "# Basic Overlaid Area Chart\n"
   ]
  },
  {
   "cell_type": "code",
   "execution_count": 2,
   "metadata": {},
   "outputs": [
    {
     "data": {
      "application/vnd.plotly.v1+json": {
       "config": {
        "linkText": "Export to plot.ly",
        "plotlyServerURL": "https://plot.ly",
        "showLink": false
       },
       "data": [
        {
         "fill": "tozeroy",
         "type": "scatter",
         "uid": "bb4cfe6a-9369-4d4b-9749-384398ac23be",
         "x": [
          1,
          2,
          3,
          4
         ],
         "y": [
          0,
          2,
          3,
          5
         ]
        },
        {
         "fill": "tonexty",
         "type": "scatter",
         "uid": "b484125f-92fa-4888-a0c4-896ed2b1be35",
         "x": [
          1,
          2,
          3,
          4
         ],
         "y": [
          3,
          5,
          1,
          7
         ]
        }
       ],
       "layout": {}
      },
      "text/html": [
       "<div id=\"d629e0ce-3ad5-45cf-9ac8-4a5dd03508b4\" style=\"height: 525px; width: 100%;\" class=\"plotly-graph-div\"></div><script type=\"text/javascript\">require([\"plotly\"], function(Plotly) { window.PLOTLYENV=window.PLOTLYENV || {};window.PLOTLYENV.BASE_URL=\"https://plot.ly\";Plotly.newPlot(\"d629e0ce-3ad5-45cf-9ac8-4a5dd03508b4\", [{\"fill\": \"tozeroy\", \"x\": [1, 2, 3, 4], \"y\": [0, 2, 3, 5], \"type\": \"scatter\", \"uid\": \"e41a4d3b-e09b-4ab2-8c16-8a843e02b031\"}, {\"fill\": \"tonexty\", \"x\": [1, 2, 3, 4], \"y\": [3, 5, 1, 7], \"type\": \"scatter\", \"uid\": \"4dc44bc5-61a1-49bb-b9df-0b5af3fb4456\"}], {}, {\"showLink\": false, \"linkText\": \"Export to plot.ly\", \"plotlyServerURL\": \"https://plot.ly\"})});</script><script type=\"text/javascript\">window.addEventListener(\"resize\", function(){window._Plotly.Plots.resize(document.getElementById(\"d629e0ce-3ad5-45cf-9ac8-4a5dd03508b4\"));});</script>"
      ],
      "text/vnd.plotly.v1+html": [
       "<div id=\"d629e0ce-3ad5-45cf-9ac8-4a5dd03508b4\" style=\"height: 525px; width: 100%;\" class=\"plotly-graph-div\"></div><script type=\"text/javascript\">require([\"plotly\"], function(Plotly) { window.PLOTLYENV=window.PLOTLYENV || {};window.PLOTLYENV.BASE_URL=\"https://plot.ly\";Plotly.newPlot(\"d629e0ce-3ad5-45cf-9ac8-4a5dd03508b4\", [{\"fill\": \"tozeroy\", \"x\": [1, 2, 3, 4], \"y\": [0, 2, 3, 5], \"type\": \"scatter\", \"uid\": \"e41a4d3b-e09b-4ab2-8c16-8a843e02b031\"}, {\"fill\": \"tonexty\", \"x\": [1, 2, 3, 4], \"y\": [3, 5, 1, 7], \"type\": \"scatter\", \"uid\": \"4dc44bc5-61a1-49bb-b9df-0b5af3fb4456\"}], {}, {\"showLink\": false, \"linkText\": \"Export to plot.ly\", \"plotlyServerURL\": \"https://plot.ly\"})});</script><script type=\"text/javascript\">window.addEventListener(\"resize\", function(){window._Plotly.Plots.resize(document.getElementById(\"d629e0ce-3ad5-45cf-9ac8-4a5dd03508b4\"));});</script>"
      ]
     },
     "metadata": {},
     "output_type": "display_data"
    }
   ],
   "source": [
    "import plotly.graph_objs as go\n",
    "\n",
    "trace1 = go.Scatter(\n",
    "    x=[1, 2, 3, 4],\n",
    "    y=[0, 2, 3, 5],\n",
    "    fill='tozeroy'\n",
    ")\n",
    "trace2 = go.Scatter(\n",
    "    x=[1, 2, 3, 4],\n",
    "    y=[3, 5, 1, 7],\n",
    "    fill='tonexty'\n",
    ")\n",
    "\n",
    "data = [trace1, trace2]\n",
    "pyo.iplot(data, filename='basic-area')"
   ]
  },
  {
   "cell_type": "markdown",
   "metadata": {},
   "source": [
    "# Overlaid Area Chart Without Boundary Lines"
   ]
  },
  {
   "cell_type": "code",
   "execution_count": 3,
   "metadata": {},
   "outputs": [
    {
     "data": {
      "application/vnd.plotly.v1+json": {
       "config": {
        "linkText": "Export to plot.ly",
        "plotlyServerURL": "https://plot.ly",
        "showLink": false
       },
       "data": [
        {
         "fill": "tozeroy",
         "mode": "none",
         "type": "scatter",
         "uid": "86e46e4d-83fa-4045-a88a-1a75837c28a2",
         "x": [
          1,
          2,
          3,
          4
         ],
         "y": [
          0,
          2,
          3,
          5
         ]
        },
        {
         "fill": "tonexty",
         "mode": "none",
         "type": "scatter",
         "uid": "8f569f39-fa29-4816-8a47-be08fc0bb3e7",
         "x": [
          1,
          2,
          3,
          4
         ],
         "y": [
          3,
          5,
          1,
          7
         ]
        }
       ],
       "layout": {}
      },
      "text/html": [
       "<div id=\"7358acc6-77d5-4449-a642-94e4295025e0\" style=\"height: 525px; width: 100%;\" class=\"plotly-graph-div\"></div><script type=\"text/javascript\">require([\"plotly\"], function(Plotly) { window.PLOTLYENV=window.PLOTLYENV || {};window.PLOTLYENV.BASE_URL=\"https://plot.ly\";Plotly.newPlot(\"7358acc6-77d5-4449-a642-94e4295025e0\", [{\"fill\": \"tozeroy\", \"mode\": \"none\", \"x\": [1, 2, 3, 4], \"y\": [0, 2, 3, 5], \"type\": \"scatter\", \"uid\": \"588d85ad-422e-48b4-a1ad-b8aa40fcaa77\"}, {\"fill\": \"tonexty\", \"mode\": \"none\", \"x\": [1, 2, 3, 4], \"y\": [3, 5, 1, 7], \"type\": \"scatter\", \"uid\": \"35c8987f-94c7-4128-87b3-139f56485d47\"}], {}, {\"showLink\": false, \"linkText\": \"Export to plot.ly\", \"plotlyServerURL\": \"https://plot.ly\"})});</script><script type=\"text/javascript\">window.addEventListener(\"resize\", function(){window._Plotly.Plots.resize(document.getElementById(\"7358acc6-77d5-4449-a642-94e4295025e0\"));});</script>"
      ],
      "text/vnd.plotly.v1+html": [
       "<div id=\"7358acc6-77d5-4449-a642-94e4295025e0\" style=\"height: 525px; width: 100%;\" class=\"plotly-graph-div\"></div><script type=\"text/javascript\">require([\"plotly\"], function(Plotly) { window.PLOTLYENV=window.PLOTLYENV || {};window.PLOTLYENV.BASE_URL=\"https://plot.ly\";Plotly.newPlot(\"7358acc6-77d5-4449-a642-94e4295025e0\", [{\"fill\": \"tozeroy\", \"mode\": \"none\", \"x\": [1, 2, 3, 4], \"y\": [0, 2, 3, 5], \"type\": \"scatter\", \"uid\": \"588d85ad-422e-48b4-a1ad-b8aa40fcaa77\"}, {\"fill\": \"tonexty\", \"mode\": \"none\", \"x\": [1, 2, 3, 4], \"y\": [3, 5, 1, 7], \"type\": \"scatter\", \"uid\": \"35c8987f-94c7-4128-87b3-139f56485d47\"}], {}, {\"showLink\": false, \"linkText\": \"Export to plot.ly\", \"plotlyServerURL\": \"https://plot.ly\"})});</script><script type=\"text/javascript\">window.addEventListener(\"resize\", function(){window._Plotly.Plots.resize(document.getElementById(\"7358acc6-77d5-4449-a642-94e4295025e0\"));});</script>"
      ]
     },
     "metadata": {},
     "output_type": "display_data"
    }
   ],
   "source": [
    "import plotly.graph_objs as go\n",
    "\n",
    "trace1 = go.Scatter(\n",
    "    x=[1, 2, 3, 4],\n",
    "    y=[0, 2, 3, 5],\n",
    "    fill='tozeroy',\n",
    "    mode= 'none'\n",
    ")\n",
    "trace2 = go.Scatter(\n",
    "    x=[1, 2, 3, 4],\n",
    "    y=[3, 5, 1, 7],\n",
    "    fill='tonexty',\n",
    "    mode= 'none'\n",
    ")\n",
    "\n",
    "data = [trace1, trace2]\n",
    "pyo.iplot(data, filename='basic-area-no-bound')"
   ]
  },
  {
   "cell_type": "markdown",
   "metadata": {},
   "source": [
    "# Interior Filling for Area Chart"
   ]
  },
  {
   "cell_type": "code",
   "execution_count": 4,
   "metadata": {},
   "outputs": [
    {
     "data": {
      "application/vnd.plotly.v1+json": {
       "config": {
        "linkText": "Export to plot.ly",
        "plotlyServerURL": "https://plot.ly",
        "showLink": false
       },
       "data": [
        {
         "line": {
          "color": "rgb(143, 19, 131)"
         },
         "mode": "lines",
         "type": "scatter",
         "uid": "8d3962f6-2d6d-4880-9f90-2682636444b5",
         "x": [
          1,
          2,
          3,
          4
         ],
         "y": [
          3,
          4,
          8,
          3
         ]
        },
        {
         "fill": "tonexty",
         "line": {
          "color": "rgb(143, 19, 131)"
         },
         "mode": "lines",
         "type": "scatter",
         "uid": "5f033ad6-3753-41be-81c2-fa0438d06ef4",
         "x": [
          1,
          2,
          3,
          4
         ],
         "y": [
          1,
          6,
          2,
          6
         ]
        }
       ],
       "layout": {}
      },
      "text/html": [
       "<div id=\"cf5da6c7-76e3-45e5-a852-b32fa93a25ea\" style=\"height: 525px; width: 100%;\" class=\"plotly-graph-div\"></div><script type=\"text/javascript\">require([\"plotly\"], function(Plotly) { window.PLOTLYENV=window.PLOTLYENV || {};window.PLOTLYENV.BASE_URL=\"https://plot.ly\";Plotly.newPlot(\"cf5da6c7-76e3-45e5-a852-b32fa93a25ea\", [{\"line\": {\"color\": \"rgb(143, 19, 131)\"}, \"mode\": \"lines\", \"x\": [1, 2, 3, 4], \"y\": [3, 4, 8, 3], \"type\": \"scatter\", \"uid\": \"9f5a5e5f-cfc4-472c-b185-acb7b8c01d65\"}, {\"fill\": \"tonexty\", \"line\": {\"color\": \"rgb(143, 19, 131)\"}, \"mode\": \"lines\", \"x\": [1, 2, 3, 4], \"y\": [1, 6, 2, 6], \"type\": \"scatter\", \"uid\": \"f4b39502-bbeb-4a16-a3ae-3a741f7a7414\"}], {}, {\"showLink\": false, \"linkText\": \"Export to plot.ly\", \"plotlyServerURL\": \"https://plot.ly\"})});</script><script type=\"text/javascript\">window.addEventListener(\"resize\", function(){window._Plotly.Plots.resize(document.getElementById(\"cf5da6c7-76e3-45e5-a852-b32fa93a25ea\"));});</script>"
      ],
      "text/vnd.plotly.v1+html": [
       "<div id=\"cf5da6c7-76e3-45e5-a852-b32fa93a25ea\" style=\"height: 525px; width: 100%;\" class=\"plotly-graph-div\"></div><script type=\"text/javascript\">require([\"plotly\"], function(Plotly) { window.PLOTLYENV=window.PLOTLYENV || {};window.PLOTLYENV.BASE_URL=\"https://plot.ly\";Plotly.newPlot(\"cf5da6c7-76e3-45e5-a852-b32fa93a25ea\", [{\"line\": {\"color\": \"rgb(143, 19, 131)\"}, \"mode\": \"lines\", \"x\": [1, 2, 3, 4], \"y\": [3, 4, 8, 3], \"type\": \"scatter\", \"uid\": \"9f5a5e5f-cfc4-472c-b185-acb7b8c01d65\"}, {\"fill\": \"tonexty\", \"line\": {\"color\": \"rgb(143, 19, 131)\"}, \"mode\": \"lines\", \"x\": [1, 2, 3, 4], \"y\": [1, 6, 2, 6], \"type\": \"scatter\", \"uid\": \"f4b39502-bbeb-4a16-a3ae-3a741f7a7414\"}], {}, {\"showLink\": false, \"linkText\": \"Export to plot.ly\", \"plotlyServerURL\": \"https://plot.ly\"})});</script><script type=\"text/javascript\">window.addEventListener(\"resize\", function(){window._Plotly.Plots.resize(document.getElementById(\"cf5da6c7-76e3-45e5-a852-b32fa93a25ea\"));});</script>"
      ]
     },
     "metadata": {},
     "output_type": "display_data"
    }
   ],
   "source": [
    "import plotly.graph_objs as go\n",
    "\n",
    "trace0 = go.Scatter(\n",
    "    x=[1, 2, 3, 4],\n",
    "    y=[3, 4, 8, 3],\n",
    "    fill= None,\n",
    "    mode='lines',\n",
    "    line=dict(\n",
    "        color='rgb(143, 19, 131)',\n",
    "    )\n",
    ")\n",
    "trace1 = go.Scatter(\n",
    "    x=[1, 2, 3, 4],\n",
    "    y=[1, 6, 2, 6],\n",
    "    fill='tonexty',\n",
    "    mode='lines',\n",
    "    line=dict(\n",
    "        color='rgb(143, 19, 131)',\n",
    "    )\n",
    ")\n",
    "\n",
    "data = [trace0, trace1]\n",
    "pyo.iplot(data, filename='filling-interior-area')"
   ]
  },
  {
   "cell_type": "markdown",
   "metadata": {},
   "source": [
    "# Stacked Area Chart\n"
   ]
  },
  {
   "cell_type": "code",
   "execution_count": 5,
   "metadata": {},
   "outputs": [
    {
     "data": {
      "application/vnd.plotly.v1+json": {
       "config": {
        "linkText": "Export to plot.ly",
        "plotlyServerURL": "https://plot.ly",
        "showLink": false
       },
       "data": [
        {
         "hoverinfo": "x+y",
         "line": {
          "color": "rgb(131, 90, 241)",
          "width": 0.5
         },
         "mode": "lines",
         "stackgroup": "one",
         "x": [
          "Winter",
          "Spring",
          "Summer",
          "Fall"
         ],
         "y": [
          40,
          60,
          40,
          10
         ]
        },
        {
         "hoverinfo": "x+y",
         "line": {
          "color": "rgb(111, 231, 219)",
          "width": 0.5
         },
         "mode": "lines",
         "stackgroup": "one",
         "x": [
          "Winter",
          "Spring",
          "Summer",
          "Fall"
         ],
         "y": [
          20,
          10,
          10,
          60
         ]
        },
        {
         "hoverinfo": "x+y",
         "line": {
          "color": "rgb(184, 247, 212)",
          "width": 0.5
         },
         "mode": "lines",
         "stackgroup": "one",
         "x": [
          "Winter",
          "Spring",
          "Summer",
          "Fall"
         ],
         "y": [
          40,
          30,
          50,
          30
         ]
        }
       ],
       "layout": {}
      },
      "text/html": [
       "<div id=\"1ce6277d-6ea2-4b22-b34c-a506dda9816f\" style=\"height: 525px; width: 100%;\" class=\"plotly-graph-div\"></div><script type=\"text/javascript\">require([\"plotly\"], function(Plotly) { window.PLOTLYENV=window.PLOTLYENV || {};window.PLOTLYENV.BASE_URL=\"https://plot.ly\";Plotly.newPlot(\"1ce6277d-6ea2-4b22-b34c-a506dda9816f\", [{\"x\": [\"Winter\", \"Spring\", \"Summer\", \"Fall\"], \"y\": [40, 60, 40, 10], \"hoverinfo\": \"x+y\", \"mode\": \"lines\", \"line\": {\"width\": 0.5, \"color\": \"rgb(131, 90, 241)\"}, \"stackgroup\": \"one\"}, {\"x\": [\"Winter\", \"Spring\", \"Summer\", \"Fall\"], \"y\": [20, 10, 10, 60], \"hoverinfo\": \"x+y\", \"mode\": \"lines\", \"line\": {\"width\": 0.5, \"color\": \"rgb(111, 231, 219)\"}, \"stackgroup\": \"one\"}, {\"x\": [\"Winter\", \"Spring\", \"Summer\", \"Fall\"], \"y\": [40, 30, 50, 30], \"hoverinfo\": \"x+y\", \"mode\": \"lines\", \"line\": {\"width\": 0.5, \"color\": \"rgb(184, 247, 212)\"}, \"stackgroup\": \"one\"}], {}, {\"showLink\": false, \"linkText\": \"Export to plot.ly\", \"plotlyServerURL\": \"https://plot.ly\"})});</script><script type=\"text/javascript\">window.addEventListener(\"resize\", function(){window._Plotly.Plots.resize(document.getElementById(\"1ce6277d-6ea2-4b22-b34c-a506dda9816f\"));});</script>"
      ],
      "text/vnd.plotly.v1+html": [
       "<div id=\"1ce6277d-6ea2-4b22-b34c-a506dda9816f\" style=\"height: 525px; width: 100%;\" class=\"plotly-graph-div\"></div><script type=\"text/javascript\">require([\"plotly\"], function(Plotly) { window.PLOTLYENV=window.PLOTLYENV || {};window.PLOTLYENV.BASE_URL=\"https://plot.ly\";Plotly.newPlot(\"1ce6277d-6ea2-4b22-b34c-a506dda9816f\", [{\"x\": [\"Winter\", \"Spring\", \"Summer\", \"Fall\"], \"y\": [40, 60, 40, 10], \"hoverinfo\": \"x+y\", \"mode\": \"lines\", \"line\": {\"width\": 0.5, \"color\": \"rgb(131, 90, 241)\"}, \"stackgroup\": \"one\"}, {\"x\": [\"Winter\", \"Spring\", \"Summer\", \"Fall\"], \"y\": [20, 10, 10, 60], \"hoverinfo\": \"x+y\", \"mode\": \"lines\", \"line\": {\"width\": 0.5, \"color\": \"rgb(111, 231, 219)\"}, \"stackgroup\": \"one\"}, {\"x\": [\"Winter\", \"Spring\", \"Summer\", \"Fall\"], \"y\": [40, 30, 50, 30], \"hoverinfo\": \"x+y\", \"mode\": \"lines\", \"line\": {\"width\": 0.5, \"color\": \"rgb(184, 247, 212)\"}, \"stackgroup\": \"one\"}], {}, {\"showLink\": false, \"linkText\": \"Export to plot.ly\", \"plotlyServerURL\": \"https://plot.ly\"})});</script><script type=\"text/javascript\">window.addEventListener(\"resize\", function(){window._Plotly.Plots.resize(document.getElementById(\"1ce6277d-6ea2-4b22-b34c-a506dda9816f\"));});</script>"
      ]
     },
     "metadata": {},
     "output_type": "display_data"
    }
   ],
   "source": [
    "import plotly.graph_objs as go\n",
    "\n",
    "# Add original data\n",
    "x=['Winter', 'Spring', 'Summer', 'Fall']\n",
    "\n",
    "trace0 = dict(\n",
    "    x=x,\n",
    "    y=[40, 60, 40, 10],\n",
    "    hoverinfo='x+y',\n",
    "    mode='lines',\n",
    "    line=dict(width=0.5,\n",
    "              color='rgb(131, 90, 241)'),\n",
    "    stackgroup='one'\n",
    ")\n",
    "trace1 = dict(\n",
    "    x=x,\n",
    "    y=[20, 10, 10, 60],\n",
    "    hoverinfo='x+y',\n",
    "    mode='lines',\n",
    "    line=dict(width=0.5,\n",
    "              color='rgb(111, 231, 219)'),\n",
    "    stackgroup='one'\n",
    ")\n",
    "trace2 = dict(\n",
    "    x=x,\n",
    "    y=[40, 30, 50, 30],\n",
    "    hoverinfo='x+y',\n",
    "    mode='lines',\n",
    "    line=dict(width=0.5,\n",
    "              color='rgb(184, 247, 212)'),\n",
    "    stackgroup='one'\n",
    ")\n",
    "data = [trace0, trace1, trace2]\n",
    "\n",
    "fig = dict(data=data)\n",
    "pyo.iplot(fig, filename='stacked-area-plot-hover', validate=False)"
   ]
  },
  {
   "cell_type": "markdown",
   "metadata": {},
   "source": [
    "# Stacked Area Chart with Normalized Values"
   ]
  },
  {
   "cell_type": "code",
   "execution_count": 8,
   "metadata": {},
   "outputs": [
    {
     "data": {
      "application/vnd.plotly.v1+json": {
       "config": {
        "linkText": "Export to plot.ly",
        "plotlyServerURL": "https://plot.ly",
        "showLink": false
       },
       "data": [
        {
         "groupnorm": "percent",
         "line": {
          "color": "rgb(184, 247, 212)",
          "width": 0.5
         },
         "mode": "lines",
         "stackgroup": "one",
         "type": "scatter",
         "uid": "cba5f361-3961-42c6-b9ae-ec247c31bcd1",
         "x": [
          "Winter",
          "Spring",
          "Summer",
          "Fall"
         ],
         "y": [
          "40",
          "20",
          "30",
          "40"
         ]
        },
        {
         "line": {
          "color": "rgb(111, 231, 219)",
          "width": 0.5
         },
         "mode": "lines",
         "stackgroup": "one",
         "type": "scatter",
         "uid": "1b6d662f-30f3-4dea-8bd2-34fbea0d19ac",
         "x": [
          "Winter",
          "Spring",
          "Summer",
          "Fall"
         ],
         "y": [
          "50",
          "70",
          "40",
          "60"
         ]
        },
        {
         "line": {
          "color": "rgb(127, 166, 238)",
          "width": 0.5
         },
         "mode": "lines",
         "stackgroup": "one",
         "type": "scatter",
         "uid": "82ad585e-035b-490e-8d23-df174b6cc5a6",
         "x": [
          "Winter",
          "Spring",
          "Summer",
          "Fall"
         ],
         "y": [
          "70",
          "80",
          "60",
          "70"
         ]
        },
        {
         "line": {
          "color": "rgb(131, 90, 241)",
          "width": 0.5
         },
         "mode": "lines",
         "stackgroup": "one",
         "type": "scatter",
         "uid": "38dcccf3-ee33-4310-b993-70cba6c210eb",
         "x": [
          "Winter",
          "Spring",
          "Summer",
          "Fall"
         ],
         "y": [
          "100",
          "100",
          "100",
          "100"
         ]
        }
       ],
       "layout": {
        "showlegend": true,
        "xaxis": {
         "type": "category"
        },
        "yaxis": {
         "dtick": 20,
         "range": [
          1,
          100
         ],
         "ticksuffix": "%",
         "type": "linear"
        }
       }
      },
      "text/html": [
       "<div id=\"636b6c70-9875-43f7-b502-e1b041ea0785\" style=\"height: 525px; width: 100%;\" class=\"plotly-graph-div\"></div><script type=\"text/javascript\">require([\"plotly\"], function(Plotly) { window.PLOTLYENV=window.PLOTLYENV || {};window.PLOTLYENV.BASE_URL=\"https://plot.ly\";Plotly.newPlot(\"636b6c70-9875-43f7-b502-e1b041ea0785\", [{\"groupnorm\": \"percent\", \"line\": {\"color\": \"rgb(184, 247, 212)\", \"width\": 0.5}, \"mode\": \"lines\", \"stackgroup\": \"one\", \"x\": [\"Winter\", \"Spring\", \"Summer\", \"Fall\"], \"y\": [\"40\", \"20\", \"30\", \"40\"], \"type\": \"scatter\", \"uid\": \"d5d5447d-e4a2-4d60-8e31-b4b6b1787b36\"}, {\"line\": {\"color\": \"rgb(111, 231, 219)\", \"width\": 0.5}, \"mode\": \"lines\", \"stackgroup\": \"one\", \"x\": [\"Winter\", \"Spring\", \"Summer\", \"Fall\"], \"y\": [\"50\", \"70\", \"40\", \"60\"], \"type\": \"scatter\", \"uid\": \"dcddb2bd-bda7-4bac-9130-409d0d35cae3\"}, {\"line\": {\"color\": \"rgb(127, 166, 238)\", \"width\": 0.5}, \"mode\": \"lines\", \"stackgroup\": \"one\", \"x\": [\"Winter\", \"Spring\", \"Summer\", \"Fall\"], \"y\": [\"70\", \"80\", \"60\", \"70\"], \"type\": \"scatter\", \"uid\": \"428f42eb-759a-412b-acee-2b86e6a994d0\"}, {\"line\": {\"color\": \"rgb(131, 90, 241)\", \"width\": 0.5}, \"mode\": \"lines\", \"stackgroup\": \"one\", \"x\": [\"Winter\", \"Spring\", \"Summer\", \"Fall\"], \"y\": [\"100\", \"100\", \"100\", \"100\"], \"type\": \"scatter\", \"uid\": \"7ee8c0b5-baea-43f3-8516-2492f497474d\"}], {\"showlegend\": true, \"xaxis\": {\"type\": \"category\"}, \"yaxis\": {\"dtick\": 20, \"range\": [1, 100], \"ticksuffix\": \"%\", \"type\": \"linear\"}}, {\"showLink\": false, \"linkText\": \"Export to plot.ly\", \"plotlyServerURL\": \"https://plot.ly\"})});</script><script type=\"text/javascript\">window.addEventListener(\"resize\", function(){window._Plotly.Plots.resize(document.getElementById(\"636b6c70-9875-43f7-b502-e1b041ea0785\"));});</script>"
      ],
      "text/vnd.plotly.v1+html": [
       "<div id=\"636b6c70-9875-43f7-b502-e1b041ea0785\" style=\"height: 525px; width: 100%;\" class=\"plotly-graph-div\"></div><script type=\"text/javascript\">require([\"plotly\"], function(Plotly) { window.PLOTLYENV=window.PLOTLYENV || {};window.PLOTLYENV.BASE_URL=\"https://plot.ly\";Plotly.newPlot(\"636b6c70-9875-43f7-b502-e1b041ea0785\", [{\"groupnorm\": \"percent\", \"line\": {\"color\": \"rgb(184, 247, 212)\", \"width\": 0.5}, \"mode\": \"lines\", \"stackgroup\": \"one\", \"x\": [\"Winter\", \"Spring\", \"Summer\", \"Fall\"], \"y\": [\"40\", \"20\", \"30\", \"40\"], \"type\": \"scatter\", \"uid\": \"d5d5447d-e4a2-4d60-8e31-b4b6b1787b36\"}, {\"line\": {\"color\": \"rgb(111, 231, 219)\", \"width\": 0.5}, \"mode\": \"lines\", \"stackgroup\": \"one\", \"x\": [\"Winter\", \"Spring\", \"Summer\", \"Fall\"], \"y\": [\"50\", \"70\", \"40\", \"60\"], \"type\": \"scatter\", \"uid\": \"dcddb2bd-bda7-4bac-9130-409d0d35cae3\"}, {\"line\": {\"color\": \"rgb(127, 166, 238)\", \"width\": 0.5}, \"mode\": \"lines\", \"stackgroup\": \"one\", \"x\": [\"Winter\", \"Spring\", \"Summer\", \"Fall\"], \"y\": [\"70\", \"80\", \"60\", \"70\"], \"type\": \"scatter\", \"uid\": \"428f42eb-759a-412b-acee-2b86e6a994d0\"}, {\"line\": {\"color\": \"rgb(131, 90, 241)\", \"width\": 0.5}, \"mode\": \"lines\", \"stackgroup\": \"one\", \"x\": [\"Winter\", \"Spring\", \"Summer\", \"Fall\"], \"y\": [\"100\", \"100\", \"100\", \"100\"], \"type\": \"scatter\", \"uid\": \"7ee8c0b5-baea-43f3-8516-2492f497474d\"}], {\"showlegend\": true, \"xaxis\": {\"type\": \"category\"}, \"yaxis\": {\"dtick\": 20, \"range\": [1, 100], \"ticksuffix\": \"%\", \"type\": \"linear\"}}, {\"showLink\": false, \"linkText\": \"Export to plot.ly\", \"plotlyServerURL\": \"https://plot.ly\"})});</script><script type=\"text/javascript\">window.addEventListener(\"resize\", function(){window._Plotly.Plots.resize(document.getElementById(\"636b6c70-9875-43f7-b502-e1b041ea0785\"));});</script>"
      ]
     },
     "metadata": {},
     "output_type": "display_data"
    }
   ],
   "source": [
    "import plotly.graph_objs as go\n",
    "\n",
    "trace0 = dict(\n",
    "    x=['Winter', 'Spring', 'Summer', 'Fall'],\n",
    "    y=['40', '20', '30', '40'],\n",
    "    mode='lines',\n",
    "    line=dict(width=0.5,\n",
    "              color='rgb(184, 247, 212)'),\n",
    "    stackgroup='one',\n",
    "    groupnorm='percent'\n",
    ")\n",
    "trace1 = dict(\n",
    "    x=['Winter', 'Spring', 'Summer', 'Fall'],\n",
    "    y=['50', '70', '40', '60'],\n",
    "    mode='lines',\n",
    "    line=dict(width=0.5,\n",
    "              color='rgb(111, 231, 219)'),\n",
    "    stackgroup='one'\n",
    ")\n",
    "trace2 = dict(\n",
    "    x=['Winter', 'Spring', 'Summer', 'Fall'],\n",
    "    y=['70', '80', '60', '70'],\n",
    "    mode='lines',\n",
    "    line=dict(width=0.5,\n",
    "              color='rgb(127, 166, 238)'),\n",
    "    stackgroup='one'\n",
    ")\n",
    "trace3 = dict(\n",
    "    x=['Winter', 'Spring', 'Summer', 'Fall'],\n",
    "    y=['100', '100', '100', '100'],\n",
    "    mode='lines',\n",
    "    line=dict(width=0.5,\n",
    "              color='rgb(131, 90, 241)'),\n",
    "    stackgroup='one'\n",
    ")\n",
    "data = [trace0, trace1, trace2, trace3]\n",
    "layout = go.Layout(\n",
    "    showlegend=True,\n",
    "    xaxis=dict(\n",
    "        type='category',\n",
    "    ),\n",
    "    yaxis=dict(\n",
    "        type='linear',\n",
    "        range=[1, 100],\n",
    "        dtick=20,\n",
    "        ticksuffix='%'\n",
    "    )\n",
    ")\n",
    "fig = dict(data=data, layout=layout)\n",
    "pyo.iplot(fig)"
   ]
  },
  {
   "cell_type": "markdown",
   "metadata": {},
   "source": [
    "# Select Hover Points\n"
   ]
  },
  {
   "cell_type": "code",
   "execution_count": 9,
   "metadata": {},
   "outputs": [
    {
     "data": {
      "application/vnd.plotly.v1+json": {
       "config": {
        "linkText": "Export to plot.ly",
        "plotlyServerURL": "https://plot.ly",
        "showLink": false
       },
       "data": [
        {
         "fill": "toself",
         "fillcolor": "#ab63fa",
         "hoverinfo": "text",
         "hoveron": "points+fills",
         "line": {
          "color": "#ab63fa"
         },
         "text": "Points + Fills",
         "type": "scatter",
         "uid": "d45fbcf9-15c8-45fc-bdd6-aac1826357ba",
         "x": [
          0,
          0.5,
          1,
          1.5,
          2
         ],
         "y": [
          0,
          1,
          2,
          1,
          0
         ]
        },
        {
         "fill": "toself",
         "fillcolor": "#e763fa",
         "hoverinfo": "text",
         "hoveron": "points",
         "line": {
          "color": "#e763fa"
         },
         "text": "Points only",
         "type": "scatter",
         "uid": "c717edd5-ffe2-4328-85ac-0f9d12a4798e",
         "x": [
          3,
          3.5,
          4,
          4.5,
          5
         ],
         "y": [
          0,
          1,
          2,
          1,
          0
         ]
        }
       ],
       "layout": {}
      },
      "text/html": [
       "<div id=\"fea2b568-1660-46f3-9e3a-ef51f553a4d8\" style=\"height: 525px; width: 100%;\" class=\"plotly-graph-div\"></div><script type=\"text/javascript\">require([\"plotly\"], function(Plotly) { window.PLOTLYENV=window.PLOTLYENV || {};window.PLOTLYENV.BASE_URL=\"https://plot.ly\";Plotly.newPlot(\"fea2b568-1660-46f3-9e3a-ef51f553a4d8\", [{\"fill\": \"toself\", \"fillcolor\": \"#ab63fa\", \"hoverinfo\": \"text\", \"hoveron\": \"points+fills\", \"line\": {\"color\": \"#ab63fa\"}, \"text\": \"Points + Fills\", \"x\": [0, 0.5, 1, 1.5, 2], \"y\": [0, 1, 2, 1, 0], \"type\": \"scatter\", \"uid\": \"3129f6f9-9a4b-4f41-82f3-4b02368121df\"}, {\"fill\": \"toself\", \"fillcolor\": \"#e763fa\", \"hoverinfo\": \"text\", \"hoveron\": \"points\", \"line\": {\"color\": \"#e763fa\"}, \"text\": \"Points only\", \"x\": [3, 3.5, 4, 4.5, 5], \"y\": [0, 1, 2, 1, 0], \"type\": \"scatter\", \"uid\": \"2de0d060-2369-4683-ae8d-3a58899aec8d\"}], {}, {\"showLink\": false, \"linkText\": \"Export to plot.ly\", \"plotlyServerURL\": \"https://plot.ly\"})});</script><script type=\"text/javascript\">window.addEventListener(\"resize\", function(){window._Plotly.Plots.resize(document.getElementById(\"fea2b568-1660-46f3-9e3a-ef51f553a4d8\"));});</script>"
      ],
      "text/vnd.plotly.v1+html": [
       "<div id=\"fea2b568-1660-46f3-9e3a-ef51f553a4d8\" style=\"height: 525px; width: 100%;\" class=\"plotly-graph-div\"></div><script type=\"text/javascript\">require([\"plotly\"], function(Plotly) { window.PLOTLYENV=window.PLOTLYENV || {};window.PLOTLYENV.BASE_URL=\"https://plot.ly\";Plotly.newPlot(\"fea2b568-1660-46f3-9e3a-ef51f553a4d8\", [{\"fill\": \"toself\", \"fillcolor\": \"#ab63fa\", \"hoverinfo\": \"text\", \"hoveron\": \"points+fills\", \"line\": {\"color\": \"#ab63fa\"}, \"text\": \"Points + Fills\", \"x\": [0, 0.5, 1, 1.5, 2], \"y\": [0, 1, 2, 1, 0], \"type\": \"scatter\", \"uid\": \"3129f6f9-9a4b-4f41-82f3-4b02368121df\"}, {\"fill\": \"toself\", \"fillcolor\": \"#e763fa\", \"hoverinfo\": \"text\", \"hoveron\": \"points\", \"line\": {\"color\": \"#e763fa\"}, \"text\": \"Points only\", \"x\": [3, 3.5, 4, 4.5, 5], \"y\": [0, 1, 2, 1, 0], \"type\": \"scatter\", \"uid\": \"2de0d060-2369-4683-ae8d-3a58899aec8d\"}], {}, {\"showLink\": false, \"linkText\": \"Export to plot.ly\", \"plotlyServerURL\": \"https://plot.ly\"})});</script><script type=\"text/javascript\">window.addEventListener(\"resize\", function(){window._Plotly.Plots.resize(document.getElementById(\"fea2b568-1660-46f3-9e3a-ef51f553a4d8\"));});</script>"
      ]
     },
     "metadata": {},
     "output_type": "display_data"
    }
   ],
   "source": [
    "import plotly.graph_objs as go\n",
    "\n",
    "trace0 = go.Scatter(\n",
    "    x=[0,0.5,1,1.5,2],\n",
    "    y=[0,1,2,1,0],\n",
    "    fill= 'toself',\n",
    "    fillcolor = '#ab63fa',\n",
    "    hoveron = 'points+fills',\n",
    "    line = dict(\n",
    "      color = '#ab63fa'\n",
    "    ),\n",
    "    text = \"Points + Fills\",\n",
    "    hoverinfo = 'text'\n",
    ")\n",
    "\n",
    "trace1 = go.Scatter(\n",
    "    x=[3,3.5,4,4.5,5],\n",
    "    y=[0,1,2,1,0],\n",
    "    fill='toself',\n",
    "    fillcolor = '#e763fa',\n",
    "    hoveron = 'points',\n",
    "    line = dict(\n",
    "      color = '#e763fa'\n",
    "    ),\n",
    "    text = \"Points only\",\n",
    "    hoverinfo = 'text'\n",
    ")\n",
    "\n",
    "data = [trace0, trace1]\n",
    "\n",
    "layout = go.Layout(\n",
    "    title = \"hover on <i>points</i> or <i>fill</i>\",\n",
    "    xaxis = dict(\n",
    "      range = [0,5.2]\n",
    "    ),\n",
    "    yaxis = dict(\n",
    "      range = [0,3]\n",
    "    )\n",
    ")\n",
    "\n",
    "fig = go.Figure(data=data,layout=layout)\n",
    "pyo.iplot(data, filename='select-hover-points')"
   ]
  },
  {
   "cell_type": "code",
   "execution_count": null,
   "metadata": {},
   "outputs": [],
   "source": []
  }
 ],
 "metadata": {
  "kernelspec": {
   "display_name": "Python 3",
   "language": "python",
   "name": "python3"
  },
  "language_info": {
   "codemirror_mode": {
    "name": "ipython",
    "version": 3
   },
   "file_extension": ".py",
   "mimetype": "text/x-python",
   "name": "python",
   "nbconvert_exporter": "python",
   "pygments_lexer": "ipython3",
   "version": "3.6.8"
  }
 },
 "nbformat": 4,
 "nbformat_minor": 1
}
