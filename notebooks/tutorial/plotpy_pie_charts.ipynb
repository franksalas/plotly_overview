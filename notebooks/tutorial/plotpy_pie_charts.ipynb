{
 "cells": [
  {
   "cell_type": "markdown",
   "metadata": {},
   "source": [
    "# Pie Charts in Python\n",
    "- https://plot.ly/python/pie-charts/"
   ]
  },
  {
   "cell_type": "code",
   "execution_count": 1,
   "metadata": {},
   "outputs": [
    {
     "data": {
      "text/html": [
       "<script type=\"text/javascript\">window.PlotlyConfig = {MathJaxConfig: 'local'};</script><script type=\"text/javascript\">if (window.MathJax) {MathJax.Hub.Config({SVG: {font: \"STIX-Web\"}});}</script><script>requirejs.config({paths: { 'plotly': ['https://cdn.plot.ly/plotly-latest.min']},});if(!window._Plotly) {require(['plotly'],function(plotly) {window._Plotly=plotly;});}</script>"
      ],
      "text/vnd.plotly.v1+html": [
       "<script type=\"text/javascript\">window.PlotlyConfig = {MathJaxConfig: 'local'};</script><script type=\"text/javascript\">if (window.MathJax) {MathJax.Hub.Config({SVG: {font: \"STIX-Web\"}});}</script><script>requirejs.config({paths: { 'plotly': ['https://cdn.plot.ly/plotly-latest.min']},});if(!window._Plotly) {require(['plotly'],function(plotly) {window._Plotly=plotly;});}</script>"
      ]
     },
     "metadata": {},
     "output_type": "display_data"
    }
   ],
   "source": [
    "import plotly\n",
    "import plotly.offline as pyo\n",
    "pyo.init_notebook_mode(connected=True)"
   ]
  },
  {
   "cell_type": "markdown",
   "metadata": {},
   "source": [
    "# Basic Pie Chart\n"
   ]
  },
  {
   "cell_type": "code",
   "execution_count": 2,
   "metadata": {},
   "outputs": [
    {
     "data": {
      "application/vnd.plotly.v1+json": {
       "config": {
        "linkText": "Export to plot.ly",
        "plotlyServerURL": "https://plot.ly",
        "showLink": false
       },
       "data": [
        {
         "labels": [
          "Oxygen",
          "Hydrogen",
          "Carbon_Dioxide",
          "Nitrogen"
         ],
         "type": "pie",
         "uid": "34009f42-eaf6-4e92-8934-c20a27a18c18",
         "values": [
          4500,
          2500,
          1053,
          500
         ]
        }
       ],
       "layout": {}
      },
      "text/html": [
       "<div id=\"87e7af4d-022a-4ce9-9543-65d6a2065ec2\" style=\"height: 525px; width: 100%;\" class=\"plotly-graph-div\"></div><script type=\"text/javascript\">require([\"plotly\"], function(Plotly) { window.PLOTLYENV=window.PLOTLYENV || {};window.PLOTLYENV.BASE_URL=\"https://plot.ly\";Plotly.newPlot(\"87e7af4d-022a-4ce9-9543-65d6a2065ec2\", [{\"labels\": [\"Oxygen\", \"Hydrogen\", \"Carbon_Dioxide\", \"Nitrogen\"], \"values\": [4500, 2500, 1053, 500], \"type\": \"pie\", \"uid\": \"347b743c-cfa9-4ba5-a2c8-217abd0d34a7\"}], {}, {\"showLink\": false, \"linkText\": \"Export to plot.ly\", \"plotlyServerURL\": \"https://plot.ly\"})});</script><script type=\"text/javascript\">window.addEventListener(\"resize\", function(){window._Plotly.Plots.resize(document.getElementById(\"87e7af4d-022a-4ce9-9543-65d6a2065ec2\"));});</script>"
      ],
      "text/vnd.plotly.v1+html": [
       "<div id=\"87e7af4d-022a-4ce9-9543-65d6a2065ec2\" style=\"height: 525px; width: 100%;\" class=\"plotly-graph-div\"></div><script type=\"text/javascript\">require([\"plotly\"], function(Plotly) { window.PLOTLYENV=window.PLOTLYENV || {};window.PLOTLYENV.BASE_URL=\"https://plot.ly\";Plotly.newPlot(\"87e7af4d-022a-4ce9-9543-65d6a2065ec2\", [{\"labels\": [\"Oxygen\", \"Hydrogen\", \"Carbon_Dioxide\", \"Nitrogen\"], \"values\": [4500, 2500, 1053, 500], \"type\": \"pie\", \"uid\": \"347b743c-cfa9-4ba5-a2c8-217abd0d34a7\"}], {}, {\"showLink\": false, \"linkText\": \"Export to plot.ly\", \"plotlyServerURL\": \"https://plot.ly\"})});</script><script type=\"text/javascript\">window.addEventListener(\"resize\", function(){window._Plotly.Plots.resize(document.getElementById(\"87e7af4d-022a-4ce9-9543-65d6a2065ec2\"));});</script>"
      ]
     },
     "metadata": {},
     "output_type": "display_data"
    }
   ],
   "source": [
    "import plotly.graph_objs as go\n",
    "\n",
    "labels = ['Oxygen','Hydrogen','Carbon_Dioxide','Nitrogen']\n",
    "values = [4500,2500,1053,500]\n",
    "\n",
    "trace = go.Pie(labels=labels, values=values)\n",
    "\n",
    "pyo.iplot([trace], filename='basic_pie_chart')"
   ]
  },
  {
   "cell_type": "markdown",
   "metadata": {},
   "source": [
    "# Styled Pie Chart\n"
   ]
  },
  {
   "cell_type": "code",
   "execution_count": 3,
   "metadata": {},
   "outputs": [
    {
     "data": {
      "application/vnd.plotly.v1+json": {
       "config": {
        "linkText": "Export to plot.ly",
        "plotlyServerURL": "https://plot.ly",
        "showLink": false
       },
       "data": [
        {
         "hoverinfo": "label+percent",
         "labels": [
          "Oxygen",
          "Hydrogen",
          "Carbon_Dioxide",
          "Nitrogen"
         ],
         "marker": {
          "colors": [
           "#FEBFB3",
           "#E1396C",
           "#96D38C",
           "#D0F9B1"
          ],
          "line": {
           "color": "#000000",
           "width": 2
          }
         },
         "textfont": {
          "size": 20
         },
         "textinfo": "value",
         "type": "pie",
         "uid": "a1bd0ca2-71aa-4cb9-a6d3-9e51da322368",
         "values": [
          4500,
          2500,
          1053,
          500
         ]
        }
       ],
       "layout": {}
      },
      "text/html": [
       "<div id=\"c7ea01fa-d204-4270-bf82-157c957468f8\" style=\"height: 525px; width: 100%;\" class=\"plotly-graph-div\"></div><script type=\"text/javascript\">require([\"plotly\"], function(Plotly) { window.PLOTLYENV=window.PLOTLYENV || {};window.PLOTLYENV.BASE_URL=\"https://plot.ly\";Plotly.newPlot(\"c7ea01fa-d204-4270-bf82-157c957468f8\", [{\"hoverinfo\": \"label+percent\", \"labels\": [\"Oxygen\", \"Hydrogen\", \"Carbon_Dioxide\", \"Nitrogen\"], \"marker\": {\"colors\": [\"#FEBFB3\", \"#E1396C\", \"#96D38C\", \"#D0F9B1\"], \"line\": {\"color\": \"#000000\", \"width\": 2}}, \"textfont\": {\"size\": 20}, \"textinfo\": \"value\", \"values\": [4500, 2500, 1053, 500], \"type\": \"pie\", \"uid\": \"3f6828a7-f541-4a39-bc8e-c2d3036aa86c\"}], {}, {\"showLink\": false, \"linkText\": \"Export to plot.ly\", \"plotlyServerURL\": \"https://plot.ly\"})});</script><script type=\"text/javascript\">window.addEventListener(\"resize\", function(){window._Plotly.Plots.resize(document.getElementById(\"c7ea01fa-d204-4270-bf82-157c957468f8\"));});</script>"
      ],
      "text/vnd.plotly.v1+html": [
       "<div id=\"c7ea01fa-d204-4270-bf82-157c957468f8\" style=\"height: 525px; width: 100%;\" class=\"plotly-graph-div\"></div><script type=\"text/javascript\">require([\"plotly\"], function(Plotly) { window.PLOTLYENV=window.PLOTLYENV || {};window.PLOTLYENV.BASE_URL=\"https://plot.ly\";Plotly.newPlot(\"c7ea01fa-d204-4270-bf82-157c957468f8\", [{\"hoverinfo\": \"label+percent\", \"labels\": [\"Oxygen\", \"Hydrogen\", \"Carbon_Dioxide\", \"Nitrogen\"], \"marker\": {\"colors\": [\"#FEBFB3\", \"#E1396C\", \"#96D38C\", \"#D0F9B1\"], \"line\": {\"color\": \"#000000\", \"width\": 2}}, \"textfont\": {\"size\": 20}, \"textinfo\": \"value\", \"values\": [4500, 2500, 1053, 500], \"type\": \"pie\", \"uid\": \"3f6828a7-f541-4a39-bc8e-c2d3036aa86c\"}], {}, {\"showLink\": false, \"linkText\": \"Export to plot.ly\", \"plotlyServerURL\": \"https://plot.ly\"})});</script><script type=\"text/javascript\">window.addEventListener(\"resize\", function(){window._Plotly.Plots.resize(document.getElementById(\"c7ea01fa-d204-4270-bf82-157c957468f8\"));});</script>"
      ]
     },
     "metadata": {},
     "output_type": "display_data"
    }
   ],
   "source": [
    "import plotly.graph_objs as go\n",
    "\n",
    "labels = ['Oxygen','Hydrogen','Carbon_Dioxide','Nitrogen']\n",
    "values = [4500,2500,1053,500]\n",
    "colors = ['#FEBFB3', '#E1396C', '#96D38C', '#D0F9B1']\n",
    "\n",
    "trace = go.Pie(labels=labels, values=values,\n",
    "               hoverinfo='label+percent', textinfo='value', \n",
    "               textfont=dict(size=20),\n",
    "               marker=dict(colors=colors, \n",
    "                           line=dict(color='#000000', width=2)))\n",
    "\n",
    "pyo.iplot([trace], filename='styled_pie_chart')"
   ]
  },
  {
   "cell_type": "markdown",
   "metadata": {},
   "source": [
    "# Donut Chart\n"
   ]
  },
  {
   "cell_type": "code",
   "execution_count": 4,
   "metadata": {},
   "outputs": [
    {
     "data": {
      "application/vnd.plotly.v1+json": {
       "config": {
        "linkText": "Export to plot.ly",
        "plotlyServerURL": "https://plot.ly",
        "showLink": false
       },
       "data": [
        {
         "domain": {
          "x": [
           0,
           0.48
          ]
         },
         "hole": 0.4,
         "hoverinfo": "label+percent+name",
         "labels": [
          "US",
          "China",
          "European Union",
          "Russian Federation",
          "Brazil",
          "India",
          "Rest of World"
         ],
         "name": "GHG Emissions",
         "type": "pie",
         "uid": "762d0211-4c63-4e7e-9fdb-ee7326d5b9d5",
         "values": [
          16,
          15,
          12,
          6,
          5,
          4,
          42
         ]
        },
        {
         "domain": {
          "x": [
           0.52,
           1
          ]
         },
         "hole": 0.4,
         "hoverinfo": "label+percent+name",
         "labels": [
          "US",
          "China",
          "European Union",
          "Russian Federation",
          "Brazil",
          "India",
          "Rest of World"
         ],
         "name": "CO2 Emissions",
         "text": [
          "CO2"
         ],
         "textposition": "inside",
         "type": "pie",
         "uid": "5a7b9287-9b83-4bef-8587-36712a32521d",
         "values": [
          27,
          11,
          25,
          8,
          1,
          3,
          25
         ]
        }
       ],
       "layout": {
        "annotations": [
         {
          "font": {
           "size": 20
          },
          "showarrow": false,
          "text": "GHG",
          "x": 0.2,
          "y": 0.5
         },
         {
          "font": {
           "size": 20
          },
          "showarrow": false,
          "text": "CO2",
          "x": 0.8,
          "y": 0.5
         }
        ],
        "title": {
         "text": "Global Emissions 1990-2011"
        }
       }
      },
      "text/html": [
       "<div id=\"3e5d4df5-6dd9-452c-a26c-8d4a77d49e85\" style=\"height: 525px; width: 100%;\" class=\"plotly-graph-div\"></div><script type=\"text/javascript\">require([\"plotly\"], function(Plotly) { window.PLOTLYENV=window.PLOTLYENV || {};window.PLOTLYENV.BASE_URL=\"https://plot.ly\";Plotly.newPlot(\"3e5d4df5-6dd9-452c-a26c-8d4a77d49e85\", [{\"domain\": {\"x\": [0, 0.48]}, \"hole\": 0.4, \"hoverinfo\": \"label+percent+name\", \"labels\": [\"US\", \"China\", \"European Union\", \"Russian Federation\", \"Brazil\", \"India\", \"Rest of World\"], \"name\": \"GHG Emissions\", \"values\": [16, 15, 12, 6, 5, 4, 42], \"type\": \"pie\", \"uid\": \"16c38033-a04d-427c-8e45-c993e0b73155\"}, {\"domain\": {\"x\": [0.52, 1]}, \"hole\": 0.4, \"hoverinfo\": \"label+percent+name\", \"labels\": [\"US\", \"China\", \"European Union\", \"Russian Federation\", \"Brazil\", \"India\", \"Rest of World\"], \"name\": \"CO2 Emissions\", \"text\": [\"CO2\"], \"textposition\": \"inside\", \"values\": [27, 11, 25, 8, 1, 3, 25], \"type\": \"pie\", \"uid\": \"1dac76be-5c36-4711-bcfd-350523bac0e5\"}], {\"annotations\": [{\"font\": {\"size\": 20}, \"showarrow\": false, \"text\": \"GHG\", \"x\": 0.2, \"y\": 0.5}, {\"font\": {\"size\": 20}, \"showarrow\": false, \"text\": \"CO2\", \"x\": 0.8, \"y\": 0.5}], \"title\": {\"text\": \"Global Emissions 1990-2011\"}}, {\"showLink\": false, \"linkText\": \"Export to plot.ly\", \"plotlyServerURL\": \"https://plot.ly\"})});</script><script type=\"text/javascript\">window.addEventListener(\"resize\", function(){window._Plotly.Plots.resize(document.getElementById(\"3e5d4df5-6dd9-452c-a26c-8d4a77d49e85\"));});</script>"
      ],
      "text/vnd.plotly.v1+html": [
       "<div id=\"3e5d4df5-6dd9-452c-a26c-8d4a77d49e85\" style=\"height: 525px; width: 100%;\" class=\"plotly-graph-div\"></div><script type=\"text/javascript\">require([\"plotly\"], function(Plotly) { window.PLOTLYENV=window.PLOTLYENV || {};window.PLOTLYENV.BASE_URL=\"https://plot.ly\";Plotly.newPlot(\"3e5d4df5-6dd9-452c-a26c-8d4a77d49e85\", [{\"domain\": {\"x\": [0, 0.48]}, \"hole\": 0.4, \"hoverinfo\": \"label+percent+name\", \"labels\": [\"US\", \"China\", \"European Union\", \"Russian Federation\", \"Brazil\", \"India\", \"Rest of World\"], \"name\": \"GHG Emissions\", \"values\": [16, 15, 12, 6, 5, 4, 42], \"type\": \"pie\", \"uid\": \"16c38033-a04d-427c-8e45-c993e0b73155\"}, {\"domain\": {\"x\": [0.52, 1]}, \"hole\": 0.4, \"hoverinfo\": \"label+percent+name\", \"labels\": [\"US\", \"China\", \"European Union\", \"Russian Federation\", \"Brazil\", \"India\", \"Rest of World\"], \"name\": \"CO2 Emissions\", \"text\": [\"CO2\"], \"textposition\": \"inside\", \"values\": [27, 11, 25, 8, 1, 3, 25], \"type\": \"pie\", \"uid\": \"1dac76be-5c36-4711-bcfd-350523bac0e5\"}], {\"annotations\": [{\"font\": {\"size\": 20}, \"showarrow\": false, \"text\": \"GHG\", \"x\": 0.2, \"y\": 0.5}, {\"font\": {\"size\": 20}, \"showarrow\": false, \"text\": \"CO2\", \"x\": 0.8, \"y\": 0.5}], \"title\": {\"text\": \"Global Emissions 1990-2011\"}}, {\"showLink\": false, \"linkText\": \"Export to plot.ly\", \"plotlyServerURL\": \"https://plot.ly\"})});</script><script type=\"text/javascript\">window.addEventListener(\"resize\", function(){window._Plotly.Plots.resize(document.getElementById(\"3e5d4df5-6dd9-452c-a26c-8d4a77d49e85\"));});</script>"
      ]
     },
     "metadata": {},
     "output_type": "display_data"
    }
   ],
   "source": [
    "import plotly.graph_objs as go\n",
    "\n",
    "fig = {\n",
    "  \"data\": [\n",
    "    {\n",
    "      \"values\": [16, 15, 12, 6, 5, 4, 42],\n",
    "      \"labels\": [\n",
    "        \"US\",\n",
    "        \"China\",\n",
    "        \"European Union\",\n",
    "        \"Russian Federation\",\n",
    "        \"Brazil\",\n",
    "        \"India\",\n",
    "        \"Rest of World\"\n",
    "      ],\n",
    "      \"domain\": {\"x\": [0, .48]},\n",
    "      \"name\": \"GHG Emissions\",\n",
    "      \"hoverinfo\":\"label+percent+name\",\n",
    "      \"hole\": .4,\n",
    "      \"type\": \"pie\"\n",
    "    },\n",
    "    {\n",
    "      \"values\": [27, 11, 25, 8, 1, 3, 25],\n",
    "      \"labels\": [\n",
    "        \"US\",\n",
    "        \"China\",\n",
    "        \"European Union\",\n",
    "        \"Russian Federation\",\n",
    "        \"Brazil\",\n",
    "        \"India\",\n",
    "        \"Rest of World\"\n",
    "      ],\n",
    "      \"text\":[\"CO2\"],\n",
    "      \"textposition\":\"inside\",\n",
    "      \"domain\": {\"x\": [.52, 1]},\n",
    "      \"name\": \"CO2 Emissions\",\n",
    "      \"hoverinfo\":\"label+percent+name\",\n",
    "      \"hole\": .4,\n",
    "      \"type\": \"pie\"\n",
    "    }],\n",
    "  \"layout\": {\n",
    "        \"title\":\"Global Emissions 1990-2011\",\n",
    "        \"annotations\": [\n",
    "            {\n",
    "                \"font\": {\n",
    "                    \"size\": 20\n",
    "                },\n",
    "                \"showarrow\": False,\n",
    "                \"text\": \"GHG\",\n",
    "                \"x\": 0.20,\n",
    "                \"y\": 0.5\n",
    "            },\n",
    "            {\n",
    "                \"font\": {\n",
    "                    \"size\": 20\n",
    "                },\n",
    "                \"showarrow\": False,\n",
    "                \"text\": \"CO2\",\n",
    "                \"x\": 0.8,\n",
    "                \"y\": 0.5\n",
    "            }\n",
    "        ]\n",
    "    }\n",
    "}\n",
    "pyo.iplot(fig, filename='donut')"
   ]
  },
  {
   "cell_type": "markdown",
   "metadata": {},
   "source": [
    "# Pie Chart Subplots\n"
   ]
  },
  {
   "cell_type": "code",
   "execution_count": 5,
   "metadata": {},
   "outputs": [
    {
     "data": {
      "application/vnd.plotly.v1+json": {
       "config": {
        "linkText": "Export to plot.ly",
        "plotlyServerURL": "https://plot.ly",
        "showLink": false
       },
       "data": [
        {
         "domain": {
          "x": [
           0,
           0.48
          ],
          "y": [
           0,
           0.49
          ]
         },
         "hoverinfo": "label+percent+name",
         "labels": [
          "1st",
          "2nd",
          "3rd",
          "4th",
          "5th"
         ],
         "marker": {
          "colors": [
           "rgb(56, 75, 126)",
           "rgb(18, 36, 37)",
           "rgb(34, 53, 101)",
           "rgb(36, 55, 57)",
           "rgb(6, 4, 4)"
          ]
         },
         "name": "Starry Night",
         "textinfo": "none",
         "type": "pie",
         "uid": "1032c749-e673-4a2c-b5e0-dd54cdd3913f",
         "values": [
          38,
          27,
          18,
          10,
          7
         ]
        },
        {
         "domain": {
          "x": [
           0.52,
           1
          ],
          "y": [
           0,
           0.49
          ]
         },
         "hoverinfo": "label+percent+name",
         "labels": [
          "1st",
          "2nd",
          "3rd",
          "4th",
          "5th"
         ],
         "marker": {
          "colors": [
           "rgb(177, 127, 38)",
           "rgb(205, 152, 36)",
           "rgb(99, 79, 37)",
           "rgb(129, 180, 179)",
           "rgb(124, 103, 37)"
          ]
         },
         "name": "Sunflowers",
         "textinfo": "none",
         "type": "pie",
         "uid": "83abe5a6-36b1-48d0-b741-eeff43a00629",
         "values": [
          28,
          26,
          21,
          15,
          10
         ]
        },
        {
         "domain": {
          "x": [
           0,
           0.48
          ],
          "y": [
           0.51,
           1
          ]
         },
         "hoverinfo": "label+percent+name",
         "labels": [
          "1st",
          "2nd",
          "3rd",
          "4th",
          "5th"
         ],
         "marker": {
          "colors": [
           "rgb(33, 75, 99)",
           "rgb(79, 129, 102)",
           "rgb(151, 179, 100)",
           "rgb(175, 49, 35)",
           "rgb(36, 73, 147)"
          ]
         },
         "name": "Irises",
         "textinfo": "none",
         "type": "pie",
         "uid": "1560d448-9097-4832-8a0e-f32795220c34",
         "values": [
          38,
          19,
          16,
          14,
          13
         ]
        },
        {
         "domain": {
          "x": [
           0.52,
           1
          ],
          "y": [
           0.51,
           1
          ]
         },
         "hoverinfo": "label+percent+name",
         "labels": [
          "1st",
          "2nd",
          "3rd",
          "4th",
          "5th"
         ],
         "marker": {
          "colors": [
           "rgb(146, 123, 21)",
           "rgb(177, 180, 34)",
           "rgb(206, 206, 40)",
           "rgb(175, 51, 21)",
           "rgb(35, 36, 21)"
          ]
         },
         "name": "The Night Café",
         "textinfo": "none",
         "type": "pie",
         "uid": "4270f678-9499-4d18-a830-2ad2149e8925",
         "values": [
          31,
          24,
          19,
          18,
          8
         ]
        }
       ],
       "layout": {
        "showlegend": false,
        "title": {
         "text": "Van Gogh: 5 Most Prominent Colors Shown Proportionally"
        }
       }
      },
      "text/html": [
       "<div id=\"028e97de-9a72-406f-be41-62c54510b70f\" style=\"height: 525px; width: 100%;\" class=\"plotly-graph-div\"></div><script type=\"text/javascript\">require([\"plotly\"], function(Plotly) { window.PLOTLYENV=window.PLOTLYENV || {};window.PLOTLYENV.BASE_URL=\"https://plot.ly\";Plotly.newPlot(\"028e97de-9a72-406f-be41-62c54510b70f\", [{\"domain\": {\"x\": [0, 0.48], \"y\": [0, 0.49]}, \"hoverinfo\": \"label+percent+name\", \"labels\": [\"1st\", \"2nd\", \"3rd\", \"4th\", \"5th\"], \"marker\": {\"colors\": [\"rgb(56, 75, 126)\", \"rgb(18, 36, 37)\", \"rgb(34, 53, 101)\", \"rgb(36, 55, 57)\", \"rgb(6, 4, 4)\"]}, \"name\": \"Starry Night\", \"textinfo\": \"none\", \"values\": [38, 27, 18, 10, 7], \"type\": \"pie\", \"uid\": \"8987d35a-8cb5-4afe-a035-99ed70f7a1af\"}, {\"domain\": {\"x\": [0.52, 1], \"y\": [0, 0.49]}, \"hoverinfo\": \"label+percent+name\", \"labels\": [\"1st\", \"2nd\", \"3rd\", \"4th\", \"5th\"], \"marker\": {\"colors\": [\"rgb(177, 127, 38)\", \"rgb(205, 152, 36)\", \"rgb(99, 79, 37)\", \"rgb(129, 180, 179)\", \"rgb(124, 103, 37)\"]}, \"name\": \"Sunflowers\", \"textinfo\": \"none\", \"values\": [28, 26, 21, 15, 10], \"type\": \"pie\", \"uid\": \"40b74649-331a-4258-a37f-8baa02cdfe22\"}, {\"domain\": {\"x\": [0, 0.48], \"y\": [0.51, 1]}, \"hoverinfo\": \"label+percent+name\", \"labels\": [\"1st\", \"2nd\", \"3rd\", \"4th\", \"5th\"], \"marker\": {\"colors\": [\"rgb(33, 75, 99)\", \"rgb(79, 129, 102)\", \"rgb(151, 179, 100)\", \"rgb(175, 49, 35)\", \"rgb(36, 73, 147)\"]}, \"name\": \"Irises\", \"textinfo\": \"none\", \"values\": [38, 19, 16, 14, 13], \"type\": \"pie\", \"uid\": \"c13b0ec1-c428-4faf-9a6f-a49ecaf9468b\"}, {\"domain\": {\"x\": [0.52, 1], \"y\": [0.51, 1]}, \"hoverinfo\": \"label+percent+name\", \"labels\": [\"1st\", \"2nd\", \"3rd\", \"4th\", \"5th\"], \"marker\": {\"colors\": [\"rgb(146, 123, 21)\", \"rgb(177, 180, 34)\", \"rgb(206, 206, 40)\", \"rgb(175, 51, 21)\", \"rgb(35, 36, 21)\"]}, \"name\": \"The Night Caf\\u00e9\", \"textinfo\": \"none\", \"values\": [31, 24, 19, 18, 8], \"type\": \"pie\", \"uid\": \"d6ad19c5-9e9c-4fc3-8be6-c5edb1fe7cc8\"}], {\"showlegend\": false, \"title\": {\"text\": \"Van Gogh: 5 Most Prominent Colors Shown Proportionally\"}}, {\"showLink\": false, \"linkText\": \"Export to plot.ly\", \"plotlyServerURL\": \"https://plot.ly\"})});</script><script type=\"text/javascript\">window.addEventListener(\"resize\", function(){window._Plotly.Plots.resize(document.getElementById(\"028e97de-9a72-406f-be41-62c54510b70f\"));});</script>"
      ],
      "text/vnd.plotly.v1+html": [
       "<div id=\"028e97de-9a72-406f-be41-62c54510b70f\" style=\"height: 525px; width: 100%;\" class=\"plotly-graph-div\"></div><script type=\"text/javascript\">require([\"plotly\"], function(Plotly) { window.PLOTLYENV=window.PLOTLYENV || {};window.PLOTLYENV.BASE_URL=\"https://plot.ly\";Plotly.newPlot(\"028e97de-9a72-406f-be41-62c54510b70f\", [{\"domain\": {\"x\": [0, 0.48], \"y\": [0, 0.49]}, \"hoverinfo\": \"label+percent+name\", \"labels\": [\"1st\", \"2nd\", \"3rd\", \"4th\", \"5th\"], \"marker\": {\"colors\": [\"rgb(56, 75, 126)\", \"rgb(18, 36, 37)\", \"rgb(34, 53, 101)\", \"rgb(36, 55, 57)\", \"rgb(6, 4, 4)\"]}, \"name\": \"Starry Night\", \"textinfo\": \"none\", \"values\": [38, 27, 18, 10, 7], \"type\": \"pie\", \"uid\": \"8987d35a-8cb5-4afe-a035-99ed70f7a1af\"}, {\"domain\": {\"x\": [0.52, 1], \"y\": [0, 0.49]}, \"hoverinfo\": \"label+percent+name\", \"labels\": [\"1st\", \"2nd\", \"3rd\", \"4th\", \"5th\"], \"marker\": {\"colors\": [\"rgb(177, 127, 38)\", \"rgb(205, 152, 36)\", \"rgb(99, 79, 37)\", \"rgb(129, 180, 179)\", \"rgb(124, 103, 37)\"]}, \"name\": \"Sunflowers\", \"textinfo\": \"none\", \"values\": [28, 26, 21, 15, 10], \"type\": \"pie\", \"uid\": \"40b74649-331a-4258-a37f-8baa02cdfe22\"}, {\"domain\": {\"x\": [0, 0.48], \"y\": [0.51, 1]}, \"hoverinfo\": \"label+percent+name\", \"labels\": [\"1st\", \"2nd\", \"3rd\", \"4th\", \"5th\"], \"marker\": {\"colors\": [\"rgb(33, 75, 99)\", \"rgb(79, 129, 102)\", \"rgb(151, 179, 100)\", \"rgb(175, 49, 35)\", \"rgb(36, 73, 147)\"]}, \"name\": \"Irises\", \"textinfo\": \"none\", \"values\": [38, 19, 16, 14, 13], \"type\": \"pie\", \"uid\": \"c13b0ec1-c428-4faf-9a6f-a49ecaf9468b\"}, {\"domain\": {\"x\": [0.52, 1], \"y\": [0.51, 1]}, \"hoverinfo\": \"label+percent+name\", \"labels\": [\"1st\", \"2nd\", \"3rd\", \"4th\", \"5th\"], \"marker\": {\"colors\": [\"rgb(146, 123, 21)\", \"rgb(177, 180, 34)\", \"rgb(206, 206, 40)\", \"rgb(175, 51, 21)\", \"rgb(35, 36, 21)\"]}, \"name\": \"The Night Caf\\u00e9\", \"textinfo\": \"none\", \"values\": [31, 24, 19, 18, 8], \"type\": \"pie\", \"uid\": \"d6ad19c5-9e9c-4fc3-8be6-c5edb1fe7cc8\"}], {\"showlegend\": false, \"title\": {\"text\": \"Van Gogh: 5 Most Prominent Colors Shown Proportionally\"}}, {\"showLink\": false, \"linkText\": \"Export to plot.ly\", \"plotlyServerURL\": \"https://plot.ly\"})});</script><script type=\"text/javascript\">window.addEventListener(\"resize\", function(){window._Plotly.Plots.resize(document.getElementById(\"028e97de-9a72-406f-be41-62c54510b70f\"));});</script>"
      ]
     },
     "metadata": {},
     "output_type": "display_data"
    }
   ],
   "source": [
    "import plotly.graph_objs as go\n",
    "\n",
    "fig = {\n",
    "    'data': [\n",
    "        {\n",
    "            'labels': ['1st', '2nd', '3rd', '4th', '5th'],\n",
    "            'values': [38, 27, 18, 10, 7],\n",
    "            'type': 'pie',\n",
    "            'name': 'Starry Night',\n",
    "            'marker': {'colors': ['rgb(56, 75, 126)',\n",
    "                                  'rgb(18, 36, 37)',\n",
    "                                  'rgb(34, 53, 101)',\n",
    "                                  'rgb(36, 55, 57)',\n",
    "                                  'rgb(6, 4, 4)']},\n",
    "            'domain': {'x': [0, .48],\n",
    "                       'y': [0, .49]},\n",
    "            'hoverinfo':'label+percent+name',\n",
    "            'textinfo':'none'\n",
    "        },\n",
    "        {\n",
    "            'labels': ['1st', '2nd', '3rd', '4th', '5th'],\n",
    "            'values': [28, 26, 21, 15, 10],\n",
    "            'marker': {'colors': ['rgb(177, 127, 38)',\n",
    "                                  'rgb(205, 152, 36)',\n",
    "                                  'rgb(99, 79, 37)',\n",
    "                                  'rgb(129, 180, 179)',\n",
    "                                  'rgb(124, 103, 37)']},\n",
    "            'type': 'pie',\n",
    "            'name': 'Sunflowers',\n",
    "            'domain': {'x': [.52, 1],\n",
    "                       'y': [0, .49]},\n",
    "            'hoverinfo':'label+percent+name',\n",
    "            'textinfo':'none'\n",
    "\n",
    "        },\n",
    "        {\n",
    "            'labels': ['1st', '2nd', '3rd', '4th', '5th'],\n",
    "            'values': [38, 19, 16, 14, 13],\n",
    "            'marker': {'colors': ['rgb(33, 75, 99)',\n",
    "                                  'rgb(79, 129, 102)',\n",
    "                                  'rgb(151, 179, 100)',\n",
    "                                  'rgb(175, 49, 35)',\n",
    "                                  'rgb(36, 73, 147)']},\n",
    "            'type': 'pie',\n",
    "            'name': 'Irises',\n",
    "            'domain': {'x': [0, .48],\n",
    "                       'y': [.51, 1]},\n",
    "            'hoverinfo':'label+percent+name',\n",
    "            'textinfo':'none'\n",
    "        },\n",
    "        {\n",
    "            'labels': ['1st', '2nd', '3rd', '4th', '5th'],\n",
    "            'values': [31, 24, 19, 18, 8],\n",
    "            'marker': {'colors': ['rgb(146, 123, 21)',\n",
    "                                  'rgb(177, 180, 34)',\n",
    "                                  'rgb(206, 206, 40)',\n",
    "                                  'rgb(175, 51, 21)',\n",
    "                                  'rgb(35, 36, 21)']},\n",
    "            'type': 'pie',\n",
    "            'name':'The Night Café',\n",
    "            'domain': {'x': [.52, 1],\n",
    "                       'y': [.51, 1]},\n",
    "            'hoverinfo':'label+percent+name',\n",
    "            'textinfo':'none'\n",
    "        }\n",
    "    ],\n",
    "    'layout': {'title': 'Van Gogh: 5 Most Prominent Colors Shown Proportionally',\n",
    "               'showlegend': False}\n",
    "}\n",
    "\n",
    "pyo.iplot(fig, filename='pie_chart_subplots')"
   ]
  },
  {
   "cell_type": "code",
   "execution_count": null,
   "metadata": {},
   "outputs": [],
   "source": []
  }
 ],
 "metadata": {
  "kernelspec": {
   "display_name": "Python 3",
   "language": "python",
   "name": "python3"
  },
  "language_info": {
   "codemirror_mode": {
    "name": "ipython",
    "version": 3
   },
   "file_extension": ".py",
   "mimetype": "text/x-python",
   "name": "python",
   "nbconvert_exporter": "python",
   "pygments_lexer": "ipython3",
   "version": "3.6.8"
  }
 },
 "nbformat": 4,
 "nbformat_minor": 1
}
