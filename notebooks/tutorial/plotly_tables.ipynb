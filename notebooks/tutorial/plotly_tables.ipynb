{
 "cells": [
  {
   "cell_type": "markdown",
   "metadata": {},
   "source": [
    "# Tables in Python\n",
    "- https://plot.ly/python/table/"
   ]
  },
  {
   "cell_type": "code",
   "execution_count": 1,
   "metadata": {},
   "outputs": [
    {
     "data": {
      "text/html": [
       "<script type=\"text/javascript\">window.PlotlyConfig = {MathJaxConfig: 'local'};</script><script type=\"text/javascript\">if (window.MathJax) {MathJax.Hub.Config({SVG: {font: \"STIX-Web\"}});}</script><script>requirejs.config({paths: { 'plotly': ['https://cdn.plot.ly/plotly-latest.min']},});if(!window._Plotly) {require(['plotly'],function(plotly) {window._Plotly=plotly;});}</script>"
      ],
      "text/vnd.plotly.v1+html": [
       "<script type=\"text/javascript\">window.PlotlyConfig = {MathJaxConfig: 'local'};</script><script type=\"text/javascript\">if (window.MathJax) {MathJax.Hub.Config({SVG: {font: \"STIX-Web\"}});}</script><script>requirejs.config({paths: { 'plotly': ['https://cdn.plot.ly/plotly-latest.min']},});if(!window._Plotly) {require(['plotly'],function(plotly) {window._Plotly=plotly;});}</script>"
      ]
     },
     "metadata": {},
     "output_type": "display_data"
    }
   ],
   "source": [
    "import plotly\n",
    "import plotly.offline as pyo\n",
    "pyo.init_notebook_mode(connected=True)"
   ]
  },
  {
   "cell_type": "code",
   "execution_count": 2,
   "metadata": {},
   "outputs": [
    {
     "data": {
      "application/vnd.plotly.v1+json": {
       "config": {
        "linkText": "Export to plot.ly",
        "plotlyServerURL": "https://plot.ly",
        "showLink": false
       },
       "data": [
        {
         "cells": {
          "values": [
           [
            100,
            90,
            80,
            90
           ],
           [
            95,
            85,
            75,
            95
           ]
          ]
         },
         "header": {
          "values": [
           "A Scores",
           "B Scores"
          ]
         },
         "type": "table",
         "uid": "21f4ce6b-50da-416b-a788-15acf47b3217"
        }
       ],
       "layout": {}
      },
      "text/html": [
       "<div id=\"185a0acd-251e-49e6-9f65-ccadf562405d\" style=\"height: 525px; width: 100%;\" class=\"plotly-graph-div\"></div><script type=\"text/javascript\">require([\"plotly\"], function(Plotly) { window.PLOTLYENV=window.PLOTLYENV || {};window.PLOTLYENV.BASE_URL=\"https://plot.ly\";Plotly.newPlot(\"185a0acd-251e-49e6-9f65-ccadf562405d\", [{\"cells\": {\"values\": [[100, 90, 80, 90], [95, 85, 75, 95]]}, \"header\": {\"values\": [\"A Scores\", \"B Scores\"]}, \"type\": \"table\", \"uid\": \"21c68a84-608e-4a8d-8102-095b0bcbafca\"}], {}, {\"showLink\": false, \"linkText\": \"Export to plot.ly\", \"plotlyServerURL\": \"https://plot.ly\"})});</script><script type=\"text/javascript\">window.addEventListener(\"resize\", function(){window._Plotly.Plots.resize(document.getElementById(\"185a0acd-251e-49e6-9f65-ccadf562405d\"));});</script>"
      ],
      "text/vnd.plotly.v1+html": [
       "<div id=\"185a0acd-251e-49e6-9f65-ccadf562405d\" style=\"height: 525px; width: 100%;\" class=\"plotly-graph-div\"></div><script type=\"text/javascript\">require([\"plotly\"], function(Plotly) { window.PLOTLYENV=window.PLOTLYENV || {};window.PLOTLYENV.BASE_URL=\"https://plot.ly\";Plotly.newPlot(\"185a0acd-251e-49e6-9f65-ccadf562405d\", [{\"cells\": {\"values\": [[100, 90, 80, 90], [95, 85, 75, 95]]}, \"header\": {\"values\": [\"A Scores\", \"B Scores\"]}, \"type\": \"table\", \"uid\": \"21c68a84-608e-4a8d-8102-095b0bcbafca\"}], {}, {\"showLink\": false, \"linkText\": \"Export to plot.ly\", \"plotlyServerURL\": \"https://plot.ly\"})});</script><script type=\"text/javascript\">window.addEventListener(\"resize\", function(){window._Plotly.Plots.resize(document.getElementById(\"185a0acd-251e-49e6-9f65-ccadf562405d\"));});</script>"
      ]
     },
     "metadata": {},
     "output_type": "display_data"
    }
   ],
   "source": [
    "import plotly.graph_objs as go\n",
    "\n",
    "trace = go.Table(\n",
    "    header=dict(values=['A Scores', 'B Scores']),\n",
    "    cells=dict(values=[[100, 90, 80, 90],\n",
    "                       [95, 85, 75, 95]]))\n",
    "\n",
    "data = [trace] \n",
    "pyo.iplot(data, filename = 'basic_table')"
   ]
  },
  {
   "cell_type": "markdown",
   "metadata": {},
   "source": [
    "# Styled Table\n"
   ]
  },
  {
   "cell_type": "code",
   "execution_count": 3,
   "metadata": {},
   "outputs": [
    {
     "data": {
      "application/vnd.plotly.v1+json": {
       "config": {
        "linkText": "Export to plot.ly",
        "plotlyServerURL": "https://plot.ly",
        "showLink": false
       },
       "data": [
        {
         "cells": {
          "align": [
           "left",
           "left",
           "left",
           "left",
           "left"
          ],
          "fill": {
           "color": "#EDFAFF"
          },
          "line": {
           "color": "#7D7F80"
          },
          "values": [
           [
            100,
            90,
            80,
            90
           ],
           [
            95,
            85,
            75,
            95
           ]
          ]
         },
         "header": {
          "align": [
           "left",
           "left",
           "left",
           "left",
           "left"
          ],
          "fill": {
           "color": "#a1c3d1"
          },
          "line": {
           "color": "#7D7F80"
          },
          "values": [
           "A Scores",
           "B Scores"
          ]
         },
         "type": "table",
         "uid": "8a64fc70-1538-4064-9d73-52ec2dfcdb0d"
        }
       ],
       "layout": {
        "height": 300,
        "width": 500
       }
      },
      "text/html": [
       "<div id=\"2f57b070-3493-48ed-b3d1-b280416a048a\" style=\"height: 300px; width: 500px;\" class=\"plotly-graph-div\"></div><script type=\"text/javascript\">require([\"plotly\"], function(Plotly) { window.PLOTLYENV=window.PLOTLYENV || {};window.PLOTLYENV.BASE_URL=\"https://plot.ly\";Plotly.newPlot(\"2f57b070-3493-48ed-b3d1-b280416a048a\", [{\"cells\": {\"align\": [\"left\", \"left\", \"left\", \"left\", \"left\"], \"fill\": {\"color\": \"#EDFAFF\"}, \"line\": {\"color\": \"#7D7F80\"}, \"values\": [[100, 90, 80, 90], [95, 85, 75, 95]]}, \"header\": {\"align\": [\"left\", \"left\", \"left\", \"left\", \"left\"], \"fill\": {\"color\": \"#a1c3d1\"}, \"line\": {\"color\": \"#7D7F80\"}, \"values\": [\"A Scores\", \"B Scores\"]}, \"type\": \"table\", \"uid\": \"7a3837b2-a38a-414e-81bb-a7e99d653625\"}], {\"height\": 300, \"width\": 500}, {\"showLink\": false, \"linkText\": \"Export to plot.ly\", \"plotlyServerURL\": \"https://plot.ly\"})});</script>"
      ],
      "text/vnd.plotly.v1+html": [
       "<div id=\"2f57b070-3493-48ed-b3d1-b280416a048a\" style=\"height: 300px; width: 500px;\" class=\"plotly-graph-div\"></div><script type=\"text/javascript\">require([\"plotly\"], function(Plotly) { window.PLOTLYENV=window.PLOTLYENV || {};window.PLOTLYENV.BASE_URL=\"https://plot.ly\";Plotly.newPlot(\"2f57b070-3493-48ed-b3d1-b280416a048a\", [{\"cells\": {\"align\": [\"left\", \"left\", \"left\", \"left\", \"left\"], \"fill\": {\"color\": \"#EDFAFF\"}, \"line\": {\"color\": \"#7D7F80\"}, \"values\": [[100, 90, 80, 90], [95, 85, 75, 95]]}, \"header\": {\"align\": [\"left\", \"left\", \"left\", \"left\", \"left\"], \"fill\": {\"color\": \"#a1c3d1\"}, \"line\": {\"color\": \"#7D7F80\"}, \"values\": [\"A Scores\", \"B Scores\"]}, \"type\": \"table\", \"uid\": \"7a3837b2-a38a-414e-81bb-a7e99d653625\"}], {\"height\": 300, \"width\": 500}, {\"showLink\": false, \"linkText\": \"Export to plot.ly\", \"plotlyServerURL\": \"https://plot.ly\"})});</script>"
      ]
     },
     "metadata": {},
     "output_type": "display_data"
    }
   ],
   "source": [
    "import plotly.graph_objs as go\n",
    "\n",
    "trace = go.Table(\n",
    "    header=dict(values=['A Scores', 'B Scores'],\n",
    "                line = dict(color='#7D7F80'),\n",
    "                fill = dict(color='#a1c3d1'),\n",
    "                align = ['left'] * 5),\n",
    "    cells=dict(values=[[100, 90, 80, 90],\n",
    "                       [95, 85, 75, 95]],\n",
    "               line = dict(color='#7D7F80'),\n",
    "               fill = dict(color='#EDFAFF'),\n",
    "               align = ['left'] * 5))\n",
    "\n",
    "layout = dict(width=500, height=300)\n",
    "data = [trace]\n",
    "fig = dict(data=data, layout=layout)\n",
    "pyo.iplot(fig, filename = 'styled_table')"
   ]
  },
  {
   "cell_type": "markdown",
   "metadata": {},
   "source": [
    "# Use a Panda's Dataframe\n"
   ]
  },
  {
   "cell_type": "code",
   "execution_count": 4,
   "metadata": {},
   "outputs": [
    {
     "data": {
      "application/vnd.plotly.v1+json": {
       "config": {
        "linkText": "Export to plot.ly",
        "plotlyServerURL": "https://plot.ly",
        "showLink": false
       },
       "data": [
        {
         "cells": {
          "align": [
           "left",
           "left",
           "left",
           "left",
           "left"
          ],
          "fill": {
           "color": "#F5F8FF"
          },
          "values": [
           [
            1,
            2,
            3,
            4,
            5,
            6,
            7,
            8,
            9,
            10,
            11,
            12,
            13,
            14,
            15,
            16,
            17,
            18,
            19,
            20,
            21,
            22,
            23,
            24,
            25,
            26,
            27,
            28,
            29,
            30,
            31,
            32,
            33,
            34,
            35,
            36,
            37,
            38,
            39,
            40,
            41,
            42,
            43,
            44,
            45,
            46,
            47,
            48,
            49,
            50,
            51,
            52
           ],
           [
            "Alabama",
            "Alaska",
            "Arizona",
            "Arkansas",
            "California",
            "Colorado",
            "Connecticut",
            "Delaware",
            "District of Columbia",
            "Florida",
            "Georgia",
            "Hawaii",
            "Idaho",
            "Illinois",
            "Indiana",
            "Iowa",
            "Kansas",
            "Kentucky",
            "Louisiana",
            "Maine",
            "Maryland",
            "Massachusetts",
            "Michigan",
            "Minnesota",
            "Mississippi",
            "Missouri",
            "Montana",
            "Nebraska",
            "Nevada",
            "New Hampshire",
            "New Jersey",
            "New Mexico",
            "New York",
            "North Carolina",
            "North Dakota",
            "Ohio",
            "Oklahoma",
            "Oregon",
            "Pennsylvania",
            "Puerto Rico",
            "Rhode Island",
            "South Carolina",
            "South Dakota",
            "Tennessee",
            "Texas",
            "Utah",
            "Vermont",
            "Virginia",
            "Washington",
            "West Virginia",
            "Wisconsin",
            "Wyoming"
           ],
           [
            "AL",
            "AK",
            "AZ",
            "AR",
            "CA",
            "CO",
            "CT",
            "DE",
            "DC",
            "FL",
            "GA",
            "HI",
            "ID",
            "IL",
            "IN",
            "IA",
            "KS",
            "KY",
            "LA",
            "ME",
            "MD",
            "MA",
            "MI",
            "MN",
            "MS",
            "MO",
            "MT",
            "NE",
            "NV",
            "NH",
            "NJ",
            "NM",
            "NY",
            "NC",
            "ND",
            "OH",
            "OK",
            "OR",
            "PA",
            "PR",
            "RI",
            "SC",
            "SD",
            "TN",
            "TX",
            "UT",
            "VT",
            "VA",
            "WA",
            "WV",
            "WI",
            "WY"
           ],
           [
            4849377,
            736732,
            6731484,
            2966369,
            38802500,
            5355866,
            3596677,
            935614,
            658893,
            19893297,
            10097343,
            1419561,
            1634464,
            12880580,
            6596855,
            3107126,
            2904021,
            4413457,
            4649676,
            1330089,
            5976407,
            6745408,
            9909877,
            5457173,
            2994079,
            6063589,
            1023579,
            1881503,
            2839098,
            1326813,
            8938175,
            2085572,
            19746227,
            9943964,
            739482,
            11594163,
            3878051,
            3970239,
            12787209,
            3548397,
            1055173,
            4832482,
            853175,
            6549352,
            26956958,
            2942902,
            626562,
            8326289,
            7061530,
            1850326,
            5757564,
            584153
           ]
          ]
         },
         "header": {
          "align": [
           "left",
           "left",
           "left",
           "left",
           "left"
          ],
          "fill": {
           "color": "#C2D4FF"
          },
          "values": [
           "Rank",
           "State",
           "Postal",
           "Population"
          ]
         },
         "type": "table",
         "uid": "8043ab37-8244-40a9-a8f8-b97a3af7c53f"
        }
       ],
       "layout": {}
      },
      "text/html": [
       "<div id=\"a9e424e2-b023-4b1b-87ff-1f02668be39e\" style=\"height: 525px; width: 100%;\" class=\"plotly-graph-div\"></div><script type=\"text/javascript\">require([\"plotly\"], function(Plotly) { window.PLOTLYENV=window.PLOTLYENV || {};window.PLOTLYENV.BASE_URL=\"https://plot.ly\";Plotly.newPlot(\"a9e424e2-b023-4b1b-87ff-1f02668be39e\", [{\"cells\": {\"align\": [\"left\", \"left\", \"left\", \"left\", \"left\"], \"fill\": {\"color\": \"#F5F8FF\"}, \"values\": [[1, 2, 3, 4, 5, 6, 7, 8, 9, 10, 11, 12, 13, 14, 15, 16, 17, 18, 19, 20, 21, 22, 23, 24, 25, 26, 27, 28, 29, 30, 31, 32, 33, 34, 35, 36, 37, 38, 39, 40, 41, 42, 43, 44, 45, 46, 47, 48, 49, 50, 51, 52], [\"Alabama\", \"Alaska\", \"Arizona\", \"Arkansas\", \"California\", \"Colorado\", \"Connecticut\", \"Delaware\", \"District of Columbia\", \"Florida\", \"Georgia\", \"Hawaii\", \"Idaho\", \"Illinois\", \"Indiana\", \"Iowa\", \"Kansas\", \"Kentucky\", \"Louisiana\", \"Maine\", \"Maryland\", \"Massachusetts\", \"Michigan\", \"Minnesota\", \"Mississippi\", \"Missouri\", \"Montana\", \"Nebraska\", \"Nevada\", \"New Hampshire\", \"New Jersey\", \"New Mexico\", \"New York\", \"North Carolina\", \"North Dakota\", \"Ohio\", \"Oklahoma\", \"Oregon\", \"Pennsylvania\", \"Puerto Rico\", \"Rhode Island\", \"South Carolina\", \"South Dakota\", \"Tennessee\", \"Texas\", \"Utah\", \"Vermont\", \"Virginia\", \"Washington\", \"West Virginia\", \"Wisconsin\", \"Wyoming\"], [\"AL\", \"AK\", \"AZ\", \"AR\", \"CA\", \"CO\", \"CT\", \"DE\", \"DC\", \"FL\", \"GA\", \"HI\", \"ID\", \"IL\", \"IN\", \"IA\", \"KS\", \"KY\", \"LA\", \"ME\", \"MD\", \"MA\", \"MI\", \"MN\", \"MS\", \"MO\", \"MT\", \"NE\", \"NV\", \"NH\", \"NJ\", \"NM\", \"NY\", \"NC\", \"ND\", \"OH\", \"OK\", \"OR\", \"PA\", \"PR\", \"RI\", \"SC\", \"SD\", \"TN\", \"TX\", \"UT\", \"VT\", \"VA\", \"WA\", \"WV\", \"WI\", \"WY\"], [4849377.0, 736732.0, 6731484.0, 2966369.0, 38802500.0, 5355866.0, 3596677.0, 935614.0, 658893.0, 19893297.0, 10097343.0, 1419561.0, 1634464.0, 12880580.0, 6596855.0, 3107126.0, 2904021.0, 4413457.0, 4649676.0, 1330089.0, 5976407.0, 6745408.0, 9909877.0, 5457173.0, 2994079.0, 6063589.0, 1023579.0, 1881503.0, 2839098.0, 1326813.0, 8938175.0, 2085572.0, 19746227.0, 9943964.0, 739482.0, 11594163.0, 3878051.0, 3970239.0, 12787209.0, 3548397.0, 1055173.0, 4832482.0, 853175.0, 6549352.0, 26956958.0, 2942902.0, 626562.0, 8326289.0, 7061530.0, 1850326.0, 5757564.0, 584153.0]]}, \"header\": {\"align\": [\"left\", \"left\", \"left\", \"left\", \"left\"], \"fill\": {\"color\": \"#C2D4FF\"}, \"values\": [\"Rank\", \"State\", \"Postal\", \"Population\"]}, \"type\": \"table\", \"uid\": \"e9b89999-fd9f-45a4-9653-80891f08731d\"}], {}, {\"showLink\": false, \"linkText\": \"Export to plot.ly\", \"plotlyServerURL\": \"https://plot.ly\"})});</script><script type=\"text/javascript\">window.addEventListener(\"resize\", function(){window._Plotly.Plots.resize(document.getElementById(\"a9e424e2-b023-4b1b-87ff-1f02668be39e\"));});</script>"
      ],
      "text/vnd.plotly.v1+html": [
       "<div id=\"a9e424e2-b023-4b1b-87ff-1f02668be39e\" style=\"height: 525px; width: 100%;\" class=\"plotly-graph-div\"></div><script type=\"text/javascript\">require([\"plotly\"], function(Plotly) { window.PLOTLYENV=window.PLOTLYENV || {};window.PLOTLYENV.BASE_URL=\"https://plot.ly\";Plotly.newPlot(\"a9e424e2-b023-4b1b-87ff-1f02668be39e\", [{\"cells\": {\"align\": [\"left\", \"left\", \"left\", \"left\", \"left\"], \"fill\": {\"color\": \"#F5F8FF\"}, \"values\": [[1, 2, 3, 4, 5, 6, 7, 8, 9, 10, 11, 12, 13, 14, 15, 16, 17, 18, 19, 20, 21, 22, 23, 24, 25, 26, 27, 28, 29, 30, 31, 32, 33, 34, 35, 36, 37, 38, 39, 40, 41, 42, 43, 44, 45, 46, 47, 48, 49, 50, 51, 52], [\"Alabama\", \"Alaska\", \"Arizona\", \"Arkansas\", \"California\", \"Colorado\", \"Connecticut\", \"Delaware\", \"District of Columbia\", \"Florida\", \"Georgia\", \"Hawaii\", \"Idaho\", \"Illinois\", \"Indiana\", \"Iowa\", \"Kansas\", \"Kentucky\", \"Louisiana\", \"Maine\", \"Maryland\", \"Massachusetts\", \"Michigan\", \"Minnesota\", \"Mississippi\", \"Missouri\", \"Montana\", \"Nebraska\", \"Nevada\", \"New Hampshire\", \"New Jersey\", \"New Mexico\", \"New York\", \"North Carolina\", \"North Dakota\", \"Ohio\", \"Oklahoma\", \"Oregon\", \"Pennsylvania\", \"Puerto Rico\", \"Rhode Island\", \"South Carolina\", \"South Dakota\", \"Tennessee\", \"Texas\", \"Utah\", \"Vermont\", \"Virginia\", \"Washington\", \"West Virginia\", \"Wisconsin\", \"Wyoming\"], [\"AL\", \"AK\", \"AZ\", \"AR\", \"CA\", \"CO\", \"CT\", \"DE\", \"DC\", \"FL\", \"GA\", \"HI\", \"ID\", \"IL\", \"IN\", \"IA\", \"KS\", \"KY\", \"LA\", \"ME\", \"MD\", \"MA\", \"MI\", \"MN\", \"MS\", \"MO\", \"MT\", \"NE\", \"NV\", \"NH\", \"NJ\", \"NM\", \"NY\", \"NC\", \"ND\", \"OH\", \"OK\", \"OR\", \"PA\", \"PR\", \"RI\", \"SC\", \"SD\", \"TN\", \"TX\", \"UT\", \"VT\", \"VA\", \"WA\", \"WV\", \"WI\", \"WY\"], [4849377.0, 736732.0, 6731484.0, 2966369.0, 38802500.0, 5355866.0, 3596677.0, 935614.0, 658893.0, 19893297.0, 10097343.0, 1419561.0, 1634464.0, 12880580.0, 6596855.0, 3107126.0, 2904021.0, 4413457.0, 4649676.0, 1330089.0, 5976407.0, 6745408.0, 9909877.0, 5457173.0, 2994079.0, 6063589.0, 1023579.0, 1881503.0, 2839098.0, 1326813.0, 8938175.0, 2085572.0, 19746227.0, 9943964.0, 739482.0, 11594163.0, 3878051.0, 3970239.0, 12787209.0, 3548397.0, 1055173.0, 4832482.0, 853175.0, 6549352.0, 26956958.0, 2942902.0, 626562.0, 8326289.0, 7061530.0, 1850326.0, 5757564.0, 584153.0]]}, \"header\": {\"align\": [\"left\", \"left\", \"left\", \"left\", \"left\"], \"fill\": {\"color\": \"#C2D4FF\"}, \"values\": [\"Rank\", \"State\", \"Postal\", \"Population\"]}, \"type\": \"table\", \"uid\": \"e9b89999-fd9f-45a4-9653-80891f08731d\"}], {}, {\"showLink\": false, \"linkText\": \"Export to plot.ly\", \"plotlyServerURL\": \"https://plot.ly\"})});</script><script type=\"text/javascript\">window.addEventListener(\"resize\", function(){window._Plotly.Plots.resize(document.getElementById(\"a9e424e2-b023-4b1b-87ff-1f02668be39e\"));});</script>"
      ]
     },
     "metadata": {},
     "output_type": "display_data"
    }
   ],
   "source": [
    "import plotly.graph_objs as go\n",
    "\n",
    "import pandas as pd\n",
    "\n",
    "df = pd.read_csv('https://raw.githubusercontent.com/plotly/datasets/master/2014_usa_states.csv')\n",
    "\n",
    "trace = go.Table(\n",
    "    header=dict(values=list(df.columns),\n",
    "                fill = dict(color='#C2D4FF'),\n",
    "                align = ['left'] * 5),\n",
    "    cells=dict(values=[df.Rank, df.State, df.Postal, df.Population],\n",
    "               fill = dict(color='#F5F8FF'),\n",
    "               align = ['left'] * 5))\n",
    "\n",
    "data = [trace] \n",
    "pyo.iplot(data, filename = 'pandas_table')"
   ]
  },
  {
   "cell_type": "markdown",
   "metadata": {},
   "source": [
    "# Changing Row and Column Size"
   ]
  },
  {
   "cell_type": "code",
   "execution_count": 5,
   "metadata": {},
   "outputs": [
    {
     "data": {
      "application/vnd.plotly.v1+json": {
       "config": {
        "linkText": "Export to plot.ly",
        "plotlyServerURL": "https://plot.ly",
        "showLink": false
       },
       "data": [
        {
         "cells": {
          "align": [
           "left",
           "center"
          ],
          "fill": {
           "color": [
            "#25FEFD",
            "white"
           ]
          },
          "font": {
           "color": "#506784",
           "size": 12
          },
          "height": 30,
          "line": {
           "color": "#506784"
          },
          "values": [
           [
            [
             "Salaries",
             "Office",
             "Merchandise",
             "Legal",
             "<b>TOTAL<br>EXPENSES</b>"
            ]
           ],
           [
            [
             "Lorem ipsum dolor sit amet, tollit discere inermis pri ut. Eos ea iusto timeam, an prima laboramus vim. Id usu aeterno adversarium, summo mollis timeam vel ad",
             "Lorem ipsum dolor sit amet, tollit discere inermis pri ut. Eos ea iusto timeam, an prima laboramus vim. Id usu aeterno adversarium, summo mollis timeam vel ad",
             "Lorem ipsum dolor sit amet, tollit discere inermis pri ut. Eos ea iusto timeam, an prima laboramus vim. Id usu aeterno adversarium, summo mollis timeam vel ad",
             "Lorem ipsum dolor sit amet, tollit discere inermis pri ut. Eos ea iusto timeam, an prima laboramus vim. Id usu aeterno adversarium, summo mollis timeam vel ad",
             "Lorem ipsum dolor sit amet, tollit discere inermis pri ut. Eos ea iusto timeam, an prima laboramus vim. Id usu aeterno adversarium, summo mollis timeam vel ad"
            ]
           ]
          ]
         },
         "columnorder": [
          1,
          2
         ],
         "columnwidth": [
          80,
          400
         ],
         "header": {
          "align": [
           "left",
           "center"
          ],
          "fill": {
           "color": "#119DFF"
          },
          "font": {
           "color": "white",
           "size": 12
          },
          "height": 40,
          "line": {
           "color": "#506784"
          },
          "values": [
           [
            "<b>EXPENSES</b><br>as of July 2017"
           ],
           [
            "<b>DESCRIPTION</b>"
           ]
          ]
         },
         "type": "table",
         "uid": "ba84f7fe-3b83-436b-b01f-498cde9ece28"
        }
       ],
       "layout": {}
      },
      "text/html": [
       "<div id=\"1a10d1cb-87d2-433a-b8cf-ee1c40775390\" style=\"height: 525px; width: 100%;\" class=\"plotly-graph-div\"></div><script type=\"text/javascript\">require([\"plotly\"], function(Plotly) { window.PLOTLYENV=window.PLOTLYENV || {};window.PLOTLYENV.BASE_URL=\"https://plot.ly\";Plotly.newPlot(\"1a10d1cb-87d2-433a-b8cf-ee1c40775390\", [{\"cells\": {\"align\": [\"left\", \"center\"], \"fill\": {\"color\": [\"#25FEFD\", \"white\"]}, \"font\": {\"color\": \"#506784\", \"size\": 12}, \"height\": 30, \"line\": {\"color\": \"#506784\"}, \"values\": [[[\"Salaries\", \"Office\", \"Merchandise\", \"Legal\", \"<b>TOTAL<br>EXPENSES</b>\"]], [[\"Lorem ipsum dolor sit amet, tollit discere inermis pri ut. Eos ea iusto timeam, an prima laboramus vim. Id usu aeterno adversarium, summo mollis timeam vel ad\", \"Lorem ipsum dolor sit amet, tollit discere inermis pri ut. Eos ea iusto timeam, an prima laboramus vim. Id usu aeterno adversarium, summo mollis timeam vel ad\", \"Lorem ipsum dolor sit amet, tollit discere inermis pri ut. Eos ea iusto timeam, an prima laboramus vim. Id usu aeterno adversarium, summo mollis timeam vel ad\", \"Lorem ipsum dolor sit amet, tollit discere inermis pri ut. Eos ea iusto timeam, an prima laboramus vim. Id usu aeterno adversarium, summo mollis timeam vel ad\", \"Lorem ipsum dolor sit amet, tollit discere inermis pri ut. Eos ea iusto timeam, an prima laboramus vim. Id usu aeterno adversarium, summo mollis timeam vel ad\"]]]}, \"columnorder\": [1, 2], \"columnwidth\": [80, 400], \"header\": {\"align\": [\"left\", \"center\"], \"fill\": {\"color\": \"#119DFF\"}, \"font\": {\"color\": \"white\", \"size\": 12}, \"height\": 40, \"line\": {\"color\": \"#506784\"}, \"values\": [[\"<b>EXPENSES</b><br>as of July 2017\"], [\"<b>DESCRIPTION</b>\"]]}, \"type\": \"table\", \"uid\": \"75e04d2a-e2d1-4ad0-bbdf-14c03a446a23\"}], {}, {\"showLink\": false, \"linkText\": \"Export to plot.ly\", \"plotlyServerURL\": \"https://plot.ly\"})});</script><script type=\"text/javascript\">window.addEventListener(\"resize\", function(){window._Plotly.Plots.resize(document.getElementById(\"1a10d1cb-87d2-433a-b8cf-ee1c40775390\"));});</script>"
      ],
      "text/vnd.plotly.v1+html": [
       "<div id=\"1a10d1cb-87d2-433a-b8cf-ee1c40775390\" style=\"height: 525px; width: 100%;\" class=\"plotly-graph-div\"></div><script type=\"text/javascript\">require([\"plotly\"], function(Plotly) { window.PLOTLYENV=window.PLOTLYENV || {};window.PLOTLYENV.BASE_URL=\"https://plot.ly\";Plotly.newPlot(\"1a10d1cb-87d2-433a-b8cf-ee1c40775390\", [{\"cells\": {\"align\": [\"left\", \"center\"], \"fill\": {\"color\": [\"#25FEFD\", \"white\"]}, \"font\": {\"color\": \"#506784\", \"size\": 12}, \"height\": 30, \"line\": {\"color\": \"#506784\"}, \"values\": [[[\"Salaries\", \"Office\", \"Merchandise\", \"Legal\", \"<b>TOTAL<br>EXPENSES</b>\"]], [[\"Lorem ipsum dolor sit amet, tollit discere inermis pri ut. Eos ea iusto timeam, an prima laboramus vim. Id usu aeterno adversarium, summo mollis timeam vel ad\", \"Lorem ipsum dolor sit amet, tollit discere inermis pri ut. Eos ea iusto timeam, an prima laboramus vim. Id usu aeterno adversarium, summo mollis timeam vel ad\", \"Lorem ipsum dolor sit amet, tollit discere inermis pri ut. Eos ea iusto timeam, an prima laboramus vim. Id usu aeterno adversarium, summo mollis timeam vel ad\", \"Lorem ipsum dolor sit amet, tollit discere inermis pri ut. Eos ea iusto timeam, an prima laboramus vim. Id usu aeterno adversarium, summo mollis timeam vel ad\", \"Lorem ipsum dolor sit amet, tollit discere inermis pri ut. Eos ea iusto timeam, an prima laboramus vim. Id usu aeterno adversarium, summo mollis timeam vel ad\"]]]}, \"columnorder\": [1, 2], \"columnwidth\": [80, 400], \"header\": {\"align\": [\"left\", \"center\"], \"fill\": {\"color\": \"#119DFF\"}, \"font\": {\"color\": \"white\", \"size\": 12}, \"height\": 40, \"line\": {\"color\": \"#506784\"}, \"values\": [[\"<b>EXPENSES</b><br>as of July 2017\"], [\"<b>DESCRIPTION</b>\"]]}, \"type\": \"table\", \"uid\": \"75e04d2a-e2d1-4ad0-bbdf-14c03a446a23\"}], {}, {\"showLink\": false, \"linkText\": \"Export to plot.ly\", \"plotlyServerURL\": \"https://plot.ly\"})});</script><script type=\"text/javascript\">window.addEventListener(\"resize\", function(){window._Plotly.Plots.resize(document.getElementById(\"1a10d1cb-87d2-433a-b8cf-ee1c40775390\"));});</script>"
      ]
     },
     "metadata": {},
     "output_type": "display_data"
    }
   ],
   "source": [
    "import plotly.graph_objs as go\n",
    "\n",
    "values = [[['Salaries', 'Office', 'Merchandise', 'Legal', '<b>TOTAL<br>EXPENSES</b>']],\n",
    "[[\"Lorem ipsum dolor sit amet, tollit discere inermis pri ut. Eos ea iusto timeam, an prima laboramus vim. Id usu aeterno adversarium, summo mollis timeam vel ad\",\n",
    "  \"Lorem ipsum dolor sit amet, tollit discere inermis pri ut. Eos ea iusto timeam, an prima laboramus vim. Id usu aeterno adversarium, summo mollis timeam vel ad\",\n",
    "  \"Lorem ipsum dolor sit amet, tollit discere inermis pri ut. Eos ea iusto timeam, an prima laboramus vim. Id usu aeterno adversarium, summo mollis timeam vel ad\",\n",
    "  \"Lorem ipsum dolor sit amet, tollit discere inermis pri ut. Eos ea iusto timeam, an prima laboramus vim. Id usu aeterno adversarium, summo mollis timeam vel ad\",\n",
    "  \"Lorem ipsum dolor sit amet, tollit discere inermis pri ut. Eos ea iusto timeam, an prima laboramus vim. Id usu aeterno adversarium, summo mollis timeam vel ad\"]]]\n",
    "\n",
    "\n",
    "trace0 = go.Table(\n",
    "  columnorder = [1,2],\n",
    "  columnwidth = [80,400],\n",
    "  header = dict(\n",
    "    values = [['<b>EXPENSES</b><br>as of July 2017'],\n",
    "                  ['<b>DESCRIPTION</b>']],\n",
    "    line = dict(color = '#506784'),\n",
    "    fill = dict(color = '#119DFF'),\n",
    "    align = ['left','center'],\n",
    "    font = dict(color = 'white', size = 12),\n",
    "    height = 40\n",
    "  ),\n",
    "  cells = dict(\n",
    "    values = values,\n",
    "    line = dict(color = '#506784'),\n",
    "    fill = dict(color = ['#25FEFD', 'white']),\n",
    "    align = ['left', 'center'],\n",
    "    font = dict(color = '#506784', size = 12),\n",
    "    height = 30\n",
    "    ))\n",
    "\n",
    "data = [trace0]\n",
    "\n",
    "pyo.iplot(data, filename = \"Row and Column Size\")"
   ]
  },
  {
   "cell_type": "markdown",
   "metadata": {},
   "source": [
    "# Alternating Row Colors\n"
   ]
  },
  {
   "cell_type": "code",
   "execution_count": 6,
   "metadata": {},
   "outputs": [
    {
     "data": {
      "application/vnd.plotly.v1+json": {
       "config": {
        "linkText": "Export to plot.ly",
        "plotlyServerURL": "https://plot.ly",
        "showLink": false
       },
       "data": [
        {
         "cells": {
          "align": [
           "left",
           "center"
          ],
          "fill": {
           "color": [
            "white",
            "lightgrey",
            "white",
            "lightgrey",
            "white"
           ]
          },
          "font": {
           "color": "#506784",
           "size": 11
          },
          "line": {
           "color": "#506784"
          },
          "values": [
           [
            [
             "Salaries",
             "Office",
             "Merchandise",
             "Legal",
             "<b>TOTAL</b>"
            ]
           ],
           [
            [
             1200000,
             20000,
             80000,
             2000,
             12120000
            ]
           ],
           [
            [
             1300000,
             20000,
             70000,
             2000,
             130902000
            ]
           ],
           [
            [
             1300000,
             20000,
             120000,
             2000,
             131222000
            ]
           ],
           [
            [
             1400000,
             20000,
             90000,
             2000,
             14102000
            ]
           ]
          ]
         },
         "header": {
          "align": [
           "left",
           "center"
          ],
          "fill": {
           "color": "grey"
          },
          "font": {
           "color": "white",
           "size": 12
          },
          "line": {
           "color": "#506784"
          },
          "values": [
           [
            "<b>EXPENSES</b>"
           ],
           [
            "<b>Q1</b>"
           ],
           [
            "<b>Q2</b>"
           ],
           [
            "<b>Q3</b>"
           ],
           [
            "<b>Q4</b>"
           ]
          ]
         },
         "type": "table",
         "uid": "866b1dfa-8893-489d-9c63-148b15207425"
        }
       ],
       "layout": {}
      },
      "text/html": [
       "<div id=\"297f5a3f-e3fa-43b5-82d7-fcbb0dcdb88e\" style=\"height: 525px; width: 100%;\" class=\"plotly-graph-div\"></div><script type=\"text/javascript\">require([\"plotly\"], function(Plotly) { window.PLOTLYENV=window.PLOTLYENV || {};window.PLOTLYENV.BASE_URL=\"https://plot.ly\";Plotly.newPlot(\"297f5a3f-e3fa-43b5-82d7-fcbb0dcdb88e\", [{\"cells\": {\"align\": [\"left\", \"center\"], \"fill\": {\"color\": [\"white\", \"lightgrey\", \"white\", \"lightgrey\", \"white\"]}, \"font\": {\"color\": \"#506784\", \"size\": 11}, \"line\": {\"color\": \"#506784\"}, \"values\": [[[\"Salaries\", \"Office\", \"Merchandise\", \"Legal\", \"<b>TOTAL</b>\"]], [[1200000, 20000, 80000, 2000, 12120000]], [[1300000, 20000, 70000, 2000, 130902000]], [[1300000, 20000, 120000, 2000, 131222000]], [[1400000, 20000, 90000, 2000, 14102000]]]}, \"header\": {\"align\": [\"left\", \"center\"], \"fill\": {\"color\": \"grey\"}, \"font\": {\"color\": \"white\", \"size\": 12}, \"line\": {\"color\": \"#506784\"}, \"values\": [[\"<b>EXPENSES</b>\"], [\"<b>Q1</b>\"], [\"<b>Q2</b>\"], [\"<b>Q3</b>\"], [\"<b>Q4</b>\"]]}, \"type\": \"table\", \"uid\": \"3d7edd10-a0d3-44b2-ae79-4ab4857b621d\"}], {}, {\"showLink\": false, \"linkText\": \"Export to plot.ly\", \"plotlyServerURL\": \"https://plot.ly\"})});</script><script type=\"text/javascript\">window.addEventListener(\"resize\", function(){window._Plotly.Plots.resize(document.getElementById(\"297f5a3f-e3fa-43b5-82d7-fcbb0dcdb88e\"));});</script>"
      ],
      "text/vnd.plotly.v1+html": [
       "<div id=\"297f5a3f-e3fa-43b5-82d7-fcbb0dcdb88e\" style=\"height: 525px; width: 100%;\" class=\"plotly-graph-div\"></div><script type=\"text/javascript\">require([\"plotly\"], function(Plotly) { window.PLOTLYENV=window.PLOTLYENV || {};window.PLOTLYENV.BASE_URL=\"https://plot.ly\";Plotly.newPlot(\"297f5a3f-e3fa-43b5-82d7-fcbb0dcdb88e\", [{\"cells\": {\"align\": [\"left\", \"center\"], \"fill\": {\"color\": [\"white\", \"lightgrey\", \"white\", \"lightgrey\", \"white\"]}, \"font\": {\"color\": \"#506784\", \"size\": 11}, \"line\": {\"color\": \"#506784\"}, \"values\": [[[\"Salaries\", \"Office\", \"Merchandise\", \"Legal\", \"<b>TOTAL</b>\"]], [[1200000, 20000, 80000, 2000, 12120000]], [[1300000, 20000, 70000, 2000, 130902000]], [[1300000, 20000, 120000, 2000, 131222000]], [[1400000, 20000, 90000, 2000, 14102000]]]}, \"header\": {\"align\": [\"left\", \"center\"], \"fill\": {\"color\": \"grey\"}, \"font\": {\"color\": \"white\", \"size\": 12}, \"line\": {\"color\": \"#506784\"}, \"values\": [[\"<b>EXPENSES</b>\"], [\"<b>Q1</b>\"], [\"<b>Q2</b>\"], [\"<b>Q3</b>\"], [\"<b>Q4</b>\"]]}, \"type\": \"table\", \"uid\": \"3d7edd10-a0d3-44b2-ae79-4ab4857b621d\"}], {}, {\"showLink\": false, \"linkText\": \"Export to plot.ly\", \"plotlyServerURL\": \"https://plot.ly\"})});</script><script type=\"text/javascript\">window.addEventListener(\"resize\", function(){window._Plotly.Plots.resize(document.getElementById(\"297f5a3f-e3fa-43b5-82d7-fcbb0dcdb88e\"));});</script>"
      ]
     },
     "metadata": {},
     "output_type": "display_data"
    }
   ],
   "source": [
    "import plotly.graph_objs as go\n",
    "\n",
    "headerColor = 'grey'\n",
    "rowEvenColor = 'lightgrey'\n",
    "rowOddColor = 'white'\n",
    "\n",
    "trace0 = go.Table(\n",
    "  header = dict(\n",
    "    values = [['<b>EXPENSES</b>'],\n",
    "                  ['<b>Q1</b>'],\n",
    "                  ['<b>Q2</b>'],\n",
    "                  ['<b>Q3</b>'],\n",
    "                  ['<b>Q4</b>']],\n",
    "    line = dict(color = '#506784'),\n",
    "    fill = dict(color = headerColor),\n",
    "    align = ['left','center'],\n",
    "    font = dict(color = 'white', size = 12)\n",
    "  ),\n",
    "  cells = dict(\n",
    "    values = [\n",
    "      [['Salaries', 'Office', 'Merchandise', 'Legal', '<b>TOTAL</b>']],\n",
    "      [[1200000, 20000, 80000, 2000, 12120000]],\n",
    "      [[1300000, 20000, 70000, 2000, 130902000]],\n",
    "      [[1300000, 20000, 120000, 2000, 131222000]],\n",
    "      [[1400000, 20000, 90000, 2000, 14102000]]],\n",
    "    line = dict(color = '#506784'),\n",
    "    fill = dict(color = [rowOddColor,rowEvenColor,rowOddColor, rowEvenColor,rowOddColor]),\n",
    "    align = ['left', 'center'],\n",
    "    font = dict(color = '#506784', size = 11)\n",
    "    ))\n",
    "\n",
    "data = [trace0]\n",
    "\n",
    "pyo.iplot(data, filename = \"alternating row colors\")"
   ]
  },
  {
   "cell_type": "markdown",
   "metadata": {},
   "source": [
    "# Row Color Based on Variable"
   ]
  },
  {
   "cell_type": "code",
   "execution_count": 8,
   "metadata": {},
   "outputs": [],
   "source": [
    "#!pip install colorlover"
   ]
  },
  {
   "cell_type": "code",
   "execution_count": 9,
   "metadata": {},
   "outputs": [
    {
     "data": {
      "application/vnd.plotly.v1+json": {
       "config": {
        "linkText": "Export to plot.ly",
        "plotlyServerURL": "https://plot.ly",
        "showLink": false
       },
       "data": [
        {
         "cells": {
          "align": "center",
          "fill": {
           "color": [
            [
             "rgb(239,243,255)",
             "rgb(189,215,231)",
             "rgb(107,174,214)",
             "rgb(49,130,189)",
             "rgb(8,81,156)"
            ]
           ]
          },
          "font": {
           "color": "black",
           "size": 11
          },
          "line": {
           "color": [
            [
             "rgb(239,243,255)",
             "rgb(189,215,231)",
             "rgb(107,174,214)",
             "rgb(49,130,189)",
             "rgb(8,81,156)"
            ]
           ]
          },
          "values": [
           [
            "rgb(239,243,255)",
            "rgb(189,215,231)",
            "rgb(107,174,214)",
            "rgb(49,130,189)",
            "rgb(8,81,156)"
           ],
           [
            2010,
            2011,
            2012,
            2013,
            2014
           ]
          ]
         },
         "header": {
          "align": [
           "center"
          ],
          "fill": {
           "color": "white"
          },
          "font": {
           "color": "black",
           "size": 12
          },
          "line": {
           "color": "white"
          },
          "values": [
           "Color",
           "<b>YEAR</b>"
          ]
         },
         "type": "table",
         "uid": "01cb851d-ae95-4358-9d96-cf3cdb5f92d5"
        }
       ],
       "layout": {}
      },
      "text/html": [
       "<div id=\"2362ac81-0659-4da0-864b-8a36091ade25\" style=\"height: 525px; width: 100%;\" class=\"plotly-graph-div\"></div><script type=\"text/javascript\">require([\"plotly\"], function(Plotly) { window.PLOTLYENV=window.PLOTLYENV || {};window.PLOTLYENV.BASE_URL=\"https://plot.ly\";Plotly.newPlot(\"2362ac81-0659-4da0-864b-8a36091ade25\", [{\"cells\": {\"align\": \"center\", \"fill\": {\"color\": [[\"rgb(239,243,255)\", \"rgb(189,215,231)\", \"rgb(107,174,214)\", \"rgb(49,130,189)\", \"rgb(8,81,156)\"]]}, \"font\": {\"color\": \"black\", \"size\": 11}, \"line\": {\"color\": [[\"rgb(239,243,255)\", \"rgb(189,215,231)\", \"rgb(107,174,214)\", \"rgb(49,130,189)\", \"rgb(8,81,156)\"]]}, \"values\": [[\"rgb(239,243,255)\", \"rgb(189,215,231)\", \"rgb(107,174,214)\", \"rgb(49,130,189)\", \"rgb(8,81,156)\"], [2010, 2011, 2012, 2013, 2014]]}, \"header\": {\"align\": [\"center\"], \"fill\": {\"color\": \"white\"}, \"font\": {\"color\": \"black\", \"size\": 12}, \"line\": {\"color\": \"white\"}, \"values\": [\"Color\", \"<b>YEAR</b>\"]}, \"type\": \"table\", \"uid\": \"654dc2ee-1778-44da-b679-c6fb9378a303\"}], {}, {\"showLink\": false, \"linkText\": \"Export to plot.ly\", \"plotlyServerURL\": \"https://plot.ly\"})});</script><script type=\"text/javascript\">window.addEventListener(\"resize\", function(){window._Plotly.Plots.resize(document.getElementById(\"2362ac81-0659-4da0-864b-8a36091ade25\"));});</script>"
      ],
      "text/vnd.plotly.v1+html": [
       "<div id=\"2362ac81-0659-4da0-864b-8a36091ade25\" style=\"height: 525px; width: 100%;\" class=\"plotly-graph-div\"></div><script type=\"text/javascript\">require([\"plotly\"], function(Plotly) { window.PLOTLYENV=window.PLOTLYENV || {};window.PLOTLYENV.BASE_URL=\"https://plot.ly\";Plotly.newPlot(\"2362ac81-0659-4da0-864b-8a36091ade25\", [{\"cells\": {\"align\": \"center\", \"fill\": {\"color\": [[\"rgb(239,243,255)\", \"rgb(189,215,231)\", \"rgb(107,174,214)\", \"rgb(49,130,189)\", \"rgb(8,81,156)\"]]}, \"font\": {\"color\": \"black\", \"size\": 11}, \"line\": {\"color\": [[\"rgb(239,243,255)\", \"rgb(189,215,231)\", \"rgb(107,174,214)\", \"rgb(49,130,189)\", \"rgb(8,81,156)\"]]}, \"values\": [[\"rgb(239,243,255)\", \"rgb(189,215,231)\", \"rgb(107,174,214)\", \"rgb(49,130,189)\", \"rgb(8,81,156)\"], [2010, 2011, 2012, 2013, 2014]]}, \"header\": {\"align\": [\"center\"], \"fill\": {\"color\": \"white\"}, \"font\": {\"color\": \"black\", \"size\": 12}, \"line\": {\"color\": \"white\"}, \"values\": [\"Color\", \"<b>YEAR</b>\"]}, \"type\": \"table\", \"uid\": \"654dc2ee-1778-44da-b679-c6fb9378a303\"}], {}, {\"showLink\": false, \"linkText\": \"Export to plot.ly\", \"plotlyServerURL\": \"https://plot.ly\"})});</script><script type=\"text/javascript\">window.addEventListener(\"resize\", function(){window._Plotly.Plots.resize(document.getElementById(\"2362ac81-0659-4da0-864b-8a36091ade25\"));});</script>"
      ]
     },
     "metadata": {},
     "output_type": "display_data"
    }
   ],
   "source": [
    "import plotly.graph_objs as go\n",
    "\n",
    "import pandas as pd\n",
    "import colorlover as cl\n",
    "\n",
    "colors = cl.scales['5']['seq']['Blues']\n",
    "data = {'Year' : [2010, 2011, 2012, 2013, 2014],\n",
    "        'Color' : colors}\n",
    "df = pd.DataFrame(data)\n",
    "\n",
    "\n",
    "trace0 = go.Table(\n",
    "  header = dict(\n",
    "    values = [\"Color\", \"<b>YEAR</b>\"],\n",
    "    line = dict(color = 'white'),\n",
    "    fill = dict(color = 'white'),\n",
    "    align = ['center'],\n",
    "    font = dict(color = 'black', size = 12)\n",
    "  ),\n",
    "  cells = dict(\n",
    "    values = [df.Color, df.Year],\n",
    "    line = dict(color = [df.Color]),\n",
    "    fill = dict(color = [df.Color]),\n",
    "    align = 'center',\n",
    "    font = dict(color = 'black', size = 11)\n",
    "    ))\n",
    "\n",
    "data = [trace0]\n",
    "\n",
    "pyo.iplot(data, filename = \"row variable color\")"
   ]
  },
  {
   "cell_type": "markdown",
   "metadata": {},
   "source": [
    "# Cell Color Based on Variable"
   ]
  },
  {
   "cell_type": "code",
   "execution_count": 10,
   "metadata": {},
   "outputs": [
    {
     "data": {
      "application/vnd.plotly.v1+json": {
       "config": {
        "linkText": "Export to plot.ly",
        "plotlyServerURL": "https://plot.ly",
        "showLink": false
       },
       "data": [
        {
         "cells": {
          "align": "center",
          "fill": {
           "color": [
            [
             "rgb(251,106,74)",
             "rgb(239,59,44)",
             "rgb(252,146,114)",
             "rgb(255,245,240)",
             "rgb(203,24,29)",
             "rgb(255,245,240)",
             "rgb(203,24,29)",
             "rgb(252,187,161)",
             "rgb(252,146,114)",
             "rgb(251,106,74)"
            ],
            [
             "rgb(239,59,44)",
             "rgb(252,146,114)",
             "rgb(251,106,74)",
             "rgb(255,245,240)",
             "rgb(103,0,13)",
             "rgb(254,224,210)",
             "rgb(239,59,44)",
             "rgb(255,245,240)",
             "rgb(165,15,21)",
             "rgb(165,15,21)"
            ],
            [
             "rgb(254,224,210)",
             "rgb(252,146,114)",
             "rgb(254,224,210)",
             "rgb(239,59,44)",
             "rgb(251,106,74)",
             "rgb(239,59,44)",
             "rgb(239,59,44)",
             "rgb(251,106,74)",
             "rgb(255,245,240)",
             "rgb(255,245,240)"
            ]
           ]
          },
          "font": {
           "color": "white",
           "size": 11
          },
          "line": {
           "color": [
            [
             "rgb(251,106,74)",
             "rgb(239,59,44)",
             "rgb(252,146,114)",
             "rgb(255,245,240)",
             "rgb(203,24,29)",
             "rgb(255,245,240)",
             "rgb(203,24,29)",
             "rgb(252,187,161)",
             "rgb(252,146,114)",
             "rgb(251,106,74)"
            ],
            [
             "rgb(239,59,44)",
             "rgb(252,146,114)",
             "rgb(251,106,74)",
             "rgb(255,245,240)",
             "rgb(103,0,13)",
             "rgb(254,224,210)",
             "rgb(239,59,44)",
             "rgb(255,245,240)",
             "rgb(165,15,21)",
             "rgb(165,15,21)"
            ],
            [
             "rgb(254,224,210)",
             "rgb(252,146,114)",
             "rgb(254,224,210)",
             "rgb(239,59,44)",
             "rgb(251,106,74)",
             "rgb(239,59,44)",
             "rgb(239,59,44)",
             "rgb(251,106,74)",
             "rgb(255,245,240)",
             "rgb(255,245,240)"
            ]
           ]
          },
          "values": [
           [
            4,
            5,
            3,
            0,
            6,
            0,
            6,
            2,
            3,
            4
           ],
           [
            5,
            3,
            4,
            0,
            8,
            1,
            5,
            0,
            7,
            7
           ],
           [
            1,
            3,
            1,
            5,
            4,
            5,
            5,
            4,
            0,
            0
           ]
          ]
         },
         "header": {
          "align": "center",
          "fill": {
           "color": "white"
          },
          "font": {
           "color": "black",
           "size": 12
          },
          "line": {
           "color": "white"
          },
          "values": [
           "<b>Column A</b>",
           "<b>Column B</b>",
           "<b>Column C</b>"
          ]
         },
         "type": "table",
         "uid": "84a064ba-1751-4bf7-a583-1e975f9c61bb"
        }
       ],
       "layout": {}
      },
      "text/html": [
       "<div id=\"84e564eb-8f4d-482a-b554-9fee6eecc931\" style=\"height: 525px; width: 100%;\" class=\"plotly-graph-div\"></div><script type=\"text/javascript\">require([\"plotly\"], function(Plotly) { window.PLOTLYENV=window.PLOTLYENV || {};window.PLOTLYENV.BASE_URL=\"https://plot.ly\";Plotly.newPlot(\"84e564eb-8f4d-482a-b554-9fee6eecc931\", [{\"cells\": {\"align\": \"center\", \"fill\": {\"color\": [[\"rgb(251,106,74)\", \"rgb(239,59,44)\", \"rgb(252,146,114)\", \"rgb(255,245,240)\", \"rgb(203,24,29)\", \"rgb(255,245,240)\", \"rgb(203,24,29)\", \"rgb(252,187,161)\", \"rgb(252,146,114)\", \"rgb(251,106,74)\"], [\"rgb(239,59,44)\", \"rgb(252,146,114)\", \"rgb(251,106,74)\", \"rgb(255,245,240)\", \"rgb(103,0,13)\", \"rgb(254,224,210)\", \"rgb(239,59,44)\", \"rgb(255,245,240)\", \"rgb(165,15,21)\", \"rgb(165,15,21)\"], [\"rgb(254,224,210)\", \"rgb(252,146,114)\", \"rgb(254,224,210)\", \"rgb(239,59,44)\", \"rgb(251,106,74)\", \"rgb(239,59,44)\", \"rgb(239,59,44)\", \"rgb(251,106,74)\", \"rgb(255,245,240)\", \"rgb(255,245,240)\"]]}, \"font\": {\"color\": \"white\", \"size\": 11}, \"line\": {\"color\": [[\"rgb(251,106,74)\", \"rgb(239,59,44)\", \"rgb(252,146,114)\", \"rgb(255,245,240)\", \"rgb(203,24,29)\", \"rgb(255,245,240)\", \"rgb(203,24,29)\", \"rgb(252,187,161)\", \"rgb(252,146,114)\", \"rgb(251,106,74)\"], [\"rgb(239,59,44)\", \"rgb(252,146,114)\", \"rgb(251,106,74)\", \"rgb(255,245,240)\", \"rgb(103,0,13)\", \"rgb(254,224,210)\", \"rgb(239,59,44)\", \"rgb(255,245,240)\", \"rgb(165,15,21)\", \"rgb(165,15,21)\"], [\"rgb(254,224,210)\", \"rgb(252,146,114)\", \"rgb(254,224,210)\", \"rgb(239,59,44)\", \"rgb(251,106,74)\", \"rgb(239,59,44)\", \"rgb(239,59,44)\", \"rgb(251,106,74)\", \"rgb(255,245,240)\", \"rgb(255,245,240)\"]]}, \"values\": [[4, 5, 3, 0, 6, 0, 6, 2, 3, 4], [5, 3, 4, 0, 8, 1, 5, 0, 7, 7], [1, 3, 1, 5, 4, 5, 5, 4, 0, 0]]}, \"header\": {\"align\": \"center\", \"fill\": {\"color\": \"white\"}, \"font\": {\"color\": \"black\", \"size\": 12}, \"line\": {\"color\": \"white\"}, \"values\": [\"<b>Column A</b>\", \"<b>Column B</b>\", \"<b>Column C</b>\"]}, \"type\": \"table\", \"uid\": \"657b0c19-af86-454f-9e2a-f256740a7e23\"}], {}, {\"showLink\": false, \"linkText\": \"Export to plot.ly\", \"plotlyServerURL\": \"https://plot.ly\"})});</script><script type=\"text/javascript\">window.addEventListener(\"resize\", function(){window._Plotly.Plots.resize(document.getElementById(\"84e564eb-8f4d-482a-b554-9fee6eecc931\"));});</script>"
      ],
      "text/vnd.plotly.v1+html": [
       "<div id=\"84e564eb-8f4d-482a-b554-9fee6eecc931\" style=\"height: 525px; width: 100%;\" class=\"plotly-graph-div\"></div><script type=\"text/javascript\">require([\"plotly\"], function(Plotly) { window.PLOTLYENV=window.PLOTLYENV || {};window.PLOTLYENV.BASE_URL=\"https://plot.ly\";Plotly.newPlot(\"84e564eb-8f4d-482a-b554-9fee6eecc931\", [{\"cells\": {\"align\": \"center\", \"fill\": {\"color\": [[\"rgb(251,106,74)\", \"rgb(239,59,44)\", \"rgb(252,146,114)\", \"rgb(255,245,240)\", \"rgb(203,24,29)\", \"rgb(255,245,240)\", \"rgb(203,24,29)\", \"rgb(252,187,161)\", \"rgb(252,146,114)\", \"rgb(251,106,74)\"], [\"rgb(239,59,44)\", \"rgb(252,146,114)\", \"rgb(251,106,74)\", \"rgb(255,245,240)\", \"rgb(103,0,13)\", \"rgb(254,224,210)\", \"rgb(239,59,44)\", \"rgb(255,245,240)\", \"rgb(165,15,21)\", \"rgb(165,15,21)\"], [\"rgb(254,224,210)\", \"rgb(252,146,114)\", \"rgb(254,224,210)\", \"rgb(239,59,44)\", \"rgb(251,106,74)\", \"rgb(239,59,44)\", \"rgb(239,59,44)\", \"rgb(251,106,74)\", \"rgb(255,245,240)\", \"rgb(255,245,240)\"]]}, \"font\": {\"color\": \"white\", \"size\": 11}, \"line\": {\"color\": [[\"rgb(251,106,74)\", \"rgb(239,59,44)\", \"rgb(252,146,114)\", \"rgb(255,245,240)\", \"rgb(203,24,29)\", \"rgb(255,245,240)\", \"rgb(203,24,29)\", \"rgb(252,187,161)\", \"rgb(252,146,114)\", \"rgb(251,106,74)\"], [\"rgb(239,59,44)\", \"rgb(252,146,114)\", \"rgb(251,106,74)\", \"rgb(255,245,240)\", \"rgb(103,0,13)\", \"rgb(254,224,210)\", \"rgb(239,59,44)\", \"rgb(255,245,240)\", \"rgb(165,15,21)\", \"rgb(165,15,21)\"], [\"rgb(254,224,210)\", \"rgb(252,146,114)\", \"rgb(254,224,210)\", \"rgb(239,59,44)\", \"rgb(251,106,74)\", \"rgb(239,59,44)\", \"rgb(239,59,44)\", \"rgb(251,106,74)\", \"rgb(255,245,240)\", \"rgb(255,245,240)\"]]}, \"values\": [[4, 5, 3, 0, 6, 0, 6, 2, 3, 4], [5, 3, 4, 0, 8, 1, 5, 0, 7, 7], [1, 3, 1, 5, 4, 5, 5, 4, 0, 0]]}, \"header\": {\"align\": \"center\", \"fill\": {\"color\": \"white\"}, \"font\": {\"color\": \"black\", \"size\": 12}, \"line\": {\"color\": \"white\"}, \"values\": [\"<b>Column A</b>\", \"<b>Column B</b>\", \"<b>Column C</b>\"]}, \"type\": \"table\", \"uid\": \"657b0c19-af86-454f-9e2a-f256740a7e23\"}], {}, {\"showLink\": false, \"linkText\": \"Export to plot.ly\", \"plotlyServerURL\": \"https://plot.ly\"})});</script><script type=\"text/javascript\">window.addEventListener(\"resize\", function(){window._Plotly.Plots.resize(document.getElementById(\"84e564eb-8f4d-482a-b554-9fee6eecc931\"));});</script>"
      ]
     },
     "metadata": {},
     "output_type": "display_data"
    }
   ],
   "source": [
    "import plotly.graph_objs as go\n",
    "\n",
    "import numpy as np\n",
    "import colorlover as cl\n",
    "\n",
    "colors = cl.scales['9']['seq']['Reds']\n",
    "a = np.random.randint(low=0, high=9, size=10)\n",
    "b = np.random.randint(low=0, high=9, size=10)\n",
    "c = np.random.randint(low=0, high=9, size=10)\n",
    "\n",
    "\n",
    "trace0 = go.Table(\n",
    "  header = dict(\n",
    "    values = ['<b>Column A</b>', '<b>Column B</b>', '<b>Column C</b>'],\n",
    "    line = dict(color = 'white'),\n",
    "    fill = dict(color = 'white'),\n",
    "    align = 'center',\n",
    "    font = dict(color = 'black', size = 12)\n",
    "  ),\n",
    "  cells = dict(\n",
    "    values = [a,b,c],\n",
    "    line = dict(color = [np.array(colors)[a],np.array(colors)[b],\n",
    "                        np.array(colors)[c]]),\n",
    "    fill = dict(color = [np.array(colors)[a],np.array(colors)[b],\n",
    "                        np.array(colors)[c]]),\n",
    "    align = 'center',\n",
    "    font = dict(color = 'white', size = 11)\n",
    "    ))\n",
    "\n",
    "data = [trace0]\n",
    "\n",
    "pyo.iplot(data, filename = \"cell variable color\")"
   ]
  },
  {
   "cell_type": "code",
   "execution_count": null,
   "metadata": {},
   "outputs": [],
   "source": []
  }
 ],
 "metadata": {
  "kernelspec": {
   "display_name": "Python 3",
   "language": "python",
   "name": "python3"
  },
  "language_info": {
   "codemirror_mode": {
    "name": "ipython",
    "version": 3
   },
   "file_extension": ".py",
   "mimetype": "text/x-python",
   "name": "python",
   "nbconvert_exporter": "python",
   "pygments_lexer": "ipython3",
   "version": "3.6.8"
  }
 },
 "nbformat": 4,
 "nbformat_minor": 1
}
