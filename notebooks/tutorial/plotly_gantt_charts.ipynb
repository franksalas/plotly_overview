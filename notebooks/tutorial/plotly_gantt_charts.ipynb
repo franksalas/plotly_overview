{
 "cells": [
  {
   "cell_type": "markdown",
   "metadata": {},
   "source": [
    "# Gantt Charts in Python\n",
    "- https://plot.ly/python/gantt/"
   ]
  },
  {
   "cell_type": "code",
   "execution_count": 1,
   "metadata": {},
   "outputs": [
    {
     "data": {
      "text/html": [
       "<script type=\"text/javascript\">window.PlotlyConfig = {MathJaxConfig: 'local'};</script><script type=\"text/javascript\">if (window.MathJax) {MathJax.Hub.Config({SVG: {font: \"STIX-Web\"}});}</script><script>requirejs.config({paths: { 'plotly': ['https://cdn.plot.ly/plotly-latest.min']},});if(!window._Plotly) {require(['plotly'],function(plotly) {window._Plotly=plotly;});}</script>"
      ],
      "text/vnd.plotly.v1+html": [
       "<script type=\"text/javascript\">window.PlotlyConfig = {MathJaxConfig: 'local'};</script><script type=\"text/javascript\">if (window.MathJax) {MathJax.Hub.Config({SVG: {font: \"STIX-Web\"}});}</script><script>requirejs.config({paths: { 'plotly': ['https://cdn.plot.ly/plotly-latest.min']},});if(!window._Plotly) {require(['plotly'],function(plotly) {window._Plotly=plotly;});}</script>"
      ]
     },
     "metadata": {},
     "output_type": "display_data"
    }
   ],
   "source": [
    "import plotly\n",
    "import plotly.offline as pyo\n",
    "pyo.init_notebook_mode(connected=True)"
   ]
  },
  {
   "cell_type": "code",
   "execution_count": 2,
   "metadata": {},
   "outputs": [
    {
     "data": {
      "application/vnd.plotly.v1+json": {
       "config": {
        "linkText": "Export to plot.ly",
        "plotlyServerURL": "https://plot.ly",
        "showLink": false
       },
       "data": [
        {
         "marker": {
          "color": "white"
         },
         "name": "",
         "type": "scatter",
         "uid": "e9f11268-6fb6-4206-a452-7c6057d2fcf2",
         "x": [
          "2009-01-01",
          "2009-02-28"
         ],
         "y": [
          0,
          0
         ]
        },
        {
         "marker": {
          "color": "white"
         },
         "name": "",
         "type": "scatter",
         "uid": "3f5e7c3d-f184-4627-a82b-f47d6784ad72",
         "x": [
          "2009-03-05",
          "2009-04-15"
         ],
         "y": [
          1,
          1
         ]
        },
        {
         "marker": {
          "color": "white"
         },
         "name": "",
         "type": "scatter",
         "uid": "1439c7d7-a4b5-40d1-8a4a-2003613407e8",
         "x": [
          "2009-02-20",
          "2009-05-30"
         ],
         "y": [
          2,
          2
         ]
        }
       ],
       "layout": {
        "height": 600,
        "hovermode": "closest",
        "shapes": [
         {
          "fillcolor": "rgb(31, 119, 180)",
          "line": {
           "width": 0
          },
          "opacity": 1,
          "type": "rect",
          "x0": "2009-01-01",
          "x1": "2009-02-28",
          "xref": "x",
          "y0": -0.2,
          "y1": 0.2,
          "yref": "y"
         },
         {
          "fillcolor": "rgb(255, 127, 14)",
          "line": {
           "width": 0
          },
          "opacity": 1,
          "type": "rect",
          "x0": "2009-03-05",
          "x1": "2009-04-15",
          "xref": "x",
          "y0": 0.8,
          "y1": 1.2,
          "yref": "y"
         },
         {
          "fillcolor": "rgb(44, 160, 44)",
          "line": {
           "width": 0
          },
          "opacity": 1,
          "type": "rect",
          "x0": "2009-02-20",
          "x1": "2009-05-30",
          "xref": "x",
          "y0": 1.8,
          "y1": 2.2,
          "yref": "y"
         }
        ],
        "showlegend": false,
        "title": {
         "text": "Gantt Chart"
        },
        "width": 900,
        "xaxis": {
         "rangeselector": {
          "buttons": [
           {
            "count": 7,
            "label": "1w",
            "step": "day",
            "stepmode": "backward"
           },
           {
            "count": 1,
            "label": "1m",
            "step": "month",
            "stepmode": "backward"
           },
           {
            "count": 6,
            "label": "6m",
            "step": "month",
            "stepmode": "backward"
           },
           {
            "count": 1,
            "label": "YTD",
            "step": "year",
            "stepmode": "todate"
           },
           {
            "count": 1,
            "label": "1y",
            "step": "year",
            "stepmode": "backward"
           },
           {
            "step": "all"
           }
          ]
         },
         "showgrid": false,
         "type": "date",
         "zeroline": false
        },
        "yaxis": {
         "autorange": false,
         "range": [
          -1,
          4
         ],
         "showgrid": false,
         "ticktext": [
          "Job A",
          "Job B",
          "Job C"
         ],
         "tickvals": [
          0,
          1,
          2
         ],
         "zeroline": false
        }
       }
      },
      "text/html": [
       "<div id=\"14a36735-c3b4-4d07-8a02-9775325f6562\" style=\"height: 600px; width: 900px;\" class=\"plotly-graph-div\"></div><script type=\"text/javascript\">require([\"plotly\"], function(Plotly) { window.PLOTLYENV=window.PLOTLYENV || {};window.PLOTLYENV.BASE_URL=\"https://plot.ly\";Plotly.newPlot(\"14a36735-c3b4-4d07-8a02-9775325f6562\", [{\"marker\": {\"color\": \"white\"}, \"name\": \"\", \"x\": [\"2009-01-01\", \"2009-02-28\"], \"y\": [0, 0], \"type\": \"scatter\", \"uid\": \"e9f11268-6fb6-4206-a452-7c6057d2fcf2\"}, {\"marker\": {\"color\": \"white\"}, \"name\": \"\", \"x\": [\"2009-03-05\", \"2009-04-15\"], \"y\": [1, 1], \"type\": \"scatter\", \"uid\": \"3f5e7c3d-f184-4627-a82b-f47d6784ad72\"}, {\"marker\": {\"color\": \"white\"}, \"name\": \"\", \"x\": [\"2009-02-20\", \"2009-05-30\"], \"y\": [2, 2], \"type\": \"scatter\", \"uid\": \"1439c7d7-a4b5-40d1-8a4a-2003613407e8\"}], {\"height\": 600, \"hovermode\": \"closest\", \"shapes\": [{\"fillcolor\": \"rgb(31, 119, 180)\", \"line\": {\"width\": 0}, \"opacity\": 1, \"type\": \"rect\", \"x0\": \"2009-01-01\", \"x1\": \"2009-02-28\", \"xref\": \"x\", \"y0\": -0.2, \"y1\": 0.2, \"yref\": \"y\"}, {\"fillcolor\": \"rgb(255, 127, 14)\", \"line\": {\"width\": 0}, \"opacity\": 1, \"type\": \"rect\", \"x0\": \"2009-03-05\", \"x1\": \"2009-04-15\", \"xref\": \"x\", \"y0\": 0.8, \"y1\": 1.2, \"yref\": \"y\"}, {\"fillcolor\": \"rgb(44, 160, 44)\", \"line\": {\"width\": 0}, \"opacity\": 1, \"type\": \"rect\", \"x0\": \"2009-02-20\", \"x1\": \"2009-05-30\", \"xref\": \"x\", \"y0\": 1.8, \"y1\": 2.2, \"yref\": \"y\"}], \"showlegend\": false, \"title\": {\"text\": \"Gantt Chart\"}, \"width\": 900, \"xaxis\": {\"rangeselector\": {\"buttons\": [{\"count\": 7, \"label\": \"1w\", \"step\": \"day\", \"stepmode\": \"backward\"}, {\"count\": 1, \"label\": \"1m\", \"step\": \"month\", \"stepmode\": \"backward\"}, {\"count\": 6, \"label\": \"6m\", \"step\": \"month\", \"stepmode\": \"backward\"}, {\"count\": 1, \"label\": \"YTD\", \"step\": \"year\", \"stepmode\": \"todate\"}, {\"count\": 1, \"label\": \"1y\", \"step\": \"year\", \"stepmode\": \"backward\"}, {\"step\": \"all\"}]}, \"showgrid\": false, \"type\": \"date\", \"zeroline\": false}, \"yaxis\": {\"autorange\": false, \"range\": [-1, 4], \"showgrid\": false, \"ticktext\": [\"Job A\", \"Job B\", \"Job C\"], \"tickvals\": [0, 1, 2], \"zeroline\": false}}, {\"showLink\": false, \"linkText\": \"Export to plot.ly\", \"plotlyServerURL\": \"https://plot.ly\"})});</script>"
      ],
      "text/vnd.plotly.v1+html": [
       "<div id=\"14a36735-c3b4-4d07-8a02-9775325f6562\" style=\"height: 600px; width: 900px;\" class=\"plotly-graph-div\"></div><script type=\"text/javascript\">require([\"plotly\"], function(Plotly) { window.PLOTLYENV=window.PLOTLYENV || {};window.PLOTLYENV.BASE_URL=\"https://plot.ly\";Plotly.newPlot(\"14a36735-c3b4-4d07-8a02-9775325f6562\", [{\"marker\": {\"color\": \"white\"}, \"name\": \"\", \"x\": [\"2009-01-01\", \"2009-02-28\"], \"y\": [0, 0], \"type\": \"scatter\", \"uid\": \"e9f11268-6fb6-4206-a452-7c6057d2fcf2\"}, {\"marker\": {\"color\": \"white\"}, \"name\": \"\", \"x\": [\"2009-03-05\", \"2009-04-15\"], \"y\": [1, 1], \"type\": \"scatter\", \"uid\": \"3f5e7c3d-f184-4627-a82b-f47d6784ad72\"}, {\"marker\": {\"color\": \"white\"}, \"name\": \"\", \"x\": [\"2009-02-20\", \"2009-05-30\"], \"y\": [2, 2], \"type\": \"scatter\", \"uid\": \"1439c7d7-a4b5-40d1-8a4a-2003613407e8\"}], {\"height\": 600, \"hovermode\": \"closest\", \"shapes\": [{\"fillcolor\": \"rgb(31, 119, 180)\", \"line\": {\"width\": 0}, \"opacity\": 1, \"type\": \"rect\", \"x0\": \"2009-01-01\", \"x1\": \"2009-02-28\", \"xref\": \"x\", \"y0\": -0.2, \"y1\": 0.2, \"yref\": \"y\"}, {\"fillcolor\": \"rgb(255, 127, 14)\", \"line\": {\"width\": 0}, \"opacity\": 1, \"type\": \"rect\", \"x0\": \"2009-03-05\", \"x1\": \"2009-04-15\", \"xref\": \"x\", \"y0\": 0.8, \"y1\": 1.2, \"yref\": \"y\"}, {\"fillcolor\": \"rgb(44, 160, 44)\", \"line\": {\"width\": 0}, \"opacity\": 1, \"type\": \"rect\", \"x0\": \"2009-02-20\", \"x1\": \"2009-05-30\", \"xref\": \"x\", \"y0\": 1.8, \"y1\": 2.2, \"yref\": \"y\"}], \"showlegend\": false, \"title\": {\"text\": \"Gantt Chart\"}, \"width\": 900, \"xaxis\": {\"rangeselector\": {\"buttons\": [{\"count\": 7, \"label\": \"1w\", \"step\": \"day\", \"stepmode\": \"backward\"}, {\"count\": 1, \"label\": \"1m\", \"step\": \"month\", \"stepmode\": \"backward\"}, {\"count\": 6, \"label\": \"6m\", \"step\": \"month\", \"stepmode\": \"backward\"}, {\"count\": 1, \"label\": \"YTD\", \"step\": \"year\", \"stepmode\": \"todate\"}, {\"count\": 1, \"label\": \"1y\", \"step\": \"year\", \"stepmode\": \"backward\"}, {\"step\": \"all\"}]}, \"showgrid\": false, \"type\": \"date\", \"zeroline\": false}, \"yaxis\": {\"autorange\": false, \"range\": [-1, 4], \"showgrid\": false, \"ticktext\": [\"Job A\", \"Job B\", \"Job C\"], \"tickvals\": [0, 1, 2], \"zeroline\": false}}, {\"showLink\": false, \"linkText\": \"Export to plot.ly\", \"plotlyServerURL\": \"https://plot.ly\"})});</script>"
      ]
     },
     "metadata": {},
     "output_type": "display_data"
    }
   ],
   "source": [
    "import plotly.figure_factory as ff\n",
    "\n",
    "df = [dict(Task=\"Job A\", Start='2009-01-01', Finish='2009-02-28'),\n",
    "      dict(Task=\"Job B\", Start='2009-03-05', Finish='2009-04-15'),\n",
    "      dict(Task=\"Job C\", Start='2009-02-20', Finish='2009-05-30')]\n",
    "\n",
    "fig = ff.create_gantt(df)\n",
    "pyo.iplot(fig, filename='gantt-simple-gantt-chart')"
   ]
  },
  {
   "cell_type": "markdown",
   "metadata": {},
   "source": [
    "# Index by Numeric Variable"
   ]
  },
  {
   "cell_type": "code",
   "execution_count": 3,
   "metadata": {},
   "outputs": [
    {
     "data": {
      "application/vnd.plotly.v1+json": {
       "config": {
        "linkText": "Export to plot.ly",
        "plotlyServerURL": "https://plot.ly",
        "showLink": false
       },
       "data": [
        {
         "marker": {
          "color": "white"
         },
         "name": "",
         "type": "scatter",
         "uid": "ce30cfde-3aeb-47f6-ae0c-5953a3780b84",
         "x": [
          "2009-01-01",
          "2009-02-28"
         ],
         "y": [
          0,
          0
         ]
        },
        {
         "marker": {
          "color": "white"
         },
         "name": "",
         "type": "scatter",
         "uid": "348b4281-3a0d-43f9-bdc7-6b377c75a275",
         "x": [
          "2008-12-05",
          "2009-04-15"
         ],
         "y": [
          1,
          1
         ]
        },
        {
         "marker": {
          "color": "white"
         },
         "name": "",
         "type": "scatter",
         "uid": "3e0d9073-c607-44c1-b58d-f05d337f82c2",
         "x": [
          "2009-02-20",
          "2009-05-30"
         ],
         "y": [
          2,
          2
         ]
        },
        {
         "marker": {
          "cmax": 100,
          "cmin": 0,
          "color": "white",
          "colorscale": [
           [
            0,
            "rgb(68.0, 1.0, 84.0)"
           ],
           [
            1,
            "rgb(253.0, 231.0, 37.0)"
           ]
          ],
          "showscale": true
         },
         "name": "",
         "type": "scatter",
         "uid": "46206545-e545-4ef4-8af3-909db8fabba9",
         "x": [
          "2009-02-20",
          "2009-02-20"
         ],
         "y": [
          2,
          2
         ]
        }
       ],
       "layout": {
        "height": 600,
        "hovermode": "closest",
        "shapes": [
         {
          "fillcolor": "rgb(86.5, 24.0, 79.3)",
          "line": {
           "width": 0
          },
          "opacity": 1,
          "type": "rect",
          "x0": "2009-01-01",
          "x1": "2009-02-28",
          "xref": "x",
          "y0": -0.2,
          "y1": 0.2,
          "yref": "y"
         },
         {
          "fillcolor": "rgb(179.0, 139.0, 55.8)",
          "line": {
           "width": 0
          },
          "opacity": 1,
          "type": "rect",
          "x0": "2008-12-05",
          "x1": "2009-04-15",
          "xref": "x",
          "y0": 0.8,
          "y1": 1.2,
          "yref": "y"
         },
         {
          "fillcolor": "rgb(243.75, 219.5, 39.35)",
          "line": {
           "width": 0
          },
          "opacity": 1,
          "type": "rect",
          "x0": "2009-02-20",
          "x1": "2009-05-30",
          "xref": "x",
          "y0": 1.8,
          "y1": 2.2,
          "yref": "y"
         }
        ],
        "showlegend": false,
        "title": {
         "text": "Gantt Chart"
        },
        "width": 900,
        "xaxis": {
         "rangeselector": {
          "buttons": [
           {
            "count": 7,
            "label": "1w",
            "step": "day",
            "stepmode": "backward"
           },
           {
            "count": 1,
            "label": "1m",
            "step": "month",
            "stepmode": "backward"
           },
           {
            "count": 6,
            "label": "6m",
            "step": "month",
            "stepmode": "backward"
           },
           {
            "count": 1,
            "label": "YTD",
            "step": "year",
            "stepmode": "todate"
           },
           {
            "count": 1,
            "label": "1y",
            "step": "year",
            "stepmode": "backward"
           },
           {
            "step": "all"
           }
          ]
         },
         "showgrid": false,
         "type": "date",
         "zeroline": false
        },
        "yaxis": {
         "autorange": false,
         "range": [
          -1,
          4
         ],
         "showgrid": false,
         "ticktext": [
          "Job A",
          "Job B",
          "Job C"
         ],
         "tickvals": [
          0,
          1,
          2
         ],
         "zeroline": false
        }
       }
      },
      "text/html": [
       "<div id=\"4831f7ac-9d94-419f-9e96-e36f7bca26c9\" style=\"height: 600px; width: 900px;\" class=\"plotly-graph-div\"></div><script type=\"text/javascript\">require([\"plotly\"], function(Plotly) { window.PLOTLYENV=window.PLOTLYENV || {};window.PLOTLYENV.BASE_URL=\"https://plot.ly\";Plotly.newPlot(\"4831f7ac-9d94-419f-9e96-e36f7bca26c9\", [{\"marker\": {\"color\": \"white\"}, \"name\": \"\", \"x\": [\"2009-01-01\", \"2009-02-28\"], \"y\": [0, 0], \"type\": \"scatter\", \"uid\": \"d3cf9761-7a0b-468e-a2f9-51d5d5dfac62\"}, {\"marker\": {\"color\": \"white\"}, \"name\": \"\", \"x\": [\"2008-12-05\", \"2009-04-15\"], \"y\": [1, 1], \"type\": \"scatter\", \"uid\": \"045e544f-7ecb-41d5-9ef8-605cab6b3f4a\"}, {\"marker\": {\"color\": \"white\"}, \"name\": \"\", \"x\": [\"2009-02-20\", \"2009-05-30\"], \"y\": [2, 2], \"type\": \"scatter\", \"uid\": \"ed8c84e0-92ed-4573-83bc-dbc407e0f522\"}, {\"marker\": {\"cmax\": 100, \"cmin\": 0, \"color\": \"white\", \"colorscale\": [[0, \"rgb(68.0, 1.0, 84.0)\"], [1, \"rgb(253.0, 231.0, 37.0)\"]], \"showscale\": true}, \"name\": \"\", \"x\": [\"2009-02-20\", \"2009-02-20\"], \"y\": [2, 2], \"type\": \"scatter\", \"uid\": \"b82abc68-8b14-48fb-a8a6-e7edc8adcbc1\"}], {\"height\": 600, \"hovermode\": \"closest\", \"shapes\": [{\"fillcolor\": \"rgb(86.5, 24.0, 79.3)\", \"line\": {\"width\": 0}, \"opacity\": 1, \"type\": \"rect\", \"x0\": \"2009-01-01\", \"x1\": \"2009-02-28\", \"xref\": \"x\", \"y0\": -0.2, \"y1\": 0.2, \"yref\": \"y\"}, {\"fillcolor\": \"rgb(179.0, 139.0, 55.8)\", \"line\": {\"width\": 0}, \"opacity\": 1, \"type\": \"rect\", \"x0\": \"2008-12-05\", \"x1\": \"2009-04-15\", \"xref\": \"x\", \"y0\": 0.8, \"y1\": 1.2, \"yref\": \"y\"}, {\"fillcolor\": \"rgb(243.75, 219.5, 39.35)\", \"line\": {\"width\": 0}, \"opacity\": 1, \"type\": \"rect\", \"x0\": \"2009-02-20\", \"x1\": \"2009-05-30\", \"xref\": \"x\", \"y0\": 1.8, \"y1\": 2.2, \"yref\": \"y\"}], \"showlegend\": false, \"title\": {\"text\": \"Gantt Chart\"}, \"width\": 900, \"xaxis\": {\"rangeselector\": {\"buttons\": [{\"count\": 7, \"label\": \"1w\", \"step\": \"day\", \"stepmode\": \"backward\"}, {\"count\": 1, \"label\": \"1m\", \"step\": \"month\", \"stepmode\": \"backward\"}, {\"count\": 6, \"label\": \"6m\", \"step\": \"month\", \"stepmode\": \"backward\"}, {\"count\": 1, \"label\": \"YTD\", \"step\": \"year\", \"stepmode\": \"todate\"}, {\"count\": 1, \"label\": \"1y\", \"step\": \"year\", \"stepmode\": \"backward\"}, {\"step\": \"all\"}]}, \"showgrid\": false, \"type\": \"date\", \"zeroline\": false}, \"yaxis\": {\"autorange\": false, \"range\": [-1, 4], \"showgrid\": false, \"ticktext\": [\"Job A\", \"Job B\", \"Job C\"], \"tickvals\": [0, 1, 2], \"zeroline\": false}}, {\"showLink\": false, \"linkText\": \"Export to plot.ly\", \"plotlyServerURL\": \"https://plot.ly\"})});</script>"
      ],
      "text/vnd.plotly.v1+html": [
       "<div id=\"4831f7ac-9d94-419f-9e96-e36f7bca26c9\" style=\"height: 600px; width: 900px;\" class=\"plotly-graph-div\"></div><script type=\"text/javascript\">require([\"plotly\"], function(Plotly) { window.PLOTLYENV=window.PLOTLYENV || {};window.PLOTLYENV.BASE_URL=\"https://plot.ly\";Plotly.newPlot(\"4831f7ac-9d94-419f-9e96-e36f7bca26c9\", [{\"marker\": {\"color\": \"white\"}, \"name\": \"\", \"x\": [\"2009-01-01\", \"2009-02-28\"], \"y\": [0, 0], \"type\": \"scatter\", \"uid\": \"d3cf9761-7a0b-468e-a2f9-51d5d5dfac62\"}, {\"marker\": {\"color\": \"white\"}, \"name\": \"\", \"x\": [\"2008-12-05\", \"2009-04-15\"], \"y\": [1, 1], \"type\": \"scatter\", \"uid\": \"045e544f-7ecb-41d5-9ef8-605cab6b3f4a\"}, {\"marker\": {\"color\": \"white\"}, \"name\": \"\", \"x\": [\"2009-02-20\", \"2009-05-30\"], \"y\": [2, 2], \"type\": \"scatter\", \"uid\": \"ed8c84e0-92ed-4573-83bc-dbc407e0f522\"}, {\"marker\": {\"cmax\": 100, \"cmin\": 0, \"color\": \"white\", \"colorscale\": [[0, \"rgb(68.0, 1.0, 84.0)\"], [1, \"rgb(253.0, 231.0, 37.0)\"]], \"showscale\": true}, \"name\": \"\", \"x\": [\"2009-02-20\", \"2009-02-20\"], \"y\": [2, 2], \"type\": \"scatter\", \"uid\": \"b82abc68-8b14-48fb-a8a6-e7edc8adcbc1\"}], {\"height\": 600, \"hovermode\": \"closest\", \"shapes\": [{\"fillcolor\": \"rgb(86.5, 24.0, 79.3)\", \"line\": {\"width\": 0}, \"opacity\": 1, \"type\": \"rect\", \"x0\": \"2009-01-01\", \"x1\": \"2009-02-28\", \"xref\": \"x\", \"y0\": -0.2, \"y1\": 0.2, \"yref\": \"y\"}, {\"fillcolor\": \"rgb(179.0, 139.0, 55.8)\", \"line\": {\"width\": 0}, \"opacity\": 1, \"type\": \"rect\", \"x0\": \"2008-12-05\", \"x1\": \"2009-04-15\", \"xref\": \"x\", \"y0\": 0.8, \"y1\": 1.2, \"yref\": \"y\"}, {\"fillcolor\": \"rgb(243.75, 219.5, 39.35)\", \"line\": {\"width\": 0}, \"opacity\": 1, \"type\": \"rect\", \"x0\": \"2009-02-20\", \"x1\": \"2009-05-30\", \"xref\": \"x\", \"y0\": 1.8, \"y1\": 2.2, \"yref\": \"y\"}], \"showlegend\": false, \"title\": {\"text\": \"Gantt Chart\"}, \"width\": 900, \"xaxis\": {\"rangeselector\": {\"buttons\": [{\"count\": 7, \"label\": \"1w\", \"step\": \"day\", \"stepmode\": \"backward\"}, {\"count\": 1, \"label\": \"1m\", \"step\": \"month\", \"stepmode\": \"backward\"}, {\"count\": 6, \"label\": \"6m\", \"step\": \"month\", \"stepmode\": \"backward\"}, {\"count\": 1, \"label\": \"YTD\", \"step\": \"year\", \"stepmode\": \"todate\"}, {\"count\": 1, \"label\": \"1y\", \"step\": \"year\", \"stepmode\": \"backward\"}, {\"step\": \"all\"}]}, \"showgrid\": false, \"type\": \"date\", \"zeroline\": false}, \"yaxis\": {\"autorange\": false, \"range\": [-1, 4], \"showgrid\": false, \"ticktext\": [\"Job A\", \"Job B\", \"Job C\"], \"tickvals\": [0, 1, 2], \"zeroline\": false}}, {\"showLink\": false, \"linkText\": \"Export to plot.ly\", \"plotlyServerURL\": \"https://plot.ly\"})});</script>"
      ]
     },
     "metadata": {},
     "output_type": "display_data"
    }
   ],
   "source": [
    "import plotly.figure_factory as ff\n",
    "\n",
    "df = [dict(Task=\"Job A\", Start='2009-01-01', Finish='2009-02-28', Complete=10),\n",
    "      dict(Task=\"Job B\", Start='2008-12-05', Finish='2009-04-15', Complete=60),\n",
    "      dict(Task=\"Job C\", Start='2009-02-20', Finish='2009-05-30', Complete=95)]\n",
    "\n",
    "fig = ff.create_gantt(df, colors='Viridis', index_col='Complete', show_colorbar=True)\n",
    "pyo.iplot(fig, filename='gantt-numeric-variable')"
   ]
  },
  {
   "cell_type": "markdown",
   "metadata": {},
   "source": [
    "#  Index by Numeric Variable"
   ]
  },
  {
   "cell_type": "code",
   "execution_count": 4,
   "metadata": {},
   "outputs": [
    {
     "data": {
      "application/vnd.plotly.v1+json": {
       "config": {
        "linkText": "Export to plot.ly",
        "plotlyServerURL": "https://plot.ly",
        "showLink": false
       },
       "data": [
        {
         "marker": {
          "color": "white"
         },
         "name": "",
         "type": "scatter",
         "uid": "8f806a48-e3cb-47b2-9a9e-5c3c2e303b10",
         "x": [
          "2009-01-01",
          "2009-02-28"
         ],
         "y": [
          0,
          0
         ]
        },
        {
         "marker": {
          "color": "white"
         },
         "name": "",
         "type": "scatter",
         "uid": "3f94f150-de15-488a-979e-324c41a8ed51",
         "x": [
          "2008-12-05",
          "2009-04-15"
         ],
         "y": [
          1,
          1
         ]
        },
        {
         "marker": {
          "color": "white"
         },
         "name": "",
         "type": "scatter",
         "uid": "1742045c-932e-45e2-bd5d-d32e07e66dfb",
         "x": [
          "2009-02-20",
          "2009-05-30"
         ],
         "y": [
          2,
          2
         ]
        },
        {
         "marker": {
          "cmax": 100,
          "cmin": 0,
          "color": "white",
          "colorscale": [
           [
            0,
            "rgb(68.0, 1.0, 84.0)"
           ],
           [
            1,
            "rgb(253.0, 231.0, 37.0)"
           ]
          ],
          "showscale": true
         },
         "name": "",
         "type": "scatter",
         "uid": "fd65775a-ce52-4183-809d-cd7fdb443d33",
         "x": [
          "2009-02-20",
          "2009-02-20"
         ],
         "y": [
          2,
          2
         ]
        }
       ],
       "layout": {
        "height": 600,
        "hovermode": "closest",
        "shapes": [
         {
          "fillcolor": "rgb(86.5, 24.0, 79.3)",
          "line": {
           "width": 0
          },
          "opacity": 1,
          "type": "rect",
          "x0": "2009-01-01",
          "x1": "2009-02-28",
          "xref": "x",
          "y0": -0.2,
          "y1": 0.2,
          "yref": "y"
         },
         {
          "fillcolor": "rgb(179.0, 139.0, 55.8)",
          "line": {
           "width": 0
          },
          "opacity": 1,
          "type": "rect",
          "x0": "2008-12-05",
          "x1": "2009-04-15",
          "xref": "x",
          "y0": 0.8,
          "y1": 1.2,
          "yref": "y"
         },
         {
          "fillcolor": "rgb(243.75, 219.5, 39.35)",
          "line": {
           "width": 0
          },
          "opacity": 1,
          "type": "rect",
          "x0": "2009-02-20",
          "x1": "2009-05-30",
          "xref": "x",
          "y0": 1.8,
          "y1": 2.2,
          "yref": "y"
         }
        ],
        "showlegend": false,
        "title": {
         "text": "Gantt Chart"
        },
        "width": 900,
        "xaxis": {
         "rangeselector": {
          "buttons": [
           {
            "count": 7,
            "label": "1w",
            "step": "day",
            "stepmode": "backward"
           },
           {
            "count": 1,
            "label": "1m",
            "step": "month",
            "stepmode": "backward"
           },
           {
            "count": 6,
            "label": "6m",
            "step": "month",
            "stepmode": "backward"
           },
           {
            "count": 1,
            "label": "YTD",
            "step": "year",
            "stepmode": "todate"
           },
           {
            "count": 1,
            "label": "1y",
            "step": "year",
            "stepmode": "backward"
           },
           {
            "step": "all"
           }
          ]
         },
         "showgrid": false,
         "type": "date",
         "zeroline": false
        },
        "yaxis": {
         "autorange": false,
         "range": [
          -1,
          4
         ],
         "showgrid": false,
         "ticktext": [
          "Job A",
          "Job B",
          "Job C"
         ],
         "tickvals": [
          0,
          1,
          2
         ],
         "zeroline": false
        }
       }
      },
      "text/html": [
       "<div id=\"82c7265b-b430-4e67-b03e-d260a9ccae78\" style=\"height: 600px; width: 900px;\" class=\"plotly-graph-div\"></div><script type=\"text/javascript\">require([\"plotly\"], function(Plotly) { window.PLOTLYENV=window.PLOTLYENV || {};window.PLOTLYENV.BASE_URL=\"https://plot.ly\";Plotly.newPlot(\"82c7265b-b430-4e67-b03e-d260a9ccae78\", [{\"marker\": {\"color\": \"white\"}, \"name\": \"\", \"x\": [\"2009-01-01\", \"2009-02-28\"], \"y\": [0, 0], \"type\": \"scatter\", \"uid\": \"02259938-2220-4d23-892f-b762ea5be7e1\"}, {\"marker\": {\"color\": \"white\"}, \"name\": \"\", \"x\": [\"2008-12-05\", \"2009-04-15\"], \"y\": [1, 1], \"type\": \"scatter\", \"uid\": \"94753d2f-2c09-4769-9644-4f2c51a60f8e\"}, {\"marker\": {\"color\": \"white\"}, \"name\": \"\", \"x\": [\"2009-02-20\", \"2009-05-30\"], \"y\": [2, 2], \"type\": \"scatter\", \"uid\": \"5a216fbb-0dc2-4921-abf1-b02b01148b00\"}, {\"marker\": {\"cmax\": 100, \"cmin\": 0, \"color\": \"white\", \"colorscale\": [[0, \"rgb(68.0, 1.0, 84.0)\"], [1, \"rgb(253.0, 231.0, 37.0)\"]], \"showscale\": true}, \"name\": \"\", \"x\": [\"2009-02-20\", \"2009-02-20\"], \"y\": [2, 2], \"type\": \"scatter\", \"uid\": \"98af7e2c-24bc-4698-b789-c09b8028b560\"}], {\"height\": 600, \"hovermode\": \"closest\", \"shapes\": [{\"fillcolor\": \"rgb(86.5, 24.0, 79.3)\", \"line\": {\"width\": 0}, \"opacity\": 1, \"type\": \"rect\", \"x0\": \"2009-01-01\", \"x1\": \"2009-02-28\", \"xref\": \"x\", \"y0\": -0.2, \"y1\": 0.2, \"yref\": \"y\"}, {\"fillcolor\": \"rgb(179.0, 139.0, 55.8)\", \"line\": {\"width\": 0}, \"opacity\": 1, \"type\": \"rect\", \"x0\": \"2008-12-05\", \"x1\": \"2009-04-15\", \"xref\": \"x\", \"y0\": 0.8, \"y1\": 1.2, \"yref\": \"y\"}, {\"fillcolor\": \"rgb(243.75, 219.5, 39.35)\", \"line\": {\"width\": 0}, \"opacity\": 1, \"type\": \"rect\", \"x0\": \"2009-02-20\", \"x1\": \"2009-05-30\", \"xref\": \"x\", \"y0\": 1.8, \"y1\": 2.2, \"yref\": \"y\"}], \"showlegend\": false, \"title\": {\"text\": \"Gantt Chart\"}, \"width\": 900, \"xaxis\": {\"rangeselector\": {\"buttons\": [{\"count\": 7, \"label\": \"1w\", \"step\": \"day\", \"stepmode\": \"backward\"}, {\"count\": 1, \"label\": \"1m\", \"step\": \"month\", \"stepmode\": \"backward\"}, {\"count\": 6, \"label\": \"6m\", \"step\": \"month\", \"stepmode\": \"backward\"}, {\"count\": 1, \"label\": \"YTD\", \"step\": \"year\", \"stepmode\": \"todate\"}, {\"count\": 1, \"label\": \"1y\", \"step\": \"year\", \"stepmode\": \"backward\"}, {\"step\": \"all\"}]}, \"showgrid\": false, \"type\": \"date\", \"zeroline\": false}, \"yaxis\": {\"autorange\": false, \"range\": [-1, 4], \"showgrid\": false, \"ticktext\": [\"Job A\", \"Job B\", \"Job C\"], \"tickvals\": [0, 1, 2], \"zeroline\": false}}, {\"showLink\": false, \"linkText\": \"Export to plot.ly\", \"plotlyServerURL\": \"https://plot.ly\"})});</script>"
      ],
      "text/vnd.plotly.v1+html": [
       "<div id=\"82c7265b-b430-4e67-b03e-d260a9ccae78\" style=\"height: 600px; width: 900px;\" class=\"plotly-graph-div\"></div><script type=\"text/javascript\">require([\"plotly\"], function(Plotly) { window.PLOTLYENV=window.PLOTLYENV || {};window.PLOTLYENV.BASE_URL=\"https://plot.ly\";Plotly.newPlot(\"82c7265b-b430-4e67-b03e-d260a9ccae78\", [{\"marker\": {\"color\": \"white\"}, \"name\": \"\", \"x\": [\"2009-01-01\", \"2009-02-28\"], \"y\": [0, 0], \"type\": \"scatter\", \"uid\": \"02259938-2220-4d23-892f-b762ea5be7e1\"}, {\"marker\": {\"color\": \"white\"}, \"name\": \"\", \"x\": [\"2008-12-05\", \"2009-04-15\"], \"y\": [1, 1], \"type\": \"scatter\", \"uid\": \"94753d2f-2c09-4769-9644-4f2c51a60f8e\"}, {\"marker\": {\"color\": \"white\"}, \"name\": \"\", \"x\": [\"2009-02-20\", \"2009-05-30\"], \"y\": [2, 2], \"type\": \"scatter\", \"uid\": \"5a216fbb-0dc2-4921-abf1-b02b01148b00\"}, {\"marker\": {\"cmax\": 100, \"cmin\": 0, \"color\": \"white\", \"colorscale\": [[0, \"rgb(68.0, 1.0, 84.0)\"], [1, \"rgb(253.0, 231.0, 37.0)\"]], \"showscale\": true}, \"name\": \"\", \"x\": [\"2009-02-20\", \"2009-02-20\"], \"y\": [2, 2], \"type\": \"scatter\", \"uid\": \"98af7e2c-24bc-4698-b789-c09b8028b560\"}], {\"height\": 600, \"hovermode\": \"closest\", \"shapes\": [{\"fillcolor\": \"rgb(86.5, 24.0, 79.3)\", \"line\": {\"width\": 0}, \"opacity\": 1, \"type\": \"rect\", \"x0\": \"2009-01-01\", \"x1\": \"2009-02-28\", \"xref\": \"x\", \"y0\": -0.2, \"y1\": 0.2, \"yref\": \"y\"}, {\"fillcolor\": \"rgb(179.0, 139.0, 55.8)\", \"line\": {\"width\": 0}, \"opacity\": 1, \"type\": \"rect\", \"x0\": \"2008-12-05\", \"x1\": \"2009-04-15\", \"xref\": \"x\", \"y0\": 0.8, \"y1\": 1.2, \"yref\": \"y\"}, {\"fillcolor\": \"rgb(243.75, 219.5, 39.35)\", \"line\": {\"width\": 0}, \"opacity\": 1, \"type\": \"rect\", \"x0\": \"2009-02-20\", \"x1\": \"2009-05-30\", \"xref\": \"x\", \"y0\": 1.8, \"y1\": 2.2, \"yref\": \"y\"}], \"showlegend\": false, \"title\": {\"text\": \"Gantt Chart\"}, \"width\": 900, \"xaxis\": {\"rangeselector\": {\"buttons\": [{\"count\": 7, \"label\": \"1w\", \"step\": \"day\", \"stepmode\": \"backward\"}, {\"count\": 1, \"label\": \"1m\", \"step\": \"month\", \"stepmode\": \"backward\"}, {\"count\": 6, \"label\": \"6m\", \"step\": \"month\", \"stepmode\": \"backward\"}, {\"count\": 1, \"label\": \"YTD\", \"step\": \"year\", \"stepmode\": \"todate\"}, {\"count\": 1, \"label\": \"1y\", \"step\": \"year\", \"stepmode\": \"backward\"}, {\"step\": \"all\"}]}, \"showgrid\": false, \"type\": \"date\", \"zeroline\": false}, \"yaxis\": {\"autorange\": false, \"range\": [-1, 4], \"showgrid\": false, \"ticktext\": [\"Job A\", \"Job B\", \"Job C\"], \"tickvals\": [0, 1, 2], \"zeroline\": false}}, {\"showLink\": false, \"linkText\": \"Export to plot.ly\", \"plotlyServerURL\": \"https://plot.ly\"})});</script>"
      ]
     },
     "metadata": {},
     "output_type": "display_data"
    }
   ],
   "source": [
    "import plotly.figure_factory as ff\n",
    "\n",
    "df = [dict(Task=\"Job A\", Start='2009-01-01', Finish='2009-02-28', Complete=10),\n",
    "      dict(Task=\"Job B\", Start='2008-12-05', Finish='2009-04-15', Complete=60),\n",
    "      dict(Task=\"Job C\", Start='2009-02-20', Finish='2009-05-30', Complete=95)]\n",
    "\n",
    "fig = ff.create_gantt(df, colors='Viridis', index_col='Complete', show_colorbar=True)\n",
    "pyo.iplot(fig, filename='gantt-numeric-variable')"
   ]
  },
  {
   "cell_type": "markdown",
   "metadata": {},
   "source": [
    "# Index by String Variable\n"
   ]
  },
  {
   "cell_type": "code",
   "execution_count": 5,
   "metadata": {},
   "outputs": [
    {
     "data": {
      "application/vnd.plotly.v1+json": {
       "config": {
        "linkText": "Export to plot.ly",
        "plotlyServerURL": "https://plot.ly",
        "showLink": false
       },
       "data": [
        {
         "marker": {
          "color": "white"
         },
         "name": "",
         "type": "scatter",
         "uid": "56c23969-f2d8-4381-974a-0eafc3f016dd",
         "x": [
          "2009-01-01",
          "2009-02-01"
         ],
         "y": [
          0,
          0
         ]
        },
        {
         "marker": {
          "color": "white"
         },
         "name": "",
         "type": "scatter",
         "uid": "3f72d05e-9030-4526-a3e2-8c39186adf52",
         "x": [
          "2009-03-05",
          "2009-04-15"
         ],
         "y": [
          1,
          1
         ]
        },
        {
         "marker": {
          "color": "white"
         },
         "name": "",
         "type": "scatter",
         "uid": "4666e43d-64fd-41d4-8f1e-176adf5ffd8c",
         "x": [
          "2009-04-20",
          "2009-09-30"
         ],
         "y": [
          2,
          2
         ]
        },
        {
         "hoverinfo": "none",
         "marker": {
          "color": "rgb(210, 60, 180)",
          "size": 1
         },
         "name": "Apple",
         "showlegend": true,
         "type": "scatter",
         "uid": "40827a40-4b9d-4484-a5c5-5f64e03d5899",
         "x": [
          "2009-04-20",
          "2009-04-20"
         ],
         "y": [
          0,
          0
         ]
        },
        {
         "hoverinfo": "none",
         "marker": {
          "color": "rgb(51, 178, 76)",
          "size": 1
         },
         "name": "Banana",
         "showlegend": true,
         "type": "scatter",
         "uid": "bb83fd21-de82-437f-b6d0-aa9aa7f6802b",
         "x": [
          "2009-04-20",
          "2009-04-20"
         ],
         "y": [
          1,
          1
         ]
        },
        {
         "hoverinfo": "none",
         "marker": {
          "color": "rgb(122, 5, 4)",
          "size": 1
         },
         "name": "Grape",
         "showlegend": true,
         "type": "scatter",
         "uid": "5f3369ef-cbb6-4afa-af57-745c06ed6d7b",
         "x": [
          "2009-04-20",
          "2009-04-20"
         ],
         "y": [
          2,
          2
         ]
        }
       ],
       "layout": {
        "height": 600,
        "hovermode": "closest",
        "shapes": [
         {
          "fillcolor": "rgb(210, 60, 180)",
          "line": {
           "width": 0
          },
          "opacity": 1,
          "type": "rect",
          "x0": "2009-01-01",
          "x1": "2009-02-01",
          "xref": "x",
          "y0": -0.2,
          "y1": 0.2,
          "yref": "y"
         },
         {
          "fillcolor": "rgb(122, 5, 4)",
          "line": {
           "width": 0
          },
          "opacity": 1,
          "type": "rect",
          "x0": "2009-03-05",
          "x1": "2009-04-15",
          "xref": "x",
          "y0": 0.8,
          "y1": 1.2,
          "yref": "y"
         },
         {
          "fillcolor": "rgb(51, 178, 76)",
          "line": {
           "width": 0
          },
          "opacity": 1,
          "type": "rect",
          "x0": "2009-04-20",
          "x1": "2009-09-30",
          "xref": "x",
          "y0": 1.8,
          "y1": 2.2,
          "yref": "y"
         }
        ],
        "showlegend": true,
        "title": {
         "text": "Gantt Chart"
        },
        "width": 900,
        "xaxis": {
         "rangeselector": {
          "buttons": [
           {
            "count": 7,
            "label": "1w",
            "step": "day",
            "stepmode": "backward"
           },
           {
            "count": 1,
            "label": "1m",
            "step": "month",
            "stepmode": "backward"
           },
           {
            "count": 6,
            "label": "6m",
            "step": "month",
            "stepmode": "backward"
           },
           {
            "count": 1,
            "label": "YTD",
            "step": "year",
            "stepmode": "todate"
           },
           {
            "count": 1,
            "label": "1y",
            "step": "year",
            "stepmode": "backward"
           },
           {
            "step": "all"
           }
          ]
         },
         "showgrid": false,
         "type": "date",
         "zeroline": false
        },
        "yaxis": {
         "autorange": false,
         "range": [
          -1,
          4
         ],
         "showgrid": false,
         "ticktext": [
          "Job A",
          "Job B",
          "Job C"
         ],
         "tickvals": [
          0,
          1,
          2
         ],
         "zeroline": false
        }
       }
      },
      "text/html": [
       "<div id=\"7cc5ee37-ab6c-43ef-a733-62cb0fd78432\" style=\"height: 600px; width: 900px;\" class=\"plotly-graph-div\"></div><script type=\"text/javascript\">require([\"plotly\"], function(Plotly) { window.PLOTLYENV=window.PLOTLYENV || {};window.PLOTLYENV.BASE_URL=\"https://plot.ly\";Plotly.newPlot(\"7cc5ee37-ab6c-43ef-a733-62cb0fd78432\", [{\"marker\": {\"color\": \"white\"}, \"name\": \"\", \"x\": [\"2009-01-01\", \"2009-02-01\"], \"y\": [0, 0], \"type\": \"scatter\", \"uid\": \"65ee5eb2-20cc-472a-ab2e-d162be9343a0\"}, {\"marker\": {\"color\": \"white\"}, \"name\": \"\", \"x\": [\"2009-03-05\", \"2009-04-15\"], \"y\": [1, 1], \"type\": \"scatter\", \"uid\": \"b7538ed7-94f2-4009-b523-6e94a04b2e12\"}, {\"marker\": {\"color\": \"white\"}, \"name\": \"\", \"x\": [\"2009-04-20\", \"2009-09-30\"], \"y\": [2, 2], \"type\": \"scatter\", \"uid\": \"a17ba038-c3af-4114-9623-39e21d35a55c\"}, {\"hoverinfo\": \"none\", \"marker\": {\"color\": \"rgb(210, 60, 180)\", \"size\": 1}, \"name\": \"Apple\", \"showlegend\": true, \"x\": [\"2009-04-20\", \"2009-04-20\"], \"y\": [0, 0], \"type\": \"scatter\", \"uid\": \"ae1d7038-45fc-4c6f-b60c-7c9133a374f9\"}, {\"hoverinfo\": \"none\", \"marker\": {\"color\": \"rgb(51, 178, 76)\", \"size\": 1}, \"name\": \"Banana\", \"showlegend\": true, \"x\": [\"2009-04-20\", \"2009-04-20\"], \"y\": [1, 1], \"type\": \"scatter\", \"uid\": \"44e8328c-c5ff-4ea4-b729-ffbb58b1c3c9\"}, {\"hoverinfo\": \"none\", \"marker\": {\"color\": \"rgb(122, 5, 4)\", \"size\": 1}, \"name\": \"Grape\", \"showlegend\": true, \"x\": [\"2009-04-20\", \"2009-04-20\"], \"y\": [2, 2], \"type\": \"scatter\", \"uid\": \"d7dc1dee-57a7-4026-9cf8-c7ef522701ab\"}], {\"height\": 600, \"hovermode\": \"closest\", \"shapes\": [{\"fillcolor\": \"rgb(210, 60, 180)\", \"line\": {\"width\": 0}, \"opacity\": 1, \"type\": \"rect\", \"x0\": \"2009-01-01\", \"x1\": \"2009-02-01\", \"xref\": \"x\", \"y0\": -0.2, \"y1\": 0.2, \"yref\": \"y\"}, {\"fillcolor\": \"rgb(122, 5, 4)\", \"line\": {\"width\": 0}, \"opacity\": 1, \"type\": \"rect\", \"x0\": \"2009-03-05\", \"x1\": \"2009-04-15\", \"xref\": \"x\", \"y0\": 0.8, \"y1\": 1.2, \"yref\": \"y\"}, {\"fillcolor\": \"rgb(51, 178, 76)\", \"line\": {\"width\": 0}, \"opacity\": 1, \"type\": \"rect\", \"x0\": \"2009-04-20\", \"x1\": \"2009-09-30\", \"xref\": \"x\", \"y0\": 1.8, \"y1\": 2.2, \"yref\": \"y\"}], \"showlegend\": true, \"title\": {\"text\": \"Gantt Chart\"}, \"width\": 900, \"xaxis\": {\"rangeselector\": {\"buttons\": [{\"count\": 7, \"label\": \"1w\", \"step\": \"day\", \"stepmode\": \"backward\"}, {\"count\": 1, \"label\": \"1m\", \"step\": \"month\", \"stepmode\": \"backward\"}, {\"count\": 6, \"label\": \"6m\", \"step\": \"month\", \"stepmode\": \"backward\"}, {\"count\": 1, \"label\": \"YTD\", \"step\": \"year\", \"stepmode\": \"todate\"}, {\"count\": 1, \"label\": \"1y\", \"step\": \"year\", \"stepmode\": \"backward\"}, {\"step\": \"all\"}]}, \"showgrid\": false, \"type\": \"date\", \"zeroline\": false}, \"yaxis\": {\"autorange\": false, \"range\": [-1, 4], \"showgrid\": false, \"ticktext\": [\"Job A\", \"Job B\", \"Job C\"], \"tickvals\": [0, 1, 2], \"zeroline\": false}}, {\"showLink\": false, \"linkText\": \"Export to plot.ly\", \"plotlyServerURL\": \"https://plot.ly\"})});</script>"
      ],
      "text/vnd.plotly.v1+html": [
       "<div id=\"7cc5ee37-ab6c-43ef-a733-62cb0fd78432\" style=\"height: 600px; width: 900px;\" class=\"plotly-graph-div\"></div><script type=\"text/javascript\">require([\"plotly\"], function(Plotly) { window.PLOTLYENV=window.PLOTLYENV || {};window.PLOTLYENV.BASE_URL=\"https://plot.ly\";Plotly.newPlot(\"7cc5ee37-ab6c-43ef-a733-62cb0fd78432\", [{\"marker\": {\"color\": \"white\"}, \"name\": \"\", \"x\": [\"2009-01-01\", \"2009-02-01\"], \"y\": [0, 0], \"type\": \"scatter\", \"uid\": \"65ee5eb2-20cc-472a-ab2e-d162be9343a0\"}, {\"marker\": {\"color\": \"white\"}, \"name\": \"\", \"x\": [\"2009-03-05\", \"2009-04-15\"], \"y\": [1, 1], \"type\": \"scatter\", \"uid\": \"b7538ed7-94f2-4009-b523-6e94a04b2e12\"}, {\"marker\": {\"color\": \"white\"}, \"name\": \"\", \"x\": [\"2009-04-20\", \"2009-09-30\"], \"y\": [2, 2], \"type\": \"scatter\", \"uid\": \"a17ba038-c3af-4114-9623-39e21d35a55c\"}, {\"hoverinfo\": \"none\", \"marker\": {\"color\": \"rgb(210, 60, 180)\", \"size\": 1}, \"name\": \"Apple\", \"showlegend\": true, \"x\": [\"2009-04-20\", \"2009-04-20\"], \"y\": [0, 0], \"type\": \"scatter\", \"uid\": \"ae1d7038-45fc-4c6f-b60c-7c9133a374f9\"}, {\"hoverinfo\": \"none\", \"marker\": {\"color\": \"rgb(51, 178, 76)\", \"size\": 1}, \"name\": \"Banana\", \"showlegend\": true, \"x\": [\"2009-04-20\", \"2009-04-20\"], \"y\": [1, 1], \"type\": \"scatter\", \"uid\": \"44e8328c-c5ff-4ea4-b729-ffbb58b1c3c9\"}, {\"hoverinfo\": \"none\", \"marker\": {\"color\": \"rgb(122, 5, 4)\", \"size\": 1}, \"name\": \"Grape\", \"showlegend\": true, \"x\": [\"2009-04-20\", \"2009-04-20\"], \"y\": [2, 2], \"type\": \"scatter\", \"uid\": \"d7dc1dee-57a7-4026-9cf8-c7ef522701ab\"}], {\"height\": 600, \"hovermode\": \"closest\", \"shapes\": [{\"fillcolor\": \"rgb(210, 60, 180)\", \"line\": {\"width\": 0}, \"opacity\": 1, \"type\": \"rect\", \"x0\": \"2009-01-01\", \"x1\": \"2009-02-01\", \"xref\": \"x\", \"y0\": -0.2, \"y1\": 0.2, \"yref\": \"y\"}, {\"fillcolor\": \"rgb(122, 5, 4)\", \"line\": {\"width\": 0}, \"opacity\": 1, \"type\": \"rect\", \"x0\": \"2009-03-05\", \"x1\": \"2009-04-15\", \"xref\": \"x\", \"y0\": 0.8, \"y1\": 1.2, \"yref\": \"y\"}, {\"fillcolor\": \"rgb(51, 178, 76)\", \"line\": {\"width\": 0}, \"opacity\": 1, \"type\": \"rect\", \"x0\": \"2009-04-20\", \"x1\": \"2009-09-30\", \"xref\": \"x\", \"y0\": 1.8, \"y1\": 2.2, \"yref\": \"y\"}], \"showlegend\": true, \"title\": {\"text\": \"Gantt Chart\"}, \"width\": 900, \"xaxis\": {\"rangeselector\": {\"buttons\": [{\"count\": 7, \"label\": \"1w\", \"step\": \"day\", \"stepmode\": \"backward\"}, {\"count\": 1, \"label\": \"1m\", \"step\": \"month\", \"stepmode\": \"backward\"}, {\"count\": 6, \"label\": \"6m\", \"step\": \"month\", \"stepmode\": \"backward\"}, {\"count\": 1, \"label\": \"YTD\", \"step\": \"year\", \"stepmode\": \"todate\"}, {\"count\": 1, \"label\": \"1y\", \"step\": \"year\", \"stepmode\": \"backward\"}, {\"step\": \"all\"}]}, \"showgrid\": false, \"type\": \"date\", \"zeroline\": false}, \"yaxis\": {\"autorange\": false, \"range\": [-1, 4], \"showgrid\": false, \"ticktext\": [\"Job A\", \"Job B\", \"Job C\"], \"tickvals\": [0, 1, 2], \"zeroline\": false}}, {\"showLink\": false, \"linkText\": \"Export to plot.ly\", \"plotlyServerURL\": \"https://plot.ly\"})});</script>"
      ]
     },
     "metadata": {},
     "output_type": "display_data"
    }
   ],
   "source": [
    "import plotly.figure_factory as ff\n",
    "\n",
    "df = [dict(Task=\"Job A\", Start='2009-01-01', Finish='2009-02-01', Resource='Apple'),\n",
    "      dict(Task=\"Job B\", Start='2009-03-05', Finish='2009-04-15', Resource='Grape'),\n",
    "      dict(Task=\"Job C\", Start='2009-04-20', Finish='2009-09-30', Resource='Banana')]\n",
    "\n",
    "colors = ['#7a0504', (0.2, 0.7, 0.3), 'rgb(210, 60, 180)']\n",
    "\n",
    "fig = ff.create_gantt(df, colors=colors, index_col='Resource', reverse_colors=True, show_colorbar=True)\n",
    "pyo.iplot(fig, filename='gantt-string-variable')"
   ]
  },
  {
   "cell_type": "markdown",
   "metadata": {},
   "source": [
    "# Use a Dictionary for Colors"
   ]
  },
  {
   "cell_type": "code",
   "execution_count": 6,
   "metadata": {},
   "outputs": [
    {
     "data": {
      "application/vnd.plotly.v1+json": {
       "config": {
        "linkText": "Export to plot.ly",
        "plotlyServerURL": "https://plot.ly",
        "showLink": false
       },
       "data": [
        {
         "marker": {
          "color": "white"
         },
         "name": "",
         "showlegend": false,
         "type": "scatter",
         "uid": "4671f6ca-fa5c-43ff-98c0-ad42de398eb1",
         "x": [
          "2016-01-01",
          "2016-01-02"
         ],
         "y": [
          0,
          0
         ]
        },
        {
         "marker": {
          "color": "white"
         },
         "name": "",
         "showlegend": false,
         "type": "scatter",
         "uid": "71fc09d3-beeb-4008-bf5d-33673de6cff8",
         "x": [
          "2016-01-02",
          "2016-01-04"
         ],
         "y": [
          1,
          1
         ]
        },
        {
         "marker": {
          "color": "white"
         },
         "name": "",
         "showlegend": false,
         "type": "scatter",
         "uid": "6c9fa8ff-2c98-4a9f-8816-1000085c7d0c",
         "x": [
          "2016-01-02",
          "2016-01-03"
         ],
         "y": [
          2,
          2
         ]
        },
        {
         "hoverinfo": "none",
         "marker": {
          "color": "rgb(220, 0, 0)",
          "size": 1
         },
         "name": "Apple",
         "showlegend": true,
         "type": "scatter",
         "uid": "cacb6dc4-af75-409e-b483-4a213ff09955",
         "x": [
          "2016-01-02",
          "2016-01-02"
         ],
         "y": [
          0,
          0
         ]
        },
        {
         "hoverinfo": "none",
         "marker": {
          "color": "rgb(255, 230, 41)",
          "size": 1
         },
         "name": "Banana",
         "showlegend": true,
         "type": "scatter",
         "uid": "3686b0d7-d450-4320-a913-b7b60912381b",
         "x": [
          "2016-01-02",
          "2016-01-02"
         ],
         "y": [
          1,
          1
         ]
        },
        {
         "hoverinfo": "none",
         "marker": {
          "color": "rgb(170, 14, 200)",
          "size": 1
         },
         "name": "Grape",
         "showlegend": true,
         "type": "scatter",
         "uid": "b514fd45-8485-4306-a190-dba30d52a2a5",
         "x": [
          "2016-01-02",
          "2016-01-02"
         ],
         "y": [
          2,
          2
         ]
        }
       ],
       "layout": {
        "height": 600,
        "hovermode": "closest",
        "shapes": [
         {
          "fillcolor": "rgb(220, 0, 0)",
          "line": {
           "width": 0
          },
          "opacity": 1,
          "type": "rect",
          "x0": "2016-01-01",
          "x1": "2016-01-02",
          "xref": "x",
          "y0": -0.2,
          "y1": 0.2,
          "yref": "y"
         },
         {
          "fillcolor": "rgb(170, 14, 200)",
          "line": {
           "width": 0
          },
          "opacity": 1,
          "type": "rect",
          "x0": "2016-01-02",
          "x1": "2016-01-04",
          "xref": "x",
          "y0": 0.8,
          "y1": 1.2,
          "yref": "y"
         },
         {
          "fillcolor": "rgb(255, 230, 41)",
          "line": {
           "width": 0
          },
          "opacity": 1,
          "type": "rect",
          "x0": "2016-01-02",
          "x1": "2016-01-03",
          "xref": "x",
          "y0": 1.8,
          "y1": 2.2,
          "yref": "y"
         }
        ],
        "showlegend": true,
        "title": {
         "text": "Gantt Chart"
        },
        "width": 900,
        "xaxis": {
         "rangeselector": {
          "buttons": [
           {
            "count": 7,
            "label": "1w",
            "step": "day",
            "stepmode": "backward"
           },
           {
            "count": 1,
            "label": "1m",
            "step": "month",
            "stepmode": "backward"
           },
           {
            "count": 6,
            "label": "6m",
            "step": "month",
            "stepmode": "backward"
           },
           {
            "count": 1,
            "label": "YTD",
            "step": "year",
            "stepmode": "todate"
           },
           {
            "count": 1,
            "label": "1y",
            "step": "year",
            "stepmode": "backward"
           },
           {
            "step": "all"
           }
          ]
         },
         "showgrid": false,
         "type": "date",
         "zeroline": false
        },
        "yaxis": {
         "autorange": false,
         "range": [
          -1,
          4
         ],
         "showgrid": false,
         "ticktext": [
          "Job A",
          "Job B",
          "Job C"
         ],
         "tickvals": [
          0,
          1,
          2
         ],
         "zeroline": false
        }
       }
      },
      "text/html": [
       "<div id=\"c197e223-d965-4bd1-9989-277642f69f6e\" style=\"height: 600px; width: 900px;\" class=\"plotly-graph-div\"></div><script type=\"text/javascript\">require([\"plotly\"], function(Plotly) { window.PLOTLYENV=window.PLOTLYENV || {};window.PLOTLYENV.BASE_URL=\"https://plot.ly\";Plotly.newPlot(\"c197e223-d965-4bd1-9989-277642f69f6e\", [{\"marker\": {\"color\": \"white\"}, \"name\": \"\", \"showlegend\": false, \"x\": [\"2016-01-01\", \"2016-01-02\"], \"y\": [0, 0], \"type\": \"scatter\", \"uid\": \"d15a89a2-d91f-4090-8a92-87e564850066\"}, {\"marker\": {\"color\": \"white\"}, \"name\": \"\", \"showlegend\": false, \"x\": [\"2016-01-02\", \"2016-01-04\"], \"y\": [1, 1], \"type\": \"scatter\", \"uid\": \"9fce18eb-4fc7-4c66-8523-4a5dc0539abb\"}, {\"marker\": {\"color\": \"white\"}, \"name\": \"\", \"showlegend\": false, \"x\": [\"2016-01-02\", \"2016-01-03\"], \"y\": [2, 2], \"type\": \"scatter\", \"uid\": \"a5b8765e-2580-4420-b935-e1b4c54bc8c6\"}, {\"hoverinfo\": \"none\", \"marker\": {\"color\": \"rgb(220, 0, 0)\", \"size\": 1}, \"name\": \"Apple\", \"showlegend\": true, \"x\": [\"2016-01-02\", \"2016-01-02\"], \"y\": [0, 0], \"type\": \"scatter\", \"uid\": \"84e6e0b3-f991-4c13-8223-d77e2c230100\"}, {\"hoverinfo\": \"none\", \"marker\": {\"color\": \"rgb(255, 230, 41)\", \"size\": 1}, \"name\": \"Banana\", \"showlegend\": true, \"x\": [\"2016-01-02\", \"2016-01-02\"], \"y\": [1, 1], \"type\": \"scatter\", \"uid\": \"f36c1863-bcaa-482a-abf2-695c4ab3c086\"}, {\"hoverinfo\": \"none\", \"marker\": {\"color\": \"rgb(170, 14, 200)\", \"size\": 1}, \"name\": \"Grape\", \"showlegend\": true, \"x\": [\"2016-01-02\", \"2016-01-02\"], \"y\": [2, 2], \"type\": \"scatter\", \"uid\": \"900b95da-37b6-40d9-970a-260ef983c8fe\"}], {\"height\": 600, \"hovermode\": \"closest\", \"shapes\": [{\"fillcolor\": \"rgb(220, 0, 0)\", \"line\": {\"width\": 0}, \"opacity\": 1, \"type\": \"rect\", \"x0\": \"2016-01-01\", \"x1\": \"2016-01-02\", \"xref\": \"x\", \"y0\": -0.2, \"y1\": 0.2, \"yref\": \"y\"}, {\"fillcolor\": \"rgb(170, 14, 200)\", \"line\": {\"width\": 0}, \"opacity\": 1, \"type\": \"rect\", \"x0\": \"2016-01-02\", \"x1\": \"2016-01-04\", \"xref\": \"x\", \"y0\": 0.8, \"y1\": 1.2, \"yref\": \"y\"}, {\"fillcolor\": \"rgb(255, 230, 41)\", \"line\": {\"width\": 0}, \"opacity\": 1, \"type\": \"rect\", \"x0\": \"2016-01-02\", \"x1\": \"2016-01-03\", \"xref\": \"x\", \"y0\": 1.8, \"y1\": 2.2, \"yref\": \"y\"}], \"showlegend\": true, \"title\": {\"text\": \"Gantt Chart\"}, \"width\": 900, \"xaxis\": {\"rangeselector\": {\"buttons\": [{\"count\": 7, \"label\": \"1w\", \"step\": \"day\", \"stepmode\": \"backward\"}, {\"count\": 1, \"label\": \"1m\", \"step\": \"month\", \"stepmode\": \"backward\"}, {\"count\": 6, \"label\": \"6m\", \"step\": \"month\", \"stepmode\": \"backward\"}, {\"count\": 1, \"label\": \"YTD\", \"step\": \"year\", \"stepmode\": \"todate\"}, {\"count\": 1, \"label\": \"1y\", \"step\": \"year\", \"stepmode\": \"backward\"}, {\"step\": \"all\"}]}, \"showgrid\": false, \"type\": \"date\", \"zeroline\": false}, \"yaxis\": {\"autorange\": false, \"range\": [-1, 4], \"showgrid\": false, \"ticktext\": [\"Job A\", \"Job B\", \"Job C\"], \"tickvals\": [0, 1, 2], \"zeroline\": false}}, {\"showLink\": false, \"linkText\": \"Export to plot.ly\", \"plotlyServerURL\": \"https://plot.ly\"})});</script>"
      ],
      "text/vnd.plotly.v1+html": [
       "<div id=\"c197e223-d965-4bd1-9989-277642f69f6e\" style=\"height: 600px; width: 900px;\" class=\"plotly-graph-div\"></div><script type=\"text/javascript\">require([\"plotly\"], function(Plotly) { window.PLOTLYENV=window.PLOTLYENV || {};window.PLOTLYENV.BASE_URL=\"https://plot.ly\";Plotly.newPlot(\"c197e223-d965-4bd1-9989-277642f69f6e\", [{\"marker\": {\"color\": \"white\"}, \"name\": \"\", \"showlegend\": false, \"x\": [\"2016-01-01\", \"2016-01-02\"], \"y\": [0, 0], \"type\": \"scatter\", \"uid\": \"d15a89a2-d91f-4090-8a92-87e564850066\"}, {\"marker\": {\"color\": \"white\"}, \"name\": \"\", \"showlegend\": false, \"x\": [\"2016-01-02\", \"2016-01-04\"], \"y\": [1, 1], \"type\": \"scatter\", \"uid\": \"9fce18eb-4fc7-4c66-8523-4a5dc0539abb\"}, {\"marker\": {\"color\": \"white\"}, \"name\": \"\", \"showlegend\": false, \"x\": [\"2016-01-02\", \"2016-01-03\"], \"y\": [2, 2], \"type\": \"scatter\", \"uid\": \"a5b8765e-2580-4420-b935-e1b4c54bc8c6\"}, {\"hoverinfo\": \"none\", \"marker\": {\"color\": \"rgb(220, 0, 0)\", \"size\": 1}, \"name\": \"Apple\", \"showlegend\": true, \"x\": [\"2016-01-02\", \"2016-01-02\"], \"y\": [0, 0], \"type\": \"scatter\", \"uid\": \"84e6e0b3-f991-4c13-8223-d77e2c230100\"}, {\"hoverinfo\": \"none\", \"marker\": {\"color\": \"rgb(255, 230, 41)\", \"size\": 1}, \"name\": \"Banana\", \"showlegend\": true, \"x\": [\"2016-01-02\", \"2016-01-02\"], \"y\": [1, 1], \"type\": \"scatter\", \"uid\": \"f36c1863-bcaa-482a-abf2-695c4ab3c086\"}, {\"hoverinfo\": \"none\", \"marker\": {\"color\": \"rgb(170, 14, 200)\", \"size\": 1}, \"name\": \"Grape\", \"showlegend\": true, \"x\": [\"2016-01-02\", \"2016-01-02\"], \"y\": [2, 2], \"type\": \"scatter\", \"uid\": \"900b95da-37b6-40d9-970a-260ef983c8fe\"}], {\"height\": 600, \"hovermode\": \"closest\", \"shapes\": [{\"fillcolor\": \"rgb(220, 0, 0)\", \"line\": {\"width\": 0}, \"opacity\": 1, \"type\": \"rect\", \"x0\": \"2016-01-01\", \"x1\": \"2016-01-02\", \"xref\": \"x\", \"y0\": -0.2, \"y1\": 0.2, \"yref\": \"y\"}, {\"fillcolor\": \"rgb(170, 14, 200)\", \"line\": {\"width\": 0}, \"opacity\": 1, \"type\": \"rect\", \"x0\": \"2016-01-02\", \"x1\": \"2016-01-04\", \"xref\": \"x\", \"y0\": 0.8, \"y1\": 1.2, \"yref\": \"y\"}, {\"fillcolor\": \"rgb(255, 230, 41)\", \"line\": {\"width\": 0}, \"opacity\": 1, \"type\": \"rect\", \"x0\": \"2016-01-02\", \"x1\": \"2016-01-03\", \"xref\": \"x\", \"y0\": 1.8, \"y1\": 2.2, \"yref\": \"y\"}], \"showlegend\": true, \"title\": {\"text\": \"Gantt Chart\"}, \"width\": 900, \"xaxis\": {\"rangeselector\": {\"buttons\": [{\"count\": 7, \"label\": \"1w\", \"step\": \"day\", \"stepmode\": \"backward\"}, {\"count\": 1, \"label\": \"1m\", \"step\": \"month\", \"stepmode\": \"backward\"}, {\"count\": 6, \"label\": \"6m\", \"step\": \"month\", \"stepmode\": \"backward\"}, {\"count\": 1, \"label\": \"YTD\", \"step\": \"year\", \"stepmode\": \"todate\"}, {\"count\": 1, \"label\": \"1y\", \"step\": \"year\", \"stepmode\": \"backward\"}, {\"step\": \"all\"}]}, \"showgrid\": false, \"type\": \"date\", \"zeroline\": false}, \"yaxis\": {\"autorange\": false, \"range\": [-1, 4], \"showgrid\": false, \"ticktext\": [\"Job A\", \"Job B\", \"Job C\"], \"tickvals\": [0, 1, 2], \"zeroline\": false}}, {\"showLink\": false, \"linkText\": \"Export to plot.ly\", \"plotlyServerURL\": \"https://plot.ly\"})});</script>"
      ]
     },
     "metadata": {},
     "output_type": "display_data"
    }
   ],
   "source": [
    "import plotly.figure_factory as ff\n",
    "\n",
    "df = [dict(Task=\"Job A\", Start='2016-01-01', Finish='2016-01-02', Resource='Apple'),\n",
    "      dict(Task=\"Job B\", Start='2016-01-02', Finish='2016-01-04', Resource='Grape'),\n",
    "      dict(Task=\"Job C\", Start='2016-01-02', Finish='2016-01-03', Resource='Banana')]\n",
    "\n",
    "colors = dict(Apple = 'rgb(220, 0, 0)',\n",
    "              Grape = 'rgb(170, 14, 200)',\n",
    "              Banana = (1, 0.9, 0.16))\n",
    "\n",
    "fig = ff.create_gantt(df, colors=colors, index_col='Resource', show_colorbar=True)\n",
    "pyo.iplot(fig, filename='gantt-dictioanry-colors')"
   ]
  },
  {
   "cell_type": "markdown",
   "metadata": {},
   "source": [
    "# Use a Pandas Dataframe\n"
   ]
  },
  {
   "cell_type": "code",
   "execution_count": 7,
   "metadata": {},
   "outputs": [
    {
     "data": {
      "application/vnd.plotly.v1+json": {
       "config": {
        "linkText": "Export to plot.ly",
        "plotlyServerURL": "https://plot.ly",
        "showLink": false
       },
       "data": [
        {
         "marker": {
          "color": "white"
         },
         "name": "",
         "type": "scatter",
         "uid": "46f1ea40-1f50-4b9c-b3de-57f29dee9fea",
         "x": [
          "2009-01-01",
          "2009-02-26"
         ],
         "y": [
          0,
          0
         ]
        },
        {
         "marker": {
          "color": "white"
         },
         "name": "",
         "type": "scatter",
         "uid": "ad70879b-3acf-4e5d-b9c1-2794e3592a8a",
         "x": [
          "2009-03-05",
          "2009-04-15"
         ],
         "y": [
          1,
          1
         ]
        },
        {
         "marker": {
          "color": "white"
         },
         "name": "",
         "type": "scatter",
         "uid": "3bdcb3c8-6816-4d31-8513-fed018c63027",
         "x": [
          "2009-02-20 12:40:00",
          "2009-05-30 15:12:44"
         ],
         "y": [
          2,
          2
         ]
        },
        {
         "marker": {
          "color": "white"
         },
         "name": "",
         "type": "scatter",
         "uid": "9b2b101e-e786-46d1-8149-da130e0aba75",
         "x": [
          "2009-03-10",
          "2009-04-30"
         ],
         "y": [
          3,
          3
         ]
        },
        {
         "marker": {
          "color": "white"
         },
         "name": "",
         "type": "scatter",
         "uid": "c36e147f-cff0-4726-975e-85f69cc34470",
         "x": [
          "2009-02-25",
          "2009-06-30"
         ],
         "y": [
          4,
          4
         ]
        },
        {
         "marker": {
          "cmax": 100,
          "cmin": 0,
          "color": "white",
          "colorscale": [
           [
            0,
            "rgb(51.0, 63.0, 68.0)"
           ],
           [
            1,
            "rgb(147.0, 228.0, 193.0)"
           ]
          ],
          "showscale": true
         },
         "name": "",
         "type": "scatter",
         "uid": "d62e487a-8b43-498b-890c-3c8a36f94ecd",
         "x": [
          "2009-02-25",
          "2009-02-25"
         ],
         "y": [
          4,
          4
         ]
        }
       ],
       "layout": {
        "height": 600,
        "hovermode": "closest",
        "shapes": [
         {
          "fillcolor": "rgb(73.08, 100.95, 96.75)",
          "line": {
           "width": 0
          },
          "opacity": 1,
          "type": "rect",
          "x0": "2009-01-01",
          "x1": "2009-02-26",
          "xref": "x",
          "y0": -0.2,
          "y1": 0.2,
          "yref": "y"
         },
         {
          "fillcolor": "rgb(103.80000000000001, 153.75, 136.75)",
          "line": {
           "width": 0
          },
          "opacity": 1,
          "type": "rect",
          "x0": "2009-03-05",
          "x1": "2009-04-15",
          "xref": "x",
          "y0": 0.8,
          "y1": 1.2,
          "yref": "y"
         },
         {
          "fillcolor": "rgb(144.12, 223.04999999999998, 189.25)",
          "line": {
           "width": 0
          },
          "opacity": 1,
          "type": "rect",
          "x0": "2009-02-20 12:40:00",
          "x1": "2009-05-30 15:12:44",
          "xref": "x",
          "y0": 1.8,
          "y1": 2.2,
          "yref": "y"
         },
         {
          "fillcolor": "rgb(61.56, 81.15, 81.75)",
          "line": {
           "width": 0
          },
          "opacity": 1,
          "type": "rect",
          "x0": "2009-03-10",
          "x1": "2009-04-30",
          "xref": "x",
          "y0": 2.8,
          "y1": 3.2,
          "yref": "y"
         },
         {
          "fillcolor": "rgb(64.44, 86.1, 85.5)",
          "line": {
           "width": 0
          },
          "opacity": 1,
          "type": "rect",
          "x0": "2009-02-25",
          "x1": "2009-06-30",
          "xref": "x",
          "y0": 3.8,
          "y1": 4.2,
          "yref": "y"
         }
        ],
        "showlegend": false,
        "title": {
         "text": "Gantt Chart"
        },
        "width": 900,
        "xaxis": {
         "rangeselector": {
          "buttons": [
           {
            "count": 7,
            "label": "1w",
            "step": "day",
            "stepmode": "backward"
           },
           {
            "count": 1,
            "label": "1m",
            "step": "month",
            "stepmode": "backward"
           },
           {
            "count": 6,
            "label": "6m",
            "step": "month",
            "stepmode": "backward"
           },
           {
            "count": 1,
            "label": "YTD",
            "step": "year",
            "stepmode": "todate"
           },
           {
            "count": 1,
            "label": "1y",
            "step": "year",
            "stepmode": "backward"
           },
           {
            "step": "all"
           }
          ]
         },
         "showgrid": true,
         "type": "date",
         "zeroline": false
        },
        "yaxis": {
         "autorange": false,
         "range": [
          -1,
          6
         ],
         "showgrid": true,
         "ticktext": [
          "Job A",
          "Job B",
          "Job C",
          "Job D",
          "Job E"
         ],
         "tickvals": [
          0,
          1,
          2,
          3,
          4
         ],
         "zeroline": false
        }
       }
      },
      "text/html": [
       "<div id=\"11e37d11-8a21-4e34-b051-2dc671a9e119\" style=\"height: 600px; width: 900px;\" class=\"plotly-graph-div\"></div><script type=\"text/javascript\">require([\"plotly\"], function(Plotly) { window.PLOTLYENV=window.PLOTLYENV || {};window.PLOTLYENV.BASE_URL=\"https://plot.ly\";Plotly.newPlot(\"11e37d11-8a21-4e34-b051-2dc671a9e119\", [{\"marker\": {\"color\": \"white\"}, \"name\": \"\", \"x\": [\"2009-01-01\", \"2009-02-26\"], \"y\": [0, 0], \"type\": \"scatter\", \"uid\": \"15d3c97a-b043-4d2e-ab5b-2eb75f88488a\"}, {\"marker\": {\"color\": \"white\"}, \"name\": \"\", \"x\": [\"2009-03-05\", \"2009-04-15\"], \"y\": [1, 1], \"type\": \"scatter\", \"uid\": \"ebf5df89-eb06-4871-b8be-c0ce6ca78b33\"}, {\"marker\": {\"color\": \"white\"}, \"name\": \"\", \"x\": [\"2009-02-20 12:40:00\", \"2009-05-30 15:12:44\"], \"y\": [2, 2], \"type\": \"scatter\", \"uid\": \"8f7a451f-159b-46db-8727-a23ef2d9640d\"}, {\"marker\": {\"color\": \"white\"}, \"name\": \"\", \"x\": [\"2009-03-10\", \"2009-04-30\"], \"y\": [3, 3], \"type\": \"scatter\", \"uid\": \"2611161d-2c1b-4607-814f-bdb23b239e0e\"}, {\"marker\": {\"color\": \"white\"}, \"name\": \"\", \"x\": [\"2009-02-25\", \"2009-06-30\"], \"y\": [4, 4], \"type\": \"scatter\", \"uid\": \"57d62b79-d7cb-4dee-91f1-66fd7bf1934e\"}, {\"marker\": {\"cmax\": 100, \"cmin\": 0, \"color\": \"white\", \"colorscale\": [[0, \"rgb(51.0, 63.0, 68.0)\"], [1, \"rgb(147.0, 228.0, 193.0)\"]], \"showscale\": true}, \"name\": \"\", \"x\": [\"2009-02-25\", \"2009-02-25\"], \"y\": [4, 4], \"type\": \"scatter\", \"uid\": \"c7c7e844-d919-4ad5-b5ff-33333403a318\"}], {\"height\": 600, \"hovermode\": \"closest\", \"shapes\": [{\"fillcolor\": \"rgb(73.08, 100.95, 96.75)\", \"line\": {\"width\": 0}, \"opacity\": 1, \"type\": \"rect\", \"x0\": \"2009-01-01\", \"x1\": \"2009-02-26\", \"xref\": \"x\", \"y0\": -0.2, \"y1\": 0.2, \"yref\": \"y\"}, {\"fillcolor\": \"rgb(103.80000000000001, 153.75, 136.75)\", \"line\": {\"width\": 0}, \"opacity\": 1, \"type\": \"rect\", \"x0\": \"2009-03-05\", \"x1\": \"2009-04-15\", \"xref\": \"x\", \"y0\": 0.8, \"y1\": 1.2, \"yref\": \"y\"}, {\"fillcolor\": \"rgb(144.12, 223.04999999999998, 189.25)\", \"line\": {\"width\": 0}, \"opacity\": 1, \"type\": \"rect\", \"x0\": \"2009-02-20 12:40:00\", \"x1\": \"2009-05-30 15:12:44\", \"xref\": \"x\", \"y0\": 1.8, \"y1\": 2.2, \"yref\": \"y\"}, {\"fillcolor\": \"rgb(61.56, 81.15, 81.75)\", \"line\": {\"width\": 0}, \"opacity\": 1, \"type\": \"rect\", \"x0\": \"2009-03-10\", \"x1\": \"2009-04-30\", \"xref\": \"x\", \"y0\": 2.8, \"y1\": 3.2, \"yref\": \"y\"}, {\"fillcolor\": \"rgb(64.44, 86.1, 85.5)\", \"line\": {\"width\": 0}, \"opacity\": 1, \"type\": \"rect\", \"x0\": \"2009-02-25\", \"x1\": \"2009-06-30\", \"xref\": \"x\", \"y0\": 3.8, \"y1\": 4.2, \"yref\": \"y\"}], \"showlegend\": false, \"title\": {\"text\": \"Gantt Chart\"}, \"width\": 900, \"xaxis\": {\"rangeselector\": {\"buttons\": [{\"count\": 7, \"label\": \"1w\", \"step\": \"day\", \"stepmode\": \"backward\"}, {\"count\": 1, \"label\": \"1m\", \"step\": \"month\", \"stepmode\": \"backward\"}, {\"count\": 6, \"label\": \"6m\", \"step\": \"month\", \"stepmode\": \"backward\"}, {\"count\": 1, \"label\": \"YTD\", \"step\": \"year\", \"stepmode\": \"todate\"}, {\"count\": 1, \"label\": \"1y\", \"step\": \"year\", \"stepmode\": \"backward\"}, {\"step\": \"all\"}]}, \"showgrid\": true, \"type\": \"date\", \"zeroline\": false}, \"yaxis\": {\"autorange\": false, \"range\": [-1, 6], \"showgrid\": true, \"ticktext\": [\"Job A\", \"Job B\", \"Job C\", \"Job D\", \"Job E\"], \"tickvals\": [0, 1, 2, 3, 4], \"zeroline\": false}}, {\"showLink\": false, \"linkText\": \"Export to plot.ly\", \"plotlyServerURL\": \"https://plot.ly\"})});</script>"
      ],
      "text/vnd.plotly.v1+html": [
       "<div id=\"11e37d11-8a21-4e34-b051-2dc671a9e119\" style=\"height: 600px; width: 900px;\" class=\"plotly-graph-div\"></div><script type=\"text/javascript\">require([\"plotly\"], function(Plotly) { window.PLOTLYENV=window.PLOTLYENV || {};window.PLOTLYENV.BASE_URL=\"https://plot.ly\";Plotly.newPlot(\"11e37d11-8a21-4e34-b051-2dc671a9e119\", [{\"marker\": {\"color\": \"white\"}, \"name\": \"\", \"x\": [\"2009-01-01\", \"2009-02-26\"], \"y\": [0, 0], \"type\": \"scatter\", \"uid\": \"15d3c97a-b043-4d2e-ab5b-2eb75f88488a\"}, {\"marker\": {\"color\": \"white\"}, \"name\": \"\", \"x\": [\"2009-03-05\", \"2009-04-15\"], \"y\": [1, 1], \"type\": \"scatter\", \"uid\": \"ebf5df89-eb06-4871-b8be-c0ce6ca78b33\"}, {\"marker\": {\"color\": \"white\"}, \"name\": \"\", \"x\": [\"2009-02-20 12:40:00\", \"2009-05-30 15:12:44\"], \"y\": [2, 2], \"type\": \"scatter\", \"uid\": \"8f7a451f-159b-46db-8727-a23ef2d9640d\"}, {\"marker\": {\"color\": \"white\"}, \"name\": \"\", \"x\": [\"2009-03-10\", \"2009-04-30\"], \"y\": [3, 3], \"type\": \"scatter\", \"uid\": \"2611161d-2c1b-4607-814f-bdb23b239e0e\"}, {\"marker\": {\"color\": \"white\"}, \"name\": \"\", \"x\": [\"2009-02-25\", \"2009-06-30\"], \"y\": [4, 4], \"type\": \"scatter\", \"uid\": \"57d62b79-d7cb-4dee-91f1-66fd7bf1934e\"}, {\"marker\": {\"cmax\": 100, \"cmin\": 0, \"color\": \"white\", \"colorscale\": [[0, \"rgb(51.0, 63.0, 68.0)\"], [1, \"rgb(147.0, 228.0, 193.0)\"]], \"showscale\": true}, \"name\": \"\", \"x\": [\"2009-02-25\", \"2009-02-25\"], \"y\": [4, 4], \"type\": \"scatter\", \"uid\": \"c7c7e844-d919-4ad5-b5ff-33333403a318\"}], {\"height\": 600, \"hovermode\": \"closest\", \"shapes\": [{\"fillcolor\": \"rgb(73.08, 100.95, 96.75)\", \"line\": {\"width\": 0}, \"opacity\": 1, \"type\": \"rect\", \"x0\": \"2009-01-01\", \"x1\": \"2009-02-26\", \"xref\": \"x\", \"y0\": -0.2, \"y1\": 0.2, \"yref\": \"y\"}, {\"fillcolor\": \"rgb(103.80000000000001, 153.75, 136.75)\", \"line\": {\"width\": 0}, \"opacity\": 1, \"type\": \"rect\", \"x0\": \"2009-03-05\", \"x1\": \"2009-04-15\", \"xref\": \"x\", \"y0\": 0.8, \"y1\": 1.2, \"yref\": \"y\"}, {\"fillcolor\": \"rgb(144.12, 223.04999999999998, 189.25)\", \"line\": {\"width\": 0}, \"opacity\": 1, \"type\": \"rect\", \"x0\": \"2009-02-20 12:40:00\", \"x1\": \"2009-05-30 15:12:44\", \"xref\": \"x\", \"y0\": 1.8, \"y1\": 2.2, \"yref\": \"y\"}, {\"fillcolor\": \"rgb(61.56, 81.15, 81.75)\", \"line\": {\"width\": 0}, \"opacity\": 1, \"type\": \"rect\", \"x0\": \"2009-03-10\", \"x1\": \"2009-04-30\", \"xref\": \"x\", \"y0\": 2.8, \"y1\": 3.2, \"yref\": \"y\"}, {\"fillcolor\": \"rgb(64.44, 86.1, 85.5)\", \"line\": {\"width\": 0}, \"opacity\": 1, \"type\": \"rect\", \"x0\": \"2009-02-25\", \"x1\": \"2009-06-30\", \"xref\": \"x\", \"y0\": 3.8, \"y1\": 4.2, \"yref\": \"y\"}], \"showlegend\": false, \"title\": {\"text\": \"Gantt Chart\"}, \"width\": 900, \"xaxis\": {\"rangeselector\": {\"buttons\": [{\"count\": 7, \"label\": \"1w\", \"step\": \"day\", \"stepmode\": \"backward\"}, {\"count\": 1, \"label\": \"1m\", \"step\": \"month\", \"stepmode\": \"backward\"}, {\"count\": 6, \"label\": \"6m\", \"step\": \"month\", \"stepmode\": \"backward\"}, {\"count\": 1, \"label\": \"YTD\", \"step\": \"year\", \"stepmode\": \"todate\"}, {\"count\": 1, \"label\": \"1y\", \"step\": \"year\", \"stepmode\": \"backward\"}, {\"step\": \"all\"}]}, \"showgrid\": true, \"type\": \"date\", \"zeroline\": false}, \"yaxis\": {\"autorange\": false, \"range\": [-1, 6], \"showgrid\": true, \"ticktext\": [\"Job A\", \"Job B\", \"Job C\", \"Job D\", \"Job E\"], \"tickvals\": [0, 1, 2, 3, 4], \"zeroline\": false}}, {\"showLink\": false, \"linkText\": \"Export to plot.ly\", \"plotlyServerURL\": \"https://plot.ly\"})});</script>"
      ]
     },
     "metadata": {},
     "output_type": "display_data"
    }
   ],
   "source": [
    "import plotly.figure_factory as ff\n",
    "\n",
    "import pandas as pd\n",
    "\n",
    "df = pd.read_csv('https://raw.githubusercontent.com/plotly/datasets/master/gantt_example.csv')\n",
    "\n",
    "fig = ff.create_gantt(df, colors=['#333F44', '#93e4c1'], index_col='Complete', show_colorbar=True,\n",
    "                      bar_width=0.2, showgrid_x=True, showgrid_y=True)\n",
    "pyo.iplot(fig, filename='gantt-use-a-pandas-dataframe')\n"
   ]
  },
  {
   "cell_type": "markdown",
   "metadata": {},
   "source": [
    "# Using Hours and Minutes in Times"
   ]
  },
  {
   "cell_type": "code",
   "execution_count": 8,
   "metadata": {},
   "outputs": [
    {
     "data": {
      "application/vnd.plotly.v1+json": {
       "config": {
        "linkText": "Export to plot.ly",
        "plotlyServerURL": "https://plot.ly",
        "showLink": false
       },
       "data": [
        {
         "marker": {
          "color": "white"
         },
         "name": "",
         "showlegend": false,
         "type": "scatter",
         "uid": "c30aea56-88b4-4886-8e1c-c27008486a96",
         "x": [
          "2016-01-01",
          "2016-01-01 6:00:00"
         ],
         "y": [
          0,
          0
         ]
        },
        {
         "marker": {
          "color": "white"
         },
         "name": "",
         "showlegend": false,
         "type": "scatter",
         "uid": "639f321c-d472-4fbe-90ba-56b25bcbdffa",
         "x": [
          "2016-01-01 7:00:00",
          "2016-01-01 7:30:00"
         ],
         "y": [
          1,
          1
         ]
        },
        {
         "marker": {
          "color": "white"
         },
         "name": "",
         "showlegend": false,
         "type": "scatter",
         "uid": "c580ef72-4cae-4637-83ce-0267543a8a94",
         "x": [
          "2016-01-01 9:00:00",
          "2016-01-01 11:25:00"
         ],
         "y": [
          2,
          2
         ]
        },
        {
         "marker": {
          "color": "white"
         },
         "name": "",
         "showlegend": false,
         "type": "scatter",
         "uid": "9633e5a5-02ca-4de2-a567-e4c3b05b254c",
         "x": [
          "2016-01-01 11:30:00",
          "2016-01-01 12:00:00"
         ],
         "y": [
          3,
          3
         ]
        },
        {
         "marker": {
          "color": "white"
         },
         "name": "",
         "showlegend": false,
         "type": "scatter",
         "uid": "e31bf181-45e5-4f5d-b601-1c50116eeb9d",
         "x": [
          "2016-01-01 12:00:00",
          "2016-01-01 13:00:00"
         ],
         "y": [
          4,
          4
         ]
        },
        {
         "marker": {
          "color": "white"
         },
         "name": "",
         "showlegend": false,
         "type": "scatter",
         "uid": "3c3d8a27-4afa-4f81-9852-73dac26412f2",
         "x": [
          "2016-01-01 13:00:00",
          "2016-01-01 17:00:00"
         ],
         "y": [
          5,
          5
         ]
        },
        {
         "marker": {
          "color": "white"
         },
         "name": "",
         "showlegend": false,
         "type": "scatter",
         "uid": "e62dfd8a-eb89-47d1-82ca-9448ab326ca7",
         "x": [
          "2016-01-01 17:30:00",
          "2016-01-01 18:30:00"
         ],
         "y": [
          6,
          6
         ]
        },
        {
         "marker": {
          "color": "white"
         },
         "name": "",
         "showlegend": false,
         "type": "scatter",
         "uid": "0f3e7291-4bac-495f-ab98-681cbf32f4d6",
         "x": [
          "2016-01-01 18:30:00",
          "2016-01-01 19:00:00"
         ],
         "y": [
          7,
          7
         ]
        },
        {
         "marker": {
          "color": "white"
         },
         "name": "",
         "showlegend": false,
         "type": "scatter",
         "uid": "db3d0541-a768-456a-ac1d-fc256867f3e6",
         "x": [
          "2016-01-01 19:00:00",
          "2016-01-01 20:00:00"
         ],
         "y": [
          8,
          8
         ]
        },
        {
         "marker": {
          "color": "white"
         },
         "name": "",
         "showlegend": false,
         "type": "scatter",
         "uid": "e612751a-d7ac-45b5-b9c8-5a377acfae63",
         "x": [
          "2016-01-01 21:00:00",
          "2016-01-01 23:59:00"
         ],
         "y": [
          9,
          9
         ]
        },
        {
         "hoverinfo": "none",
         "marker": {
          "color": "rgb(58, 149, 136)",
          "size": 1
         },
         "name": "Brain",
         "showlegend": true,
         "type": "scatter",
         "uid": "5b210400-1191-476e-b695-8d3aa4c35ac2",
         "x": [
          "2016-01-01 21:00:00",
          "2016-01-01 21:00:00"
         ],
         "y": [
          0,
          0
         ]
        },
        {
         "hoverinfo": "none",
         "marker": {
          "color": "rgb(46, 137, 205)",
          "size": 1
         },
         "name": "Cardio",
         "showlegend": true,
         "type": "scatter",
         "uid": "ba344f87-f1db-4a8d-8371-8a108bed6680",
         "x": [
          "2016-01-01 21:00:00",
          "2016-01-01 21:00:00"
         ],
         "y": [
          1,
          1
         ]
        },
        {
         "hoverinfo": "none",
         "marker": {
          "color": "rgb(114, 44, 121)",
          "size": 1
         },
         "name": "Food",
         "showlegend": true,
         "type": "scatter",
         "uid": "7f59cdf4-6a5d-4461-9b42-acae011e7614",
         "x": [
          "2016-01-01 21:00:00",
          "2016-01-01 21:00:00"
         ],
         "y": [
          2,
          2
         ]
        },
        {
         "hoverinfo": "none",
         "marker": {
          "color": "rgb(107, 127, 135)",
          "size": 1
         },
         "name": "Rest",
         "showlegend": true,
         "type": "scatter",
         "uid": "425b7298-4f2d-4d24-8ce8-315c93d738c0",
         "x": [
          "2016-01-01 21:00:00",
          "2016-01-01 21:00:00"
         ],
         "y": [
          3,
          3
         ]
        },
        {
         "hoverinfo": "none",
         "marker": {
          "color": "rgb(198, 47, 105)",
          "size": 1
         },
         "name": "Sleep",
         "showlegend": true,
         "type": "scatter",
         "uid": "6747ff0e-9778-41c8-adea-8b4d8b60b63b",
         "x": [
          "2016-01-01 21:00:00",
          "2016-01-01 21:00:00"
         ],
         "y": [
          4,
          4
         ]
        }
       ],
       "layout": {
        "height": 600,
        "hovermode": "closest",
        "shapes": [
         {
          "fillcolor": "rgb(198, 47, 105)",
          "line": {
           "width": 0
          },
          "opacity": 1,
          "type": "rect",
          "x0": "2016-01-01",
          "x1": "2016-01-01 6:00:00",
          "xref": "x",
          "y0": -0.8,
          "y1": 0.8,
          "yref": "y"
         },
         {
          "fillcolor": "rgb(114, 44, 121)",
          "line": {
           "width": 0
          },
          "opacity": 1,
          "type": "rect",
          "x0": "2016-01-01 7:00:00",
          "x1": "2016-01-01 7:30:00",
          "xref": "x",
          "y0": 0.19999999999999996,
          "y1": 1.8,
          "yref": "y"
         },
         {
          "fillcolor": "rgb(58, 149, 136)",
          "line": {
           "width": 0
          },
          "opacity": 1,
          "type": "rect",
          "x0": "2016-01-01 9:00:00",
          "x1": "2016-01-01 11:25:00",
          "xref": "x",
          "y0": 1.2,
          "y1": 2.8,
          "yref": "y"
         },
         {
          "fillcolor": "rgb(107, 127, 135)",
          "line": {
           "width": 0
          },
          "opacity": 1,
          "type": "rect",
          "x0": "2016-01-01 11:30:00",
          "x1": "2016-01-01 12:00:00",
          "xref": "x",
          "y0": 2.2,
          "y1": 3.8,
          "yref": "y"
         },
         {
          "fillcolor": "rgb(114, 44, 121)",
          "line": {
           "width": 0
          },
          "opacity": 1,
          "type": "rect",
          "x0": "2016-01-01 12:00:00",
          "x1": "2016-01-01 13:00:00",
          "xref": "x",
          "y0": 3.2,
          "y1": 4.8,
          "yref": "y"
         },
         {
          "fillcolor": "rgb(58, 149, 136)",
          "line": {
           "width": 0
          },
          "opacity": 1,
          "type": "rect",
          "x0": "2016-01-01 13:00:00",
          "x1": "2016-01-01 17:00:00",
          "xref": "x",
          "y0": 4.2,
          "y1": 5.8,
          "yref": "y"
         },
         {
          "fillcolor": "rgb(46, 137, 205)",
          "line": {
           "width": 0
          },
          "opacity": 1,
          "type": "rect",
          "x0": "2016-01-01 17:30:00",
          "x1": "2016-01-01 18:30:00",
          "xref": "x",
          "y0": 5.2,
          "y1": 6.8,
          "yref": "y"
         },
         {
          "fillcolor": "rgb(107, 127, 135)",
          "line": {
           "width": 0
          },
          "opacity": 1,
          "type": "rect",
          "x0": "2016-01-01 18:30:00",
          "x1": "2016-01-01 19:00:00",
          "xref": "x",
          "y0": 6.2,
          "y1": 7.8,
          "yref": "y"
         },
         {
          "fillcolor": "rgb(114, 44, 121)",
          "line": {
           "width": 0
          },
          "opacity": 1,
          "type": "rect",
          "x0": "2016-01-01 19:00:00",
          "x1": "2016-01-01 20:00:00",
          "xref": "x",
          "y0": 7.2,
          "y1": 8.8,
          "yref": "y"
         },
         {
          "fillcolor": "rgb(198, 47, 105)",
          "line": {
           "width": 0
          },
          "opacity": 1,
          "type": "rect",
          "x0": "2016-01-01 21:00:00",
          "x1": "2016-01-01 23:59:00",
          "xref": "x",
          "y0": 8.2,
          "y1": 9.8,
          "yref": "y"
         }
        ],
        "showlegend": true,
        "title": {
         "text": "Daily Schedule"
        },
        "width": 900,
        "xaxis": {
         "rangeselector": {
          "buttons": [
           {
            "count": 7,
            "label": "1w",
            "step": "day",
            "stepmode": "backward"
           },
           {
            "count": 1,
            "label": "1m",
            "step": "month",
            "stepmode": "backward"
           },
           {
            "count": 6,
            "label": "6m",
            "step": "month",
            "stepmode": "backward"
           },
           {
            "count": 1,
            "label": "YTD",
            "step": "year",
            "stepmode": "todate"
           },
           {
            "count": 1,
            "label": "1y",
            "step": "year",
            "stepmode": "backward"
           },
           {
            "step": "all"
           }
          ]
         },
         "showgrid": true,
         "type": "date",
         "zeroline": false
        },
        "yaxis": {
         "autorange": false,
         "range": [
          -1,
          11
         ],
         "showgrid": true,
         "ticktext": [
          "Morning Sleep",
          "Breakfast",
          "Work",
          "Break",
          "Lunch",
          "Work",
          "Exercise",
          "Post Workout Rest",
          "Dinner",
          "Evening Sleep"
         ],
         "tickvals": [
          0,
          1,
          2,
          3,
          4,
          5,
          6,
          7,
          8,
          9
         ],
         "zeroline": false
        }
       }
      },
      "text/html": [
       "<div id=\"dfd101f4-971d-4829-a35d-a80496b4ecd1\" style=\"height: 600px; width: 900px;\" class=\"plotly-graph-div\"></div><script type=\"text/javascript\">require([\"plotly\"], function(Plotly) { window.PLOTLYENV=window.PLOTLYENV || {};window.PLOTLYENV.BASE_URL=\"https://plot.ly\";Plotly.newPlot(\"dfd101f4-971d-4829-a35d-a80496b4ecd1\", [{\"marker\": {\"color\": \"white\"}, \"name\": \"\", \"showlegend\": false, \"x\": [\"2016-01-01\", \"2016-01-01 6:00:00\"], \"y\": [0, 0], \"type\": \"scatter\", \"uid\": \"976cdb84-6fac-470a-8c0d-b11d1ed2a0f4\"}, {\"marker\": {\"color\": \"white\"}, \"name\": \"\", \"showlegend\": false, \"x\": [\"2016-01-01 7:00:00\", \"2016-01-01 7:30:00\"], \"y\": [1, 1], \"type\": \"scatter\", \"uid\": \"39d43c34-f633-42e3-9aab-dc3c83434ea6\"}, {\"marker\": {\"color\": \"white\"}, \"name\": \"\", \"showlegend\": false, \"x\": [\"2016-01-01 9:00:00\", \"2016-01-01 11:25:00\"], \"y\": [2, 2], \"type\": \"scatter\", \"uid\": \"4b9b3393-7a1e-49ae-96e9-921856f774c3\"}, {\"marker\": {\"color\": \"white\"}, \"name\": \"\", \"showlegend\": false, \"x\": [\"2016-01-01 11:30:00\", \"2016-01-01 12:00:00\"], \"y\": [3, 3], \"type\": \"scatter\", \"uid\": \"2aab0987-cf29-45f9-99c7-381de014f387\"}, {\"marker\": {\"color\": \"white\"}, \"name\": \"\", \"showlegend\": false, \"x\": [\"2016-01-01 12:00:00\", \"2016-01-01 13:00:00\"], \"y\": [4, 4], \"type\": \"scatter\", \"uid\": \"2b9f5c70-3868-4a44-9362-1590bb012860\"}, {\"marker\": {\"color\": \"white\"}, \"name\": \"\", \"showlegend\": false, \"x\": [\"2016-01-01 13:00:00\", \"2016-01-01 17:00:00\"], \"y\": [5, 5], \"type\": \"scatter\", \"uid\": \"77ef82a4-cf19-4c39-9ca4-2afff06d04e7\"}, {\"marker\": {\"color\": \"white\"}, \"name\": \"\", \"showlegend\": false, \"x\": [\"2016-01-01 17:30:00\", \"2016-01-01 18:30:00\"], \"y\": [6, 6], \"type\": \"scatter\", \"uid\": \"fe3944be-718e-4ad9-8571-6922d75fcb1d\"}, {\"marker\": {\"color\": \"white\"}, \"name\": \"\", \"showlegend\": false, \"x\": [\"2016-01-01 18:30:00\", \"2016-01-01 19:00:00\"], \"y\": [7, 7], \"type\": \"scatter\", \"uid\": \"b31d0d15-78cd-437d-8ca0-02dacc7306f6\"}, {\"marker\": {\"color\": \"white\"}, \"name\": \"\", \"showlegend\": false, \"x\": [\"2016-01-01 19:00:00\", \"2016-01-01 20:00:00\"], \"y\": [8, 8], \"type\": \"scatter\", \"uid\": \"45b0834b-59b8-4d6a-b59f-5b4b856d9601\"}, {\"marker\": {\"color\": \"white\"}, \"name\": \"\", \"showlegend\": false, \"x\": [\"2016-01-01 21:00:00\", \"2016-01-01 23:59:00\"], \"y\": [9, 9], \"type\": \"scatter\", \"uid\": \"e0dc098b-f477-47bb-b844-a2f3c2b42c11\"}, {\"hoverinfo\": \"none\", \"marker\": {\"color\": \"rgb(58, 149, 136)\", \"size\": 1}, \"name\": \"Brain\", \"showlegend\": true, \"x\": [\"2016-01-01 21:00:00\", \"2016-01-01 21:00:00\"], \"y\": [0, 0], \"type\": \"scatter\", \"uid\": \"56ebca2f-31bc-4555-b027-a13cbd91c83e\"}, {\"hoverinfo\": \"none\", \"marker\": {\"color\": \"rgb(46, 137, 205)\", \"size\": 1}, \"name\": \"Cardio\", \"showlegend\": true, \"x\": [\"2016-01-01 21:00:00\", \"2016-01-01 21:00:00\"], \"y\": [1, 1], \"type\": \"scatter\", \"uid\": \"c5aab789-e008-477a-83a5-672d54efa705\"}, {\"hoverinfo\": \"none\", \"marker\": {\"color\": \"rgb(114, 44, 121)\", \"size\": 1}, \"name\": \"Food\", \"showlegend\": true, \"x\": [\"2016-01-01 21:00:00\", \"2016-01-01 21:00:00\"], \"y\": [2, 2], \"type\": \"scatter\", \"uid\": \"579c9de1-fc79-49b0-a60d-676173827fbd\"}, {\"hoverinfo\": \"none\", \"marker\": {\"color\": \"rgb(107, 127, 135)\", \"size\": 1}, \"name\": \"Rest\", \"showlegend\": true, \"x\": [\"2016-01-01 21:00:00\", \"2016-01-01 21:00:00\"], \"y\": [3, 3], \"type\": \"scatter\", \"uid\": \"4b54a40e-2e98-4cbb-b28c-2fefad205fb2\"}, {\"hoverinfo\": \"none\", \"marker\": {\"color\": \"rgb(198, 47, 105)\", \"size\": 1}, \"name\": \"Sleep\", \"showlegend\": true, \"x\": [\"2016-01-01 21:00:00\", \"2016-01-01 21:00:00\"], \"y\": [4, 4], \"type\": \"scatter\", \"uid\": \"c3786edf-b2f4-4c3f-b66f-a442cc55cb55\"}], {\"height\": 600, \"hovermode\": \"closest\", \"shapes\": [{\"fillcolor\": \"rgb(198, 47, 105)\", \"line\": {\"width\": 0}, \"opacity\": 1, \"type\": \"rect\", \"x0\": \"2016-01-01\", \"x1\": \"2016-01-01 6:00:00\", \"xref\": \"x\", \"y0\": -0.8, \"y1\": 0.8, \"yref\": \"y\"}, {\"fillcolor\": \"rgb(114, 44, 121)\", \"line\": {\"width\": 0}, \"opacity\": 1, \"type\": \"rect\", \"x0\": \"2016-01-01 7:00:00\", \"x1\": \"2016-01-01 7:30:00\", \"xref\": \"x\", \"y0\": 0.19999999999999996, \"y1\": 1.8, \"yref\": \"y\"}, {\"fillcolor\": \"rgb(58, 149, 136)\", \"line\": {\"width\": 0}, \"opacity\": 1, \"type\": \"rect\", \"x0\": \"2016-01-01 9:00:00\", \"x1\": \"2016-01-01 11:25:00\", \"xref\": \"x\", \"y0\": 1.2, \"y1\": 2.8, \"yref\": \"y\"}, {\"fillcolor\": \"rgb(107, 127, 135)\", \"line\": {\"width\": 0}, \"opacity\": 1, \"type\": \"rect\", \"x0\": \"2016-01-01 11:30:00\", \"x1\": \"2016-01-01 12:00:00\", \"xref\": \"x\", \"y0\": 2.2, \"y1\": 3.8, \"yref\": \"y\"}, {\"fillcolor\": \"rgb(114, 44, 121)\", \"line\": {\"width\": 0}, \"opacity\": 1, \"type\": \"rect\", \"x0\": \"2016-01-01 12:00:00\", \"x1\": \"2016-01-01 13:00:00\", \"xref\": \"x\", \"y0\": 3.2, \"y1\": 4.8, \"yref\": \"y\"}, {\"fillcolor\": \"rgb(58, 149, 136)\", \"line\": {\"width\": 0}, \"opacity\": 1, \"type\": \"rect\", \"x0\": \"2016-01-01 13:00:00\", \"x1\": \"2016-01-01 17:00:00\", \"xref\": \"x\", \"y0\": 4.2, \"y1\": 5.8, \"yref\": \"y\"}, {\"fillcolor\": \"rgb(46, 137, 205)\", \"line\": {\"width\": 0}, \"opacity\": 1, \"type\": \"rect\", \"x0\": \"2016-01-01 17:30:00\", \"x1\": \"2016-01-01 18:30:00\", \"xref\": \"x\", \"y0\": 5.2, \"y1\": 6.8, \"yref\": \"y\"}, {\"fillcolor\": \"rgb(107, 127, 135)\", \"line\": {\"width\": 0}, \"opacity\": 1, \"type\": \"rect\", \"x0\": \"2016-01-01 18:30:00\", \"x1\": \"2016-01-01 19:00:00\", \"xref\": \"x\", \"y0\": 6.2, \"y1\": 7.8, \"yref\": \"y\"}, {\"fillcolor\": \"rgb(114, 44, 121)\", \"line\": {\"width\": 0}, \"opacity\": 1, \"type\": \"rect\", \"x0\": \"2016-01-01 19:00:00\", \"x1\": \"2016-01-01 20:00:00\", \"xref\": \"x\", \"y0\": 7.2, \"y1\": 8.8, \"yref\": \"y\"}, {\"fillcolor\": \"rgb(198, 47, 105)\", \"line\": {\"width\": 0}, \"opacity\": 1, \"type\": \"rect\", \"x0\": \"2016-01-01 21:00:00\", \"x1\": \"2016-01-01 23:59:00\", \"xref\": \"x\", \"y0\": 8.2, \"y1\": 9.8, \"yref\": \"y\"}], \"showlegend\": true, \"title\": {\"text\": \"Daily Schedule\"}, \"width\": 900, \"xaxis\": {\"rangeselector\": {\"buttons\": [{\"count\": 7, \"label\": \"1w\", \"step\": \"day\", \"stepmode\": \"backward\"}, {\"count\": 1, \"label\": \"1m\", \"step\": \"month\", \"stepmode\": \"backward\"}, {\"count\": 6, \"label\": \"6m\", \"step\": \"month\", \"stepmode\": \"backward\"}, {\"count\": 1, \"label\": \"YTD\", \"step\": \"year\", \"stepmode\": \"todate\"}, {\"count\": 1, \"label\": \"1y\", \"step\": \"year\", \"stepmode\": \"backward\"}, {\"step\": \"all\"}]}, \"showgrid\": true, \"type\": \"date\", \"zeroline\": false}, \"yaxis\": {\"autorange\": false, \"range\": [-1, 11], \"showgrid\": true, \"ticktext\": [\"Morning Sleep\", \"Breakfast\", \"Work\", \"Break\", \"Lunch\", \"Work\", \"Exercise\", \"Post Workout Rest\", \"Dinner\", \"Evening Sleep\"], \"tickvals\": [0, 1, 2, 3, 4, 5, 6, 7, 8, 9], \"zeroline\": false}}, {\"showLink\": false, \"linkText\": \"Export to plot.ly\", \"plotlyServerURL\": \"https://plot.ly\"})});</script>"
      ],
      "text/vnd.plotly.v1+html": [
       "<div id=\"dfd101f4-971d-4829-a35d-a80496b4ecd1\" style=\"height: 600px; width: 900px;\" class=\"plotly-graph-div\"></div><script type=\"text/javascript\">require([\"plotly\"], function(Plotly) { window.PLOTLYENV=window.PLOTLYENV || {};window.PLOTLYENV.BASE_URL=\"https://plot.ly\";Plotly.newPlot(\"dfd101f4-971d-4829-a35d-a80496b4ecd1\", [{\"marker\": {\"color\": \"white\"}, \"name\": \"\", \"showlegend\": false, \"x\": [\"2016-01-01\", \"2016-01-01 6:00:00\"], \"y\": [0, 0], \"type\": \"scatter\", \"uid\": \"976cdb84-6fac-470a-8c0d-b11d1ed2a0f4\"}, {\"marker\": {\"color\": \"white\"}, \"name\": \"\", \"showlegend\": false, \"x\": [\"2016-01-01 7:00:00\", \"2016-01-01 7:30:00\"], \"y\": [1, 1], \"type\": \"scatter\", \"uid\": \"39d43c34-f633-42e3-9aab-dc3c83434ea6\"}, {\"marker\": {\"color\": \"white\"}, \"name\": \"\", \"showlegend\": false, \"x\": [\"2016-01-01 9:00:00\", \"2016-01-01 11:25:00\"], \"y\": [2, 2], \"type\": \"scatter\", \"uid\": \"4b9b3393-7a1e-49ae-96e9-921856f774c3\"}, {\"marker\": {\"color\": \"white\"}, \"name\": \"\", \"showlegend\": false, \"x\": [\"2016-01-01 11:30:00\", \"2016-01-01 12:00:00\"], \"y\": [3, 3], \"type\": \"scatter\", \"uid\": \"2aab0987-cf29-45f9-99c7-381de014f387\"}, {\"marker\": {\"color\": \"white\"}, \"name\": \"\", \"showlegend\": false, \"x\": [\"2016-01-01 12:00:00\", \"2016-01-01 13:00:00\"], \"y\": [4, 4], \"type\": \"scatter\", \"uid\": \"2b9f5c70-3868-4a44-9362-1590bb012860\"}, {\"marker\": {\"color\": \"white\"}, \"name\": \"\", \"showlegend\": false, \"x\": [\"2016-01-01 13:00:00\", \"2016-01-01 17:00:00\"], \"y\": [5, 5], \"type\": \"scatter\", \"uid\": \"77ef82a4-cf19-4c39-9ca4-2afff06d04e7\"}, {\"marker\": {\"color\": \"white\"}, \"name\": \"\", \"showlegend\": false, \"x\": [\"2016-01-01 17:30:00\", \"2016-01-01 18:30:00\"], \"y\": [6, 6], \"type\": \"scatter\", \"uid\": \"fe3944be-718e-4ad9-8571-6922d75fcb1d\"}, {\"marker\": {\"color\": \"white\"}, \"name\": \"\", \"showlegend\": false, \"x\": [\"2016-01-01 18:30:00\", \"2016-01-01 19:00:00\"], \"y\": [7, 7], \"type\": \"scatter\", \"uid\": \"b31d0d15-78cd-437d-8ca0-02dacc7306f6\"}, {\"marker\": {\"color\": \"white\"}, \"name\": \"\", \"showlegend\": false, \"x\": [\"2016-01-01 19:00:00\", \"2016-01-01 20:00:00\"], \"y\": [8, 8], \"type\": \"scatter\", \"uid\": \"45b0834b-59b8-4d6a-b59f-5b4b856d9601\"}, {\"marker\": {\"color\": \"white\"}, \"name\": \"\", \"showlegend\": false, \"x\": [\"2016-01-01 21:00:00\", \"2016-01-01 23:59:00\"], \"y\": [9, 9], \"type\": \"scatter\", \"uid\": \"e0dc098b-f477-47bb-b844-a2f3c2b42c11\"}, {\"hoverinfo\": \"none\", \"marker\": {\"color\": \"rgb(58, 149, 136)\", \"size\": 1}, \"name\": \"Brain\", \"showlegend\": true, \"x\": [\"2016-01-01 21:00:00\", \"2016-01-01 21:00:00\"], \"y\": [0, 0], \"type\": \"scatter\", \"uid\": \"56ebca2f-31bc-4555-b027-a13cbd91c83e\"}, {\"hoverinfo\": \"none\", \"marker\": {\"color\": \"rgb(46, 137, 205)\", \"size\": 1}, \"name\": \"Cardio\", \"showlegend\": true, \"x\": [\"2016-01-01 21:00:00\", \"2016-01-01 21:00:00\"], \"y\": [1, 1], \"type\": \"scatter\", \"uid\": \"c5aab789-e008-477a-83a5-672d54efa705\"}, {\"hoverinfo\": \"none\", \"marker\": {\"color\": \"rgb(114, 44, 121)\", \"size\": 1}, \"name\": \"Food\", \"showlegend\": true, \"x\": [\"2016-01-01 21:00:00\", \"2016-01-01 21:00:00\"], \"y\": [2, 2], \"type\": \"scatter\", \"uid\": \"579c9de1-fc79-49b0-a60d-676173827fbd\"}, {\"hoverinfo\": \"none\", \"marker\": {\"color\": \"rgb(107, 127, 135)\", \"size\": 1}, \"name\": \"Rest\", \"showlegend\": true, \"x\": [\"2016-01-01 21:00:00\", \"2016-01-01 21:00:00\"], \"y\": [3, 3], \"type\": \"scatter\", \"uid\": \"4b54a40e-2e98-4cbb-b28c-2fefad205fb2\"}, {\"hoverinfo\": \"none\", \"marker\": {\"color\": \"rgb(198, 47, 105)\", \"size\": 1}, \"name\": \"Sleep\", \"showlegend\": true, \"x\": [\"2016-01-01 21:00:00\", \"2016-01-01 21:00:00\"], \"y\": [4, 4], \"type\": \"scatter\", \"uid\": \"c3786edf-b2f4-4c3f-b66f-a442cc55cb55\"}], {\"height\": 600, \"hovermode\": \"closest\", \"shapes\": [{\"fillcolor\": \"rgb(198, 47, 105)\", \"line\": {\"width\": 0}, \"opacity\": 1, \"type\": \"rect\", \"x0\": \"2016-01-01\", \"x1\": \"2016-01-01 6:00:00\", \"xref\": \"x\", \"y0\": -0.8, \"y1\": 0.8, \"yref\": \"y\"}, {\"fillcolor\": \"rgb(114, 44, 121)\", \"line\": {\"width\": 0}, \"opacity\": 1, \"type\": \"rect\", \"x0\": \"2016-01-01 7:00:00\", \"x1\": \"2016-01-01 7:30:00\", \"xref\": \"x\", \"y0\": 0.19999999999999996, \"y1\": 1.8, \"yref\": \"y\"}, {\"fillcolor\": \"rgb(58, 149, 136)\", \"line\": {\"width\": 0}, \"opacity\": 1, \"type\": \"rect\", \"x0\": \"2016-01-01 9:00:00\", \"x1\": \"2016-01-01 11:25:00\", \"xref\": \"x\", \"y0\": 1.2, \"y1\": 2.8, \"yref\": \"y\"}, {\"fillcolor\": \"rgb(107, 127, 135)\", \"line\": {\"width\": 0}, \"opacity\": 1, \"type\": \"rect\", \"x0\": \"2016-01-01 11:30:00\", \"x1\": \"2016-01-01 12:00:00\", \"xref\": \"x\", \"y0\": 2.2, \"y1\": 3.8, \"yref\": \"y\"}, {\"fillcolor\": \"rgb(114, 44, 121)\", \"line\": {\"width\": 0}, \"opacity\": 1, \"type\": \"rect\", \"x0\": \"2016-01-01 12:00:00\", \"x1\": \"2016-01-01 13:00:00\", \"xref\": \"x\", \"y0\": 3.2, \"y1\": 4.8, \"yref\": \"y\"}, {\"fillcolor\": \"rgb(58, 149, 136)\", \"line\": {\"width\": 0}, \"opacity\": 1, \"type\": \"rect\", \"x0\": \"2016-01-01 13:00:00\", \"x1\": \"2016-01-01 17:00:00\", \"xref\": \"x\", \"y0\": 4.2, \"y1\": 5.8, \"yref\": \"y\"}, {\"fillcolor\": \"rgb(46, 137, 205)\", \"line\": {\"width\": 0}, \"opacity\": 1, \"type\": \"rect\", \"x0\": \"2016-01-01 17:30:00\", \"x1\": \"2016-01-01 18:30:00\", \"xref\": \"x\", \"y0\": 5.2, \"y1\": 6.8, \"yref\": \"y\"}, {\"fillcolor\": \"rgb(107, 127, 135)\", \"line\": {\"width\": 0}, \"opacity\": 1, \"type\": \"rect\", \"x0\": \"2016-01-01 18:30:00\", \"x1\": \"2016-01-01 19:00:00\", \"xref\": \"x\", \"y0\": 6.2, \"y1\": 7.8, \"yref\": \"y\"}, {\"fillcolor\": \"rgb(114, 44, 121)\", \"line\": {\"width\": 0}, \"opacity\": 1, \"type\": \"rect\", \"x0\": \"2016-01-01 19:00:00\", \"x1\": \"2016-01-01 20:00:00\", \"xref\": \"x\", \"y0\": 7.2, \"y1\": 8.8, \"yref\": \"y\"}, {\"fillcolor\": \"rgb(198, 47, 105)\", \"line\": {\"width\": 0}, \"opacity\": 1, \"type\": \"rect\", \"x0\": \"2016-01-01 21:00:00\", \"x1\": \"2016-01-01 23:59:00\", \"xref\": \"x\", \"y0\": 8.2, \"y1\": 9.8, \"yref\": \"y\"}], \"showlegend\": true, \"title\": {\"text\": \"Daily Schedule\"}, \"width\": 900, \"xaxis\": {\"rangeselector\": {\"buttons\": [{\"count\": 7, \"label\": \"1w\", \"step\": \"day\", \"stepmode\": \"backward\"}, {\"count\": 1, \"label\": \"1m\", \"step\": \"month\", \"stepmode\": \"backward\"}, {\"count\": 6, \"label\": \"6m\", \"step\": \"month\", \"stepmode\": \"backward\"}, {\"count\": 1, \"label\": \"YTD\", \"step\": \"year\", \"stepmode\": \"todate\"}, {\"count\": 1, \"label\": \"1y\", \"step\": \"year\", \"stepmode\": \"backward\"}, {\"step\": \"all\"}]}, \"showgrid\": true, \"type\": \"date\", \"zeroline\": false}, \"yaxis\": {\"autorange\": false, \"range\": [-1, 11], \"showgrid\": true, \"ticktext\": [\"Morning Sleep\", \"Breakfast\", \"Work\", \"Break\", \"Lunch\", \"Work\", \"Exercise\", \"Post Workout Rest\", \"Dinner\", \"Evening Sleep\"], \"tickvals\": [0, 1, 2, 3, 4, 5, 6, 7, 8, 9], \"zeroline\": false}}, {\"showLink\": false, \"linkText\": \"Export to plot.ly\", \"plotlyServerURL\": \"https://plot.ly\"})});</script>"
      ]
     },
     "metadata": {},
     "output_type": "display_data"
    }
   ],
   "source": [
    "import plotly.figure_factory as ff\n",
    "\n",
    "df = [\n",
    "    dict(Task='Morning Sleep', Start='2016-01-01', Finish='2016-01-01 6:00:00', Resource='Sleep'),\n",
    "    dict(Task='Breakfast', Start='2016-01-01 7:00:00', Finish='2016-01-01 7:30:00', Resource='Food'),\n",
    "    dict(Task='Work', Start='2016-01-01 9:00:00', Finish='2016-01-01 11:25:00', Resource='Brain'),\n",
    "    dict(Task='Break', Start='2016-01-01 11:30:00', Finish='2016-01-01 12:00:00', Resource='Rest'),\n",
    "    dict(Task='Lunch', Start='2016-01-01 12:00:00', Finish='2016-01-01 13:00:00', Resource='Food'),\n",
    "    dict(Task='Work', Start='2016-01-01 13:00:00', Finish='2016-01-01 17:00:00', Resource='Brain'),\n",
    "    dict(Task='Exercise', Start='2016-01-01 17:30:00', Finish='2016-01-01 18:30:00', Resource='Cardio'), \n",
    "    dict(Task='Post Workout Rest', Start='2016-01-01 18:30:00', Finish='2016-01-01 19:00:00', Resource='Rest'),\n",
    "    dict(Task='Dinner', Start='2016-01-01 19:00:00', Finish='2016-01-01 20:00:00', Resource='Food'),\n",
    "    dict(Task='Evening Sleep', Start='2016-01-01 21:00:00', Finish='2016-01-01 23:59:00', Resource='Sleep')\n",
    "]\n",
    "\n",
    "colors = dict(Cardio = 'rgb(46, 137, 205)',\n",
    "              Food = 'rgb(114, 44, 121)',\n",
    "              Sleep = 'rgb(198, 47, 105)',\n",
    "              Brain = 'rgb(58, 149, 136)',\n",
    "              Rest = 'rgb(107, 127, 135)')\n",
    "\n",
    "fig = ff.create_gantt(df, colors=colors, index_col='Resource', title='Daily Schedule',\n",
    "                      show_colorbar=True, bar_width=0.8, showgrid_x=True, showgrid_y=True)\n",
    "pyo.iplot(fig, filename='gantt-hours-minutes')"
   ]
  },
  {
   "cell_type": "markdown",
   "metadata": {},
   "source": [
    "# Group Tasks Together\n"
   ]
  },
  {
   "cell_type": "code",
   "execution_count": 9,
   "metadata": {},
   "outputs": [
    {
     "data": {
      "application/vnd.plotly.v1+json": {
       "config": {
        "linkText": "Export to plot.ly",
        "plotlyServerURL": "https://plot.ly",
        "showLink": false
       },
       "data": [
        {
         "marker": {
          "color": "white"
         },
         "name": "",
         "showlegend": false,
         "type": "scatter",
         "uid": "6f46074d-b784-4ee2-b921-ec9f4ecb8fd9",
         "x": [
          "2017-01-01",
          "2017-02-02"
         ],
         "y": [
          3,
          3
         ]
        },
        {
         "marker": {
          "color": "white"
         },
         "name": "",
         "showlegend": false,
         "type": "scatter",
         "uid": "f4f263b4-bbdf-4ac8-85ba-dd6180c94dc1",
         "x": [
          "2017-02-15",
          "2017-03-15"
         ],
         "y": [
          3,
          3
         ]
        },
        {
         "marker": {
          "color": "white"
         },
         "name": "",
         "showlegend": false,
         "type": "scatter",
         "uid": "5c1188d6-b90d-4e45-8d29-d4460b7de82a",
         "x": [
          "2017-01-17",
          "2017-02-17"
         ],
         "y": [
          2,
          2
         ]
        },
        {
         "marker": {
          "color": "white"
         },
         "name": "",
         "showlegend": false,
         "type": "scatter",
         "uid": "4d706040-466d-4667-b72a-7b031cf738d7",
         "x": [
          "2017-01-17",
          "2017-02-17"
         ],
         "y": [
          2,
          2
         ]
        },
        {
         "marker": {
          "color": "white"
         },
         "name": "",
         "showlegend": false,
         "type": "scatter",
         "uid": "85a620aa-8b00-4948-94ac-baae471926b9",
         "x": [
          "2017-03-10",
          "2017-03-20"
         ],
         "y": [
          1,
          1
         ]
        },
        {
         "marker": {
          "color": "white"
         },
         "name": "",
         "showlegend": false,
         "type": "scatter",
         "uid": "aa917a69-e112-4858-a69a-95bd277b8435",
         "x": [
          "2017-04-01",
          "2017-04-20"
         ],
         "y": [
          1,
          1
         ]
        },
        {
         "marker": {
          "color": "white"
         },
         "name": "",
         "showlegend": false,
         "type": "scatter",
         "uid": "0b446d4d-a59b-4c5f-a66b-57dbc0c12526",
         "x": [
          "2017-05-18",
          "2017-06-18"
         ],
         "y": [
          1,
          1
         ]
        },
        {
         "marker": {
          "color": "white"
         },
         "name": "",
         "showlegend": false,
         "type": "scatter",
         "uid": "1a20837b-7c9d-4494-b30d-c22cd1761f39",
         "x": [
          "2017-01-14",
          "2017-03-14"
         ],
         "y": [
          0,
          0
         ]
        },
        {
         "hoverinfo": "none",
         "marker": {
          "color": "rgb(0, 255, 100)",
          "size": 1
         },
         "name": "Complete",
         "showlegend": true,
         "type": "scatter",
         "uid": "d2ccad70-f742-4cde-ae39-98a1eb3751b8",
         "x": [
          "2017-01-14",
          "2017-01-14"
         ],
         "y": [
          0,
          0
         ]
        },
        {
         "hoverinfo": "none",
         "marker": {
          "color": "rgb(255, 230, 41)",
          "size": 1
         },
         "name": "Incomplete",
         "showlegend": true,
         "type": "scatter",
         "uid": "059a192c-a745-4687-8f44-635e7aeaec19",
         "x": [
          "2017-01-14",
          "2017-01-14"
         ],
         "y": [
          1,
          1
         ]
        },
        {
         "hoverinfo": "none",
         "marker": {
          "color": "rgb(220, 0, 0)",
          "size": 1
         },
         "name": "Not Started",
         "showlegend": true,
         "type": "scatter",
         "uid": "cc857fe4-3f5c-4640-907b-932050ffe8a6",
         "x": [
          "2017-01-14",
          "2017-01-14"
         ],
         "y": [
          2,
          2
         ]
        }
       ],
       "layout": {
        "height": 600,
        "hovermode": "closest",
        "shapes": [
         {
          "fillcolor": "rgb(0, 255, 100)",
          "line": {
           "width": 0
          },
          "opacity": 1,
          "type": "rect",
          "x0": "2017-01-01",
          "x1": "2017-02-02",
          "xref": "x",
          "y0": 2.8,
          "y1": 3.2,
          "yref": "y"
         },
         {
          "fillcolor": "rgb(255, 230, 41)",
          "line": {
           "width": 0
          },
          "opacity": 1,
          "type": "rect",
          "x0": "2017-02-15",
          "x1": "2017-03-15",
          "xref": "x",
          "y0": 2.8,
          "y1": 3.2,
          "yref": "y"
         },
         {
          "fillcolor": "rgb(220, 0, 0)",
          "line": {
           "width": 0
          },
          "opacity": 1,
          "type": "rect",
          "x0": "2017-01-17",
          "x1": "2017-02-17",
          "xref": "x",
          "y0": 1.8,
          "y1": 2.2,
          "yref": "y"
         },
         {
          "fillcolor": "rgb(0, 255, 100)",
          "line": {
           "width": 0
          },
          "opacity": 1,
          "type": "rect",
          "x0": "2017-01-17",
          "x1": "2017-02-17",
          "xref": "x",
          "y0": 1.8,
          "y1": 2.2,
          "yref": "y"
         },
         {
          "fillcolor": "rgb(220, 0, 0)",
          "line": {
           "width": 0
          },
          "opacity": 1,
          "type": "rect",
          "x0": "2017-03-10",
          "x1": "2017-03-20",
          "xref": "x",
          "y0": 0.8,
          "y1": 1.2,
          "yref": "y"
         },
         {
          "fillcolor": "rgb(220, 0, 0)",
          "line": {
           "width": 0
          },
          "opacity": 1,
          "type": "rect",
          "x0": "2017-04-01",
          "x1": "2017-04-20",
          "xref": "x",
          "y0": 0.8,
          "y1": 1.2,
          "yref": "y"
         },
         {
          "fillcolor": "rgb(220, 0, 0)",
          "line": {
           "width": 0
          },
          "opacity": 1,
          "type": "rect",
          "x0": "2017-05-18",
          "x1": "2017-06-18",
          "xref": "x",
          "y0": 0.8,
          "y1": 1.2,
          "yref": "y"
         },
         {
          "fillcolor": "rgb(0, 255, 100)",
          "line": {
           "width": 0
          },
          "opacity": 1,
          "type": "rect",
          "x0": "2017-01-14",
          "x1": "2017-03-14",
          "xref": "x",
          "y0": -0.2,
          "y1": 0.2,
          "yref": "y"
         }
        ],
        "showlegend": true,
        "title": {
         "text": "Gantt Chart"
        },
        "width": 900,
        "xaxis": {
         "rangeselector": {
          "buttons": [
           {
            "count": 7,
            "label": "1w",
            "step": "day",
            "stepmode": "backward"
           },
           {
            "count": 1,
            "label": "1m",
            "step": "month",
            "stepmode": "backward"
           },
           {
            "count": 6,
            "label": "6m",
            "step": "month",
            "stepmode": "backward"
           },
           {
            "count": 1,
            "label": "YTD",
            "step": "year",
            "stepmode": "todate"
           },
           {
            "count": 1,
            "label": "1y",
            "step": "year",
            "stepmode": "backward"
           },
           {
            "step": "all"
           }
          ]
         },
         "showgrid": false,
         "type": "date",
         "zeroline": false
        },
        "yaxis": {
         "autorange": false,
         "range": [
          -1,
          5
         ],
         "showgrid": false,
         "ticktext": [
          "Job-4",
          "Job-3",
          "Job-2",
          "Job-1"
         ],
         "tickvals": [
          0,
          1,
          2,
          3
         ],
         "zeroline": false
        }
       }
      },
      "text/html": [
       "<div id=\"2f946db2-cb7b-4856-a492-c4f8d17dd393\" style=\"height: 600px; width: 900px;\" class=\"plotly-graph-div\"></div><script type=\"text/javascript\">require([\"plotly\"], function(Plotly) { window.PLOTLYENV=window.PLOTLYENV || {};window.PLOTLYENV.BASE_URL=\"https://plot.ly\";Plotly.newPlot(\"2f946db2-cb7b-4856-a492-c4f8d17dd393\", [{\"marker\": {\"color\": \"white\"}, \"name\": \"\", \"showlegend\": false, \"x\": [\"2017-01-01\", \"2017-02-02\"], \"y\": [3, 3], \"type\": \"scatter\", \"uid\": \"f80161d8-c553-4e91-9f97-66c431b96280\"}, {\"marker\": {\"color\": \"white\"}, \"name\": \"\", \"showlegend\": false, \"x\": [\"2017-02-15\", \"2017-03-15\"], \"y\": [3, 3], \"type\": \"scatter\", \"uid\": \"00c87964-0840-4073-a3ad-e0e4fc49eb3d\"}, {\"marker\": {\"color\": \"white\"}, \"name\": \"\", \"showlegend\": false, \"x\": [\"2017-01-17\", \"2017-02-17\"], \"y\": [2, 2], \"type\": \"scatter\", \"uid\": \"6f07adc6-6ef3-4094-82a5-94e316f7d3ba\"}, {\"marker\": {\"color\": \"white\"}, \"name\": \"\", \"showlegend\": false, \"x\": [\"2017-01-17\", \"2017-02-17\"], \"y\": [2, 2], \"type\": \"scatter\", \"uid\": \"e882494d-cb9f-4118-bdf6-ec2e2129f86e\"}, {\"marker\": {\"color\": \"white\"}, \"name\": \"\", \"showlegend\": false, \"x\": [\"2017-03-10\", \"2017-03-20\"], \"y\": [1, 1], \"type\": \"scatter\", \"uid\": \"a4b1fa93-c9d9-4efe-8538-59930a1c7c18\"}, {\"marker\": {\"color\": \"white\"}, \"name\": \"\", \"showlegend\": false, \"x\": [\"2017-04-01\", \"2017-04-20\"], \"y\": [1, 1], \"type\": \"scatter\", \"uid\": \"4b2ff3bf-732b-4a2a-927d-82322b545bca\"}, {\"marker\": {\"color\": \"white\"}, \"name\": \"\", \"showlegend\": false, \"x\": [\"2017-05-18\", \"2017-06-18\"], \"y\": [1, 1], \"type\": \"scatter\", \"uid\": \"8fc14358-9baf-4be3-ac15-58bc99445081\"}, {\"marker\": {\"color\": \"white\"}, \"name\": \"\", \"showlegend\": false, \"x\": [\"2017-01-14\", \"2017-03-14\"], \"y\": [0, 0], \"type\": \"scatter\", \"uid\": \"78676e65-f057-42f4-9e67-95eefc519387\"}, {\"hoverinfo\": \"none\", \"marker\": {\"color\": \"rgb(0, 255, 100)\", \"size\": 1}, \"name\": \"Complete\", \"showlegend\": true, \"x\": [\"2017-01-14\", \"2017-01-14\"], \"y\": [0, 0], \"type\": \"scatter\", \"uid\": \"7f7585cf-05b8-44b3-8543-f2c93d410b8d\"}, {\"hoverinfo\": \"none\", \"marker\": {\"color\": \"rgb(255, 230, 41)\", \"size\": 1}, \"name\": \"Incomplete\", \"showlegend\": true, \"x\": [\"2017-01-14\", \"2017-01-14\"], \"y\": [1, 1], \"type\": \"scatter\", \"uid\": \"64e34e3b-2714-4f20-8519-35af0e36db30\"}, {\"hoverinfo\": \"none\", \"marker\": {\"color\": \"rgb(220, 0, 0)\", \"size\": 1}, \"name\": \"Not Started\", \"showlegend\": true, \"x\": [\"2017-01-14\", \"2017-01-14\"], \"y\": [2, 2], \"type\": \"scatter\", \"uid\": \"951d5ec6-8f18-41cc-9baf-6f9212621c28\"}], {\"height\": 600, \"hovermode\": \"closest\", \"shapes\": [{\"fillcolor\": \"rgb(0, 255, 100)\", \"line\": {\"width\": 0}, \"opacity\": 1, \"type\": \"rect\", \"x0\": \"2017-01-01\", \"x1\": \"2017-02-02\", \"xref\": \"x\", \"y0\": 2.8, \"y1\": 3.2, \"yref\": \"y\"}, {\"fillcolor\": \"rgb(255, 230, 41)\", \"line\": {\"width\": 0}, \"opacity\": 1, \"type\": \"rect\", \"x0\": \"2017-02-15\", \"x1\": \"2017-03-15\", \"xref\": \"x\", \"y0\": 2.8, \"y1\": 3.2, \"yref\": \"y\"}, {\"fillcolor\": \"rgb(220, 0, 0)\", \"line\": {\"width\": 0}, \"opacity\": 1, \"type\": \"rect\", \"x0\": \"2017-01-17\", \"x1\": \"2017-02-17\", \"xref\": \"x\", \"y0\": 1.8, \"y1\": 2.2, \"yref\": \"y\"}, {\"fillcolor\": \"rgb(0, 255, 100)\", \"line\": {\"width\": 0}, \"opacity\": 1, \"type\": \"rect\", \"x0\": \"2017-01-17\", \"x1\": \"2017-02-17\", \"xref\": \"x\", \"y0\": 1.8, \"y1\": 2.2, \"yref\": \"y\"}, {\"fillcolor\": \"rgb(220, 0, 0)\", \"line\": {\"width\": 0}, \"opacity\": 1, \"type\": \"rect\", \"x0\": \"2017-03-10\", \"x1\": \"2017-03-20\", \"xref\": \"x\", \"y0\": 0.8, \"y1\": 1.2, \"yref\": \"y\"}, {\"fillcolor\": \"rgb(220, 0, 0)\", \"line\": {\"width\": 0}, \"opacity\": 1, \"type\": \"rect\", \"x0\": \"2017-04-01\", \"x1\": \"2017-04-20\", \"xref\": \"x\", \"y0\": 0.8, \"y1\": 1.2, \"yref\": \"y\"}, {\"fillcolor\": \"rgb(220, 0, 0)\", \"line\": {\"width\": 0}, \"opacity\": 1, \"type\": \"rect\", \"x0\": \"2017-05-18\", \"x1\": \"2017-06-18\", \"xref\": \"x\", \"y0\": 0.8, \"y1\": 1.2, \"yref\": \"y\"}, {\"fillcolor\": \"rgb(0, 255, 100)\", \"line\": {\"width\": 0}, \"opacity\": 1, \"type\": \"rect\", \"x0\": \"2017-01-14\", \"x1\": \"2017-03-14\", \"xref\": \"x\", \"y0\": -0.2, \"y1\": 0.2, \"yref\": \"y\"}], \"showlegend\": true, \"title\": {\"text\": \"Gantt Chart\"}, \"width\": 900, \"xaxis\": {\"rangeselector\": {\"buttons\": [{\"count\": 7, \"label\": \"1w\", \"step\": \"day\", \"stepmode\": \"backward\"}, {\"count\": 1, \"label\": \"1m\", \"step\": \"month\", \"stepmode\": \"backward\"}, {\"count\": 6, \"label\": \"6m\", \"step\": \"month\", \"stepmode\": \"backward\"}, {\"count\": 1, \"label\": \"YTD\", \"step\": \"year\", \"stepmode\": \"todate\"}, {\"count\": 1, \"label\": \"1y\", \"step\": \"year\", \"stepmode\": \"backward\"}, {\"step\": \"all\"}]}, \"showgrid\": false, \"type\": \"date\", \"zeroline\": false}, \"yaxis\": {\"autorange\": false, \"range\": [-1, 5], \"showgrid\": false, \"ticktext\": [\"Job-4\", \"Job-3\", \"Job-2\", \"Job-1\"], \"tickvals\": [0, 1, 2, 3], \"zeroline\": false}}, {\"showLink\": false, \"linkText\": \"Export to plot.ly\", \"plotlyServerURL\": \"https://plot.ly\"})});</script>"
      ],
      "text/vnd.plotly.v1+html": [
       "<div id=\"2f946db2-cb7b-4856-a492-c4f8d17dd393\" style=\"height: 600px; width: 900px;\" class=\"plotly-graph-div\"></div><script type=\"text/javascript\">require([\"plotly\"], function(Plotly) { window.PLOTLYENV=window.PLOTLYENV || {};window.PLOTLYENV.BASE_URL=\"https://plot.ly\";Plotly.newPlot(\"2f946db2-cb7b-4856-a492-c4f8d17dd393\", [{\"marker\": {\"color\": \"white\"}, \"name\": \"\", \"showlegend\": false, \"x\": [\"2017-01-01\", \"2017-02-02\"], \"y\": [3, 3], \"type\": \"scatter\", \"uid\": \"f80161d8-c553-4e91-9f97-66c431b96280\"}, {\"marker\": {\"color\": \"white\"}, \"name\": \"\", \"showlegend\": false, \"x\": [\"2017-02-15\", \"2017-03-15\"], \"y\": [3, 3], \"type\": \"scatter\", \"uid\": \"00c87964-0840-4073-a3ad-e0e4fc49eb3d\"}, {\"marker\": {\"color\": \"white\"}, \"name\": \"\", \"showlegend\": false, \"x\": [\"2017-01-17\", \"2017-02-17\"], \"y\": [2, 2], \"type\": \"scatter\", \"uid\": \"6f07adc6-6ef3-4094-82a5-94e316f7d3ba\"}, {\"marker\": {\"color\": \"white\"}, \"name\": \"\", \"showlegend\": false, \"x\": [\"2017-01-17\", \"2017-02-17\"], \"y\": [2, 2], \"type\": \"scatter\", \"uid\": \"e882494d-cb9f-4118-bdf6-ec2e2129f86e\"}, {\"marker\": {\"color\": \"white\"}, \"name\": \"\", \"showlegend\": false, \"x\": [\"2017-03-10\", \"2017-03-20\"], \"y\": [1, 1], \"type\": \"scatter\", \"uid\": \"a4b1fa93-c9d9-4efe-8538-59930a1c7c18\"}, {\"marker\": {\"color\": \"white\"}, \"name\": \"\", \"showlegend\": false, \"x\": [\"2017-04-01\", \"2017-04-20\"], \"y\": [1, 1], \"type\": \"scatter\", \"uid\": \"4b2ff3bf-732b-4a2a-927d-82322b545bca\"}, {\"marker\": {\"color\": \"white\"}, \"name\": \"\", \"showlegend\": false, \"x\": [\"2017-05-18\", \"2017-06-18\"], \"y\": [1, 1], \"type\": \"scatter\", \"uid\": \"8fc14358-9baf-4be3-ac15-58bc99445081\"}, {\"marker\": {\"color\": \"white\"}, \"name\": \"\", \"showlegend\": false, \"x\": [\"2017-01-14\", \"2017-03-14\"], \"y\": [0, 0], \"type\": \"scatter\", \"uid\": \"78676e65-f057-42f4-9e67-95eefc519387\"}, {\"hoverinfo\": \"none\", \"marker\": {\"color\": \"rgb(0, 255, 100)\", \"size\": 1}, \"name\": \"Complete\", \"showlegend\": true, \"x\": [\"2017-01-14\", \"2017-01-14\"], \"y\": [0, 0], \"type\": \"scatter\", \"uid\": \"7f7585cf-05b8-44b3-8543-f2c93d410b8d\"}, {\"hoverinfo\": \"none\", \"marker\": {\"color\": \"rgb(255, 230, 41)\", \"size\": 1}, \"name\": \"Incomplete\", \"showlegend\": true, \"x\": [\"2017-01-14\", \"2017-01-14\"], \"y\": [1, 1], \"type\": \"scatter\", \"uid\": \"64e34e3b-2714-4f20-8519-35af0e36db30\"}, {\"hoverinfo\": \"none\", \"marker\": {\"color\": \"rgb(220, 0, 0)\", \"size\": 1}, \"name\": \"Not Started\", \"showlegend\": true, \"x\": [\"2017-01-14\", \"2017-01-14\"], \"y\": [2, 2], \"type\": \"scatter\", \"uid\": \"951d5ec6-8f18-41cc-9baf-6f9212621c28\"}], {\"height\": 600, \"hovermode\": \"closest\", \"shapes\": [{\"fillcolor\": \"rgb(0, 255, 100)\", \"line\": {\"width\": 0}, \"opacity\": 1, \"type\": \"rect\", \"x0\": \"2017-01-01\", \"x1\": \"2017-02-02\", \"xref\": \"x\", \"y0\": 2.8, \"y1\": 3.2, \"yref\": \"y\"}, {\"fillcolor\": \"rgb(255, 230, 41)\", \"line\": {\"width\": 0}, \"opacity\": 1, \"type\": \"rect\", \"x0\": \"2017-02-15\", \"x1\": \"2017-03-15\", \"xref\": \"x\", \"y0\": 2.8, \"y1\": 3.2, \"yref\": \"y\"}, {\"fillcolor\": \"rgb(220, 0, 0)\", \"line\": {\"width\": 0}, \"opacity\": 1, \"type\": \"rect\", \"x0\": \"2017-01-17\", \"x1\": \"2017-02-17\", \"xref\": \"x\", \"y0\": 1.8, \"y1\": 2.2, \"yref\": \"y\"}, {\"fillcolor\": \"rgb(0, 255, 100)\", \"line\": {\"width\": 0}, \"opacity\": 1, \"type\": \"rect\", \"x0\": \"2017-01-17\", \"x1\": \"2017-02-17\", \"xref\": \"x\", \"y0\": 1.8, \"y1\": 2.2, \"yref\": \"y\"}, {\"fillcolor\": \"rgb(220, 0, 0)\", \"line\": {\"width\": 0}, \"opacity\": 1, \"type\": \"rect\", \"x0\": \"2017-03-10\", \"x1\": \"2017-03-20\", \"xref\": \"x\", \"y0\": 0.8, \"y1\": 1.2, \"yref\": \"y\"}, {\"fillcolor\": \"rgb(220, 0, 0)\", \"line\": {\"width\": 0}, \"opacity\": 1, \"type\": \"rect\", \"x0\": \"2017-04-01\", \"x1\": \"2017-04-20\", \"xref\": \"x\", \"y0\": 0.8, \"y1\": 1.2, \"yref\": \"y\"}, {\"fillcolor\": \"rgb(220, 0, 0)\", \"line\": {\"width\": 0}, \"opacity\": 1, \"type\": \"rect\", \"x0\": \"2017-05-18\", \"x1\": \"2017-06-18\", \"xref\": \"x\", \"y0\": 0.8, \"y1\": 1.2, \"yref\": \"y\"}, {\"fillcolor\": \"rgb(0, 255, 100)\", \"line\": {\"width\": 0}, \"opacity\": 1, \"type\": \"rect\", \"x0\": \"2017-01-14\", \"x1\": \"2017-03-14\", \"xref\": \"x\", \"y0\": -0.2, \"y1\": 0.2, \"yref\": \"y\"}], \"showlegend\": true, \"title\": {\"text\": \"Gantt Chart\"}, \"width\": 900, \"xaxis\": {\"rangeselector\": {\"buttons\": [{\"count\": 7, \"label\": \"1w\", \"step\": \"day\", \"stepmode\": \"backward\"}, {\"count\": 1, \"label\": \"1m\", \"step\": \"month\", \"stepmode\": \"backward\"}, {\"count\": 6, \"label\": \"6m\", \"step\": \"month\", \"stepmode\": \"backward\"}, {\"count\": 1, \"label\": \"YTD\", \"step\": \"year\", \"stepmode\": \"todate\"}, {\"count\": 1, \"label\": \"1y\", \"step\": \"year\", \"stepmode\": \"backward\"}, {\"step\": \"all\"}]}, \"showgrid\": false, \"type\": \"date\", \"zeroline\": false}, \"yaxis\": {\"autorange\": false, \"range\": [-1, 5], \"showgrid\": false, \"ticktext\": [\"Job-4\", \"Job-3\", \"Job-2\", \"Job-1\"], \"tickvals\": [0, 1, 2, 3], \"zeroline\": false}}, {\"showLink\": false, \"linkText\": \"Export to plot.ly\", \"plotlyServerURL\": \"https://plot.ly\"})});</script>"
      ]
     },
     "metadata": {},
     "output_type": "display_data"
    }
   ],
   "source": [
    "import plotly.figure_factory as ff\n",
    "\n",
    "df = [dict(Task=\"Job-1\", Start='2017-01-01', Finish='2017-02-02', Resource='Complete'),\n",
    "      dict(Task=\"Job-1\", Start='2017-02-15', Finish='2017-03-15', Resource='Incomplete'),\n",
    "      dict(Task=\"Job-2\", Start='2017-01-17', Finish='2017-02-17', Resource='Not Started'),\n",
    "      dict(Task=\"Job-2\", Start='2017-01-17', Finish='2017-02-17', Resource='Complete'),\n",
    "      dict(Task=\"Job-3\", Start='2017-03-10', Finish='2017-03-20', Resource='Not Started'),\n",
    "      dict(Task=\"Job-3\", Start='2017-04-01', Finish='2017-04-20', Resource='Not Started'),\n",
    "      dict(Task=\"Job-3\", Start='2017-05-18', Finish='2017-06-18', Resource='Not Started'),\n",
    "      dict(Task=\"Job-4\", Start='2017-01-14', Finish='2017-03-14', Resource='Complete')]\n",
    "\n",
    "colors = {'Not Started': 'rgb(220, 0, 0)',\n",
    "          'Incomplete': (1, 0.9, 0.16),\n",
    "          'Complete': 'rgb(0, 255, 100)'}\n",
    "\n",
    "fig = ff.create_gantt(df, colors=colors, index_col='Resource', show_colorbar=True, group_tasks=True)\n",
    "pyo.iplot(fig, filename='gantt-group-tasks-together')"
   ]
  },
  {
   "cell_type": "code",
   "execution_count": null,
   "metadata": {},
   "outputs": [],
   "source": []
  }
 ],
 "metadata": {
  "kernelspec": {
   "display_name": "Python 3",
   "language": "python",
   "name": "python3"
  },
  "language_info": {
   "codemirror_mode": {
    "name": "ipython",
    "version": 3
   },
   "file_extension": ".py",
   "mimetype": "text/x-python",
   "name": "python",
   "nbconvert_exporter": "python",
   "pygments_lexer": "ipython3",
   "version": "3.6.8"
  }
 },
 "nbformat": 4,
 "nbformat_minor": 1
}
