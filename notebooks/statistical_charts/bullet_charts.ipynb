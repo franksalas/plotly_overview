{
 "cells": [
  {
   "cell_type": "markdown",
   "metadata": {},
   "source": [
    "# Bullet Charts in Python\n",
    "- https://plot.ly/python/bullet-charts/"
   ]
  },
  {
   "cell_type": "code",
   "execution_count": 1,
   "metadata": {},
   "outputs": [
    {
     "data": {
      "text/html": [
       "<script type=\"text/javascript\">window.PlotlyConfig = {MathJaxConfig: 'local'};</script><script type=\"text/javascript\">if (window.MathJax) {MathJax.Hub.Config({SVG: {font: \"STIX-Web\"}});}</script><script>requirejs.config({paths: { 'plotly': ['https://cdn.plot.ly/plotly-latest.min']},});if(!window._Plotly) {require(['plotly'],function(plotly) {window._Plotly=plotly;});}</script>"
      ],
      "text/vnd.plotly.v1+html": [
       "<script type=\"text/javascript\">window.PlotlyConfig = {MathJaxConfig: 'local'};</script><script type=\"text/javascript\">if (window.MathJax) {MathJax.Hub.Config({SVG: {font: \"STIX-Web\"}});}</script><script>requirejs.config({paths: { 'plotly': ['https://cdn.plot.ly/plotly-latest.min']},});if(!window._Plotly) {require(['plotly'],function(plotly) {window._Plotly=plotly;});}</script>"
      ]
     },
     "metadata": {},
     "output_type": "display_data"
    }
   ],
   "source": [
    "import plotly\n",
    "import plotly.offline as pyo\n",
    "pyo.init_notebook_mode(connected=True)"
   ]
  },
  {
   "cell_type": "markdown",
   "metadata": {},
   "source": [
    "# Simple Bullet Chart\n",
    "\n",
    "Stephen Few's Bullet Chart was invented to replace dashboard gauges and meters, combining both types of charts into simple bar charts with qualitative bars (ranges), quantitiative bars (measures) and performance points (markers) all into one simple layout. ranges typically are broken into three values: bad, okay, good, the measures are the darker bars that represent the actual values that a particular variable reached, and the points or markers usually indicate a goal point relative to the value achieved by the measure bar.\n",
    "\n",
    "To use this figure factory, you can input either a pandas DataFrame as your data, or a sequence (ex. list, tuple, np.array, etc.) of dictionaries. You must map the column to the name of the particular column or key in your data. For example, if you want column A in your DataFrame to be the measures column, your function call will look like:\n",
    "\n",
    "\n",
    "```python\n",
    "\n",
    "ff.create_bullet(data, measures='A', ...)\n",
    "\n",
    "```\n",
    "\n",
    "\n",
    "The valid params to set your DataFrame columns or dictionary keys to are titles, subtitles, ranges, measures and markers. The variable for titles and subtitles must contain strings as its elements and the rest lists."
   ]
  },
  {
   "cell_type": "code",
   "execution_count": 2,
   "metadata": {},
   "outputs": [
    {
     "data": {
      "application/vnd.plotly.v1+json": {
       "config": {
        "linkText": "Export to plot.ly",
        "plotlyServerURL": "https://plot.ly",
        "showLink": false
       },
       "data": [
        {
         "base": 0,
         "hoverinfo": "x",
         "marker": {
          "color": "rgb(245.0, 245.0, 245.0)"
         },
         "name": "ranges",
         "orientation": "h",
         "type": "bar",
         "uid": "ac95c639-fe8e-4177-8bd1-3f266a0f3bcc",
         "width": 2,
         "x": [
          300
         ],
         "xaxis": "x",
         "y": [
          0
         ],
         "yaxis": "y"
        },
        {
         "base": 0,
         "hoverinfo": "x",
         "marker": {
          "color": "rgb(222.5, 222.5, 222.5)"
         },
         "name": "ranges",
         "orientation": "h",
         "type": "bar",
         "uid": "46d8353e-ce42-4aa1-a375-57543f2efc12",
         "width": 2,
         "x": [
          225
         ],
         "xaxis": "x",
         "y": [
          0
         ],
         "yaxis": "y"
        },
        {
         "base": 0,
         "hoverinfo": "x",
         "marker": {
          "color": "rgb(200.0, 200.0, 200.0)"
         },
         "name": "ranges",
         "orientation": "h",
         "type": "bar",
         "uid": "517c051b-8758-4f74-bdcd-992411287823",
         "width": 2,
         "x": [
          150
         ],
         "xaxis": "x",
         "y": [
          0
         ],
         "yaxis": "y"
        },
        {
         "base": 0,
         "hoverinfo": "x",
         "marker": {
          "color": "rgb(176.0, 196.0, 221.0)"
         },
         "name": "measures",
         "orientation": "h",
         "type": "bar",
         "uid": "15f4ea18-0213-4068-b745-000ff2705cf4",
         "width": 0.4,
         "x": [
          270
         ],
         "xaxis": "x",
         "y": [
          0.5
         ],
         "yaxis": "y"
        },
        {
         "base": 0,
         "hoverinfo": "x",
         "marker": {
          "color": "rgb(31.0, 119.0, 180.0)"
         },
         "name": "measures",
         "orientation": "h",
         "type": "bar",
         "uid": "b706ee19-39d0-4117-9624-3b9d8df320ca",
         "width": 0.4,
         "x": [
          220
         ],
         "xaxis": "x",
         "y": [
          0.5
         ],
         "yaxis": "y"
        },
        {
         "hoverinfo": "x",
         "marker": {
          "color": "rgb(0, 0, 0)",
          "size": 12,
          "symbol": "diamond-tall"
         },
         "name": "markers",
         "type": "scatter",
         "uid": "e8b32f8d-e0a1-45bf-ab20-2668f573ab57",
         "x": [
          250
         ],
         "xaxis": "x",
         "y": [
          0.5
         ],
         "yaxis": "y"
        },
        {
         "base": 0,
         "hoverinfo": "x",
         "marker": {
          "color": "rgb(245.0, 245.0, 245.0)"
         },
         "name": "ranges",
         "orientation": "h",
         "type": "bar",
         "uid": "4ed6752f-0033-420d-9f41-9bce01aa9978",
         "width": 2,
         "x": [
          30
         ],
         "xaxis": "x2",
         "y": [
          0
         ],
         "yaxis": "y2"
        },
        {
         "base": 0,
         "hoverinfo": "x",
         "marker": {
          "color": "rgb(222.5, 222.5, 222.5)"
         },
         "name": "ranges",
         "orientation": "h",
         "type": "bar",
         "uid": "1519a126-1c46-4325-a5bb-07fa44bbfb52",
         "width": 2,
         "x": [
          25
         ],
         "xaxis": "x2",
         "y": [
          0
         ],
         "yaxis": "y2"
        },
        {
         "base": 0,
         "hoverinfo": "x",
         "marker": {
          "color": "rgb(200.0, 200.0, 200.0)"
         },
         "name": "ranges",
         "orientation": "h",
         "type": "bar",
         "uid": "cdc3a9f9-1463-49be-bf16-404d6f289d5f",
         "width": 2,
         "x": [
          20
         ],
         "xaxis": "x2",
         "y": [
          0
         ],
         "yaxis": "y2"
        },
        {
         "base": 0,
         "hoverinfo": "x",
         "marker": {
          "color": "rgb(176.0, 196.0, 221.0)"
         },
         "name": "measures",
         "orientation": "h",
         "type": "bar",
         "uid": "9a3ebba3-2bf2-4da5-930c-eecac964d24d",
         "width": 0.4,
         "x": [
          23
         ],
         "xaxis": "x2",
         "y": [
          0.5
         ],
         "yaxis": "y2"
        },
        {
         "base": 0,
         "hoverinfo": "x",
         "marker": {
          "color": "rgb(31.0, 119.0, 180.0)"
         },
         "name": "measures",
         "orientation": "h",
         "type": "bar",
         "uid": "91a452dc-194e-4c80-bb7f-f1d4c6ac02d8",
         "width": 0.4,
         "x": [
          21
         ],
         "xaxis": "x2",
         "y": [
          0.5
         ],
         "yaxis": "y2"
        },
        {
         "hoverinfo": "x",
         "marker": {
          "color": "rgb(0, 0, 0)",
          "size": 12,
          "symbol": "diamond-tall"
         },
         "name": "markers",
         "type": "scatter",
         "uid": "98801876-b7a1-451c-a706-90568fc2bd09",
         "x": [
          26
         ],
         "xaxis": "x2",
         "y": [
          0.5
         ],
         "yaxis": "y2"
        },
        {
         "base": 0,
         "hoverinfo": "x",
         "marker": {
          "color": "rgb(245.0, 245.0, 245.0)"
         },
         "name": "ranges",
         "orientation": "h",
         "type": "bar",
         "uid": "f8da54b4-ec1f-4cb2-95f2-fc2e18b85b4e",
         "width": 2,
         "x": [
          600
         ],
         "xaxis": "x3",
         "y": [
          0
         ],
         "yaxis": "y3"
        },
        {
         "base": 0,
         "hoverinfo": "x",
         "marker": {
          "color": "rgb(222.5, 222.5, 222.5)"
         },
         "name": "ranges",
         "orientation": "h",
         "type": "bar",
         "uid": "5fb6a7ad-c7f5-4108-8dda-ff9f1d5a0300",
         "width": 2,
         "x": [
          500
         ],
         "xaxis": "x3",
         "y": [
          0
         ],
         "yaxis": "y3"
        },
        {
         "base": 0,
         "hoverinfo": "x",
         "marker": {
          "color": "rgb(200.0, 200.0, 200.0)"
         },
         "name": "ranges",
         "orientation": "h",
         "type": "bar",
         "uid": "8e34c6eb-de15-4eb2-8383-3305e0f2a5b9",
         "width": 2,
         "x": [
          350
         ],
         "xaxis": "x3",
         "y": [
          0
         ],
         "yaxis": "y3"
        },
        {
         "base": 0,
         "hoverinfo": "x",
         "marker": {
          "color": "rgb(176.0, 196.0, 221.0)"
         },
         "name": "measures",
         "orientation": "h",
         "type": "bar",
         "uid": "df8f303c-d789-45b1-b583-5864c2de25b1",
         "width": 0.4,
         "x": [
          320
         ],
         "xaxis": "x3",
         "y": [
          0.5
         ],
         "yaxis": "y3"
        },
        {
         "base": 0,
         "hoverinfo": "x",
         "marker": {
          "color": "rgb(31.0, 119.0, 180.0)"
         },
         "name": "measures",
         "orientation": "h",
         "type": "bar",
         "uid": "a013b232-d1ca-4886-90b2-0a83f284ffc3",
         "width": 0.4,
         "x": [
          100
         ],
         "xaxis": "x3",
         "y": [
          0.5
         ],
         "yaxis": "y3"
        },
        {
         "hoverinfo": "x",
         "marker": {
          "color": "rgb(0, 0, 0)",
          "size": 12,
          "symbol": "diamond-tall"
         },
         "name": "markers",
         "type": "scatter",
         "uid": "a0a625da-fda8-40a6-b9b3-ebfeca53d857",
         "x": [
          550
         ],
         "xaxis": "x3",
         "y": [
          0.5
         ],
         "yaxis": "y3"
        },
        {
         "base": 0,
         "hoverinfo": "x",
         "marker": {
          "color": "rgb(245.0, 245.0, 245.0)"
         },
         "name": "ranges",
         "orientation": "h",
         "type": "bar",
         "uid": "2043d72f-f13f-4a7e-8527-d3cc2c6fa81f",
         "width": 2,
         "x": [
          2500
         ],
         "xaxis": "x4",
         "y": [
          0
         ],
         "yaxis": "y4"
        },
        {
         "base": 0,
         "hoverinfo": "x",
         "marker": {
          "color": "rgb(222.5, 222.5, 222.5)"
         },
         "name": "ranges",
         "orientation": "h",
         "type": "bar",
         "uid": "82413c4a-a5ed-4015-ab1d-f3e11a9fb708",
         "width": 2,
         "x": [
          2000
         ],
         "xaxis": "x4",
         "y": [
          0
         ],
         "yaxis": "y4"
        },
        {
         "base": 0,
         "hoverinfo": "x",
         "marker": {
          "color": "rgb(200.0, 200.0, 200.0)"
         },
         "name": "ranges",
         "orientation": "h",
         "type": "bar",
         "uid": "de3e18e1-00ef-4d50-ab2e-64e57d220002",
         "width": 2,
         "x": [
          1400
         ],
         "xaxis": "x4",
         "y": [
          0
         ],
         "yaxis": "y4"
        },
        {
         "base": 0,
         "hoverinfo": "x",
         "marker": {
          "color": "rgb(176.0, 196.0, 221.0)"
         },
         "name": "measures",
         "orientation": "h",
         "type": "bar",
         "uid": "3d536ca7-fc43-40e7-96f4-3f210a89ef8b",
         "width": 0.4,
         "x": [
          1650
         ],
         "xaxis": "x4",
         "y": [
          0.5
         ],
         "yaxis": "y4"
        },
        {
         "base": 0,
         "hoverinfo": "x",
         "marker": {
          "color": "rgb(31.0, 119.0, 180.0)"
         },
         "name": "measures",
         "orientation": "h",
         "type": "bar",
         "uid": "b7d5dd0d-1781-4df4-9a52-564233cc13a6",
         "width": 0.4,
         "x": [
          1000
         ],
         "xaxis": "x4",
         "y": [
          0.5
         ],
         "yaxis": "y4"
        },
        {
         "hoverinfo": "x",
         "marker": {
          "color": "rgb(0, 0, 0)",
          "size": 12,
          "symbol": "diamond-tall"
         },
         "name": "markers",
         "type": "scatter",
         "uid": "b133a680-184d-4e07-acf4-e5982af66515",
         "x": [
          2100
         ],
         "xaxis": "x4",
         "y": [
          0.5
         ],
         "yaxis": "y4"
        },
        {
         "base": 0,
         "hoverinfo": "x",
         "marker": {
          "color": "rgb(245.0, 245.0, 245.0)"
         },
         "name": "ranges",
         "orientation": "h",
         "type": "bar",
         "uid": "afef09f7-2d4e-4d1f-99d9-b46d3889842a",
         "width": 2,
         "x": [
          5
         ],
         "xaxis": "x5",
         "y": [
          0
         ],
         "yaxis": "y5"
        },
        {
         "base": 0,
         "hoverinfo": "x",
         "marker": {
          "color": "rgb(222.5, 222.5, 222.5)"
         },
         "name": "ranges",
         "orientation": "h",
         "type": "bar",
         "uid": "1501e035-058c-48c7-bc17-2435d9b54eae",
         "width": 2,
         "x": [
          4.25
         ],
         "xaxis": "x5",
         "y": [
          0
         ],
         "yaxis": "y5"
        },
        {
         "base": 0,
         "hoverinfo": "x",
         "marker": {
          "color": "rgb(200.0, 200.0, 200.0)"
         },
         "name": "ranges",
         "orientation": "h",
         "type": "bar",
         "uid": "f48b632e-2629-42d9-b176-7a99187406e2",
         "width": 2,
         "x": [
          3.5
         ],
         "xaxis": "x5",
         "y": [
          0
         ],
         "yaxis": "y5"
        },
        {
         "base": 0,
         "hoverinfo": "x",
         "marker": {
          "color": "rgb(176.0, 196.0, 221.0)"
         },
         "name": "measures",
         "orientation": "h",
         "type": "bar",
         "uid": "3890347d-01d3-4677-9b0a-ba64f6bb60c3",
         "width": 0.4,
         "x": [
          4.7
         ],
         "xaxis": "x5",
         "y": [
          0.5
         ],
         "yaxis": "y5"
        },
        {
         "base": 0,
         "hoverinfo": "x",
         "marker": {
          "color": "rgb(31.0, 119.0, 180.0)"
         },
         "name": "measures",
         "orientation": "h",
         "type": "bar",
         "uid": "72652872-f18d-4249-8538-062e6fe69772",
         "width": 0.4,
         "x": [
          3.2
         ],
         "xaxis": "x5",
         "y": [
          0.5
         ],
         "yaxis": "y5"
        },
        {
         "hoverinfo": "x",
         "marker": {
          "color": "rgb(0, 0, 0)",
          "size": 12,
          "symbol": "diamond-tall"
         },
         "name": "markers",
         "type": "scatter",
         "uid": "f0134700-6f89-464a-9753-1885bb4805f8",
         "x": [
          4.4
         ],
         "xaxis": "x5",
         "y": [
          0.5
         ],
         "yaxis": "y5"
        }
       ],
       "layout": {
        "annotations": [
         {
          "font": {
           "color": "#0f0f0f",
           "size": 13
          },
          "showarrow": false,
          "text": "<b>Revenue</b>",
          "textangle": 0,
          "x": -0.01,
          "xanchor": "right",
          "xref": "paper",
          "y": 0.98,
          "yanchor": "middle",
          "yref": "paper"
         },
         {
          "font": {
           "color": "#0f0f0f",
           "size": 13
          },
          "showarrow": false,
          "text": "<b>Profit</b>",
          "textangle": 0,
          "x": -0.01,
          "xanchor": "right",
          "xref": "paper",
          "y": 0.74,
          "yanchor": "middle",
          "yref": "paper"
         },
         {
          "font": {
           "color": "#0f0f0f",
           "size": 13
          },
          "showarrow": false,
          "text": "<b>Order Size</b>",
          "textangle": 0,
          "x": -0.01,
          "xanchor": "right",
          "xref": "paper",
          "y": 0.5,
          "yanchor": "middle",
          "yref": "paper"
         },
         {
          "font": {
           "color": "#0f0f0f",
           "size": 13
          },
          "showarrow": false,
          "text": "<b>New Customers</b>",
          "textangle": 0,
          "x": -0.01,
          "xanchor": "right",
          "xref": "paper",
          "y": 0.26,
          "yanchor": "middle",
          "yref": "paper"
         },
         {
          "font": {
           "color": "#0f0f0f",
           "size": 13
          },
          "showarrow": false,
          "text": "<b>Satisfaction</b>",
          "textangle": 0,
          "x": -0.01,
          "xanchor": "right",
          "xref": "paper",
          "y": 0.019999999999999997,
          "yanchor": "middle",
          "yref": "paper"
         }
        ],
        "barmode": "stack",
        "height": 600,
        "margin": {
         "l": 120
        },
        "showlegend": false,
        "title": {
         "text": "Bullet Chart"
        },
        "width": 1000,
        "xaxis": {
         "anchor": "y",
         "domain": [
          0,
          1
         ],
         "showgrid": false,
         "tickwidth": 1,
         "zeroline": false
        },
        "xaxis2": {
         "anchor": "y2",
         "domain": [
          0,
          1
         ],
         "showgrid": false,
         "tickwidth": 1,
         "zeroline": false
        },
        "xaxis3": {
         "anchor": "y3",
         "domain": [
          0,
          1
         ],
         "showgrid": false,
         "tickwidth": 1,
         "zeroline": false
        },
        "xaxis4": {
         "anchor": "y4",
         "domain": [
          0,
          1
         ],
         "showgrid": false,
         "tickwidth": 1,
         "zeroline": false
        },
        "xaxis5": {
         "anchor": "y5",
         "domain": [
          0,
          1
         ],
         "showgrid": false,
         "tickwidth": 1,
         "zeroline": false
        },
        "yaxis": {
         "anchor": "x",
         "domain": [
          0.96,
          1
         ],
         "range": [
          0,
          1
         ],
         "showgrid": false,
         "showticklabels": false,
         "zeroline": false
        },
        "yaxis2": {
         "anchor": "x2",
         "domain": [
          0.7200000000000001,
          0.7600000000000001
         ],
         "range": [
          0,
          1
         ],
         "showgrid": false,
         "showticklabels": false,
         "zeroline": false
        },
        "yaxis3": {
         "anchor": "x3",
         "domain": [
          0.48,
          0.52
         ],
         "range": [
          0,
          1
         ],
         "showgrid": false,
         "showticklabels": false,
         "zeroline": false
        },
        "yaxis4": {
         "anchor": "x4",
         "domain": [
          0.24,
          0.27999999999999997
         ],
         "range": [
          0,
          1
         ],
         "showgrid": false,
         "showticklabels": false,
         "zeroline": false
        },
        "yaxis5": {
         "anchor": "x5",
         "domain": [
          0,
          0.039999999999999994
         ],
         "range": [
          0,
          1
         ],
         "showgrid": false,
         "showticklabels": false,
         "zeroline": false
        }
       }
      },
      "text/html": [
       "<div id=\"9261720c-7163-47b1-b040-50ac8c7290cc\" style=\"height: 600px; width: 1000px;\" class=\"plotly-graph-div\"></div><script type=\"text/javascript\">require([\"plotly\"], function(Plotly) { window.PLOTLYENV=window.PLOTLYENV || {};window.PLOTLYENV.BASE_URL=\"https://plot.ly\";Plotly.newPlot(\"9261720c-7163-47b1-b040-50ac8c7290cc\", [{\"base\": 0, \"hoverinfo\": \"x\", \"marker\": {\"color\": \"rgb(245.0, 245.0, 245.0)\"}, \"name\": \"ranges\", \"orientation\": \"h\", \"width\": 2, \"x\": [300], \"xaxis\": \"x\", \"y\": [0], \"yaxis\": \"y\", \"type\": \"bar\", \"uid\": \"ac95c639-fe8e-4177-8bd1-3f266a0f3bcc\"}, {\"base\": 0, \"hoverinfo\": \"x\", \"marker\": {\"color\": \"rgb(222.5, 222.5, 222.5)\"}, \"name\": \"ranges\", \"orientation\": \"h\", \"width\": 2, \"x\": [225], \"xaxis\": \"x\", \"y\": [0], \"yaxis\": \"y\", \"type\": \"bar\", \"uid\": \"46d8353e-ce42-4aa1-a375-57543f2efc12\"}, {\"base\": 0, \"hoverinfo\": \"x\", \"marker\": {\"color\": \"rgb(200.0, 200.0, 200.0)\"}, \"name\": \"ranges\", \"orientation\": \"h\", \"width\": 2, \"x\": [150], \"xaxis\": \"x\", \"y\": [0], \"yaxis\": \"y\", \"type\": \"bar\", \"uid\": \"517c051b-8758-4f74-bdcd-992411287823\"}, {\"base\": 0, \"hoverinfo\": \"x\", \"marker\": {\"color\": \"rgb(176.0, 196.0, 221.0)\"}, \"name\": \"measures\", \"orientation\": \"h\", \"width\": 0.4, \"x\": [270], \"xaxis\": \"x\", \"y\": [0.5], \"yaxis\": \"y\", \"type\": \"bar\", \"uid\": \"15f4ea18-0213-4068-b745-000ff2705cf4\"}, {\"base\": 0, \"hoverinfo\": \"x\", \"marker\": {\"color\": \"rgb(31.0, 119.0, 180.0)\"}, \"name\": \"measures\", \"orientation\": \"h\", \"width\": 0.4, \"x\": [220], \"xaxis\": \"x\", \"y\": [0.5], \"yaxis\": \"y\", \"type\": \"bar\", \"uid\": \"b706ee19-39d0-4117-9624-3b9d8df320ca\"}, {\"hoverinfo\": \"x\", \"marker\": {\"color\": \"rgb(0, 0, 0)\", \"size\": 12, \"symbol\": \"diamond-tall\"}, \"name\": \"markers\", \"x\": [250], \"xaxis\": \"x\", \"y\": [0.5], \"yaxis\": \"y\", \"type\": \"scatter\", \"uid\": \"e8b32f8d-e0a1-45bf-ab20-2668f573ab57\"}, {\"base\": 0, \"hoverinfo\": \"x\", \"marker\": {\"color\": \"rgb(245.0, 245.0, 245.0)\"}, \"name\": \"ranges\", \"orientation\": \"h\", \"width\": 2, \"x\": [30], \"xaxis\": \"x2\", \"y\": [0], \"yaxis\": \"y2\", \"type\": \"bar\", \"uid\": \"4ed6752f-0033-420d-9f41-9bce01aa9978\"}, {\"base\": 0, \"hoverinfo\": \"x\", \"marker\": {\"color\": \"rgb(222.5, 222.5, 222.5)\"}, \"name\": \"ranges\", \"orientation\": \"h\", \"width\": 2, \"x\": [25], \"xaxis\": \"x2\", \"y\": [0], \"yaxis\": \"y2\", \"type\": \"bar\", \"uid\": \"1519a126-1c46-4325-a5bb-07fa44bbfb52\"}, {\"base\": 0, \"hoverinfo\": \"x\", \"marker\": {\"color\": \"rgb(200.0, 200.0, 200.0)\"}, \"name\": \"ranges\", \"orientation\": \"h\", \"width\": 2, \"x\": [20], \"xaxis\": \"x2\", \"y\": [0], \"yaxis\": \"y2\", \"type\": \"bar\", \"uid\": \"cdc3a9f9-1463-49be-bf16-404d6f289d5f\"}, {\"base\": 0, \"hoverinfo\": \"x\", \"marker\": {\"color\": \"rgb(176.0, 196.0, 221.0)\"}, \"name\": \"measures\", \"orientation\": \"h\", \"width\": 0.4, \"x\": [23], \"xaxis\": \"x2\", \"y\": [0.5], \"yaxis\": \"y2\", \"type\": \"bar\", \"uid\": \"9a3ebba3-2bf2-4da5-930c-eecac964d24d\"}, {\"base\": 0, \"hoverinfo\": \"x\", \"marker\": {\"color\": \"rgb(31.0, 119.0, 180.0)\"}, \"name\": \"measures\", \"orientation\": \"h\", \"width\": 0.4, \"x\": [21], \"xaxis\": \"x2\", \"y\": [0.5], \"yaxis\": \"y2\", \"type\": \"bar\", \"uid\": \"91a452dc-194e-4c80-bb7f-f1d4c6ac02d8\"}, {\"hoverinfo\": \"x\", \"marker\": {\"color\": \"rgb(0, 0, 0)\", \"size\": 12, \"symbol\": \"diamond-tall\"}, \"name\": \"markers\", \"x\": [26], \"xaxis\": \"x2\", \"y\": [0.5], \"yaxis\": \"y2\", \"type\": \"scatter\", \"uid\": \"98801876-b7a1-451c-a706-90568fc2bd09\"}, {\"base\": 0, \"hoverinfo\": \"x\", \"marker\": {\"color\": \"rgb(245.0, 245.0, 245.0)\"}, \"name\": \"ranges\", \"orientation\": \"h\", \"width\": 2, \"x\": [600], \"xaxis\": \"x3\", \"y\": [0], \"yaxis\": \"y3\", \"type\": \"bar\", \"uid\": \"f8da54b4-ec1f-4cb2-95f2-fc2e18b85b4e\"}, {\"base\": 0, \"hoverinfo\": \"x\", \"marker\": {\"color\": \"rgb(222.5, 222.5, 222.5)\"}, \"name\": \"ranges\", \"orientation\": \"h\", \"width\": 2, \"x\": [500], \"xaxis\": \"x3\", \"y\": [0], \"yaxis\": \"y3\", \"type\": \"bar\", \"uid\": \"5fb6a7ad-c7f5-4108-8dda-ff9f1d5a0300\"}, {\"base\": 0, \"hoverinfo\": \"x\", \"marker\": {\"color\": \"rgb(200.0, 200.0, 200.0)\"}, \"name\": \"ranges\", \"orientation\": \"h\", \"width\": 2, \"x\": [350], \"xaxis\": \"x3\", \"y\": [0], \"yaxis\": \"y3\", \"type\": \"bar\", \"uid\": \"8e34c6eb-de15-4eb2-8383-3305e0f2a5b9\"}, {\"base\": 0, \"hoverinfo\": \"x\", \"marker\": {\"color\": \"rgb(176.0, 196.0, 221.0)\"}, \"name\": \"measures\", \"orientation\": \"h\", \"width\": 0.4, \"x\": [320], \"xaxis\": \"x3\", \"y\": [0.5], \"yaxis\": \"y3\", \"type\": \"bar\", \"uid\": \"df8f303c-d789-45b1-b583-5864c2de25b1\"}, {\"base\": 0, \"hoverinfo\": \"x\", \"marker\": {\"color\": \"rgb(31.0, 119.0, 180.0)\"}, \"name\": \"measures\", \"orientation\": \"h\", \"width\": 0.4, \"x\": [100], \"xaxis\": \"x3\", \"y\": [0.5], \"yaxis\": \"y3\", \"type\": \"bar\", \"uid\": \"a013b232-d1ca-4886-90b2-0a83f284ffc3\"}, {\"hoverinfo\": \"x\", \"marker\": {\"color\": \"rgb(0, 0, 0)\", \"size\": 12, \"symbol\": \"diamond-tall\"}, \"name\": \"markers\", \"x\": [550], \"xaxis\": \"x3\", \"y\": [0.5], \"yaxis\": \"y3\", \"type\": \"scatter\", \"uid\": \"a0a625da-fda8-40a6-b9b3-ebfeca53d857\"}, {\"base\": 0, \"hoverinfo\": \"x\", \"marker\": {\"color\": \"rgb(245.0, 245.0, 245.0)\"}, \"name\": \"ranges\", \"orientation\": \"h\", \"width\": 2, \"x\": [2500], \"xaxis\": \"x4\", \"y\": [0], \"yaxis\": \"y4\", \"type\": \"bar\", \"uid\": \"2043d72f-f13f-4a7e-8527-d3cc2c6fa81f\"}, {\"base\": 0, \"hoverinfo\": \"x\", \"marker\": {\"color\": \"rgb(222.5, 222.5, 222.5)\"}, \"name\": \"ranges\", \"orientation\": \"h\", \"width\": 2, \"x\": [2000], \"xaxis\": \"x4\", \"y\": [0], \"yaxis\": \"y4\", \"type\": \"bar\", \"uid\": \"82413c4a-a5ed-4015-ab1d-f3e11a9fb708\"}, {\"base\": 0, \"hoverinfo\": \"x\", \"marker\": {\"color\": \"rgb(200.0, 200.0, 200.0)\"}, \"name\": \"ranges\", \"orientation\": \"h\", \"width\": 2, \"x\": [1400], \"xaxis\": \"x4\", \"y\": [0], \"yaxis\": \"y4\", \"type\": \"bar\", \"uid\": \"de3e18e1-00ef-4d50-ab2e-64e57d220002\"}, {\"base\": 0, \"hoverinfo\": \"x\", \"marker\": {\"color\": \"rgb(176.0, 196.0, 221.0)\"}, \"name\": \"measures\", \"orientation\": \"h\", \"width\": 0.4, \"x\": [1650], \"xaxis\": \"x4\", \"y\": [0.5], \"yaxis\": \"y4\", \"type\": \"bar\", \"uid\": \"3d536ca7-fc43-40e7-96f4-3f210a89ef8b\"}, {\"base\": 0, \"hoverinfo\": \"x\", \"marker\": {\"color\": \"rgb(31.0, 119.0, 180.0)\"}, \"name\": \"measures\", \"orientation\": \"h\", \"width\": 0.4, \"x\": [1000], \"xaxis\": \"x4\", \"y\": [0.5], \"yaxis\": \"y4\", \"type\": \"bar\", \"uid\": \"b7d5dd0d-1781-4df4-9a52-564233cc13a6\"}, {\"hoverinfo\": \"x\", \"marker\": {\"color\": \"rgb(0, 0, 0)\", \"size\": 12, \"symbol\": \"diamond-tall\"}, \"name\": \"markers\", \"x\": [2100], \"xaxis\": \"x4\", \"y\": [0.5], \"yaxis\": \"y4\", \"type\": \"scatter\", \"uid\": \"b133a680-184d-4e07-acf4-e5982af66515\"}, {\"base\": 0, \"hoverinfo\": \"x\", \"marker\": {\"color\": \"rgb(245.0, 245.0, 245.0)\"}, \"name\": \"ranges\", \"orientation\": \"h\", \"width\": 2, \"x\": [5], \"xaxis\": \"x5\", \"y\": [0], \"yaxis\": \"y5\", \"type\": \"bar\", \"uid\": \"afef09f7-2d4e-4d1f-99d9-b46d3889842a\"}, {\"base\": 0, \"hoverinfo\": \"x\", \"marker\": {\"color\": \"rgb(222.5, 222.5, 222.5)\"}, \"name\": \"ranges\", \"orientation\": \"h\", \"width\": 2, \"x\": [4.25], \"xaxis\": \"x5\", \"y\": [0], \"yaxis\": \"y5\", \"type\": \"bar\", \"uid\": \"1501e035-058c-48c7-bc17-2435d9b54eae\"}, {\"base\": 0, \"hoverinfo\": \"x\", \"marker\": {\"color\": \"rgb(200.0, 200.0, 200.0)\"}, \"name\": \"ranges\", \"orientation\": \"h\", \"width\": 2, \"x\": [3.5], \"xaxis\": \"x5\", \"y\": [0], \"yaxis\": \"y5\", \"type\": \"bar\", \"uid\": \"f48b632e-2629-42d9-b176-7a99187406e2\"}, {\"base\": 0, \"hoverinfo\": \"x\", \"marker\": {\"color\": \"rgb(176.0, 196.0, 221.0)\"}, \"name\": \"measures\", \"orientation\": \"h\", \"width\": 0.4, \"x\": [4.7], \"xaxis\": \"x5\", \"y\": [0.5], \"yaxis\": \"y5\", \"type\": \"bar\", \"uid\": \"3890347d-01d3-4677-9b0a-ba64f6bb60c3\"}, {\"base\": 0, \"hoverinfo\": \"x\", \"marker\": {\"color\": \"rgb(31.0, 119.0, 180.0)\"}, \"name\": \"measures\", \"orientation\": \"h\", \"width\": 0.4, \"x\": [3.2], \"xaxis\": \"x5\", \"y\": [0.5], \"yaxis\": \"y5\", \"type\": \"bar\", \"uid\": \"72652872-f18d-4249-8538-062e6fe69772\"}, {\"hoverinfo\": \"x\", \"marker\": {\"color\": \"rgb(0, 0, 0)\", \"size\": 12, \"symbol\": \"diamond-tall\"}, \"name\": \"markers\", \"x\": [4.4], \"xaxis\": \"x5\", \"y\": [0.5], \"yaxis\": \"y5\", \"type\": \"scatter\", \"uid\": \"f0134700-6f89-464a-9753-1885bb4805f8\"}], {\"xaxis\": {\"anchor\": \"y\", \"domain\": [0.0, 1.0], \"showgrid\": false, \"zeroline\": false, \"tickwidth\": 1}, \"yaxis\": {\"anchor\": \"x\", \"domain\": [0.96, 1.0], \"showgrid\": false, \"zeroline\": false, \"showticklabels\": false, \"range\": [0, 1]}, \"xaxis2\": {\"anchor\": \"y2\", \"domain\": [0.0, 1.0], \"showgrid\": false, \"zeroline\": false, \"tickwidth\": 1}, \"yaxis2\": {\"anchor\": \"x2\", \"domain\": [0.7200000000000001, 0.7600000000000001], \"showgrid\": false, \"zeroline\": false, \"showticklabels\": false, \"range\": [0, 1]}, \"xaxis3\": {\"anchor\": \"y3\", \"domain\": [0.0, 1.0], \"showgrid\": false, \"zeroline\": false, \"tickwidth\": 1}, \"yaxis3\": {\"anchor\": \"x3\", \"domain\": [0.48, 0.52], \"showgrid\": false, \"zeroline\": false, \"showticklabels\": false, \"range\": [0, 1]}, \"xaxis4\": {\"anchor\": \"y4\", \"domain\": [0.0, 1.0], \"showgrid\": false, \"zeroline\": false, \"tickwidth\": 1}, \"yaxis4\": {\"anchor\": \"x4\", \"domain\": [0.24, 0.27999999999999997], \"showgrid\": false, \"zeroline\": false, \"showticklabels\": false, \"range\": [0, 1]}, \"xaxis5\": {\"anchor\": \"y5\", \"domain\": [0.0, 1.0], \"showgrid\": false, \"zeroline\": false, \"tickwidth\": 1}, \"yaxis5\": {\"anchor\": \"x5\", \"domain\": [0.0, 0.039999999999999994], \"showgrid\": false, \"zeroline\": false, \"showticklabels\": false, \"range\": [0, 1]}, \"margin\": {\"l\": 120}, \"title\": {\"text\": \"Bullet Chart\"}, \"height\": 600, \"width\": 1000, \"showlegend\": false, \"barmode\": \"stack\", \"annotations\": [{\"font\": {\"color\": \"#0f0f0f\", \"size\": 13}, \"showarrow\": false, \"text\": \"<b>Revenue</b>\", \"textangle\": 0, \"x\": -0.01, \"xanchor\": \"right\", \"xref\": \"paper\", \"y\": 0.98, \"yanchor\": \"middle\", \"yref\": \"paper\"}, {\"font\": {\"color\": \"#0f0f0f\", \"size\": 13}, \"showarrow\": false, \"text\": \"<b>Profit</b>\", \"textangle\": 0, \"x\": -0.01, \"xanchor\": \"right\", \"xref\": \"paper\", \"y\": 0.74, \"yanchor\": \"middle\", \"yref\": \"paper\"}, {\"font\": {\"color\": \"#0f0f0f\", \"size\": 13}, \"showarrow\": false, \"text\": \"<b>Order Size</b>\", \"textangle\": 0, \"x\": -0.01, \"xanchor\": \"right\", \"xref\": \"paper\", \"y\": 0.5, \"yanchor\": \"middle\", \"yref\": \"paper\"}, {\"font\": {\"color\": \"#0f0f0f\", \"size\": 13}, \"showarrow\": false, \"text\": \"<b>New Customers</b>\", \"textangle\": 0, \"x\": -0.01, \"xanchor\": \"right\", \"xref\": \"paper\", \"y\": 0.26, \"yanchor\": \"middle\", \"yref\": \"paper\"}, {\"font\": {\"color\": \"#0f0f0f\", \"size\": 13}, \"showarrow\": false, \"text\": \"<b>Satisfaction</b>\", \"textangle\": 0, \"x\": -0.01, \"xanchor\": \"right\", \"xref\": \"paper\", \"y\": 0.019999999999999997, \"yanchor\": \"middle\", \"yref\": \"paper\"}]}, {\"showLink\": false, \"linkText\": \"Export to plot.ly\", \"plotlyServerURL\": \"https://plot.ly\"})});</script>"
      ],
      "text/vnd.plotly.v1+html": [
       "<div id=\"9261720c-7163-47b1-b040-50ac8c7290cc\" style=\"height: 600px; width: 1000px;\" class=\"plotly-graph-div\"></div><script type=\"text/javascript\">require([\"plotly\"], function(Plotly) { window.PLOTLYENV=window.PLOTLYENV || {};window.PLOTLYENV.BASE_URL=\"https://plot.ly\";Plotly.newPlot(\"9261720c-7163-47b1-b040-50ac8c7290cc\", [{\"base\": 0, \"hoverinfo\": \"x\", \"marker\": {\"color\": \"rgb(245.0, 245.0, 245.0)\"}, \"name\": \"ranges\", \"orientation\": \"h\", \"width\": 2, \"x\": [300], \"xaxis\": \"x\", \"y\": [0], \"yaxis\": \"y\", \"type\": \"bar\", \"uid\": \"ac95c639-fe8e-4177-8bd1-3f266a0f3bcc\"}, {\"base\": 0, \"hoverinfo\": \"x\", \"marker\": {\"color\": \"rgb(222.5, 222.5, 222.5)\"}, \"name\": \"ranges\", \"orientation\": \"h\", \"width\": 2, \"x\": [225], \"xaxis\": \"x\", \"y\": [0], \"yaxis\": \"y\", \"type\": \"bar\", \"uid\": \"46d8353e-ce42-4aa1-a375-57543f2efc12\"}, {\"base\": 0, \"hoverinfo\": \"x\", \"marker\": {\"color\": \"rgb(200.0, 200.0, 200.0)\"}, \"name\": \"ranges\", \"orientation\": \"h\", \"width\": 2, \"x\": [150], \"xaxis\": \"x\", \"y\": [0], \"yaxis\": \"y\", \"type\": \"bar\", \"uid\": \"517c051b-8758-4f74-bdcd-992411287823\"}, {\"base\": 0, \"hoverinfo\": \"x\", \"marker\": {\"color\": \"rgb(176.0, 196.0, 221.0)\"}, \"name\": \"measures\", \"orientation\": \"h\", \"width\": 0.4, \"x\": [270], \"xaxis\": \"x\", \"y\": [0.5], \"yaxis\": \"y\", \"type\": \"bar\", \"uid\": \"15f4ea18-0213-4068-b745-000ff2705cf4\"}, {\"base\": 0, \"hoverinfo\": \"x\", \"marker\": {\"color\": \"rgb(31.0, 119.0, 180.0)\"}, \"name\": \"measures\", \"orientation\": \"h\", \"width\": 0.4, \"x\": [220], \"xaxis\": \"x\", \"y\": [0.5], \"yaxis\": \"y\", \"type\": \"bar\", \"uid\": \"b706ee19-39d0-4117-9624-3b9d8df320ca\"}, {\"hoverinfo\": \"x\", \"marker\": {\"color\": \"rgb(0, 0, 0)\", \"size\": 12, \"symbol\": \"diamond-tall\"}, \"name\": \"markers\", \"x\": [250], \"xaxis\": \"x\", \"y\": [0.5], \"yaxis\": \"y\", \"type\": \"scatter\", \"uid\": \"e8b32f8d-e0a1-45bf-ab20-2668f573ab57\"}, {\"base\": 0, \"hoverinfo\": \"x\", \"marker\": {\"color\": \"rgb(245.0, 245.0, 245.0)\"}, \"name\": \"ranges\", \"orientation\": \"h\", \"width\": 2, \"x\": [30], \"xaxis\": \"x2\", \"y\": [0], \"yaxis\": \"y2\", \"type\": \"bar\", \"uid\": \"4ed6752f-0033-420d-9f41-9bce01aa9978\"}, {\"base\": 0, \"hoverinfo\": \"x\", \"marker\": {\"color\": \"rgb(222.5, 222.5, 222.5)\"}, \"name\": \"ranges\", \"orientation\": \"h\", \"width\": 2, \"x\": [25], \"xaxis\": \"x2\", \"y\": [0], \"yaxis\": \"y2\", \"type\": \"bar\", \"uid\": \"1519a126-1c46-4325-a5bb-07fa44bbfb52\"}, {\"base\": 0, \"hoverinfo\": \"x\", \"marker\": {\"color\": \"rgb(200.0, 200.0, 200.0)\"}, \"name\": \"ranges\", \"orientation\": \"h\", \"width\": 2, \"x\": [20], \"xaxis\": \"x2\", \"y\": [0], \"yaxis\": \"y2\", \"type\": \"bar\", \"uid\": \"cdc3a9f9-1463-49be-bf16-404d6f289d5f\"}, {\"base\": 0, \"hoverinfo\": \"x\", \"marker\": {\"color\": \"rgb(176.0, 196.0, 221.0)\"}, \"name\": \"measures\", \"orientation\": \"h\", \"width\": 0.4, \"x\": [23], \"xaxis\": \"x2\", \"y\": [0.5], \"yaxis\": \"y2\", \"type\": \"bar\", \"uid\": \"9a3ebba3-2bf2-4da5-930c-eecac964d24d\"}, {\"base\": 0, \"hoverinfo\": \"x\", \"marker\": {\"color\": \"rgb(31.0, 119.0, 180.0)\"}, \"name\": \"measures\", \"orientation\": \"h\", \"width\": 0.4, \"x\": [21], \"xaxis\": \"x2\", \"y\": [0.5], \"yaxis\": \"y2\", \"type\": \"bar\", \"uid\": \"91a452dc-194e-4c80-bb7f-f1d4c6ac02d8\"}, {\"hoverinfo\": \"x\", \"marker\": {\"color\": \"rgb(0, 0, 0)\", \"size\": 12, \"symbol\": \"diamond-tall\"}, \"name\": \"markers\", \"x\": [26], \"xaxis\": \"x2\", \"y\": [0.5], \"yaxis\": \"y2\", \"type\": \"scatter\", \"uid\": \"98801876-b7a1-451c-a706-90568fc2bd09\"}, {\"base\": 0, \"hoverinfo\": \"x\", \"marker\": {\"color\": \"rgb(245.0, 245.0, 245.0)\"}, \"name\": \"ranges\", \"orientation\": \"h\", \"width\": 2, \"x\": [600], \"xaxis\": \"x3\", \"y\": [0], \"yaxis\": \"y3\", \"type\": \"bar\", \"uid\": \"f8da54b4-ec1f-4cb2-95f2-fc2e18b85b4e\"}, {\"base\": 0, \"hoverinfo\": \"x\", \"marker\": {\"color\": \"rgb(222.5, 222.5, 222.5)\"}, \"name\": \"ranges\", \"orientation\": \"h\", \"width\": 2, \"x\": [500], \"xaxis\": \"x3\", \"y\": [0], \"yaxis\": \"y3\", \"type\": \"bar\", \"uid\": \"5fb6a7ad-c7f5-4108-8dda-ff9f1d5a0300\"}, {\"base\": 0, \"hoverinfo\": \"x\", \"marker\": {\"color\": \"rgb(200.0, 200.0, 200.0)\"}, \"name\": \"ranges\", \"orientation\": \"h\", \"width\": 2, \"x\": [350], \"xaxis\": \"x3\", \"y\": [0], \"yaxis\": \"y3\", \"type\": \"bar\", \"uid\": \"8e34c6eb-de15-4eb2-8383-3305e0f2a5b9\"}, {\"base\": 0, \"hoverinfo\": \"x\", \"marker\": {\"color\": \"rgb(176.0, 196.0, 221.0)\"}, \"name\": \"measures\", \"orientation\": \"h\", \"width\": 0.4, \"x\": [320], \"xaxis\": \"x3\", \"y\": [0.5], \"yaxis\": \"y3\", \"type\": \"bar\", \"uid\": \"df8f303c-d789-45b1-b583-5864c2de25b1\"}, {\"base\": 0, \"hoverinfo\": \"x\", \"marker\": {\"color\": \"rgb(31.0, 119.0, 180.0)\"}, \"name\": \"measures\", \"orientation\": \"h\", \"width\": 0.4, \"x\": [100], \"xaxis\": \"x3\", \"y\": [0.5], \"yaxis\": \"y3\", \"type\": \"bar\", \"uid\": \"a013b232-d1ca-4886-90b2-0a83f284ffc3\"}, {\"hoverinfo\": \"x\", \"marker\": {\"color\": \"rgb(0, 0, 0)\", \"size\": 12, \"symbol\": \"diamond-tall\"}, \"name\": \"markers\", \"x\": [550], \"xaxis\": \"x3\", \"y\": [0.5], \"yaxis\": \"y3\", \"type\": \"scatter\", \"uid\": \"a0a625da-fda8-40a6-b9b3-ebfeca53d857\"}, {\"base\": 0, \"hoverinfo\": \"x\", \"marker\": {\"color\": \"rgb(245.0, 245.0, 245.0)\"}, \"name\": \"ranges\", \"orientation\": \"h\", \"width\": 2, \"x\": [2500], \"xaxis\": \"x4\", \"y\": [0], \"yaxis\": \"y4\", \"type\": \"bar\", \"uid\": \"2043d72f-f13f-4a7e-8527-d3cc2c6fa81f\"}, {\"base\": 0, \"hoverinfo\": \"x\", \"marker\": {\"color\": \"rgb(222.5, 222.5, 222.5)\"}, \"name\": \"ranges\", \"orientation\": \"h\", \"width\": 2, \"x\": [2000], \"xaxis\": \"x4\", \"y\": [0], \"yaxis\": \"y4\", \"type\": \"bar\", \"uid\": \"82413c4a-a5ed-4015-ab1d-f3e11a9fb708\"}, {\"base\": 0, \"hoverinfo\": \"x\", \"marker\": {\"color\": \"rgb(200.0, 200.0, 200.0)\"}, \"name\": \"ranges\", \"orientation\": \"h\", \"width\": 2, \"x\": [1400], \"xaxis\": \"x4\", \"y\": [0], \"yaxis\": \"y4\", \"type\": \"bar\", \"uid\": \"de3e18e1-00ef-4d50-ab2e-64e57d220002\"}, {\"base\": 0, \"hoverinfo\": \"x\", \"marker\": {\"color\": \"rgb(176.0, 196.0, 221.0)\"}, \"name\": \"measures\", \"orientation\": \"h\", \"width\": 0.4, \"x\": [1650], \"xaxis\": \"x4\", \"y\": [0.5], \"yaxis\": \"y4\", \"type\": \"bar\", \"uid\": \"3d536ca7-fc43-40e7-96f4-3f210a89ef8b\"}, {\"base\": 0, \"hoverinfo\": \"x\", \"marker\": {\"color\": \"rgb(31.0, 119.0, 180.0)\"}, \"name\": \"measures\", \"orientation\": \"h\", \"width\": 0.4, \"x\": [1000], \"xaxis\": \"x4\", \"y\": [0.5], \"yaxis\": \"y4\", \"type\": \"bar\", \"uid\": \"b7d5dd0d-1781-4df4-9a52-564233cc13a6\"}, {\"hoverinfo\": \"x\", \"marker\": {\"color\": \"rgb(0, 0, 0)\", \"size\": 12, \"symbol\": \"diamond-tall\"}, \"name\": \"markers\", \"x\": [2100], \"xaxis\": \"x4\", \"y\": [0.5], \"yaxis\": \"y4\", \"type\": \"scatter\", \"uid\": \"b133a680-184d-4e07-acf4-e5982af66515\"}, {\"base\": 0, \"hoverinfo\": \"x\", \"marker\": {\"color\": \"rgb(245.0, 245.0, 245.0)\"}, \"name\": \"ranges\", \"orientation\": \"h\", \"width\": 2, \"x\": [5], \"xaxis\": \"x5\", \"y\": [0], \"yaxis\": \"y5\", \"type\": \"bar\", \"uid\": \"afef09f7-2d4e-4d1f-99d9-b46d3889842a\"}, {\"base\": 0, \"hoverinfo\": \"x\", \"marker\": {\"color\": \"rgb(222.5, 222.5, 222.5)\"}, \"name\": \"ranges\", \"orientation\": \"h\", \"width\": 2, \"x\": [4.25], \"xaxis\": \"x5\", \"y\": [0], \"yaxis\": \"y5\", \"type\": \"bar\", \"uid\": \"1501e035-058c-48c7-bc17-2435d9b54eae\"}, {\"base\": 0, \"hoverinfo\": \"x\", \"marker\": {\"color\": \"rgb(200.0, 200.0, 200.0)\"}, \"name\": \"ranges\", \"orientation\": \"h\", \"width\": 2, \"x\": [3.5], \"xaxis\": \"x5\", \"y\": [0], \"yaxis\": \"y5\", \"type\": \"bar\", \"uid\": \"f48b632e-2629-42d9-b176-7a99187406e2\"}, {\"base\": 0, \"hoverinfo\": \"x\", \"marker\": {\"color\": \"rgb(176.0, 196.0, 221.0)\"}, \"name\": \"measures\", \"orientation\": \"h\", \"width\": 0.4, \"x\": [4.7], \"xaxis\": \"x5\", \"y\": [0.5], \"yaxis\": \"y5\", \"type\": \"bar\", \"uid\": \"3890347d-01d3-4677-9b0a-ba64f6bb60c3\"}, {\"base\": 0, \"hoverinfo\": \"x\", \"marker\": {\"color\": \"rgb(31.0, 119.0, 180.0)\"}, \"name\": \"measures\", \"orientation\": \"h\", \"width\": 0.4, \"x\": [3.2], \"xaxis\": \"x5\", \"y\": [0.5], \"yaxis\": \"y5\", \"type\": \"bar\", \"uid\": \"72652872-f18d-4249-8538-062e6fe69772\"}, {\"hoverinfo\": \"x\", \"marker\": {\"color\": \"rgb(0, 0, 0)\", \"size\": 12, \"symbol\": \"diamond-tall\"}, \"name\": \"markers\", \"x\": [4.4], \"xaxis\": \"x5\", \"y\": [0.5], \"yaxis\": \"y5\", \"type\": \"scatter\", \"uid\": \"f0134700-6f89-464a-9753-1885bb4805f8\"}], {\"xaxis\": {\"anchor\": \"y\", \"domain\": [0.0, 1.0], \"showgrid\": false, \"zeroline\": false, \"tickwidth\": 1}, \"yaxis\": {\"anchor\": \"x\", \"domain\": [0.96, 1.0], \"showgrid\": false, \"zeroline\": false, \"showticklabels\": false, \"range\": [0, 1]}, \"xaxis2\": {\"anchor\": \"y2\", \"domain\": [0.0, 1.0], \"showgrid\": false, \"zeroline\": false, \"tickwidth\": 1}, \"yaxis2\": {\"anchor\": \"x2\", \"domain\": [0.7200000000000001, 0.7600000000000001], \"showgrid\": false, \"zeroline\": false, \"showticklabels\": false, \"range\": [0, 1]}, \"xaxis3\": {\"anchor\": \"y3\", \"domain\": [0.0, 1.0], \"showgrid\": false, \"zeroline\": false, \"tickwidth\": 1}, \"yaxis3\": {\"anchor\": \"x3\", \"domain\": [0.48, 0.52], \"showgrid\": false, \"zeroline\": false, \"showticklabels\": false, \"range\": [0, 1]}, \"xaxis4\": {\"anchor\": \"y4\", \"domain\": [0.0, 1.0], \"showgrid\": false, \"zeroline\": false, \"tickwidth\": 1}, \"yaxis4\": {\"anchor\": \"x4\", \"domain\": [0.24, 0.27999999999999997], \"showgrid\": false, \"zeroline\": false, \"showticklabels\": false, \"range\": [0, 1]}, \"xaxis5\": {\"anchor\": \"y5\", \"domain\": [0.0, 1.0], \"showgrid\": false, \"zeroline\": false, \"tickwidth\": 1}, \"yaxis5\": {\"anchor\": \"x5\", \"domain\": [0.0, 0.039999999999999994], \"showgrid\": false, \"zeroline\": false, \"showticklabels\": false, \"range\": [0, 1]}, \"margin\": {\"l\": 120}, \"title\": {\"text\": \"Bullet Chart\"}, \"height\": 600, \"width\": 1000, \"showlegend\": false, \"barmode\": \"stack\", \"annotations\": [{\"font\": {\"color\": \"#0f0f0f\", \"size\": 13}, \"showarrow\": false, \"text\": \"<b>Revenue</b>\", \"textangle\": 0, \"x\": -0.01, \"xanchor\": \"right\", \"xref\": \"paper\", \"y\": 0.98, \"yanchor\": \"middle\", \"yref\": \"paper\"}, {\"font\": {\"color\": \"#0f0f0f\", \"size\": 13}, \"showarrow\": false, \"text\": \"<b>Profit</b>\", \"textangle\": 0, \"x\": -0.01, \"xanchor\": \"right\", \"xref\": \"paper\", \"y\": 0.74, \"yanchor\": \"middle\", \"yref\": \"paper\"}, {\"font\": {\"color\": \"#0f0f0f\", \"size\": 13}, \"showarrow\": false, \"text\": \"<b>Order Size</b>\", \"textangle\": 0, \"x\": -0.01, \"xanchor\": \"right\", \"xref\": \"paper\", \"y\": 0.5, \"yanchor\": \"middle\", \"yref\": \"paper\"}, {\"font\": {\"color\": \"#0f0f0f\", \"size\": 13}, \"showarrow\": false, \"text\": \"<b>New Customers</b>\", \"textangle\": 0, \"x\": -0.01, \"xanchor\": \"right\", \"xref\": \"paper\", \"y\": 0.26, \"yanchor\": \"middle\", \"yref\": \"paper\"}, {\"font\": {\"color\": \"#0f0f0f\", \"size\": 13}, \"showarrow\": false, \"text\": \"<b>Satisfaction</b>\", \"textangle\": 0, \"x\": -0.01, \"xanchor\": \"right\", \"xref\": \"paper\", \"y\": 0.019999999999999997, \"yanchor\": \"middle\", \"yref\": \"paper\"}]}, {\"showLink\": false, \"linkText\": \"Export to plot.ly\", \"plotlyServerURL\": \"https://plot.ly\"})});</script>"
      ]
     },
     "metadata": {},
     "output_type": "display_data"
    }
   ],
   "source": [
    "import plotly.figure_factory as ff\n",
    "\n",
    "import pandas as pd\n",
    "\n",
    "data = pd.read_json('https://cdn.rawgit.com/plotly/datasets/master/BulletData.json')\n",
    "\n",
    "fig = ff.create_bullet(\n",
    "    data, markers='markers', measures='measures',\n",
    "    ranges='ranges', subtitles='subtitle', titles='title',\n",
    ")\n",
    "pyo.iplot(fig, filename='bullet chart from a dataframe')"
   ]
  },
  {
   "cell_type": "markdown",
   "metadata": {},
   "source": [
    "# Vertical Bullet Chart\n"
   ]
  },
  {
   "cell_type": "code",
   "execution_count": 3,
   "metadata": {},
   "outputs": [
    {
     "data": {
      "application/vnd.plotly.v1+json": {
       "config": {
        "linkText": "Export to plot.ly",
        "plotlyServerURL": "https://plot.ly",
        "showLink": false
       },
       "data": [
        {
         "base": 0,
         "hoverinfo": "y",
         "marker": {
          "color": "rgb(245.0, 245.0, 245.0)"
         },
         "name": "ranges",
         "orientation": "v",
         "type": "bar",
         "uid": "0a595310-3284-4ac6-80b7-8175ee35ce0f",
         "width": 2,
         "x": [
          0
         ],
         "xaxis": "x",
         "y": [
          300
         ],
         "yaxis": "y"
        },
        {
         "base": 0,
         "hoverinfo": "y",
         "marker": {
          "color": "rgb(222.5, 222.5, 222.5)"
         },
         "name": "ranges",
         "orientation": "v",
         "type": "bar",
         "uid": "4a4c52e7-67b3-4b6a-83af-f939438ed796",
         "width": 2,
         "x": [
          0
         ],
         "xaxis": "x",
         "y": [
          225
         ],
         "yaxis": "y"
        },
        {
         "base": 0,
         "hoverinfo": "y",
         "marker": {
          "color": "rgb(200.0, 200.0, 200.0)"
         },
         "name": "ranges",
         "orientation": "v",
         "type": "bar",
         "uid": "3f7785a6-558f-410c-ba88-9d812fdcfce2",
         "width": 2,
         "x": [
          0
         ],
         "xaxis": "x",
         "y": [
          150
         ],
         "yaxis": "y"
        },
        {
         "base": 0,
         "hoverinfo": "y",
         "marker": {
          "color": "rgb(176.0, 196.0, 221.0)"
         },
         "name": "measures",
         "orientation": "v",
         "type": "bar",
         "uid": "4273a0a3-dc0d-4a8d-b49d-42b4db027753",
         "width": 0.4,
         "x": [
          0.5
         ],
         "xaxis": "x",
         "y": [
          270
         ],
         "yaxis": "y"
        },
        {
         "base": 0,
         "hoverinfo": "y",
         "marker": {
          "color": "rgb(31.0, 119.0, 180.0)"
         },
         "name": "measures",
         "orientation": "v",
         "type": "bar",
         "uid": "c63486d1-b579-4bb5-8358-7bddaac0caa5",
         "width": 0.4,
         "x": [
          0.5
         ],
         "xaxis": "x",
         "y": [
          220
         ],
         "yaxis": "y"
        },
        {
         "hoverinfo": "y",
         "marker": {
          "color": "rgb(0, 0, 0)",
          "size": 12,
          "symbol": "diamond-tall"
         },
         "name": "markers",
         "type": "scatter",
         "uid": "72c26316-0731-4814-97d8-764c5673fd6a",
         "x": [
          0.5
         ],
         "xaxis": "x",
         "y": [
          250
         ],
         "yaxis": "y"
        },
        {
         "base": 0,
         "hoverinfo": "y",
         "marker": {
          "color": "rgb(245.0, 245.0, 245.0)"
         },
         "name": "ranges",
         "orientation": "v",
         "type": "bar",
         "uid": "3f90da45-af90-471e-880d-a3af6c1c1246",
         "width": 2,
         "x": [
          0
         ],
         "xaxis": "x2",
         "y": [
          30
         ],
         "yaxis": "y2"
        },
        {
         "base": 0,
         "hoverinfo": "y",
         "marker": {
          "color": "rgb(222.5, 222.5, 222.5)"
         },
         "name": "ranges",
         "orientation": "v",
         "type": "bar",
         "uid": "afd803d7-c65e-4cf6-8edb-50972ee7b65f",
         "width": 2,
         "x": [
          0
         ],
         "xaxis": "x2",
         "y": [
          25
         ],
         "yaxis": "y2"
        },
        {
         "base": 0,
         "hoverinfo": "y",
         "marker": {
          "color": "rgb(200.0, 200.0, 200.0)"
         },
         "name": "ranges",
         "orientation": "v",
         "type": "bar",
         "uid": "4023c900-dd19-4975-9068-d188b471d7d5",
         "width": 2,
         "x": [
          0
         ],
         "xaxis": "x2",
         "y": [
          20
         ],
         "yaxis": "y2"
        },
        {
         "base": 0,
         "hoverinfo": "y",
         "marker": {
          "color": "rgb(176.0, 196.0, 221.0)"
         },
         "name": "measures",
         "orientation": "v",
         "type": "bar",
         "uid": "817ee71d-80fe-44d2-bdd1-b9a0c67baf03",
         "width": 0.4,
         "x": [
          0.5
         ],
         "xaxis": "x2",
         "y": [
          23
         ],
         "yaxis": "y2"
        },
        {
         "base": 0,
         "hoverinfo": "y",
         "marker": {
          "color": "rgb(31.0, 119.0, 180.0)"
         },
         "name": "measures",
         "orientation": "v",
         "type": "bar",
         "uid": "f2a91f0f-f5f1-485a-93c0-3081c317fbd2",
         "width": 0.4,
         "x": [
          0.5
         ],
         "xaxis": "x2",
         "y": [
          21
         ],
         "yaxis": "y2"
        },
        {
         "hoverinfo": "y",
         "marker": {
          "color": "rgb(0, 0, 0)",
          "size": 12,
          "symbol": "diamond-tall"
         },
         "name": "markers",
         "type": "scatter",
         "uid": "7499a5ed-650d-4959-bbaf-6e4c77866032",
         "x": [
          0.5
         ],
         "xaxis": "x2",
         "y": [
          26
         ],
         "yaxis": "y2"
        },
        {
         "base": 0,
         "hoverinfo": "y",
         "marker": {
          "color": "rgb(245.0, 245.0, 245.0)"
         },
         "name": "ranges",
         "orientation": "v",
         "type": "bar",
         "uid": "f52d5745-884c-4e15-8ec8-731fb6dd557d",
         "width": 2,
         "x": [
          0
         ],
         "xaxis": "x3",
         "y": [
          600
         ],
         "yaxis": "y3"
        },
        {
         "base": 0,
         "hoverinfo": "y",
         "marker": {
          "color": "rgb(222.5, 222.5, 222.5)"
         },
         "name": "ranges",
         "orientation": "v",
         "type": "bar",
         "uid": "d6768a48-ebc6-40c9-a164-03f94da59aa5",
         "width": 2,
         "x": [
          0
         ],
         "xaxis": "x3",
         "y": [
          500
         ],
         "yaxis": "y3"
        },
        {
         "base": 0,
         "hoverinfo": "y",
         "marker": {
          "color": "rgb(200.0, 200.0, 200.0)"
         },
         "name": "ranges",
         "orientation": "v",
         "type": "bar",
         "uid": "78eaf42c-e575-4315-985c-12d69264d96a",
         "width": 2,
         "x": [
          0
         ],
         "xaxis": "x3",
         "y": [
          350
         ],
         "yaxis": "y3"
        },
        {
         "base": 0,
         "hoverinfo": "y",
         "marker": {
          "color": "rgb(176.0, 196.0, 221.0)"
         },
         "name": "measures",
         "orientation": "v",
         "type": "bar",
         "uid": "b88ac6c3-0f62-452a-bfde-a69653595515",
         "width": 0.4,
         "x": [
          0.5
         ],
         "xaxis": "x3",
         "y": [
          320
         ],
         "yaxis": "y3"
        },
        {
         "base": 0,
         "hoverinfo": "y",
         "marker": {
          "color": "rgb(31.0, 119.0, 180.0)"
         },
         "name": "measures",
         "orientation": "v",
         "type": "bar",
         "uid": "97337f5a-04b2-45ad-b86e-e76ef6f94fe7",
         "width": 0.4,
         "x": [
          0.5
         ],
         "xaxis": "x3",
         "y": [
          100
         ],
         "yaxis": "y3"
        },
        {
         "hoverinfo": "y",
         "marker": {
          "color": "rgb(0, 0, 0)",
          "size": 12,
          "symbol": "diamond-tall"
         },
         "name": "markers",
         "type": "scatter",
         "uid": "13c0544a-778b-4a0c-8fcc-b091ead3465c",
         "x": [
          0.5
         ],
         "xaxis": "x3",
         "y": [
          550
         ],
         "yaxis": "y3"
        },
        {
         "base": 0,
         "hoverinfo": "y",
         "marker": {
          "color": "rgb(245.0, 245.0, 245.0)"
         },
         "name": "ranges",
         "orientation": "v",
         "type": "bar",
         "uid": "4c4cdb2e-856b-4a28-953c-3f6436b8e57e",
         "width": 2,
         "x": [
          0
         ],
         "xaxis": "x4",
         "y": [
          2500
         ],
         "yaxis": "y4"
        },
        {
         "base": 0,
         "hoverinfo": "y",
         "marker": {
          "color": "rgb(222.5, 222.5, 222.5)"
         },
         "name": "ranges",
         "orientation": "v",
         "type": "bar",
         "uid": "e9df3997-84f5-4d36-a75a-bf7d3c01c710",
         "width": 2,
         "x": [
          0
         ],
         "xaxis": "x4",
         "y": [
          2000
         ],
         "yaxis": "y4"
        },
        {
         "base": 0,
         "hoverinfo": "y",
         "marker": {
          "color": "rgb(200.0, 200.0, 200.0)"
         },
         "name": "ranges",
         "orientation": "v",
         "type": "bar",
         "uid": "023ab331-cc41-413d-af98-27846e4d849f",
         "width": 2,
         "x": [
          0
         ],
         "xaxis": "x4",
         "y": [
          1400
         ],
         "yaxis": "y4"
        },
        {
         "base": 0,
         "hoverinfo": "y",
         "marker": {
          "color": "rgb(176.0, 196.0, 221.0)"
         },
         "name": "measures",
         "orientation": "v",
         "type": "bar",
         "uid": "036eedc1-4ac3-4216-9cfb-c04c5359f160",
         "width": 0.4,
         "x": [
          0.5
         ],
         "xaxis": "x4",
         "y": [
          1650
         ],
         "yaxis": "y4"
        },
        {
         "base": 0,
         "hoverinfo": "y",
         "marker": {
          "color": "rgb(31.0, 119.0, 180.0)"
         },
         "name": "measures",
         "orientation": "v",
         "type": "bar",
         "uid": "bfa113ef-e885-4606-9a6e-5dadd5771e86",
         "width": 0.4,
         "x": [
          0.5
         ],
         "xaxis": "x4",
         "y": [
          1000
         ],
         "yaxis": "y4"
        },
        {
         "hoverinfo": "y",
         "marker": {
          "color": "rgb(0, 0, 0)",
          "size": 12,
          "symbol": "diamond-tall"
         },
         "name": "markers",
         "type": "scatter",
         "uid": "a95a08ab-2c1c-46d4-8f6a-2494e3a8063e",
         "x": [
          0.5
         ],
         "xaxis": "x4",
         "y": [
          2100
         ],
         "yaxis": "y4"
        },
        {
         "base": 0,
         "hoverinfo": "y",
         "marker": {
          "color": "rgb(245.0, 245.0, 245.0)"
         },
         "name": "ranges",
         "orientation": "v",
         "type": "bar",
         "uid": "9a1a86f4-60aa-4369-b530-3fa34ab0c311",
         "width": 2,
         "x": [
          0
         ],
         "xaxis": "x5",
         "y": [
          5
         ],
         "yaxis": "y5"
        },
        {
         "base": 0,
         "hoverinfo": "y",
         "marker": {
          "color": "rgb(222.5, 222.5, 222.5)"
         },
         "name": "ranges",
         "orientation": "v",
         "type": "bar",
         "uid": "d1a5140b-34d0-4982-8ea6-d9906b936b61",
         "width": 2,
         "x": [
          0
         ],
         "xaxis": "x5",
         "y": [
          4.25
         ],
         "yaxis": "y5"
        },
        {
         "base": 0,
         "hoverinfo": "y",
         "marker": {
          "color": "rgb(200.0, 200.0, 200.0)"
         },
         "name": "ranges",
         "orientation": "v",
         "type": "bar",
         "uid": "9c9d5043-7663-4380-8dab-10ad17130471",
         "width": 2,
         "x": [
          0
         ],
         "xaxis": "x5",
         "y": [
          3.5
         ],
         "yaxis": "y5"
        },
        {
         "base": 0,
         "hoverinfo": "y",
         "marker": {
          "color": "rgb(176.0, 196.0, 221.0)"
         },
         "name": "measures",
         "orientation": "v",
         "type": "bar",
         "uid": "fbc1cf4e-8af6-454f-88f2-60512fad612d",
         "width": 0.4,
         "x": [
          0.5
         ],
         "xaxis": "x5",
         "y": [
          4.7
         ],
         "yaxis": "y5"
        },
        {
         "base": 0,
         "hoverinfo": "y",
         "marker": {
          "color": "rgb(31.0, 119.0, 180.0)"
         },
         "name": "measures",
         "orientation": "v",
         "type": "bar",
         "uid": "dc6d488f-40be-4862-a438-ae2f65c2b1e3",
         "width": 0.4,
         "x": [
          0.5
         ],
         "xaxis": "x5",
         "y": [
          3.2
         ],
         "yaxis": "y5"
        },
        {
         "hoverinfo": "y",
         "marker": {
          "color": "rgb(0, 0, 0)",
          "size": 12,
          "symbol": "diamond-tall"
         },
         "name": "markers",
         "type": "scatter",
         "uid": "09331f3f-de6f-4163-94bc-226f5d34016a",
         "x": [
          0.5
         ],
         "xaxis": "x5",
         "y": [
          4.4
         ],
         "yaxis": "y5"
        }
       ],
       "layout": {
        "annotations": [
         {
          "font": {
           "color": "#0f0f0f",
           "size": 13
          },
          "showarrow": false,
          "text": "<b>Revenue</b>",
          "textangle": 0,
          "x": 0.019999999999999997,
          "xanchor": "center",
          "xref": "paper",
          "y": 1.03,
          "yanchor": "middle",
          "yref": "paper"
         },
         {
          "font": {
           "color": "#0f0f0f",
           "size": 13
          },
          "showarrow": false,
          "text": "<b>Profit</b>",
          "textangle": 0,
          "x": 0.26,
          "xanchor": "center",
          "xref": "paper",
          "y": 1.03,
          "yanchor": "middle",
          "yref": "paper"
         },
         {
          "font": {
           "color": "#0f0f0f",
           "size": 13
          },
          "showarrow": false,
          "text": "<b>Order Size</b>",
          "textangle": 0,
          "x": 0.5,
          "xanchor": "center",
          "xref": "paper",
          "y": 1.03,
          "yanchor": "middle",
          "yref": "paper"
         },
         {
          "font": {
           "color": "#0f0f0f",
           "size": 13
          },
          "showarrow": false,
          "text": "<b>New Customers</b>",
          "textangle": 0,
          "x": 0.74,
          "xanchor": "center",
          "xref": "paper",
          "y": 1.03,
          "yanchor": "middle",
          "yref": "paper"
         },
         {
          "font": {
           "color": "#0f0f0f",
           "size": 13
          },
          "showarrow": false,
          "text": "<b>Satisfaction</b>",
          "textangle": 0,
          "x": 0.98,
          "xanchor": "center",
          "xref": "paper",
          "y": 1.03,
          "yanchor": "middle",
          "yref": "paper"
         }
        ],
        "barmode": "stack",
        "height": 600,
        "margin": {
         "l": 80
        },
        "showlegend": false,
        "title": {
         "text": "Bullet Chart"
        },
        "width": 1000,
        "xaxis": {
         "anchor": "y",
         "domain": [
          0,
          0.039999999999999994
         ],
         "range": [
          0,
          1
         ],
         "showgrid": false,
         "showticklabels": false,
         "zeroline": false
        },
        "xaxis2": {
         "anchor": "y2",
         "domain": [
          0.24,
          0.27999999999999997
         ],
         "range": [
          0,
          1
         ],
         "showgrid": false,
         "showticklabels": false,
         "zeroline": false
        },
        "xaxis3": {
         "anchor": "y3",
         "domain": [
          0.48,
          0.52
         ],
         "range": [
          0,
          1
         ],
         "showgrid": false,
         "showticklabels": false,
         "zeroline": false
        },
        "xaxis4": {
         "anchor": "y4",
         "domain": [
          0.7200000000000001,
          0.7600000000000001
         ],
         "range": [
          0,
          1
         ],
         "showgrid": false,
         "showticklabels": false,
         "zeroline": false
        },
        "xaxis5": {
         "anchor": "y5",
         "domain": [
          0.96,
          1
         ],
         "range": [
          0,
          1
         ],
         "showgrid": false,
         "showticklabels": false,
         "zeroline": false
        },
        "yaxis": {
         "anchor": "x",
         "domain": [
          0,
          1
         ],
         "showgrid": false,
         "tickwidth": 1,
         "zeroline": false
        },
        "yaxis2": {
         "anchor": "x2",
         "domain": [
          0,
          1
         ],
         "showgrid": false,
         "tickwidth": 1,
         "zeroline": false
        },
        "yaxis3": {
         "anchor": "x3",
         "domain": [
          0,
          1
         ],
         "showgrid": false,
         "tickwidth": 1,
         "zeroline": false
        },
        "yaxis4": {
         "anchor": "x4",
         "domain": [
          0,
          1
         ],
         "showgrid": false,
         "tickwidth": 1,
         "zeroline": false
        },
        "yaxis5": {
         "anchor": "x5",
         "domain": [
          0,
          1
         ],
         "showgrid": false,
         "tickwidth": 1,
         "zeroline": false
        }
       }
      },
      "text/html": [
       "<div id=\"6b15fb5e-4026-4c7f-987d-c0d100ab7a38\" style=\"height: 600px; width: 1000px;\" class=\"plotly-graph-div\"></div><script type=\"text/javascript\">require([\"plotly\"], function(Plotly) { window.PLOTLYENV=window.PLOTLYENV || {};window.PLOTLYENV.BASE_URL=\"https://plot.ly\";Plotly.newPlot(\"6b15fb5e-4026-4c7f-987d-c0d100ab7a38\", [{\"base\": 0, \"hoverinfo\": \"y\", \"marker\": {\"color\": \"rgb(245.0, 245.0, 245.0)\"}, \"name\": \"ranges\", \"orientation\": \"v\", \"width\": 2, \"x\": [0], \"xaxis\": \"x\", \"y\": [300], \"yaxis\": \"y\", \"type\": \"bar\", \"uid\": \"0a595310-3284-4ac6-80b7-8175ee35ce0f\"}, {\"base\": 0, \"hoverinfo\": \"y\", \"marker\": {\"color\": \"rgb(222.5, 222.5, 222.5)\"}, \"name\": \"ranges\", \"orientation\": \"v\", \"width\": 2, \"x\": [0], \"xaxis\": \"x\", \"y\": [225], \"yaxis\": \"y\", \"type\": \"bar\", \"uid\": \"4a4c52e7-67b3-4b6a-83af-f939438ed796\"}, {\"base\": 0, \"hoverinfo\": \"y\", \"marker\": {\"color\": \"rgb(200.0, 200.0, 200.0)\"}, \"name\": \"ranges\", \"orientation\": \"v\", \"width\": 2, \"x\": [0], \"xaxis\": \"x\", \"y\": [150], \"yaxis\": \"y\", \"type\": \"bar\", \"uid\": \"3f7785a6-558f-410c-ba88-9d812fdcfce2\"}, {\"base\": 0, \"hoverinfo\": \"y\", \"marker\": {\"color\": \"rgb(176.0, 196.0, 221.0)\"}, \"name\": \"measures\", \"orientation\": \"v\", \"width\": 0.4, \"x\": [0.5], \"xaxis\": \"x\", \"y\": [270], \"yaxis\": \"y\", \"type\": \"bar\", \"uid\": \"4273a0a3-dc0d-4a8d-b49d-42b4db027753\"}, {\"base\": 0, \"hoverinfo\": \"y\", \"marker\": {\"color\": \"rgb(31.0, 119.0, 180.0)\"}, \"name\": \"measures\", \"orientation\": \"v\", \"width\": 0.4, \"x\": [0.5], \"xaxis\": \"x\", \"y\": [220], \"yaxis\": \"y\", \"type\": \"bar\", \"uid\": \"c63486d1-b579-4bb5-8358-7bddaac0caa5\"}, {\"hoverinfo\": \"y\", \"marker\": {\"color\": \"rgb(0, 0, 0)\", \"size\": 12, \"symbol\": \"diamond-tall\"}, \"name\": \"markers\", \"x\": [0.5], \"xaxis\": \"x\", \"y\": [250], \"yaxis\": \"y\", \"type\": \"scatter\", \"uid\": \"72c26316-0731-4814-97d8-764c5673fd6a\"}, {\"base\": 0, \"hoverinfo\": \"y\", \"marker\": {\"color\": \"rgb(245.0, 245.0, 245.0)\"}, \"name\": \"ranges\", \"orientation\": \"v\", \"width\": 2, \"x\": [0], \"xaxis\": \"x2\", \"y\": [30], \"yaxis\": \"y2\", \"type\": \"bar\", \"uid\": \"3f90da45-af90-471e-880d-a3af6c1c1246\"}, {\"base\": 0, \"hoverinfo\": \"y\", \"marker\": {\"color\": \"rgb(222.5, 222.5, 222.5)\"}, \"name\": \"ranges\", \"orientation\": \"v\", \"width\": 2, \"x\": [0], \"xaxis\": \"x2\", \"y\": [25], \"yaxis\": \"y2\", \"type\": \"bar\", \"uid\": \"afd803d7-c65e-4cf6-8edb-50972ee7b65f\"}, {\"base\": 0, \"hoverinfo\": \"y\", \"marker\": {\"color\": \"rgb(200.0, 200.0, 200.0)\"}, \"name\": \"ranges\", \"orientation\": \"v\", \"width\": 2, \"x\": [0], \"xaxis\": \"x2\", \"y\": [20], \"yaxis\": \"y2\", \"type\": \"bar\", \"uid\": \"4023c900-dd19-4975-9068-d188b471d7d5\"}, {\"base\": 0, \"hoverinfo\": \"y\", \"marker\": {\"color\": \"rgb(176.0, 196.0, 221.0)\"}, \"name\": \"measures\", \"orientation\": \"v\", \"width\": 0.4, \"x\": [0.5], \"xaxis\": \"x2\", \"y\": [23], \"yaxis\": \"y2\", \"type\": \"bar\", \"uid\": \"817ee71d-80fe-44d2-bdd1-b9a0c67baf03\"}, {\"base\": 0, \"hoverinfo\": \"y\", \"marker\": {\"color\": \"rgb(31.0, 119.0, 180.0)\"}, \"name\": \"measures\", \"orientation\": \"v\", \"width\": 0.4, \"x\": [0.5], \"xaxis\": \"x2\", \"y\": [21], \"yaxis\": \"y2\", \"type\": \"bar\", \"uid\": \"f2a91f0f-f5f1-485a-93c0-3081c317fbd2\"}, {\"hoverinfo\": \"y\", \"marker\": {\"color\": \"rgb(0, 0, 0)\", \"size\": 12, \"symbol\": \"diamond-tall\"}, \"name\": \"markers\", \"x\": [0.5], \"xaxis\": \"x2\", \"y\": [26], \"yaxis\": \"y2\", \"type\": \"scatter\", \"uid\": \"7499a5ed-650d-4959-bbaf-6e4c77866032\"}, {\"base\": 0, \"hoverinfo\": \"y\", \"marker\": {\"color\": \"rgb(245.0, 245.0, 245.0)\"}, \"name\": \"ranges\", \"orientation\": \"v\", \"width\": 2, \"x\": [0], \"xaxis\": \"x3\", \"y\": [600], \"yaxis\": \"y3\", \"type\": \"bar\", \"uid\": \"f52d5745-884c-4e15-8ec8-731fb6dd557d\"}, {\"base\": 0, \"hoverinfo\": \"y\", \"marker\": {\"color\": \"rgb(222.5, 222.5, 222.5)\"}, \"name\": \"ranges\", \"orientation\": \"v\", \"width\": 2, \"x\": [0], \"xaxis\": \"x3\", \"y\": [500], \"yaxis\": \"y3\", \"type\": \"bar\", \"uid\": \"d6768a48-ebc6-40c9-a164-03f94da59aa5\"}, {\"base\": 0, \"hoverinfo\": \"y\", \"marker\": {\"color\": \"rgb(200.0, 200.0, 200.0)\"}, \"name\": \"ranges\", \"orientation\": \"v\", \"width\": 2, \"x\": [0], \"xaxis\": \"x3\", \"y\": [350], \"yaxis\": \"y3\", \"type\": \"bar\", \"uid\": \"78eaf42c-e575-4315-985c-12d69264d96a\"}, {\"base\": 0, \"hoverinfo\": \"y\", \"marker\": {\"color\": \"rgb(176.0, 196.0, 221.0)\"}, \"name\": \"measures\", \"orientation\": \"v\", \"width\": 0.4, \"x\": [0.5], \"xaxis\": \"x3\", \"y\": [320], \"yaxis\": \"y3\", \"type\": \"bar\", \"uid\": \"b88ac6c3-0f62-452a-bfde-a69653595515\"}, {\"base\": 0, \"hoverinfo\": \"y\", \"marker\": {\"color\": \"rgb(31.0, 119.0, 180.0)\"}, \"name\": \"measures\", \"orientation\": \"v\", \"width\": 0.4, \"x\": [0.5], \"xaxis\": \"x3\", \"y\": [100], \"yaxis\": \"y3\", \"type\": \"bar\", \"uid\": \"97337f5a-04b2-45ad-b86e-e76ef6f94fe7\"}, {\"hoverinfo\": \"y\", \"marker\": {\"color\": \"rgb(0, 0, 0)\", \"size\": 12, \"symbol\": \"diamond-tall\"}, \"name\": \"markers\", \"x\": [0.5], \"xaxis\": \"x3\", \"y\": [550], \"yaxis\": \"y3\", \"type\": \"scatter\", \"uid\": \"13c0544a-778b-4a0c-8fcc-b091ead3465c\"}, {\"base\": 0, \"hoverinfo\": \"y\", \"marker\": {\"color\": \"rgb(245.0, 245.0, 245.0)\"}, \"name\": \"ranges\", \"orientation\": \"v\", \"width\": 2, \"x\": [0], \"xaxis\": \"x4\", \"y\": [2500], \"yaxis\": \"y4\", \"type\": \"bar\", \"uid\": \"4c4cdb2e-856b-4a28-953c-3f6436b8e57e\"}, {\"base\": 0, \"hoverinfo\": \"y\", \"marker\": {\"color\": \"rgb(222.5, 222.5, 222.5)\"}, \"name\": \"ranges\", \"orientation\": \"v\", \"width\": 2, \"x\": [0], \"xaxis\": \"x4\", \"y\": [2000], \"yaxis\": \"y4\", \"type\": \"bar\", \"uid\": \"e9df3997-84f5-4d36-a75a-bf7d3c01c710\"}, {\"base\": 0, \"hoverinfo\": \"y\", \"marker\": {\"color\": \"rgb(200.0, 200.0, 200.0)\"}, \"name\": \"ranges\", \"orientation\": \"v\", \"width\": 2, \"x\": [0], \"xaxis\": \"x4\", \"y\": [1400], \"yaxis\": \"y4\", \"type\": \"bar\", \"uid\": \"023ab331-cc41-413d-af98-27846e4d849f\"}, {\"base\": 0, \"hoverinfo\": \"y\", \"marker\": {\"color\": \"rgb(176.0, 196.0, 221.0)\"}, \"name\": \"measures\", \"orientation\": \"v\", \"width\": 0.4, \"x\": [0.5], \"xaxis\": \"x4\", \"y\": [1650], \"yaxis\": \"y4\", \"type\": \"bar\", \"uid\": \"036eedc1-4ac3-4216-9cfb-c04c5359f160\"}, {\"base\": 0, \"hoverinfo\": \"y\", \"marker\": {\"color\": \"rgb(31.0, 119.0, 180.0)\"}, \"name\": \"measures\", \"orientation\": \"v\", \"width\": 0.4, \"x\": [0.5], \"xaxis\": \"x4\", \"y\": [1000], \"yaxis\": \"y4\", \"type\": \"bar\", \"uid\": \"bfa113ef-e885-4606-9a6e-5dadd5771e86\"}, {\"hoverinfo\": \"y\", \"marker\": {\"color\": \"rgb(0, 0, 0)\", \"size\": 12, \"symbol\": \"diamond-tall\"}, \"name\": \"markers\", \"x\": [0.5], \"xaxis\": \"x4\", \"y\": [2100], \"yaxis\": \"y4\", \"type\": \"scatter\", \"uid\": \"a95a08ab-2c1c-46d4-8f6a-2494e3a8063e\"}, {\"base\": 0, \"hoverinfo\": \"y\", \"marker\": {\"color\": \"rgb(245.0, 245.0, 245.0)\"}, \"name\": \"ranges\", \"orientation\": \"v\", \"width\": 2, \"x\": [0], \"xaxis\": \"x5\", \"y\": [5], \"yaxis\": \"y5\", \"type\": \"bar\", \"uid\": \"9a1a86f4-60aa-4369-b530-3fa34ab0c311\"}, {\"base\": 0, \"hoverinfo\": \"y\", \"marker\": {\"color\": \"rgb(222.5, 222.5, 222.5)\"}, \"name\": \"ranges\", \"orientation\": \"v\", \"width\": 2, \"x\": [0], \"xaxis\": \"x5\", \"y\": [4.25], \"yaxis\": \"y5\", \"type\": \"bar\", \"uid\": \"d1a5140b-34d0-4982-8ea6-d9906b936b61\"}, {\"base\": 0, \"hoverinfo\": \"y\", \"marker\": {\"color\": \"rgb(200.0, 200.0, 200.0)\"}, \"name\": \"ranges\", \"orientation\": \"v\", \"width\": 2, \"x\": [0], \"xaxis\": \"x5\", \"y\": [3.5], \"yaxis\": \"y5\", \"type\": \"bar\", \"uid\": \"9c9d5043-7663-4380-8dab-10ad17130471\"}, {\"base\": 0, \"hoverinfo\": \"y\", \"marker\": {\"color\": \"rgb(176.0, 196.0, 221.0)\"}, \"name\": \"measures\", \"orientation\": \"v\", \"width\": 0.4, \"x\": [0.5], \"xaxis\": \"x5\", \"y\": [4.7], \"yaxis\": \"y5\", \"type\": \"bar\", \"uid\": \"fbc1cf4e-8af6-454f-88f2-60512fad612d\"}, {\"base\": 0, \"hoverinfo\": \"y\", \"marker\": {\"color\": \"rgb(31.0, 119.0, 180.0)\"}, \"name\": \"measures\", \"orientation\": \"v\", \"width\": 0.4, \"x\": [0.5], \"xaxis\": \"x5\", \"y\": [3.2], \"yaxis\": \"y5\", \"type\": \"bar\", \"uid\": \"dc6d488f-40be-4862-a438-ae2f65c2b1e3\"}, {\"hoverinfo\": \"y\", \"marker\": {\"color\": \"rgb(0, 0, 0)\", \"size\": 12, \"symbol\": \"diamond-tall\"}, \"name\": \"markers\", \"x\": [0.5], \"xaxis\": \"x5\", \"y\": [4.4], \"yaxis\": \"y5\", \"type\": \"scatter\", \"uid\": \"09331f3f-de6f-4163-94bc-226f5d34016a\"}], {\"xaxis\": {\"anchor\": \"y\", \"domain\": [0.0, 0.039999999999999994], \"showgrid\": false, \"zeroline\": false, \"showticklabels\": false, \"range\": [0, 1]}, \"yaxis\": {\"anchor\": \"x\", \"domain\": [0.0, 1.0], \"showgrid\": false, \"zeroline\": false, \"tickwidth\": 1}, \"xaxis2\": {\"anchor\": \"y2\", \"domain\": [0.24, 0.27999999999999997], \"showgrid\": false, \"zeroline\": false, \"showticklabels\": false, \"range\": [0, 1]}, \"yaxis2\": {\"anchor\": \"x2\", \"domain\": [0.0, 1.0], \"showgrid\": false, \"zeroline\": false, \"tickwidth\": 1}, \"xaxis3\": {\"anchor\": \"y3\", \"domain\": [0.48, 0.52], \"showgrid\": false, \"zeroline\": false, \"showticklabels\": false, \"range\": [0, 1]}, \"yaxis3\": {\"anchor\": \"x3\", \"domain\": [0.0, 1.0], \"showgrid\": false, \"zeroline\": false, \"tickwidth\": 1}, \"xaxis4\": {\"anchor\": \"y4\", \"domain\": [0.7200000000000001, 0.7600000000000001], \"showgrid\": false, \"zeroline\": false, \"showticklabels\": false, \"range\": [0, 1]}, \"yaxis4\": {\"anchor\": \"x4\", \"domain\": [0.0, 1.0], \"showgrid\": false, \"zeroline\": false, \"tickwidth\": 1}, \"xaxis5\": {\"anchor\": \"y5\", \"domain\": [0.96, 1.0], \"showgrid\": false, \"zeroline\": false, \"showticklabels\": false, \"range\": [0, 1]}, \"yaxis5\": {\"anchor\": \"x5\", \"domain\": [0.0, 1.0], \"showgrid\": false, \"zeroline\": false, \"tickwidth\": 1}, \"margin\": {\"l\": 80}, \"title\": {\"text\": \"Bullet Chart\"}, \"height\": 600, \"width\": 1000, \"showlegend\": false, \"barmode\": \"stack\", \"annotations\": [{\"font\": {\"color\": \"#0f0f0f\", \"size\": 13}, \"showarrow\": false, \"text\": \"<b>Revenue</b>\", \"textangle\": 0, \"x\": 0.019999999999999997, \"xanchor\": \"center\", \"xref\": \"paper\", \"y\": 1.03, \"yanchor\": \"middle\", \"yref\": \"paper\"}, {\"font\": {\"color\": \"#0f0f0f\", \"size\": 13}, \"showarrow\": false, \"text\": \"<b>Profit</b>\", \"textangle\": 0, \"x\": 0.26, \"xanchor\": \"center\", \"xref\": \"paper\", \"y\": 1.03, \"yanchor\": \"middle\", \"yref\": \"paper\"}, {\"font\": {\"color\": \"#0f0f0f\", \"size\": 13}, \"showarrow\": false, \"text\": \"<b>Order Size</b>\", \"textangle\": 0, \"x\": 0.5, \"xanchor\": \"center\", \"xref\": \"paper\", \"y\": 1.03, \"yanchor\": \"middle\", \"yref\": \"paper\"}, {\"font\": {\"color\": \"#0f0f0f\", \"size\": 13}, \"showarrow\": false, \"text\": \"<b>New Customers</b>\", \"textangle\": 0, \"x\": 0.74, \"xanchor\": \"center\", \"xref\": \"paper\", \"y\": 1.03, \"yanchor\": \"middle\", \"yref\": \"paper\"}, {\"font\": {\"color\": \"#0f0f0f\", \"size\": 13}, \"showarrow\": false, \"text\": \"<b>Satisfaction</b>\", \"textangle\": 0, \"x\": 0.98, \"xanchor\": \"center\", \"xref\": \"paper\", \"y\": 1.03, \"yanchor\": \"middle\", \"yref\": \"paper\"}]}, {\"showLink\": false, \"linkText\": \"Export to plot.ly\", \"plotlyServerURL\": \"https://plot.ly\"})});</script>"
      ],
      "text/vnd.plotly.v1+html": [
       "<div id=\"6b15fb5e-4026-4c7f-987d-c0d100ab7a38\" style=\"height: 600px; width: 1000px;\" class=\"plotly-graph-div\"></div><script type=\"text/javascript\">require([\"plotly\"], function(Plotly) { window.PLOTLYENV=window.PLOTLYENV || {};window.PLOTLYENV.BASE_URL=\"https://plot.ly\";Plotly.newPlot(\"6b15fb5e-4026-4c7f-987d-c0d100ab7a38\", [{\"base\": 0, \"hoverinfo\": \"y\", \"marker\": {\"color\": \"rgb(245.0, 245.0, 245.0)\"}, \"name\": \"ranges\", \"orientation\": \"v\", \"width\": 2, \"x\": [0], \"xaxis\": \"x\", \"y\": [300], \"yaxis\": \"y\", \"type\": \"bar\", \"uid\": \"0a595310-3284-4ac6-80b7-8175ee35ce0f\"}, {\"base\": 0, \"hoverinfo\": \"y\", \"marker\": {\"color\": \"rgb(222.5, 222.5, 222.5)\"}, \"name\": \"ranges\", \"orientation\": \"v\", \"width\": 2, \"x\": [0], \"xaxis\": \"x\", \"y\": [225], \"yaxis\": \"y\", \"type\": \"bar\", \"uid\": \"4a4c52e7-67b3-4b6a-83af-f939438ed796\"}, {\"base\": 0, \"hoverinfo\": \"y\", \"marker\": {\"color\": \"rgb(200.0, 200.0, 200.0)\"}, \"name\": \"ranges\", \"orientation\": \"v\", \"width\": 2, \"x\": [0], \"xaxis\": \"x\", \"y\": [150], \"yaxis\": \"y\", \"type\": \"bar\", \"uid\": \"3f7785a6-558f-410c-ba88-9d812fdcfce2\"}, {\"base\": 0, \"hoverinfo\": \"y\", \"marker\": {\"color\": \"rgb(176.0, 196.0, 221.0)\"}, \"name\": \"measures\", \"orientation\": \"v\", \"width\": 0.4, \"x\": [0.5], \"xaxis\": \"x\", \"y\": [270], \"yaxis\": \"y\", \"type\": \"bar\", \"uid\": \"4273a0a3-dc0d-4a8d-b49d-42b4db027753\"}, {\"base\": 0, \"hoverinfo\": \"y\", \"marker\": {\"color\": \"rgb(31.0, 119.0, 180.0)\"}, \"name\": \"measures\", \"orientation\": \"v\", \"width\": 0.4, \"x\": [0.5], \"xaxis\": \"x\", \"y\": [220], \"yaxis\": \"y\", \"type\": \"bar\", \"uid\": \"c63486d1-b579-4bb5-8358-7bddaac0caa5\"}, {\"hoverinfo\": \"y\", \"marker\": {\"color\": \"rgb(0, 0, 0)\", \"size\": 12, \"symbol\": \"diamond-tall\"}, \"name\": \"markers\", \"x\": [0.5], \"xaxis\": \"x\", \"y\": [250], \"yaxis\": \"y\", \"type\": \"scatter\", \"uid\": \"72c26316-0731-4814-97d8-764c5673fd6a\"}, {\"base\": 0, \"hoverinfo\": \"y\", \"marker\": {\"color\": \"rgb(245.0, 245.0, 245.0)\"}, \"name\": \"ranges\", \"orientation\": \"v\", \"width\": 2, \"x\": [0], \"xaxis\": \"x2\", \"y\": [30], \"yaxis\": \"y2\", \"type\": \"bar\", \"uid\": \"3f90da45-af90-471e-880d-a3af6c1c1246\"}, {\"base\": 0, \"hoverinfo\": \"y\", \"marker\": {\"color\": \"rgb(222.5, 222.5, 222.5)\"}, \"name\": \"ranges\", \"orientation\": \"v\", \"width\": 2, \"x\": [0], \"xaxis\": \"x2\", \"y\": [25], \"yaxis\": \"y2\", \"type\": \"bar\", \"uid\": \"afd803d7-c65e-4cf6-8edb-50972ee7b65f\"}, {\"base\": 0, \"hoverinfo\": \"y\", \"marker\": {\"color\": \"rgb(200.0, 200.0, 200.0)\"}, \"name\": \"ranges\", \"orientation\": \"v\", \"width\": 2, \"x\": [0], \"xaxis\": \"x2\", \"y\": [20], \"yaxis\": \"y2\", \"type\": \"bar\", \"uid\": \"4023c900-dd19-4975-9068-d188b471d7d5\"}, {\"base\": 0, \"hoverinfo\": \"y\", \"marker\": {\"color\": \"rgb(176.0, 196.0, 221.0)\"}, \"name\": \"measures\", \"orientation\": \"v\", \"width\": 0.4, \"x\": [0.5], \"xaxis\": \"x2\", \"y\": [23], \"yaxis\": \"y2\", \"type\": \"bar\", \"uid\": \"817ee71d-80fe-44d2-bdd1-b9a0c67baf03\"}, {\"base\": 0, \"hoverinfo\": \"y\", \"marker\": {\"color\": \"rgb(31.0, 119.0, 180.0)\"}, \"name\": \"measures\", \"orientation\": \"v\", \"width\": 0.4, \"x\": [0.5], \"xaxis\": \"x2\", \"y\": [21], \"yaxis\": \"y2\", \"type\": \"bar\", \"uid\": \"f2a91f0f-f5f1-485a-93c0-3081c317fbd2\"}, {\"hoverinfo\": \"y\", \"marker\": {\"color\": \"rgb(0, 0, 0)\", \"size\": 12, \"symbol\": \"diamond-tall\"}, \"name\": \"markers\", \"x\": [0.5], \"xaxis\": \"x2\", \"y\": [26], \"yaxis\": \"y2\", \"type\": \"scatter\", \"uid\": \"7499a5ed-650d-4959-bbaf-6e4c77866032\"}, {\"base\": 0, \"hoverinfo\": \"y\", \"marker\": {\"color\": \"rgb(245.0, 245.0, 245.0)\"}, \"name\": \"ranges\", \"orientation\": \"v\", \"width\": 2, \"x\": [0], \"xaxis\": \"x3\", \"y\": [600], \"yaxis\": \"y3\", \"type\": \"bar\", \"uid\": \"f52d5745-884c-4e15-8ec8-731fb6dd557d\"}, {\"base\": 0, \"hoverinfo\": \"y\", \"marker\": {\"color\": \"rgb(222.5, 222.5, 222.5)\"}, \"name\": \"ranges\", \"orientation\": \"v\", \"width\": 2, \"x\": [0], \"xaxis\": \"x3\", \"y\": [500], \"yaxis\": \"y3\", \"type\": \"bar\", \"uid\": \"d6768a48-ebc6-40c9-a164-03f94da59aa5\"}, {\"base\": 0, \"hoverinfo\": \"y\", \"marker\": {\"color\": \"rgb(200.0, 200.0, 200.0)\"}, \"name\": \"ranges\", \"orientation\": \"v\", \"width\": 2, \"x\": [0], \"xaxis\": \"x3\", \"y\": [350], \"yaxis\": \"y3\", \"type\": \"bar\", \"uid\": \"78eaf42c-e575-4315-985c-12d69264d96a\"}, {\"base\": 0, \"hoverinfo\": \"y\", \"marker\": {\"color\": \"rgb(176.0, 196.0, 221.0)\"}, \"name\": \"measures\", \"orientation\": \"v\", \"width\": 0.4, \"x\": [0.5], \"xaxis\": \"x3\", \"y\": [320], \"yaxis\": \"y3\", \"type\": \"bar\", \"uid\": \"b88ac6c3-0f62-452a-bfde-a69653595515\"}, {\"base\": 0, \"hoverinfo\": \"y\", \"marker\": {\"color\": \"rgb(31.0, 119.0, 180.0)\"}, \"name\": \"measures\", \"orientation\": \"v\", \"width\": 0.4, \"x\": [0.5], \"xaxis\": \"x3\", \"y\": [100], \"yaxis\": \"y3\", \"type\": \"bar\", \"uid\": \"97337f5a-04b2-45ad-b86e-e76ef6f94fe7\"}, {\"hoverinfo\": \"y\", \"marker\": {\"color\": \"rgb(0, 0, 0)\", \"size\": 12, \"symbol\": \"diamond-tall\"}, \"name\": \"markers\", \"x\": [0.5], \"xaxis\": \"x3\", \"y\": [550], \"yaxis\": \"y3\", \"type\": \"scatter\", \"uid\": \"13c0544a-778b-4a0c-8fcc-b091ead3465c\"}, {\"base\": 0, \"hoverinfo\": \"y\", \"marker\": {\"color\": \"rgb(245.0, 245.0, 245.0)\"}, \"name\": \"ranges\", \"orientation\": \"v\", \"width\": 2, \"x\": [0], \"xaxis\": \"x4\", \"y\": [2500], \"yaxis\": \"y4\", \"type\": \"bar\", \"uid\": \"4c4cdb2e-856b-4a28-953c-3f6436b8e57e\"}, {\"base\": 0, \"hoverinfo\": \"y\", \"marker\": {\"color\": \"rgb(222.5, 222.5, 222.5)\"}, \"name\": \"ranges\", \"orientation\": \"v\", \"width\": 2, \"x\": [0], \"xaxis\": \"x4\", \"y\": [2000], \"yaxis\": \"y4\", \"type\": \"bar\", \"uid\": \"e9df3997-84f5-4d36-a75a-bf7d3c01c710\"}, {\"base\": 0, \"hoverinfo\": \"y\", \"marker\": {\"color\": \"rgb(200.0, 200.0, 200.0)\"}, \"name\": \"ranges\", \"orientation\": \"v\", \"width\": 2, \"x\": [0], \"xaxis\": \"x4\", \"y\": [1400], \"yaxis\": \"y4\", \"type\": \"bar\", \"uid\": \"023ab331-cc41-413d-af98-27846e4d849f\"}, {\"base\": 0, \"hoverinfo\": \"y\", \"marker\": {\"color\": \"rgb(176.0, 196.0, 221.0)\"}, \"name\": \"measures\", \"orientation\": \"v\", \"width\": 0.4, \"x\": [0.5], \"xaxis\": \"x4\", \"y\": [1650], \"yaxis\": \"y4\", \"type\": \"bar\", \"uid\": \"036eedc1-4ac3-4216-9cfb-c04c5359f160\"}, {\"base\": 0, \"hoverinfo\": \"y\", \"marker\": {\"color\": \"rgb(31.0, 119.0, 180.0)\"}, \"name\": \"measures\", \"orientation\": \"v\", \"width\": 0.4, \"x\": [0.5], \"xaxis\": \"x4\", \"y\": [1000], \"yaxis\": \"y4\", \"type\": \"bar\", \"uid\": \"bfa113ef-e885-4606-9a6e-5dadd5771e86\"}, {\"hoverinfo\": \"y\", \"marker\": {\"color\": \"rgb(0, 0, 0)\", \"size\": 12, \"symbol\": \"diamond-tall\"}, \"name\": \"markers\", \"x\": [0.5], \"xaxis\": \"x4\", \"y\": [2100], \"yaxis\": \"y4\", \"type\": \"scatter\", \"uid\": \"a95a08ab-2c1c-46d4-8f6a-2494e3a8063e\"}, {\"base\": 0, \"hoverinfo\": \"y\", \"marker\": {\"color\": \"rgb(245.0, 245.0, 245.0)\"}, \"name\": \"ranges\", \"orientation\": \"v\", \"width\": 2, \"x\": [0], \"xaxis\": \"x5\", \"y\": [5], \"yaxis\": \"y5\", \"type\": \"bar\", \"uid\": \"9a1a86f4-60aa-4369-b530-3fa34ab0c311\"}, {\"base\": 0, \"hoverinfo\": \"y\", \"marker\": {\"color\": \"rgb(222.5, 222.5, 222.5)\"}, \"name\": \"ranges\", \"orientation\": \"v\", \"width\": 2, \"x\": [0], \"xaxis\": \"x5\", \"y\": [4.25], \"yaxis\": \"y5\", \"type\": \"bar\", \"uid\": \"d1a5140b-34d0-4982-8ea6-d9906b936b61\"}, {\"base\": 0, \"hoverinfo\": \"y\", \"marker\": {\"color\": \"rgb(200.0, 200.0, 200.0)\"}, \"name\": \"ranges\", \"orientation\": \"v\", \"width\": 2, \"x\": [0], \"xaxis\": \"x5\", \"y\": [3.5], \"yaxis\": \"y5\", \"type\": \"bar\", \"uid\": \"9c9d5043-7663-4380-8dab-10ad17130471\"}, {\"base\": 0, \"hoverinfo\": \"y\", \"marker\": {\"color\": \"rgb(176.0, 196.0, 221.0)\"}, \"name\": \"measures\", \"orientation\": \"v\", \"width\": 0.4, \"x\": [0.5], \"xaxis\": \"x5\", \"y\": [4.7], \"yaxis\": \"y5\", \"type\": \"bar\", \"uid\": \"fbc1cf4e-8af6-454f-88f2-60512fad612d\"}, {\"base\": 0, \"hoverinfo\": \"y\", \"marker\": {\"color\": \"rgb(31.0, 119.0, 180.0)\"}, \"name\": \"measures\", \"orientation\": \"v\", \"width\": 0.4, \"x\": [0.5], \"xaxis\": \"x5\", \"y\": [3.2], \"yaxis\": \"y5\", \"type\": \"bar\", \"uid\": \"dc6d488f-40be-4862-a438-ae2f65c2b1e3\"}, {\"hoverinfo\": \"y\", \"marker\": {\"color\": \"rgb(0, 0, 0)\", \"size\": 12, \"symbol\": \"diamond-tall\"}, \"name\": \"markers\", \"x\": [0.5], \"xaxis\": \"x5\", \"y\": [4.4], \"yaxis\": \"y5\", \"type\": \"scatter\", \"uid\": \"09331f3f-de6f-4163-94bc-226f5d34016a\"}], {\"xaxis\": {\"anchor\": \"y\", \"domain\": [0.0, 0.039999999999999994], \"showgrid\": false, \"zeroline\": false, \"showticklabels\": false, \"range\": [0, 1]}, \"yaxis\": {\"anchor\": \"x\", \"domain\": [0.0, 1.0], \"showgrid\": false, \"zeroline\": false, \"tickwidth\": 1}, \"xaxis2\": {\"anchor\": \"y2\", \"domain\": [0.24, 0.27999999999999997], \"showgrid\": false, \"zeroline\": false, \"showticklabels\": false, \"range\": [0, 1]}, \"yaxis2\": {\"anchor\": \"x2\", \"domain\": [0.0, 1.0], \"showgrid\": false, \"zeroline\": false, \"tickwidth\": 1}, \"xaxis3\": {\"anchor\": \"y3\", \"domain\": [0.48, 0.52], \"showgrid\": false, \"zeroline\": false, \"showticklabels\": false, \"range\": [0, 1]}, \"yaxis3\": {\"anchor\": \"x3\", \"domain\": [0.0, 1.0], \"showgrid\": false, \"zeroline\": false, \"tickwidth\": 1}, \"xaxis4\": {\"anchor\": \"y4\", \"domain\": [0.7200000000000001, 0.7600000000000001], \"showgrid\": false, \"zeroline\": false, \"showticklabels\": false, \"range\": [0, 1]}, \"yaxis4\": {\"anchor\": \"x4\", \"domain\": [0.0, 1.0], \"showgrid\": false, \"zeroline\": false, \"tickwidth\": 1}, \"xaxis5\": {\"anchor\": \"y5\", \"domain\": [0.96, 1.0], \"showgrid\": false, \"zeroline\": false, \"showticklabels\": false, \"range\": [0, 1]}, \"yaxis5\": {\"anchor\": \"x5\", \"domain\": [0.0, 1.0], \"showgrid\": false, \"zeroline\": false, \"tickwidth\": 1}, \"margin\": {\"l\": 80}, \"title\": {\"text\": \"Bullet Chart\"}, \"height\": 600, \"width\": 1000, \"showlegend\": false, \"barmode\": \"stack\", \"annotations\": [{\"font\": {\"color\": \"#0f0f0f\", \"size\": 13}, \"showarrow\": false, \"text\": \"<b>Revenue</b>\", \"textangle\": 0, \"x\": 0.019999999999999997, \"xanchor\": \"center\", \"xref\": \"paper\", \"y\": 1.03, \"yanchor\": \"middle\", \"yref\": \"paper\"}, {\"font\": {\"color\": \"#0f0f0f\", \"size\": 13}, \"showarrow\": false, \"text\": \"<b>Profit</b>\", \"textangle\": 0, \"x\": 0.26, \"xanchor\": \"center\", \"xref\": \"paper\", \"y\": 1.03, \"yanchor\": \"middle\", \"yref\": \"paper\"}, {\"font\": {\"color\": \"#0f0f0f\", \"size\": 13}, \"showarrow\": false, \"text\": \"<b>Order Size</b>\", \"textangle\": 0, \"x\": 0.5, \"xanchor\": \"center\", \"xref\": \"paper\", \"y\": 1.03, \"yanchor\": \"middle\", \"yref\": \"paper\"}, {\"font\": {\"color\": \"#0f0f0f\", \"size\": 13}, \"showarrow\": false, \"text\": \"<b>New Customers</b>\", \"textangle\": 0, \"x\": 0.74, \"xanchor\": \"center\", \"xref\": \"paper\", \"y\": 1.03, \"yanchor\": \"middle\", \"yref\": \"paper\"}, {\"font\": {\"color\": \"#0f0f0f\", \"size\": 13}, \"showarrow\": false, \"text\": \"<b>Satisfaction</b>\", \"textangle\": 0, \"x\": 0.98, \"xanchor\": \"center\", \"xref\": \"paper\", \"y\": 1.03, \"yanchor\": \"middle\", \"yref\": \"paper\"}]}, {\"showLink\": false, \"linkText\": \"Export to plot.ly\", \"plotlyServerURL\": \"https://plot.ly\"})});</script>"
      ]
     },
     "metadata": {},
     "output_type": "display_data"
    }
   ],
   "source": [
    "import plotly.figure_factory as ff\n",
    "\n",
    "data = (\n",
    "  {\"label\": \"Revenue\", \"sublabel\": \"US$, in thousands\",\n",
    "   \"range\": [150, 225, 300], \"performance\": [220,270], \"point\": [250]},\n",
    "  {\"label\": \"Profit\", \"sublabel\": \"%\", \"range\": [20, 25, 30],\n",
    "   \"performance\": [21, 23], \"point\": [26]},\n",
    "  {\"label\": \"Order Size\", \"sublabel\":\"US$, average\",\"range\": [350, 500, 600],\n",
    "   \"performance\": [100,320],\"point\": [550]},\n",
    "  {\"label\": \"New Customers\", \"sublabel\": \"count\", \"range\": [1400, 2000, 2500],\n",
    "   \"performance\": [1000, 1650],\"point\": [2100]},\n",
    "  {\"label\": \"Satisfaction\", \"sublabel\": \"out of 5\",\"range\": [3.5, 4.25, 5],\n",
    "   \"performance\": [3.2, 4.7], \"point\": [4.4]}\n",
    ")\n",
    "\n",
    "fig = ff.create_bullet(\n",
    "    data, titles='label', subtitles='sublabel', markers='point',\n",
    "    measures='performance', ranges='range', orientation='v',\n",
    ")\n",
    "pyo.iplot(fig, filename='bullet chart from dict')"
   ]
  },
  {
   "cell_type": "markdown",
   "metadata": {},
   "source": [
    "# Use Your Own Colors\n",
    "\n",
    "You can use different colors for the range and the measure columns. Set range_colors and measure_colors to a 2-item list of two colors to interpolate between."
   ]
  },
  {
   "cell_type": "code",
   "execution_count": 4,
   "metadata": {},
   "outputs": [
    {
     "data": {
      "application/vnd.plotly.v1+json": {
       "config": {
        "linkText": "Export to plot.ly",
        "plotlyServerURL": "https://plot.ly",
        "showLink": false
       },
       "data": [
        {
         "base": 0,
         "hoverinfo": "x",
         "marker": {
          "color": "rgb(241.0, 241.0, 241.0)"
         },
         "name": "ranges",
         "orientation": "h",
         "type": "bar",
         "uid": "81c6b053-f9c5-4439-bd61-a69c31c03d4b",
         "width": 2,
         "x": [
          300
         ],
         "xaxis": "x",
         "y": [
          0
         ],
         "yaxis": "y"
        },
        {
         "base": 0,
         "hoverinfo": "x",
         "marker": {
          "color": "rgb(243.0, 233.0, 229.5)"
         },
         "name": "ranges",
         "orientation": "h",
         "type": "bar",
         "uid": "c2c12e9e-c4b7-47b2-bd01-02f537b4a00d",
         "width": 2,
         "x": [
          225
         ],
         "xaxis": "x",
         "y": [
          0
         ],
         "yaxis": "y"
        },
        {
         "base": 0,
         "hoverinfo": "x",
         "marker": {
          "color": "rgb(245.0, 225.0, 218.0)"
         },
         "name": "ranges",
         "orientation": "h",
         "type": "bar",
         "uid": "52601c98-cff3-4d41-bed6-edcc81126d2c",
         "width": 2,
         "x": [
          150
         ],
         "xaxis": "x",
         "y": [
          0
         ],
         "yaxis": "y"
        },
        {
         "base": 0,
         "hoverinfo": "x",
         "marker": {
          "color": "rgb(120.0, 194.0, 195.0)"
         },
         "name": "measures",
         "orientation": "h",
         "type": "bar",
         "uid": "432e2251-8ccd-422a-bfa4-21b0682f6eb4",
         "width": 0.4,
         "x": [
          270
         ],
         "xaxis": "x",
         "y": [
          0.5
         ],
         "yaxis": "y"
        },
        {
         "base": 0,
         "hoverinfo": "x",
         "marker": {
          "color": "rgb(63.0, 102.0, 153.0)"
         },
         "name": "measures",
         "orientation": "h",
         "type": "bar",
         "uid": "e3702704-11c9-4883-81f3-d4218fca3801",
         "width": 0.4,
         "x": [
          220
         ],
         "xaxis": "x",
         "y": [
          0.5
         ],
         "yaxis": "y"
        },
        {
         "hoverinfo": "x",
         "marker": {
          "color": "rgb(0, 0, 0)",
          "size": 12,
          "symbol": "diamond-tall"
         },
         "name": "markers",
         "type": "scatter",
         "uid": "eff41ad0-62a2-477f-82f7-e612911144a7",
         "x": [
          250
         ],
         "xaxis": "x",
         "y": [
          0.5
         ],
         "yaxis": "y"
        },
        {
         "base": 0,
         "hoverinfo": "x",
         "marker": {
          "color": "rgb(241.0, 241.0, 241.0)"
         },
         "name": "ranges",
         "orientation": "h",
         "type": "bar",
         "uid": "9dfa1403-2eaa-45d2-9b2a-cf74ef430ebd",
         "width": 2,
         "x": [
          30
         ],
         "xaxis": "x2",
         "y": [
          0
         ],
         "yaxis": "y2"
        },
        {
         "base": 0,
         "hoverinfo": "x",
         "marker": {
          "color": "rgb(243.0, 233.0, 229.5)"
         },
         "name": "ranges",
         "orientation": "h",
         "type": "bar",
         "uid": "23987094-34ab-4dfe-a039-174135e9ec4f",
         "width": 2,
         "x": [
          25
         ],
         "xaxis": "x2",
         "y": [
          0
         ],
         "yaxis": "y2"
        },
        {
         "base": 0,
         "hoverinfo": "x",
         "marker": {
          "color": "rgb(245.0, 225.0, 218.0)"
         },
         "name": "ranges",
         "orientation": "h",
         "type": "bar",
         "uid": "28349e1a-1461-4a6e-8e57-1f5c9816725b",
         "width": 2,
         "x": [
          20
         ],
         "xaxis": "x2",
         "y": [
          0
         ],
         "yaxis": "y2"
        },
        {
         "base": 0,
         "hoverinfo": "x",
         "marker": {
          "color": "rgb(120.0, 194.0, 195.0)"
         },
         "name": "measures",
         "orientation": "h",
         "type": "bar",
         "uid": "04b61c87-97bf-4688-a794-dee411874d78",
         "width": 0.4,
         "x": [
          23
         ],
         "xaxis": "x2",
         "y": [
          0.5
         ],
         "yaxis": "y2"
        },
        {
         "base": 0,
         "hoverinfo": "x",
         "marker": {
          "color": "rgb(63.0, 102.0, 153.0)"
         },
         "name": "measures",
         "orientation": "h",
         "type": "bar",
         "uid": "9cd6cb48-b7d4-481d-a52f-10d833740ec0",
         "width": 0.4,
         "x": [
          21
         ],
         "xaxis": "x2",
         "y": [
          0.5
         ],
         "yaxis": "y2"
        },
        {
         "hoverinfo": "x",
         "marker": {
          "color": "rgb(0, 0, 0)",
          "size": 12,
          "symbol": "diamond-tall"
         },
         "name": "markers",
         "type": "scatter",
         "uid": "7f021311-20e8-415c-b0e5-f2760f8050a5",
         "x": [
          26
         ],
         "xaxis": "x2",
         "y": [
          0.5
         ],
         "yaxis": "y2"
        },
        {
         "base": 0,
         "hoverinfo": "x",
         "marker": {
          "color": "rgb(241.0, 241.0, 241.0)"
         },
         "name": "ranges",
         "orientation": "h",
         "type": "bar",
         "uid": "827f5d90-7acb-4016-a924-161e05ad9897",
         "width": 2,
         "x": [
          600
         ],
         "xaxis": "x3",
         "y": [
          0
         ],
         "yaxis": "y3"
        },
        {
         "base": 0,
         "hoverinfo": "x",
         "marker": {
          "color": "rgb(243.0, 233.0, 229.5)"
         },
         "name": "ranges",
         "orientation": "h",
         "type": "bar",
         "uid": "4cef68f9-b7cf-4245-94ac-6738c153bc63",
         "width": 2,
         "x": [
          500
         ],
         "xaxis": "x3",
         "y": [
          0
         ],
         "yaxis": "y3"
        },
        {
         "base": 0,
         "hoverinfo": "x",
         "marker": {
          "color": "rgb(245.0, 225.0, 218.0)"
         },
         "name": "ranges",
         "orientation": "h",
         "type": "bar",
         "uid": "fa2781c7-7c98-4a3a-b806-f5f56344db1e",
         "width": 2,
         "x": [
          350
         ],
         "xaxis": "x3",
         "y": [
          0
         ],
         "yaxis": "y3"
        },
        {
         "base": 0,
         "hoverinfo": "x",
         "marker": {
          "color": "rgb(120.0, 194.0, 195.0)"
         },
         "name": "measures",
         "orientation": "h",
         "type": "bar",
         "uid": "036af314-d5c5-46ce-a633-e4703c47c537",
         "width": 0.4,
         "x": [
          320
         ],
         "xaxis": "x3",
         "y": [
          0.5
         ],
         "yaxis": "y3"
        },
        {
         "base": 0,
         "hoverinfo": "x",
         "marker": {
          "color": "rgb(63.0, 102.0, 153.0)"
         },
         "name": "measures",
         "orientation": "h",
         "type": "bar",
         "uid": "0042bda7-25b1-4b0b-a117-8490de1068d0",
         "width": 0.4,
         "x": [
          100
         ],
         "xaxis": "x3",
         "y": [
          0.5
         ],
         "yaxis": "y3"
        },
        {
         "hoverinfo": "x",
         "marker": {
          "color": "rgb(0, 0, 0)",
          "size": 12,
          "symbol": "diamond-tall"
         },
         "name": "markers",
         "type": "scatter",
         "uid": "ff25e0f4-2b7f-401c-aafc-28ecf8fefd17",
         "x": [
          550
         ],
         "xaxis": "x3",
         "y": [
          0.5
         ],
         "yaxis": "y3"
        },
        {
         "base": 0,
         "hoverinfo": "x",
         "marker": {
          "color": "rgb(241.0, 241.0, 241.0)"
         },
         "name": "ranges",
         "orientation": "h",
         "type": "bar",
         "uid": "b917ab17-340a-4083-bbf8-71ec8ff8d27a",
         "width": 2,
         "x": [
          2500
         ],
         "xaxis": "x4",
         "y": [
          0
         ],
         "yaxis": "y4"
        },
        {
         "base": 0,
         "hoverinfo": "x",
         "marker": {
          "color": "rgb(243.0, 233.0, 229.5)"
         },
         "name": "ranges",
         "orientation": "h",
         "type": "bar",
         "uid": "043a352f-285a-40e6-8fb4-9375a55767f0",
         "width": 2,
         "x": [
          2000
         ],
         "xaxis": "x4",
         "y": [
          0
         ],
         "yaxis": "y4"
        },
        {
         "base": 0,
         "hoverinfo": "x",
         "marker": {
          "color": "rgb(245.0, 225.0, 218.0)"
         },
         "name": "ranges",
         "orientation": "h",
         "type": "bar",
         "uid": "e7a1bff0-1c33-4209-b5d6-069a817dfc2d",
         "width": 2,
         "x": [
          1400
         ],
         "xaxis": "x4",
         "y": [
          0
         ],
         "yaxis": "y4"
        },
        {
         "base": 0,
         "hoverinfo": "x",
         "marker": {
          "color": "rgb(120.0, 194.0, 195.0)"
         },
         "name": "measures",
         "orientation": "h",
         "type": "bar",
         "uid": "295da286-c334-4c39-ba54-353b2050de72",
         "width": 0.4,
         "x": [
          1650
         ],
         "xaxis": "x4",
         "y": [
          0.5
         ],
         "yaxis": "y4"
        },
        {
         "base": 0,
         "hoverinfo": "x",
         "marker": {
          "color": "rgb(63.0, 102.0, 153.0)"
         },
         "name": "measures",
         "orientation": "h",
         "type": "bar",
         "uid": "b4794946-4fa7-4a9b-9b23-df288aa665c4",
         "width": 0.4,
         "x": [
          1000
         ],
         "xaxis": "x4",
         "y": [
          0.5
         ],
         "yaxis": "y4"
        },
        {
         "hoverinfo": "x",
         "marker": {
          "color": "rgb(0, 0, 0)",
          "size": 12,
          "symbol": "diamond-tall"
         },
         "name": "markers",
         "type": "scatter",
         "uid": "db73e07b-bed9-461b-a933-1db0007b9d86",
         "x": [
          2100
         ],
         "xaxis": "x4",
         "y": [
          0.5
         ],
         "yaxis": "y4"
        },
        {
         "base": 0,
         "hoverinfo": "x",
         "marker": {
          "color": "rgb(241.0, 241.0, 241.0)"
         },
         "name": "ranges",
         "orientation": "h",
         "type": "bar",
         "uid": "99e15e09-a838-4bec-88a4-06065a2616ae",
         "width": 2,
         "x": [
          5
         ],
         "xaxis": "x5",
         "y": [
          0
         ],
         "yaxis": "y5"
        },
        {
         "base": 0,
         "hoverinfo": "x",
         "marker": {
          "color": "rgb(243.0, 233.0, 229.5)"
         },
         "name": "ranges",
         "orientation": "h",
         "type": "bar",
         "uid": "c8921f85-71db-48a7-9224-11b1e59224b2",
         "width": 2,
         "x": [
          4.25
         ],
         "xaxis": "x5",
         "y": [
          0
         ],
         "yaxis": "y5"
        },
        {
         "base": 0,
         "hoverinfo": "x",
         "marker": {
          "color": "rgb(245.0, 225.0, 218.0)"
         },
         "name": "ranges",
         "orientation": "h",
         "type": "bar",
         "uid": "055cb030-074c-427b-a075-f2cfef1c5cc7",
         "width": 2,
         "x": [
          3.5
         ],
         "xaxis": "x5",
         "y": [
          0
         ],
         "yaxis": "y5"
        },
        {
         "base": 0,
         "hoverinfo": "x",
         "marker": {
          "color": "rgb(120.0, 194.0, 195.0)"
         },
         "name": "measures",
         "orientation": "h",
         "type": "bar",
         "uid": "f7ace75e-6ebb-4d90-839f-d72e84f6e654",
         "width": 0.4,
         "x": [
          4.7
         ],
         "xaxis": "x5",
         "y": [
          0.5
         ],
         "yaxis": "y5"
        },
        {
         "base": 0,
         "hoverinfo": "x",
         "marker": {
          "color": "rgb(63.0, 102.0, 153.0)"
         },
         "name": "measures",
         "orientation": "h",
         "type": "bar",
         "uid": "0ac4ce40-f96b-4ff1-9b49-a11c63f8621c",
         "width": 0.4,
         "x": [
          3.2
         ],
         "xaxis": "x5",
         "y": [
          0.5
         ],
         "yaxis": "y5"
        },
        {
         "hoverinfo": "x",
         "marker": {
          "color": "rgb(0, 0, 0)",
          "size": 12,
          "symbol": "diamond-tall"
         },
         "name": "markers",
         "type": "scatter",
         "uid": "b67ae1ca-24f9-43a0-94b6-a77c4d11de75",
         "x": [
          4.4
         ],
         "xaxis": "x5",
         "y": [
          0.5
         ],
         "yaxis": "y5"
        }
       ],
       "layout": {
        "annotations": [
         {
          "font": {
           "color": "#0f0f0f",
           "size": 13
          },
          "showarrow": false,
          "text": "<b>Revenue</b>",
          "textangle": 0,
          "x": -0.01,
          "xanchor": "right",
          "xref": "paper",
          "y": 0.98,
          "yanchor": "middle",
          "yref": "paper"
         },
         {
          "font": {
           "color": "#0f0f0f",
           "size": 13
          },
          "showarrow": false,
          "text": "<b>Profit</b>",
          "textangle": 0,
          "x": -0.01,
          "xanchor": "right",
          "xref": "paper",
          "y": 0.74,
          "yanchor": "middle",
          "yref": "paper"
         },
         {
          "font": {
           "color": "#0f0f0f",
           "size": 13
          },
          "showarrow": false,
          "text": "<b>Order Size</b>",
          "textangle": 0,
          "x": -0.01,
          "xanchor": "right",
          "xref": "paper",
          "y": 0.5,
          "yanchor": "middle",
          "yref": "paper"
         },
         {
          "font": {
           "color": "#0f0f0f",
           "size": 13
          },
          "showarrow": false,
          "text": "<b>New Customers</b>",
          "textangle": 0,
          "x": -0.01,
          "xanchor": "right",
          "xref": "paper",
          "y": 0.26,
          "yanchor": "middle",
          "yref": "paper"
         },
         {
          "font": {
           "color": "#0f0f0f",
           "size": 13
          },
          "showarrow": false,
          "text": "<b>Satisfaction</b>",
          "textangle": 0,
          "x": -0.01,
          "xanchor": "right",
          "xref": "paper",
          "y": 0.019999999999999997,
          "yanchor": "middle",
          "yref": "paper"
         }
        ],
        "barmode": "stack",
        "height": 600,
        "margin": {
         "l": 120
        },
        "showlegend": false,
        "title": {
         "text": "Bullet Chart"
        },
        "width": 1000,
        "xaxis": {
         "anchor": "y",
         "domain": [
          0,
          1
         ],
         "showgrid": false,
         "tickwidth": 1,
         "zeroline": false
        },
        "xaxis2": {
         "anchor": "y2",
         "domain": [
          0,
          1
         ],
         "showgrid": false,
         "tickwidth": 1,
         "zeroline": false
        },
        "xaxis3": {
         "anchor": "y3",
         "domain": [
          0,
          1
         ],
         "showgrid": false,
         "tickwidth": 1,
         "zeroline": false
        },
        "xaxis4": {
         "anchor": "y4",
         "domain": [
          0,
          1
         ],
         "showgrid": false,
         "tickwidth": 1,
         "zeroline": false
        },
        "xaxis5": {
         "anchor": "y5",
         "domain": [
          0,
          1
         ],
         "showgrid": false,
         "tickwidth": 1,
         "zeroline": false
        },
        "yaxis": {
         "anchor": "x",
         "domain": [
          0.96,
          1
         ],
         "range": [
          0,
          1
         ],
         "showgrid": false,
         "showticklabels": false,
         "zeroline": false
        },
        "yaxis2": {
         "anchor": "x2",
         "domain": [
          0.7200000000000001,
          0.7600000000000001
         ],
         "range": [
          0,
          1
         ],
         "showgrid": false,
         "showticklabels": false,
         "zeroline": false
        },
        "yaxis3": {
         "anchor": "x3",
         "domain": [
          0.48,
          0.52
         ],
         "range": [
          0,
          1
         ],
         "showgrid": false,
         "showticklabels": false,
         "zeroline": false
        },
        "yaxis4": {
         "anchor": "x4",
         "domain": [
          0.24,
          0.27999999999999997
         ],
         "range": [
          0,
          1
         ],
         "showgrid": false,
         "showticklabels": false,
         "zeroline": false
        },
        "yaxis5": {
         "anchor": "x5",
         "domain": [
          0,
          0.039999999999999994
         ],
         "range": [
          0,
          1
         ],
         "showgrid": false,
         "showticklabels": false,
         "zeroline": false
        }
       }
      },
      "text/html": [
       "<div id=\"61c98ffd-398c-4330-b5ca-4d7ce5de28f9\" style=\"height: 600px; width: 1000px;\" class=\"plotly-graph-div\"></div><script type=\"text/javascript\">require([\"plotly\"], function(Plotly) { window.PLOTLYENV=window.PLOTLYENV || {};window.PLOTLYENV.BASE_URL=\"https://plot.ly\";Plotly.newPlot(\"61c98ffd-398c-4330-b5ca-4d7ce5de28f9\", [{\"base\": 0, \"hoverinfo\": \"x\", \"marker\": {\"color\": \"rgb(241.0, 241.0, 241.0)\"}, \"name\": \"ranges\", \"orientation\": \"h\", \"width\": 2, \"x\": [300], \"xaxis\": \"x\", \"y\": [0], \"yaxis\": \"y\", \"type\": \"bar\", \"uid\": \"81c6b053-f9c5-4439-bd61-a69c31c03d4b\"}, {\"base\": 0, \"hoverinfo\": \"x\", \"marker\": {\"color\": \"rgb(243.0, 233.0, 229.5)\"}, \"name\": \"ranges\", \"orientation\": \"h\", \"width\": 2, \"x\": [225], \"xaxis\": \"x\", \"y\": [0], \"yaxis\": \"y\", \"type\": \"bar\", \"uid\": \"c2c12e9e-c4b7-47b2-bd01-02f537b4a00d\"}, {\"base\": 0, \"hoverinfo\": \"x\", \"marker\": {\"color\": \"rgb(245.0, 225.0, 218.0)\"}, \"name\": \"ranges\", \"orientation\": \"h\", \"width\": 2, \"x\": [150], \"xaxis\": \"x\", \"y\": [0], \"yaxis\": \"y\", \"type\": \"bar\", \"uid\": \"52601c98-cff3-4d41-bed6-edcc81126d2c\"}, {\"base\": 0, \"hoverinfo\": \"x\", \"marker\": {\"color\": \"rgb(120.0, 194.0, 195.0)\"}, \"name\": \"measures\", \"orientation\": \"h\", \"width\": 0.4, \"x\": [270], \"xaxis\": \"x\", \"y\": [0.5], \"yaxis\": \"y\", \"type\": \"bar\", \"uid\": \"432e2251-8ccd-422a-bfa4-21b0682f6eb4\"}, {\"base\": 0, \"hoverinfo\": \"x\", \"marker\": {\"color\": \"rgb(63.0, 102.0, 153.0)\"}, \"name\": \"measures\", \"orientation\": \"h\", \"width\": 0.4, \"x\": [220], \"xaxis\": \"x\", \"y\": [0.5], \"yaxis\": \"y\", \"type\": \"bar\", \"uid\": \"e3702704-11c9-4883-81f3-d4218fca3801\"}, {\"hoverinfo\": \"x\", \"marker\": {\"color\": \"rgb(0, 0, 0)\", \"size\": 12, \"symbol\": \"diamond-tall\"}, \"name\": \"markers\", \"x\": [250], \"xaxis\": \"x\", \"y\": [0.5], \"yaxis\": \"y\", \"type\": \"scatter\", \"uid\": \"eff41ad0-62a2-477f-82f7-e612911144a7\"}, {\"base\": 0, \"hoverinfo\": \"x\", \"marker\": {\"color\": \"rgb(241.0, 241.0, 241.0)\"}, \"name\": \"ranges\", \"orientation\": \"h\", \"width\": 2, \"x\": [30], \"xaxis\": \"x2\", \"y\": [0], \"yaxis\": \"y2\", \"type\": \"bar\", \"uid\": \"9dfa1403-2eaa-45d2-9b2a-cf74ef430ebd\"}, {\"base\": 0, \"hoverinfo\": \"x\", \"marker\": {\"color\": \"rgb(243.0, 233.0, 229.5)\"}, \"name\": \"ranges\", \"orientation\": \"h\", \"width\": 2, \"x\": [25], \"xaxis\": \"x2\", \"y\": [0], \"yaxis\": \"y2\", \"type\": \"bar\", \"uid\": \"23987094-34ab-4dfe-a039-174135e9ec4f\"}, {\"base\": 0, \"hoverinfo\": \"x\", \"marker\": {\"color\": \"rgb(245.0, 225.0, 218.0)\"}, \"name\": \"ranges\", \"orientation\": \"h\", \"width\": 2, \"x\": [20], \"xaxis\": \"x2\", \"y\": [0], \"yaxis\": \"y2\", \"type\": \"bar\", \"uid\": \"28349e1a-1461-4a6e-8e57-1f5c9816725b\"}, {\"base\": 0, \"hoverinfo\": \"x\", \"marker\": {\"color\": \"rgb(120.0, 194.0, 195.0)\"}, \"name\": \"measures\", \"orientation\": \"h\", \"width\": 0.4, \"x\": [23], \"xaxis\": \"x2\", \"y\": [0.5], \"yaxis\": \"y2\", \"type\": \"bar\", \"uid\": \"04b61c87-97bf-4688-a794-dee411874d78\"}, {\"base\": 0, \"hoverinfo\": \"x\", \"marker\": {\"color\": \"rgb(63.0, 102.0, 153.0)\"}, \"name\": \"measures\", \"orientation\": \"h\", \"width\": 0.4, \"x\": [21], \"xaxis\": \"x2\", \"y\": [0.5], \"yaxis\": \"y2\", \"type\": \"bar\", \"uid\": \"9cd6cb48-b7d4-481d-a52f-10d833740ec0\"}, {\"hoverinfo\": \"x\", \"marker\": {\"color\": \"rgb(0, 0, 0)\", \"size\": 12, \"symbol\": \"diamond-tall\"}, \"name\": \"markers\", \"x\": [26], \"xaxis\": \"x2\", \"y\": [0.5], \"yaxis\": \"y2\", \"type\": \"scatter\", \"uid\": \"7f021311-20e8-415c-b0e5-f2760f8050a5\"}, {\"base\": 0, \"hoverinfo\": \"x\", \"marker\": {\"color\": \"rgb(241.0, 241.0, 241.0)\"}, \"name\": \"ranges\", \"orientation\": \"h\", \"width\": 2, \"x\": [600], \"xaxis\": \"x3\", \"y\": [0], \"yaxis\": \"y3\", \"type\": \"bar\", \"uid\": \"827f5d90-7acb-4016-a924-161e05ad9897\"}, {\"base\": 0, \"hoverinfo\": \"x\", \"marker\": {\"color\": \"rgb(243.0, 233.0, 229.5)\"}, \"name\": \"ranges\", \"orientation\": \"h\", \"width\": 2, \"x\": [500], \"xaxis\": \"x3\", \"y\": [0], \"yaxis\": \"y3\", \"type\": \"bar\", \"uid\": \"4cef68f9-b7cf-4245-94ac-6738c153bc63\"}, {\"base\": 0, \"hoverinfo\": \"x\", \"marker\": {\"color\": \"rgb(245.0, 225.0, 218.0)\"}, \"name\": \"ranges\", \"orientation\": \"h\", \"width\": 2, \"x\": [350], \"xaxis\": \"x3\", \"y\": [0], \"yaxis\": \"y3\", \"type\": \"bar\", \"uid\": \"fa2781c7-7c98-4a3a-b806-f5f56344db1e\"}, {\"base\": 0, \"hoverinfo\": \"x\", \"marker\": {\"color\": \"rgb(120.0, 194.0, 195.0)\"}, \"name\": \"measures\", \"orientation\": \"h\", \"width\": 0.4, \"x\": [320], \"xaxis\": \"x3\", \"y\": [0.5], \"yaxis\": \"y3\", \"type\": \"bar\", \"uid\": \"036af314-d5c5-46ce-a633-e4703c47c537\"}, {\"base\": 0, \"hoverinfo\": \"x\", \"marker\": {\"color\": \"rgb(63.0, 102.0, 153.0)\"}, \"name\": \"measures\", \"orientation\": \"h\", \"width\": 0.4, \"x\": [100], \"xaxis\": \"x3\", \"y\": [0.5], \"yaxis\": \"y3\", \"type\": \"bar\", \"uid\": \"0042bda7-25b1-4b0b-a117-8490de1068d0\"}, {\"hoverinfo\": \"x\", \"marker\": {\"color\": \"rgb(0, 0, 0)\", \"size\": 12, \"symbol\": \"diamond-tall\"}, \"name\": \"markers\", \"x\": [550], \"xaxis\": \"x3\", \"y\": [0.5], \"yaxis\": \"y3\", \"type\": \"scatter\", \"uid\": \"ff25e0f4-2b7f-401c-aafc-28ecf8fefd17\"}, {\"base\": 0, \"hoverinfo\": \"x\", \"marker\": {\"color\": \"rgb(241.0, 241.0, 241.0)\"}, \"name\": \"ranges\", \"orientation\": \"h\", \"width\": 2, \"x\": [2500], \"xaxis\": \"x4\", \"y\": [0], \"yaxis\": \"y4\", \"type\": \"bar\", \"uid\": \"b917ab17-340a-4083-bbf8-71ec8ff8d27a\"}, {\"base\": 0, \"hoverinfo\": \"x\", \"marker\": {\"color\": \"rgb(243.0, 233.0, 229.5)\"}, \"name\": \"ranges\", \"orientation\": \"h\", \"width\": 2, \"x\": [2000], \"xaxis\": \"x4\", \"y\": [0], \"yaxis\": \"y4\", \"type\": \"bar\", \"uid\": \"043a352f-285a-40e6-8fb4-9375a55767f0\"}, {\"base\": 0, \"hoverinfo\": \"x\", \"marker\": {\"color\": \"rgb(245.0, 225.0, 218.0)\"}, \"name\": \"ranges\", \"orientation\": \"h\", \"width\": 2, \"x\": [1400], \"xaxis\": \"x4\", \"y\": [0], \"yaxis\": \"y4\", \"type\": \"bar\", \"uid\": \"e7a1bff0-1c33-4209-b5d6-069a817dfc2d\"}, {\"base\": 0, \"hoverinfo\": \"x\", \"marker\": {\"color\": \"rgb(120.0, 194.0, 195.0)\"}, \"name\": \"measures\", \"orientation\": \"h\", \"width\": 0.4, \"x\": [1650], \"xaxis\": \"x4\", \"y\": [0.5], \"yaxis\": \"y4\", \"type\": \"bar\", \"uid\": \"295da286-c334-4c39-ba54-353b2050de72\"}, {\"base\": 0, \"hoverinfo\": \"x\", \"marker\": {\"color\": \"rgb(63.0, 102.0, 153.0)\"}, \"name\": \"measures\", \"orientation\": \"h\", \"width\": 0.4, \"x\": [1000], \"xaxis\": \"x4\", \"y\": [0.5], \"yaxis\": \"y4\", \"type\": \"bar\", \"uid\": \"b4794946-4fa7-4a9b-9b23-df288aa665c4\"}, {\"hoverinfo\": \"x\", \"marker\": {\"color\": \"rgb(0, 0, 0)\", \"size\": 12, \"symbol\": \"diamond-tall\"}, \"name\": \"markers\", \"x\": [2100], \"xaxis\": \"x4\", \"y\": [0.5], \"yaxis\": \"y4\", \"type\": \"scatter\", \"uid\": \"db73e07b-bed9-461b-a933-1db0007b9d86\"}, {\"base\": 0, \"hoverinfo\": \"x\", \"marker\": {\"color\": \"rgb(241.0, 241.0, 241.0)\"}, \"name\": \"ranges\", \"orientation\": \"h\", \"width\": 2, \"x\": [5], \"xaxis\": \"x5\", \"y\": [0], \"yaxis\": \"y5\", \"type\": \"bar\", \"uid\": \"99e15e09-a838-4bec-88a4-06065a2616ae\"}, {\"base\": 0, \"hoverinfo\": \"x\", \"marker\": {\"color\": \"rgb(243.0, 233.0, 229.5)\"}, \"name\": \"ranges\", \"orientation\": \"h\", \"width\": 2, \"x\": [4.25], \"xaxis\": \"x5\", \"y\": [0], \"yaxis\": \"y5\", \"type\": \"bar\", \"uid\": \"c8921f85-71db-48a7-9224-11b1e59224b2\"}, {\"base\": 0, \"hoverinfo\": \"x\", \"marker\": {\"color\": \"rgb(245.0, 225.0, 218.0)\"}, \"name\": \"ranges\", \"orientation\": \"h\", \"width\": 2, \"x\": [3.5], \"xaxis\": \"x5\", \"y\": [0], \"yaxis\": \"y5\", \"type\": \"bar\", \"uid\": \"055cb030-074c-427b-a075-f2cfef1c5cc7\"}, {\"base\": 0, \"hoverinfo\": \"x\", \"marker\": {\"color\": \"rgb(120.0, 194.0, 195.0)\"}, \"name\": \"measures\", \"orientation\": \"h\", \"width\": 0.4, \"x\": [4.7], \"xaxis\": \"x5\", \"y\": [0.5], \"yaxis\": \"y5\", \"type\": \"bar\", \"uid\": \"f7ace75e-6ebb-4d90-839f-d72e84f6e654\"}, {\"base\": 0, \"hoverinfo\": \"x\", \"marker\": {\"color\": \"rgb(63.0, 102.0, 153.0)\"}, \"name\": \"measures\", \"orientation\": \"h\", \"width\": 0.4, \"x\": [3.2], \"xaxis\": \"x5\", \"y\": [0.5], \"yaxis\": \"y5\", \"type\": \"bar\", \"uid\": \"0ac4ce40-f96b-4ff1-9b49-a11c63f8621c\"}, {\"hoverinfo\": \"x\", \"marker\": {\"color\": \"rgb(0, 0, 0)\", \"size\": 12, \"symbol\": \"diamond-tall\"}, \"name\": \"markers\", \"x\": [4.4], \"xaxis\": \"x5\", \"y\": [0.5], \"yaxis\": \"y5\", \"type\": \"scatter\", \"uid\": \"b67ae1ca-24f9-43a0-94b6-a77c4d11de75\"}], {\"xaxis\": {\"anchor\": \"y\", \"domain\": [0.0, 1.0], \"showgrid\": false, \"zeroline\": false, \"tickwidth\": 1}, \"yaxis\": {\"anchor\": \"x\", \"domain\": [0.96, 1.0], \"showgrid\": false, \"zeroline\": false, \"showticklabels\": false, \"range\": [0, 1]}, \"xaxis2\": {\"anchor\": \"y2\", \"domain\": [0.0, 1.0], \"showgrid\": false, \"zeroline\": false, \"tickwidth\": 1}, \"yaxis2\": {\"anchor\": \"x2\", \"domain\": [0.7200000000000001, 0.7600000000000001], \"showgrid\": false, \"zeroline\": false, \"showticklabels\": false, \"range\": [0, 1]}, \"xaxis3\": {\"anchor\": \"y3\", \"domain\": [0.0, 1.0], \"showgrid\": false, \"zeroline\": false, \"tickwidth\": 1}, \"yaxis3\": {\"anchor\": \"x3\", \"domain\": [0.48, 0.52], \"showgrid\": false, \"zeroline\": false, \"showticklabels\": false, \"range\": [0, 1]}, \"xaxis4\": {\"anchor\": \"y4\", \"domain\": [0.0, 1.0], \"showgrid\": false, \"zeroline\": false, \"tickwidth\": 1}, \"yaxis4\": {\"anchor\": \"x4\", \"domain\": [0.24, 0.27999999999999997], \"showgrid\": false, \"zeroline\": false, \"showticklabels\": false, \"range\": [0, 1]}, \"xaxis5\": {\"anchor\": \"y5\", \"domain\": [0.0, 1.0], \"showgrid\": false, \"zeroline\": false, \"tickwidth\": 1}, \"yaxis5\": {\"anchor\": \"x5\", \"domain\": [0.0, 0.039999999999999994], \"showgrid\": false, \"zeroline\": false, \"showticklabels\": false, \"range\": [0, 1]}, \"margin\": {\"l\": 120}, \"title\": {\"text\": \"Bullet Chart\"}, \"height\": 600, \"width\": 1000, \"showlegend\": false, \"barmode\": \"stack\", \"annotations\": [{\"font\": {\"color\": \"#0f0f0f\", \"size\": 13}, \"showarrow\": false, \"text\": \"<b>Revenue</b>\", \"textangle\": 0, \"x\": -0.01, \"xanchor\": \"right\", \"xref\": \"paper\", \"y\": 0.98, \"yanchor\": \"middle\", \"yref\": \"paper\"}, {\"font\": {\"color\": \"#0f0f0f\", \"size\": 13}, \"showarrow\": false, \"text\": \"<b>Profit</b>\", \"textangle\": 0, \"x\": -0.01, \"xanchor\": \"right\", \"xref\": \"paper\", \"y\": 0.74, \"yanchor\": \"middle\", \"yref\": \"paper\"}, {\"font\": {\"color\": \"#0f0f0f\", \"size\": 13}, \"showarrow\": false, \"text\": \"<b>Order Size</b>\", \"textangle\": 0, \"x\": -0.01, \"xanchor\": \"right\", \"xref\": \"paper\", \"y\": 0.5, \"yanchor\": \"middle\", \"yref\": \"paper\"}, {\"font\": {\"color\": \"#0f0f0f\", \"size\": 13}, \"showarrow\": false, \"text\": \"<b>New Customers</b>\", \"textangle\": 0, \"x\": -0.01, \"xanchor\": \"right\", \"xref\": \"paper\", \"y\": 0.26, \"yanchor\": \"middle\", \"yref\": \"paper\"}, {\"font\": {\"color\": \"#0f0f0f\", \"size\": 13}, \"showarrow\": false, \"text\": \"<b>Satisfaction</b>\", \"textangle\": 0, \"x\": -0.01, \"xanchor\": \"right\", \"xref\": \"paper\", \"y\": 0.019999999999999997, \"yanchor\": \"middle\", \"yref\": \"paper\"}]}, {\"showLink\": false, \"linkText\": \"Export to plot.ly\", \"plotlyServerURL\": \"https://plot.ly\"})});</script>"
      ],
      "text/vnd.plotly.v1+html": [
       "<div id=\"61c98ffd-398c-4330-b5ca-4d7ce5de28f9\" style=\"height: 600px; width: 1000px;\" class=\"plotly-graph-div\"></div><script type=\"text/javascript\">require([\"plotly\"], function(Plotly) { window.PLOTLYENV=window.PLOTLYENV || {};window.PLOTLYENV.BASE_URL=\"https://plot.ly\";Plotly.newPlot(\"61c98ffd-398c-4330-b5ca-4d7ce5de28f9\", [{\"base\": 0, \"hoverinfo\": \"x\", \"marker\": {\"color\": \"rgb(241.0, 241.0, 241.0)\"}, \"name\": \"ranges\", \"orientation\": \"h\", \"width\": 2, \"x\": [300], \"xaxis\": \"x\", \"y\": [0], \"yaxis\": \"y\", \"type\": \"bar\", \"uid\": \"81c6b053-f9c5-4439-bd61-a69c31c03d4b\"}, {\"base\": 0, \"hoverinfo\": \"x\", \"marker\": {\"color\": \"rgb(243.0, 233.0, 229.5)\"}, \"name\": \"ranges\", \"orientation\": \"h\", \"width\": 2, \"x\": [225], \"xaxis\": \"x\", \"y\": [0], \"yaxis\": \"y\", \"type\": \"bar\", \"uid\": \"c2c12e9e-c4b7-47b2-bd01-02f537b4a00d\"}, {\"base\": 0, \"hoverinfo\": \"x\", \"marker\": {\"color\": \"rgb(245.0, 225.0, 218.0)\"}, \"name\": \"ranges\", \"orientation\": \"h\", \"width\": 2, \"x\": [150], \"xaxis\": \"x\", \"y\": [0], \"yaxis\": \"y\", \"type\": \"bar\", \"uid\": \"52601c98-cff3-4d41-bed6-edcc81126d2c\"}, {\"base\": 0, \"hoverinfo\": \"x\", \"marker\": {\"color\": \"rgb(120.0, 194.0, 195.0)\"}, \"name\": \"measures\", \"orientation\": \"h\", \"width\": 0.4, \"x\": [270], \"xaxis\": \"x\", \"y\": [0.5], \"yaxis\": \"y\", \"type\": \"bar\", \"uid\": \"432e2251-8ccd-422a-bfa4-21b0682f6eb4\"}, {\"base\": 0, \"hoverinfo\": \"x\", \"marker\": {\"color\": \"rgb(63.0, 102.0, 153.0)\"}, \"name\": \"measures\", \"orientation\": \"h\", \"width\": 0.4, \"x\": [220], \"xaxis\": \"x\", \"y\": [0.5], \"yaxis\": \"y\", \"type\": \"bar\", \"uid\": \"e3702704-11c9-4883-81f3-d4218fca3801\"}, {\"hoverinfo\": \"x\", \"marker\": {\"color\": \"rgb(0, 0, 0)\", \"size\": 12, \"symbol\": \"diamond-tall\"}, \"name\": \"markers\", \"x\": [250], \"xaxis\": \"x\", \"y\": [0.5], \"yaxis\": \"y\", \"type\": \"scatter\", \"uid\": \"eff41ad0-62a2-477f-82f7-e612911144a7\"}, {\"base\": 0, \"hoverinfo\": \"x\", \"marker\": {\"color\": \"rgb(241.0, 241.0, 241.0)\"}, \"name\": \"ranges\", \"orientation\": \"h\", \"width\": 2, \"x\": [30], \"xaxis\": \"x2\", \"y\": [0], \"yaxis\": \"y2\", \"type\": \"bar\", \"uid\": \"9dfa1403-2eaa-45d2-9b2a-cf74ef430ebd\"}, {\"base\": 0, \"hoverinfo\": \"x\", \"marker\": {\"color\": \"rgb(243.0, 233.0, 229.5)\"}, \"name\": \"ranges\", \"orientation\": \"h\", \"width\": 2, \"x\": [25], \"xaxis\": \"x2\", \"y\": [0], \"yaxis\": \"y2\", \"type\": \"bar\", \"uid\": \"23987094-34ab-4dfe-a039-174135e9ec4f\"}, {\"base\": 0, \"hoverinfo\": \"x\", \"marker\": {\"color\": \"rgb(245.0, 225.0, 218.0)\"}, \"name\": \"ranges\", \"orientation\": \"h\", \"width\": 2, \"x\": [20], \"xaxis\": \"x2\", \"y\": [0], \"yaxis\": \"y2\", \"type\": \"bar\", \"uid\": \"28349e1a-1461-4a6e-8e57-1f5c9816725b\"}, {\"base\": 0, \"hoverinfo\": \"x\", \"marker\": {\"color\": \"rgb(120.0, 194.0, 195.0)\"}, \"name\": \"measures\", \"orientation\": \"h\", \"width\": 0.4, \"x\": [23], \"xaxis\": \"x2\", \"y\": [0.5], \"yaxis\": \"y2\", \"type\": \"bar\", \"uid\": \"04b61c87-97bf-4688-a794-dee411874d78\"}, {\"base\": 0, \"hoverinfo\": \"x\", \"marker\": {\"color\": \"rgb(63.0, 102.0, 153.0)\"}, \"name\": \"measures\", \"orientation\": \"h\", \"width\": 0.4, \"x\": [21], \"xaxis\": \"x2\", \"y\": [0.5], \"yaxis\": \"y2\", \"type\": \"bar\", \"uid\": \"9cd6cb48-b7d4-481d-a52f-10d833740ec0\"}, {\"hoverinfo\": \"x\", \"marker\": {\"color\": \"rgb(0, 0, 0)\", \"size\": 12, \"symbol\": \"diamond-tall\"}, \"name\": \"markers\", \"x\": [26], \"xaxis\": \"x2\", \"y\": [0.5], \"yaxis\": \"y2\", \"type\": \"scatter\", \"uid\": \"7f021311-20e8-415c-b0e5-f2760f8050a5\"}, {\"base\": 0, \"hoverinfo\": \"x\", \"marker\": {\"color\": \"rgb(241.0, 241.0, 241.0)\"}, \"name\": \"ranges\", \"orientation\": \"h\", \"width\": 2, \"x\": [600], \"xaxis\": \"x3\", \"y\": [0], \"yaxis\": \"y3\", \"type\": \"bar\", \"uid\": \"827f5d90-7acb-4016-a924-161e05ad9897\"}, {\"base\": 0, \"hoverinfo\": \"x\", \"marker\": {\"color\": \"rgb(243.0, 233.0, 229.5)\"}, \"name\": \"ranges\", \"orientation\": \"h\", \"width\": 2, \"x\": [500], \"xaxis\": \"x3\", \"y\": [0], \"yaxis\": \"y3\", \"type\": \"bar\", \"uid\": \"4cef68f9-b7cf-4245-94ac-6738c153bc63\"}, {\"base\": 0, \"hoverinfo\": \"x\", \"marker\": {\"color\": \"rgb(245.0, 225.0, 218.0)\"}, \"name\": \"ranges\", \"orientation\": \"h\", \"width\": 2, \"x\": [350], \"xaxis\": \"x3\", \"y\": [0], \"yaxis\": \"y3\", \"type\": \"bar\", \"uid\": \"fa2781c7-7c98-4a3a-b806-f5f56344db1e\"}, {\"base\": 0, \"hoverinfo\": \"x\", \"marker\": {\"color\": \"rgb(120.0, 194.0, 195.0)\"}, \"name\": \"measures\", \"orientation\": \"h\", \"width\": 0.4, \"x\": [320], \"xaxis\": \"x3\", \"y\": [0.5], \"yaxis\": \"y3\", \"type\": \"bar\", \"uid\": \"036af314-d5c5-46ce-a633-e4703c47c537\"}, {\"base\": 0, \"hoverinfo\": \"x\", \"marker\": {\"color\": \"rgb(63.0, 102.0, 153.0)\"}, \"name\": \"measures\", \"orientation\": \"h\", \"width\": 0.4, \"x\": [100], \"xaxis\": \"x3\", \"y\": [0.5], \"yaxis\": \"y3\", \"type\": \"bar\", \"uid\": \"0042bda7-25b1-4b0b-a117-8490de1068d0\"}, {\"hoverinfo\": \"x\", \"marker\": {\"color\": \"rgb(0, 0, 0)\", \"size\": 12, \"symbol\": \"diamond-tall\"}, \"name\": \"markers\", \"x\": [550], \"xaxis\": \"x3\", \"y\": [0.5], \"yaxis\": \"y3\", \"type\": \"scatter\", \"uid\": \"ff25e0f4-2b7f-401c-aafc-28ecf8fefd17\"}, {\"base\": 0, \"hoverinfo\": \"x\", \"marker\": {\"color\": \"rgb(241.0, 241.0, 241.0)\"}, \"name\": \"ranges\", \"orientation\": \"h\", \"width\": 2, \"x\": [2500], \"xaxis\": \"x4\", \"y\": [0], \"yaxis\": \"y4\", \"type\": \"bar\", \"uid\": \"b917ab17-340a-4083-bbf8-71ec8ff8d27a\"}, {\"base\": 0, \"hoverinfo\": \"x\", \"marker\": {\"color\": \"rgb(243.0, 233.0, 229.5)\"}, \"name\": \"ranges\", \"orientation\": \"h\", \"width\": 2, \"x\": [2000], \"xaxis\": \"x4\", \"y\": [0], \"yaxis\": \"y4\", \"type\": \"bar\", \"uid\": \"043a352f-285a-40e6-8fb4-9375a55767f0\"}, {\"base\": 0, \"hoverinfo\": \"x\", \"marker\": {\"color\": \"rgb(245.0, 225.0, 218.0)\"}, \"name\": \"ranges\", \"orientation\": \"h\", \"width\": 2, \"x\": [1400], \"xaxis\": \"x4\", \"y\": [0], \"yaxis\": \"y4\", \"type\": \"bar\", \"uid\": \"e7a1bff0-1c33-4209-b5d6-069a817dfc2d\"}, {\"base\": 0, \"hoverinfo\": \"x\", \"marker\": {\"color\": \"rgb(120.0, 194.0, 195.0)\"}, \"name\": \"measures\", \"orientation\": \"h\", \"width\": 0.4, \"x\": [1650], \"xaxis\": \"x4\", \"y\": [0.5], \"yaxis\": \"y4\", \"type\": \"bar\", \"uid\": \"295da286-c334-4c39-ba54-353b2050de72\"}, {\"base\": 0, \"hoverinfo\": \"x\", \"marker\": {\"color\": \"rgb(63.0, 102.0, 153.0)\"}, \"name\": \"measures\", \"orientation\": \"h\", \"width\": 0.4, \"x\": [1000], \"xaxis\": \"x4\", \"y\": [0.5], \"yaxis\": \"y4\", \"type\": \"bar\", \"uid\": \"b4794946-4fa7-4a9b-9b23-df288aa665c4\"}, {\"hoverinfo\": \"x\", \"marker\": {\"color\": \"rgb(0, 0, 0)\", \"size\": 12, \"symbol\": \"diamond-tall\"}, \"name\": \"markers\", \"x\": [2100], \"xaxis\": \"x4\", \"y\": [0.5], \"yaxis\": \"y4\", \"type\": \"scatter\", \"uid\": \"db73e07b-bed9-461b-a933-1db0007b9d86\"}, {\"base\": 0, \"hoverinfo\": \"x\", \"marker\": {\"color\": \"rgb(241.0, 241.0, 241.0)\"}, \"name\": \"ranges\", \"orientation\": \"h\", \"width\": 2, \"x\": [5], \"xaxis\": \"x5\", \"y\": [0], \"yaxis\": \"y5\", \"type\": \"bar\", \"uid\": \"99e15e09-a838-4bec-88a4-06065a2616ae\"}, {\"base\": 0, \"hoverinfo\": \"x\", \"marker\": {\"color\": \"rgb(243.0, 233.0, 229.5)\"}, \"name\": \"ranges\", \"orientation\": \"h\", \"width\": 2, \"x\": [4.25], \"xaxis\": \"x5\", \"y\": [0], \"yaxis\": \"y5\", \"type\": \"bar\", \"uid\": \"c8921f85-71db-48a7-9224-11b1e59224b2\"}, {\"base\": 0, \"hoverinfo\": \"x\", \"marker\": {\"color\": \"rgb(245.0, 225.0, 218.0)\"}, \"name\": \"ranges\", \"orientation\": \"h\", \"width\": 2, \"x\": [3.5], \"xaxis\": \"x5\", \"y\": [0], \"yaxis\": \"y5\", \"type\": \"bar\", \"uid\": \"055cb030-074c-427b-a075-f2cfef1c5cc7\"}, {\"base\": 0, \"hoverinfo\": \"x\", \"marker\": {\"color\": \"rgb(120.0, 194.0, 195.0)\"}, \"name\": \"measures\", \"orientation\": \"h\", \"width\": 0.4, \"x\": [4.7], \"xaxis\": \"x5\", \"y\": [0.5], \"yaxis\": \"y5\", \"type\": \"bar\", \"uid\": \"f7ace75e-6ebb-4d90-839f-d72e84f6e654\"}, {\"base\": 0, \"hoverinfo\": \"x\", \"marker\": {\"color\": \"rgb(63.0, 102.0, 153.0)\"}, \"name\": \"measures\", \"orientation\": \"h\", \"width\": 0.4, \"x\": [3.2], \"xaxis\": \"x5\", \"y\": [0.5], \"yaxis\": \"y5\", \"type\": \"bar\", \"uid\": \"0ac4ce40-f96b-4ff1-9b49-a11c63f8621c\"}, {\"hoverinfo\": \"x\", \"marker\": {\"color\": \"rgb(0, 0, 0)\", \"size\": 12, \"symbol\": \"diamond-tall\"}, \"name\": \"markers\", \"x\": [4.4], \"xaxis\": \"x5\", \"y\": [0.5], \"yaxis\": \"y5\", \"type\": \"scatter\", \"uid\": \"b67ae1ca-24f9-43a0-94b6-a77c4d11de75\"}], {\"xaxis\": {\"anchor\": \"y\", \"domain\": [0.0, 1.0], \"showgrid\": false, \"zeroline\": false, \"tickwidth\": 1}, \"yaxis\": {\"anchor\": \"x\", \"domain\": [0.96, 1.0], \"showgrid\": false, \"zeroline\": false, \"showticklabels\": false, \"range\": [0, 1]}, \"xaxis2\": {\"anchor\": \"y2\", \"domain\": [0.0, 1.0], \"showgrid\": false, \"zeroline\": false, \"tickwidth\": 1}, \"yaxis2\": {\"anchor\": \"x2\", \"domain\": [0.7200000000000001, 0.7600000000000001], \"showgrid\": false, \"zeroline\": false, \"showticklabels\": false, \"range\": [0, 1]}, \"xaxis3\": {\"anchor\": \"y3\", \"domain\": [0.0, 1.0], \"showgrid\": false, \"zeroline\": false, \"tickwidth\": 1}, \"yaxis3\": {\"anchor\": \"x3\", \"domain\": [0.48, 0.52], \"showgrid\": false, \"zeroline\": false, \"showticklabels\": false, \"range\": [0, 1]}, \"xaxis4\": {\"anchor\": \"y4\", \"domain\": [0.0, 1.0], \"showgrid\": false, \"zeroline\": false, \"tickwidth\": 1}, \"yaxis4\": {\"anchor\": \"x4\", \"domain\": [0.24, 0.27999999999999997], \"showgrid\": false, \"zeroline\": false, \"showticklabels\": false, \"range\": [0, 1]}, \"xaxis5\": {\"anchor\": \"y5\", \"domain\": [0.0, 1.0], \"showgrid\": false, \"zeroline\": false, \"tickwidth\": 1}, \"yaxis5\": {\"anchor\": \"x5\", \"domain\": [0.0, 0.039999999999999994], \"showgrid\": false, \"zeroline\": false, \"showticklabels\": false, \"range\": [0, 1]}, \"margin\": {\"l\": 120}, \"title\": {\"text\": \"Bullet Chart\"}, \"height\": 600, \"width\": 1000, \"showlegend\": false, \"barmode\": \"stack\", \"annotations\": [{\"font\": {\"color\": \"#0f0f0f\", \"size\": 13}, \"showarrow\": false, \"text\": \"<b>Revenue</b>\", \"textangle\": 0, \"x\": -0.01, \"xanchor\": \"right\", \"xref\": \"paper\", \"y\": 0.98, \"yanchor\": \"middle\", \"yref\": \"paper\"}, {\"font\": {\"color\": \"#0f0f0f\", \"size\": 13}, \"showarrow\": false, \"text\": \"<b>Profit</b>\", \"textangle\": 0, \"x\": -0.01, \"xanchor\": \"right\", \"xref\": \"paper\", \"y\": 0.74, \"yanchor\": \"middle\", \"yref\": \"paper\"}, {\"font\": {\"color\": \"#0f0f0f\", \"size\": 13}, \"showarrow\": false, \"text\": \"<b>Order Size</b>\", \"textangle\": 0, \"x\": -0.01, \"xanchor\": \"right\", \"xref\": \"paper\", \"y\": 0.5, \"yanchor\": \"middle\", \"yref\": \"paper\"}, {\"font\": {\"color\": \"#0f0f0f\", \"size\": 13}, \"showarrow\": false, \"text\": \"<b>New Customers</b>\", \"textangle\": 0, \"x\": -0.01, \"xanchor\": \"right\", \"xref\": \"paper\", \"y\": 0.26, \"yanchor\": \"middle\", \"yref\": \"paper\"}, {\"font\": {\"color\": \"#0f0f0f\", \"size\": 13}, \"showarrow\": false, \"text\": \"<b>Satisfaction</b>\", \"textangle\": 0, \"x\": -0.01, \"xanchor\": \"right\", \"xref\": \"paper\", \"y\": 0.019999999999999997, \"yanchor\": \"middle\", \"yref\": \"paper\"}]}, {\"showLink\": false, \"linkText\": \"Export to plot.ly\", \"plotlyServerURL\": \"https://plot.ly\"})});</script>"
      ]
     },
     "metadata": {},
     "output_type": "display_data"
    }
   ],
   "source": [
    "import plotly.figure_factory as ff\n",
    "\n",
    "import pandas as pd\n",
    "\n",
    "data = pd.read_json('https://cdn.rawgit.com/plotly/datasets/master/BulletData.json')\n",
    "\n",
    "measure_colors=['rgb(63,102,153)', 'rgb(120,194,195)']\n",
    "range_colors=['rgb(245,225,218)', 'rgb(241,241,241)']\n",
    "\n",
    "\n",
    "fig = ff.create_bullet(\n",
    "    data, orientation='h', markers='markers', measures='measures',\n",
    "    ranges='ranges', subtitles='subtitle', titles='title',\n",
    "    range_colors=range_colors,\n",
    "    measure_colors=measure_colors\n",
    ")\n",
    "pyo.iplot(fig, filename='bullet chart - custom colors')"
   ]
  },
  {
   "cell_type": "markdown",
   "metadata": {},
   "source": [
    "# Custom Kwargs\n"
   ]
  },
  {
   "cell_type": "code",
   "execution_count": 5,
   "metadata": {},
   "outputs": [
    {
     "data": {
      "application/vnd.plotly.v1+json": {
       "config": {
        "linkText": "Export to plot.ly",
        "plotlyServerURL": "https://plot.ly",
        "showLink": false
       },
       "data": [
        {
         "base": 0,
         "hoverinfo": "y",
         "legendgroup": "Revenue",
         "marker": {
          "color": "rgb(245.0, 245.0, 245.0)"
         },
         "name": "Revenue",
         "orientation": "v",
         "showlegend": true,
         "type": "bar",
         "uid": "a8570c8f-d6f2-46d5-9214-2cded0122302",
         "width": 2,
         "x": [
          0
         ],
         "xaxis": "x",
         "y": [
          300
         ],
         "yaxis": "y"
        },
        {
         "base": 0,
         "hoverinfo": "y",
         "legendgroup": "Revenue",
         "marker": {
          "color": "rgb(222.5, 222.5, 222.5)"
         },
         "name": "Revenue",
         "orientation": "v",
         "showlegend": false,
         "type": "bar",
         "uid": "236a7079-239c-4cc5-860a-67a0754c00df",
         "width": 2,
         "x": [
          0
         ],
         "xaxis": "x",
         "y": [
          225
         ],
         "yaxis": "y"
        },
        {
         "base": 0,
         "hoverinfo": "y",
         "legendgroup": "Revenue",
         "marker": {
          "color": "rgb(200.0, 200.0, 200.0)"
         },
         "name": "Revenue",
         "orientation": "v",
         "showlegend": false,
         "type": "bar",
         "uid": "a93fd729-9cc6-47ee-855f-eb771e8303a5",
         "width": 2,
         "x": [
          0
         ],
         "xaxis": "x",
         "y": [
          150
         ],
         "yaxis": "y"
        },
        {
         "base": 0,
         "hoverinfo": "y",
         "legendgroup": "Revenue",
         "marker": {
          "color": "rgb(176.0, 196.0, 221.0)"
         },
         "name": "Revenue",
         "orientation": "v",
         "showlegend": false,
         "type": "bar",
         "uid": "967988e6-d2cb-4f80-a88f-3a37c6832ca7",
         "width": 0.4,
         "x": [
          0.5
         ],
         "xaxis": "x",
         "y": [
          270
         ],
         "yaxis": "y"
        },
        {
         "base": 0,
         "hoverinfo": "y",
         "legendgroup": "Revenue",
         "marker": {
          "color": "rgb(31.0, 119.0, 180.0)"
         },
         "name": "Revenue",
         "orientation": "v",
         "showlegend": false,
         "type": "bar",
         "uid": "e8bebe17-9c85-4575-ac1e-eee88527b196",
         "width": 0.4,
         "x": [
          0.5
         ],
         "xaxis": "x",
         "y": [
          220
         ],
         "yaxis": "y"
        },
        {
         "hoverinfo": "y",
         "legendgroup": "Revenue",
         "marker": {
          "color": "rgb(21, 166, 20)",
          "size": 30,
          "symbol": "hourglass"
         },
         "name": "Revenue",
         "showlegend": false,
         "type": "scatter",
         "uid": "32e00554-1528-47a8-8eec-bb3598042f72",
         "x": [
          0.5
         ],
         "xaxis": "x",
         "y": [
          250
         ],
         "yaxis": "y"
        },
        {
         "base": 0,
         "hoverinfo": "y",
         "legendgroup": "Profit",
         "marker": {
          "color": "rgb(245.0, 245.0, 245.0)"
         },
         "name": "Profit",
         "orientation": "v",
         "showlegend": true,
         "type": "bar",
         "uid": "64b826a4-f9e8-4a45-bb81-b9a9d8bb744c",
         "width": 2,
         "x": [
          0
         ],
         "xaxis": "x2",
         "y": [
          30
         ],
         "yaxis": "y2"
        },
        {
         "base": 0,
         "hoverinfo": "y",
         "legendgroup": "Profit",
         "marker": {
          "color": "rgb(222.5, 222.5, 222.5)"
         },
         "name": "Profit",
         "orientation": "v",
         "showlegend": false,
         "type": "bar",
         "uid": "b80fb516-3d24-47a1-ac81-0e5fec4c27b4",
         "width": 2,
         "x": [
          0
         ],
         "xaxis": "x2",
         "y": [
          25
         ],
         "yaxis": "y2"
        },
        {
         "base": 0,
         "hoverinfo": "y",
         "legendgroup": "Profit",
         "marker": {
          "color": "rgb(200.0, 200.0, 200.0)"
         },
         "name": "Profit",
         "orientation": "v",
         "showlegend": false,
         "type": "bar",
         "uid": "7aaabf41-0ad7-4159-8029-ce71643895c1",
         "width": 2,
         "x": [
          0
         ],
         "xaxis": "x2",
         "y": [
          20
         ],
         "yaxis": "y2"
        },
        {
         "base": 0,
         "hoverinfo": "y",
         "legendgroup": "Profit",
         "marker": {
          "color": "rgb(176.0, 196.0, 221.0)"
         },
         "name": "Profit",
         "orientation": "v",
         "showlegend": false,
         "type": "bar",
         "uid": "591a8fe7-5628-4fdf-a58d-6ddbcb89c794",
         "width": 0.4,
         "x": [
          0.5
         ],
         "xaxis": "x2",
         "y": [
          23
         ],
         "yaxis": "y2"
        },
        {
         "base": 0,
         "hoverinfo": "y",
         "legendgroup": "Profit",
         "marker": {
          "color": "rgb(31.0, 119.0, 180.0)"
         },
         "name": "Profit",
         "orientation": "v",
         "showlegend": false,
         "type": "bar",
         "uid": "94117861-6415-405b-871a-72369ebe3af7",
         "width": 0.4,
         "x": [
          0.5
         ],
         "xaxis": "x2",
         "y": [
          21
         ],
         "yaxis": "y2"
        },
        {
         "hoverinfo": "y",
         "legendgroup": "Profit",
         "marker": {
          "color": "rgb(21, 166, 20)",
          "size": 30,
          "symbol": "hourglass"
         },
         "name": "Profit",
         "showlegend": false,
         "type": "scatter",
         "uid": "c1995541-dfe7-414a-a3c1-8d450c9f5915",
         "x": [
          0.5
         ],
         "xaxis": "x2",
         "y": [
          26
         ],
         "yaxis": "y2"
        },
        {
         "base": 0,
         "hoverinfo": "y",
         "legendgroup": "Order Size",
         "marker": {
          "color": "rgb(245.0, 245.0, 245.0)"
         },
         "name": "Order Size",
         "orientation": "v",
         "showlegend": true,
         "type": "bar",
         "uid": "c00313ab-90f5-4ef8-a2e6-080efa9d24e0",
         "width": 2,
         "x": [
          0
         ],
         "xaxis": "x3",
         "y": [
          600
         ],
         "yaxis": "y3"
        },
        {
         "base": 0,
         "hoverinfo": "y",
         "legendgroup": "Order Size",
         "marker": {
          "color": "rgb(222.5, 222.5, 222.5)"
         },
         "name": "Order Size",
         "orientation": "v",
         "showlegend": false,
         "type": "bar",
         "uid": "21b16480-486d-4f00-8bf8-8160321eed9d",
         "width": 2,
         "x": [
          0
         ],
         "xaxis": "x3",
         "y": [
          500
         ],
         "yaxis": "y3"
        },
        {
         "base": 0,
         "hoverinfo": "y",
         "legendgroup": "Order Size",
         "marker": {
          "color": "rgb(200.0, 200.0, 200.0)"
         },
         "name": "Order Size",
         "orientation": "v",
         "showlegend": false,
         "type": "bar",
         "uid": "6144ce9f-9207-4308-981f-f6a2b12ffdc2",
         "width": 2,
         "x": [
          0
         ],
         "xaxis": "x3",
         "y": [
          350
         ],
         "yaxis": "y3"
        },
        {
         "base": 0,
         "hoverinfo": "y",
         "legendgroup": "Order Size",
         "marker": {
          "color": "rgb(176.0, 196.0, 221.0)"
         },
         "name": "Order Size",
         "orientation": "v",
         "showlegend": false,
         "type": "bar",
         "uid": "f8950a05-f9c2-4369-8853-396d15505469",
         "width": 0.4,
         "x": [
          0.5
         ],
         "xaxis": "x3",
         "y": [
          320
         ],
         "yaxis": "y3"
        },
        {
         "base": 0,
         "hoverinfo": "y",
         "legendgroup": "Order Size",
         "marker": {
          "color": "rgb(31.0, 119.0, 180.0)"
         },
         "name": "Order Size",
         "orientation": "v",
         "showlegend": false,
         "type": "bar",
         "uid": "f4fcce4b-9667-4d79-b300-62f786a2221b",
         "width": 0.4,
         "x": [
          0.5
         ],
         "xaxis": "x3",
         "y": [
          100
         ],
         "yaxis": "y3"
        },
        {
         "hoverinfo": "y",
         "legendgroup": "Order Size",
         "marker": {
          "color": "rgb(21, 166, 20)",
          "size": 30,
          "symbol": "hourglass"
         },
         "name": "Order Size",
         "showlegend": false,
         "type": "scatter",
         "uid": "1b072ffc-aa5c-47bb-aebd-2ce23cb852ea",
         "x": [
          0.5
         ],
         "xaxis": "x3",
         "y": [
          550
         ],
         "yaxis": "y3"
        },
        {
         "base": 0,
         "hoverinfo": "y",
         "legendgroup": "New Customers",
         "marker": {
          "color": "rgb(245.0, 245.0, 245.0)"
         },
         "name": "New Customers",
         "orientation": "v",
         "showlegend": true,
         "type": "bar",
         "uid": "b5e8505c-786f-493e-8087-ebfc7ca3529d",
         "width": 2,
         "x": [
          0
         ],
         "xaxis": "x4",
         "y": [
          2500
         ],
         "yaxis": "y4"
        },
        {
         "base": 0,
         "hoverinfo": "y",
         "legendgroup": "New Customers",
         "marker": {
          "color": "rgb(222.5, 222.5, 222.5)"
         },
         "name": "New Customers",
         "orientation": "v",
         "showlegend": false,
         "type": "bar",
         "uid": "a43ca85a-c1b8-4b2c-9ace-fcff2c491c7a",
         "width": 2,
         "x": [
          0
         ],
         "xaxis": "x4",
         "y": [
          2000
         ],
         "yaxis": "y4"
        },
        {
         "base": 0,
         "hoverinfo": "y",
         "legendgroup": "New Customers",
         "marker": {
          "color": "rgb(200.0, 200.0, 200.0)"
         },
         "name": "New Customers",
         "orientation": "v",
         "showlegend": false,
         "type": "bar",
         "uid": "632d1d2a-c2de-4ba2-93bf-7a9d99337e9d",
         "width": 2,
         "x": [
          0
         ],
         "xaxis": "x4",
         "y": [
          1400
         ],
         "yaxis": "y4"
        },
        {
         "base": 0,
         "hoverinfo": "y",
         "legendgroup": "New Customers",
         "marker": {
          "color": "rgb(176.0, 196.0, 221.0)"
         },
         "name": "New Customers",
         "orientation": "v",
         "showlegend": false,
         "type": "bar",
         "uid": "61cfc3a6-8bbe-461a-ab3a-e61280bb0909",
         "width": 0.4,
         "x": [
          0.5
         ],
         "xaxis": "x4",
         "y": [
          1650
         ],
         "yaxis": "y4"
        },
        {
         "base": 0,
         "hoverinfo": "y",
         "legendgroup": "New Customers",
         "marker": {
          "color": "rgb(31.0, 119.0, 180.0)"
         },
         "name": "New Customers",
         "orientation": "v",
         "showlegend": false,
         "type": "bar",
         "uid": "b1dc9cfb-b36c-4a09-8a20-52cdd7d130f7",
         "width": 0.4,
         "x": [
          0.5
         ],
         "xaxis": "x4",
         "y": [
          1000
         ],
         "yaxis": "y4"
        },
        {
         "hoverinfo": "y",
         "legendgroup": "New Customers",
         "marker": {
          "color": "rgb(21, 166, 20)",
          "size": 30,
          "symbol": "hourglass"
         },
         "name": "New Customers",
         "showlegend": false,
         "type": "scatter",
         "uid": "8d71105b-4838-420e-9419-dab4ac07214a",
         "x": [
          0.5
         ],
         "xaxis": "x4",
         "y": [
          2100
         ],
         "yaxis": "y4"
        },
        {
         "base": 0,
         "hoverinfo": "y",
         "legendgroup": "Satisfaction",
         "marker": {
          "color": "rgb(245.0, 245.0, 245.0)"
         },
         "name": "Satisfaction",
         "orientation": "v",
         "showlegend": true,
         "type": "bar",
         "uid": "4e75d5c4-211d-4fd8-b9fc-c2468e1bec0a",
         "width": 2,
         "x": [
          0
         ],
         "xaxis": "x5",
         "y": [
          5
         ],
         "yaxis": "y5"
        },
        {
         "base": 0,
         "hoverinfo": "y",
         "legendgroup": "Satisfaction",
         "marker": {
          "color": "rgb(222.5, 222.5, 222.5)"
         },
         "name": "Satisfaction",
         "orientation": "v",
         "showlegend": false,
         "type": "bar",
         "uid": "31a2ee09-b057-482c-a5a4-b27ce19b468f",
         "width": 2,
         "x": [
          0
         ],
         "xaxis": "x5",
         "y": [
          4.25
         ],
         "yaxis": "y5"
        },
        {
         "base": 0,
         "hoverinfo": "y",
         "legendgroup": "Satisfaction",
         "marker": {
          "color": "rgb(200.0, 200.0, 200.0)"
         },
         "name": "Satisfaction",
         "orientation": "v",
         "showlegend": false,
         "type": "bar",
         "uid": "9d7861cf-f53c-4e28-9b3b-3529a3fba59c",
         "width": 2,
         "x": [
          0
         ],
         "xaxis": "x5",
         "y": [
          3.5
         ],
         "yaxis": "y5"
        },
        {
         "base": 0,
         "hoverinfo": "y",
         "legendgroup": "Satisfaction",
         "marker": {
          "color": "rgb(176.0, 196.0, 221.0)"
         },
         "name": "Satisfaction",
         "orientation": "v",
         "showlegend": false,
         "type": "bar",
         "uid": "7182bcea-3c20-400c-9847-c708b0f3a96f",
         "width": 0.4,
         "x": [
          0.5
         ],
         "xaxis": "x5",
         "y": [
          4.7
         ],
         "yaxis": "y5"
        },
        {
         "base": 0,
         "hoverinfo": "y",
         "legendgroup": "Satisfaction",
         "marker": {
          "color": "rgb(31.0, 119.0, 180.0)"
         },
         "name": "Satisfaction",
         "orientation": "v",
         "showlegend": false,
         "type": "bar",
         "uid": "b1979076-eba3-48e1-b591-8e71086ccd0f",
         "width": 0.4,
         "x": [
          0.5
         ],
         "xaxis": "x5",
         "y": [
          3.2
         ],
         "yaxis": "y5"
        },
        {
         "hoverinfo": "y",
         "legendgroup": "Satisfaction",
         "marker": {
          "color": "rgb(21, 166, 20)",
          "size": 30,
          "symbol": "hourglass"
         },
         "name": "Satisfaction",
         "showlegend": false,
         "type": "scatter",
         "uid": "4514d73c-80f5-4322-866f-65c0df9be87d",
         "x": [
          0.5
         ],
         "xaxis": "x5",
         "y": [
          4.4
         ],
         "yaxis": "y5"
        }
       ],
       "layout": {
        "annotations": [
         {
          "font": {
           "color": "#0f0f0f",
           "size": 13
          },
          "showarrow": false,
          "text": "<b>Revenue</b>",
          "textangle": 0,
          "x": 0.019999999999999997,
          "xanchor": "center",
          "xref": "paper",
          "y": 1.03,
          "yanchor": "middle",
          "yref": "paper"
         },
         {
          "font": {
           "color": "#0f0f0f",
           "size": 13
          },
          "showarrow": false,
          "text": "<b>Profit</b>",
          "textangle": 0,
          "x": 0.26,
          "xanchor": "center",
          "xref": "paper",
          "y": 1.03,
          "yanchor": "middle",
          "yref": "paper"
         },
         {
          "font": {
           "color": "#0f0f0f",
           "size": 13
          },
          "showarrow": false,
          "text": "<b>Order Size</b>",
          "textangle": 0,
          "x": 0.5,
          "xanchor": "center",
          "xref": "paper",
          "y": 1.03,
          "yanchor": "middle",
          "yref": "paper"
         },
         {
          "font": {
           "color": "#0f0f0f",
           "size": 13
          },
          "showarrow": false,
          "text": "<b>New Customers</b>",
          "textangle": 0,
          "x": 0.74,
          "xanchor": "center",
          "xref": "paper",
          "y": 1.03,
          "yanchor": "middle",
          "yref": "paper"
         },
         {
          "font": {
           "color": "#0f0f0f",
           "size": 13
          },
          "showarrow": false,
          "text": "<b>Satisfaction</b>",
          "textangle": 0,
          "x": 0.98,
          "xanchor": "center",
          "xref": "paper",
          "y": 1.03,
          "yanchor": "middle",
          "yref": "paper"
         }
        ],
        "barmode": "stack",
        "height": 600,
        "margin": {
         "l": 80
        },
        "showlegend": true,
        "title": {
         "text": "lots of kwargs"
        },
        "width": 600,
        "xaxis": {
         "anchor": "y",
         "domain": [
          0,
          0.039999999999999994
         ],
         "range": [
          0,
          1
         ],
         "showgrid": false,
         "showticklabels": false,
         "zeroline": false
        },
        "xaxis2": {
         "anchor": "y2",
         "domain": [
          0.24,
          0.27999999999999997
         ],
         "range": [
          0,
          1
         ],
         "showgrid": false,
         "showticklabels": false,
         "zeroline": false
        },
        "xaxis3": {
         "anchor": "y3",
         "domain": [
          0.48,
          0.52
         ],
         "range": [
          0,
          1
         ],
         "showgrid": false,
         "showticklabels": false,
         "zeroline": false
        },
        "xaxis4": {
         "anchor": "y4",
         "domain": [
          0.7200000000000001,
          0.7600000000000001
         ],
         "range": [
          0,
          1
         ],
         "showgrid": false,
         "showticklabels": false,
         "zeroline": false
        },
        "xaxis5": {
         "anchor": "y5",
         "domain": [
          0.96,
          1
         ],
         "range": [
          0,
          1
         ],
         "showgrid": false,
         "showticklabels": false,
         "zeroline": false
        },
        "yaxis": {
         "anchor": "x",
         "domain": [
          0,
          1
         ],
         "showgrid": false,
         "tickwidth": 1,
         "zeroline": false
        },
        "yaxis2": {
         "anchor": "x2",
         "domain": [
          0,
          1
         ],
         "showgrid": false,
         "tickwidth": 1,
         "zeroline": false
        },
        "yaxis3": {
         "anchor": "x3",
         "domain": [
          0,
          1
         ],
         "showgrid": false,
         "tickwidth": 1,
         "zeroline": false
        },
        "yaxis4": {
         "anchor": "x4",
         "domain": [
          0,
          1
         ],
         "showgrid": false,
         "tickwidth": 1,
         "zeroline": false
        },
        "yaxis5": {
         "anchor": "x5",
         "domain": [
          0,
          1
         ],
         "showgrid": false,
         "tickwidth": 1,
         "zeroline": false
        }
       }
      },
      "text/html": [
       "<div id=\"00c252cd-37c1-468f-bcaf-569ebd5b796b\" style=\"height: 600px; width: 600px;\" class=\"plotly-graph-div\"></div><script type=\"text/javascript\">require([\"plotly\"], function(Plotly) { window.PLOTLYENV=window.PLOTLYENV || {};window.PLOTLYENV.BASE_URL=\"https://plot.ly\";Plotly.newPlot(\"00c252cd-37c1-468f-bcaf-569ebd5b796b\", [{\"base\": 0, \"hoverinfo\": \"y\", \"marker\": {\"color\": \"rgb(245.0, 245.0, 245.0)\"}, \"name\": \"Revenue\", \"orientation\": \"v\", \"width\": 2, \"x\": [0], \"xaxis\": \"x\", \"y\": [300], \"yaxis\": \"y\", \"type\": \"bar\", \"uid\": \"a8570c8f-d6f2-46d5-9214-2cded0122302\", \"legendgroup\": \"Revenue\", \"showlegend\": true}, {\"base\": 0, \"hoverinfo\": \"y\", \"marker\": {\"color\": \"rgb(222.5, 222.5, 222.5)\"}, \"name\": \"Revenue\", \"orientation\": \"v\", \"width\": 2, \"x\": [0], \"xaxis\": \"x\", \"y\": [225], \"yaxis\": \"y\", \"type\": \"bar\", \"uid\": \"236a7079-239c-4cc5-860a-67a0754c00df\", \"legendgroup\": \"Revenue\", \"showlegend\": false}, {\"base\": 0, \"hoverinfo\": \"y\", \"marker\": {\"color\": \"rgb(200.0, 200.0, 200.0)\"}, \"name\": \"Revenue\", \"orientation\": \"v\", \"width\": 2, \"x\": [0], \"xaxis\": \"x\", \"y\": [150], \"yaxis\": \"y\", \"type\": \"bar\", \"uid\": \"a93fd729-9cc6-47ee-855f-eb771e8303a5\", \"legendgroup\": \"Revenue\", \"showlegend\": false}, {\"base\": 0, \"hoverinfo\": \"y\", \"marker\": {\"color\": \"rgb(176.0, 196.0, 221.0)\"}, \"name\": \"Revenue\", \"orientation\": \"v\", \"width\": 0.4, \"x\": [0.5], \"xaxis\": \"x\", \"y\": [270], \"yaxis\": \"y\", \"type\": \"bar\", \"uid\": \"967988e6-d2cb-4f80-a88f-3a37c6832ca7\", \"legendgroup\": \"Revenue\", \"showlegend\": false}, {\"base\": 0, \"hoverinfo\": \"y\", \"marker\": {\"color\": \"rgb(31.0, 119.0, 180.0)\"}, \"name\": \"Revenue\", \"orientation\": \"v\", \"width\": 0.4, \"x\": [0.5], \"xaxis\": \"x\", \"y\": [220], \"yaxis\": \"y\", \"type\": \"bar\", \"uid\": \"e8bebe17-9c85-4575-ac1e-eee88527b196\", \"legendgroup\": \"Revenue\", \"showlegend\": false}, {\"hoverinfo\": \"y\", \"marker\": {\"color\": \"rgb(21, 166, 20)\", \"size\": 30, \"symbol\": \"hourglass\"}, \"name\": \"Revenue\", \"x\": [0.5], \"xaxis\": \"x\", \"y\": [250], \"yaxis\": \"y\", \"type\": \"scatter\", \"uid\": \"32e00554-1528-47a8-8eec-bb3598042f72\", \"legendgroup\": \"Revenue\", \"showlegend\": false}, {\"base\": 0, \"hoverinfo\": \"y\", \"marker\": {\"color\": \"rgb(245.0, 245.0, 245.0)\"}, \"name\": \"Profit\", \"orientation\": \"v\", \"width\": 2, \"x\": [0], \"xaxis\": \"x2\", \"y\": [30], \"yaxis\": \"y2\", \"type\": \"bar\", \"uid\": \"64b826a4-f9e8-4a45-bb81-b9a9d8bb744c\", \"legendgroup\": \"Profit\", \"showlegend\": true}, {\"base\": 0, \"hoverinfo\": \"y\", \"marker\": {\"color\": \"rgb(222.5, 222.5, 222.5)\"}, \"name\": \"Profit\", \"orientation\": \"v\", \"width\": 2, \"x\": [0], \"xaxis\": \"x2\", \"y\": [25], \"yaxis\": \"y2\", \"type\": \"bar\", \"uid\": \"b80fb516-3d24-47a1-ac81-0e5fec4c27b4\", \"legendgroup\": \"Profit\", \"showlegend\": false}, {\"base\": 0, \"hoverinfo\": \"y\", \"marker\": {\"color\": \"rgb(200.0, 200.0, 200.0)\"}, \"name\": \"Profit\", \"orientation\": \"v\", \"width\": 2, \"x\": [0], \"xaxis\": \"x2\", \"y\": [20], \"yaxis\": \"y2\", \"type\": \"bar\", \"uid\": \"7aaabf41-0ad7-4159-8029-ce71643895c1\", \"legendgroup\": \"Profit\", \"showlegend\": false}, {\"base\": 0, \"hoverinfo\": \"y\", \"marker\": {\"color\": \"rgb(176.0, 196.0, 221.0)\"}, \"name\": \"Profit\", \"orientation\": \"v\", \"width\": 0.4, \"x\": [0.5], \"xaxis\": \"x2\", \"y\": [23], \"yaxis\": \"y2\", \"type\": \"bar\", \"uid\": \"591a8fe7-5628-4fdf-a58d-6ddbcb89c794\", \"legendgroup\": \"Profit\", \"showlegend\": false}, {\"base\": 0, \"hoverinfo\": \"y\", \"marker\": {\"color\": \"rgb(31.0, 119.0, 180.0)\"}, \"name\": \"Profit\", \"orientation\": \"v\", \"width\": 0.4, \"x\": [0.5], \"xaxis\": \"x2\", \"y\": [21], \"yaxis\": \"y2\", \"type\": \"bar\", \"uid\": \"94117861-6415-405b-871a-72369ebe3af7\", \"legendgroup\": \"Profit\", \"showlegend\": false}, {\"hoverinfo\": \"y\", \"marker\": {\"color\": \"rgb(21, 166, 20)\", \"size\": 30, \"symbol\": \"hourglass\"}, \"name\": \"Profit\", \"x\": [0.5], \"xaxis\": \"x2\", \"y\": [26], \"yaxis\": \"y2\", \"type\": \"scatter\", \"uid\": \"c1995541-dfe7-414a-a3c1-8d450c9f5915\", \"legendgroup\": \"Profit\", \"showlegend\": false}, {\"base\": 0, \"hoverinfo\": \"y\", \"marker\": {\"color\": \"rgb(245.0, 245.0, 245.0)\"}, \"name\": \"Order Size\", \"orientation\": \"v\", \"width\": 2, \"x\": [0], \"xaxis\": \"x3\", \"y\": [600], \"yaxis\": \"y3\", \"type\": \"bar\", \"uid\": \"c00313ab-90f5-4ef8-a2e6-080efa9d24e0\", \"legendgroup\": \"Order Size\", \"showlegend\": true}, {\"base\": 0, \"hoverinfo\": \"y\", \"marker\": {\"color\": \"rgb(222.5, 222.5, 222.5)\"}, \"name\": \"Order Size\", \"orientation\": \"v\", \"width\": 2, \"x\": [0], \"xaxis\": \"x3\", \"y\": [500], \"yaxis\": \"y3\", \"type\": \"bar\", \"uid\": \"21b16480-486d-4f00-8bf8-8160321eed9d\", \"legendgroup\": \"Order Size\", \"showlegend\": false}, {\"base\": 0, \"hoverinfo\": \"y\", \"marker\": {\"color\": \"rgb(200.0, 200.0, 200.0)\"}, \"name\": \"Order Size\", \"orientation\": \"v\", \"width\": 2, \"x\": [0], \"xaxis\": \"x3\", \"y\": [350], \"yaxis\": \"y3\", \"type\": \"bar\", \"uid\": \"6144ce9f-9207-4308-981f-f6a2b12ffdc2\", \"legendgroup\": \"Order Size\", \"showlegend\": false}, {\"base\": 0, \"hoverinfo\": \"y\", \"marker\": {\"color\": \"rgb(176.0, 196.0, 221.0)\"}, \"name\": \"Order Size\", \"orientation\": \"v\", \"width\": 0.4, \"x\": [0.5], \"xaxis\": \"x3\", \"y\": [320], \"yaxis\": \"y3\", \"type\": \"bar\", \"uid\": \"f8950a05-f9c2-4369-8853-396d15505469\", \"legendgroup\": \"Order Size\", \"showlegend\": false}, {\"base\": 0, \"hoverinfo\": \"y\", \"marker\": {\"color\": \"rgb(31.0, 119.0, 180.0)\"}, \"name\": \"Order Size\", \"orientation\": \"v\", \"width\": 0.4, \"x\": [0.5], \"xaxis\": \"x3\", \"y\": [100], \"yaxis\": \"y3\", \"type\": \"bar\", \"uid\": \"f4fcce4b-9667-4d79-b300-62f786a2221b\", \"legendgroup\": \"Order Size\", \"showlegend\": false}, {\"hoverinfo\": \"y\", \"marker\": {\"color\": \"rgb(21, 166, 20)\", \"size\": 30, \"symbol\": \"hourglass\"}, \"name\": \"Order Size\", \"x\": [0.5], \"xaxis\": \"x3\", \"y\": [550], \"yaxis\": \"y3\", \"type\": \"scatter\", \"uid\": \"1b072ffc-aa5c-47bb-aebd-2ce23cb852ea\", \"legendgroup\": \"Order Size\", \"showlegend\": false}, {\"base\": 0, \"hoverinfo\": \"y\", \"marker\": {\"color\": \"rgb(245.0, 245.0, 245.0)\"}, \"name\": \"New Customers\", \"orientation\": \"v\", \"width\": 2, \"x\": [0], \"xaxis\": \"x4\", \"y\": [2500], \"yaxis\": \"y4\", \"type\": \"bar\", \"uid\": \"b5e8505c-786f-493e-8087-ebfc7ca3529d\", \"legendgroup\": \"New Customers\", \"showlegend\": true}, {\"base\": 0, \"hoverinfo\": \"y\", \"marker\": {\"color\": \"rgb(222.5, 222.5, 222.5)\"}, \"name\": \"New Customers\", \"orientation\": \"v\", \"width\": 2, \"x\": [0], \"xaxis\": \"x4\", \"y\": [2000], \"yaxis\": \"y4\", \"type\": \"bar\", \"uid\": \"a43ca85a-c1b8-4b2c-9ace-fcff2c491c7a\", \"legendgroup\": \"New Customers\", \"showlegend\": false}, {\"base\": 0, \"hoverinfo\": \"y\", \"marker\": {\"color\": \"rgb(200.0, 200.0, 200.0)\"}, \"name\": \"New Customers\", \"orientation\": \"v\", \"width\": 2, \"x\": [0], \"xaxis\": \"x4\", \"y\": [1400], \"yaxis\": \"y4\", \"type\": \"bar\", \"uid\": \"632d1d2a-c2de-4ba2-93bf-7a9d99337e9d\", \"legendgroup\": \"New Customers\", \"showlegend\": false}, {\"base\": 0, \"hoverinfo\": \"y\", \"marker\": {\"color\": \"rgb(176.0, 196.0, 221.0)\"}, \"name\": \"New Customers\", \"orientation\": \"v\", \"width\": 0.4, \"x\": [0.5], \"xaxis\": \"x4\", \"y\": [1650], \"yaxis\": \"y4\", \"type\": \"bar\", \"uid\": \"61cfc3a6-8bbe-461a-ab3a-e61280bb0909\", \"legendgroup\": \"New Customers\", \"showlegend\": false}, {\"base\": 0, \"hoverinfo\": \"y\", \"marker\": {\"color\": \"rgb(31.0, 119.0, 180.0)\"}, \"name\": \"New Customers\", \"orientation\": \"v\", \"width\": 0.4, \"x\": [0.5], \"xaxis\": \"x4\", \"y\": [1000], \"yaxis\": \"y4\", \"type\": \"bar\", \"uid\": \"b1dc9cfb-b36c-4a09-8a20-52cdd7d130f7\", \"legendgroup\": \"New Customers\", \"showlegend\": false}, {\"hoverinfo\": \"y\", \"marker\": {\"color\": \"rgb(21, 166, 20)\", \"size\": 30, \"symbol\": \"hourglass\"}, \"name\": \"New Customers\", \"x\": [0.5], \"xaxis\": \"x4\", \"y\": [2100], \"yaxis\": \"y4\", \"type\": \"scatter\", \"uid\": \"8d71105b-4838-420e-9419-dab4ac07214a\", \"legendgroup\": \"New Customers\", \"showlegend\": false}, {\"base\": 0, \"hoverinfo\": \"y\", \"marker\": {\"color\": \"rgb(245.0, 245.0, 245.0)\"}, \"name\": \"Satisfaction\", \"orientation\": \"v\", \"width\": 2, \"x\": [0], \"xaxis\": \"x5\", \"y\": [5], \"yaxis\": \"y5\", \"type\": \"bar\", \"uid\": \"4e75d5c4-211d-4fd8-b9fc-c2468e1bec0a\", \"legendgroup\": \"Satisfaction\", \"showlegend\": true}, {\"base\": 0, \"hoverinfo\": \"y\", \"marker\": {\"color\": \"rgb(222.5, 222.5, 222.5)\"}, \"name\": \"Satisfaction\", \"orientation\": \"v\", \"width\": 2, \"x\": [0], \"xaxis\": \"x5\", \"y\": [4.25], \"yaxis\": \"y5\", \"type\": \"bar\", \"uid\": \"31a2ee09-b057-482c-a5a4-b27ce19b468f\", \"legendgroup\": \"Satisfaction\", \"showlegend\": false}, {\"base\": 0, \"hoverinfo\": \"y\", \"marker\": {\"color\": \"rgb(200.0, 200.0, 200.0)\"}, \"name\": \"Satisfaction\", \"orientation\": \"v\", \"width\": 2, \"x\": [0], \"xaxis\": \"x5\", \"y\": [3.5], \"yaxis\": \"y5\", \"type\": \"bar\", \"uid\": \"9d7861cf-f53c-4e28-9b3b-3529a3fba59c\", \"legendgroup\": \"Satisfaction\", \"showlegend\": false}, {\"base\": 0, \"hoverinfo\": \"y\", \"marker\": {\"color\": \"rgb(176.0, 196.0, 221.0)\"}, \"name\": \"Satisfaction\", \"orientation\": \"v\", \"width\": 0.4, \"x\": [0.5], \"xaxis\": \"x5\", \"y\": [4.7], \"yaxis\": \"y5\", \"type\": \"bar\", \"uid\": \"7182bcea-3c20-400c-9847-c708b0f3a96f\", \"legendgroup\": \"Satisfaction\", \"showlegend\": false}, {\"base\": 0, \"hoverinfo\": \"y\", \"marker\": {\"color\": \"rgb(31.0, 119.0, 180.0)\"}, \"name\": \"Satisfaction\", \"orientation\": \"v\", \"width\": 0.4, \"x\": [0.5], \"xaxis\": \"x5\", \"y\": [3.2], \"yaxis\": \"y5\", \"type\": \"bar\", \"uid\": \"b1979076-eba3-48e1-b591-8e71086ccd0f\", \"legendgroup\": \"Satisfaction\", \"showlegend\": false}, {\"hoverinfo\": \"y\", \"marker\": {\"color\": \"rgb(21, 166, 20)\", \"size\": 30, \"symbol\": \"hourglass\"}, \"name\": \"Satisfaction\", \"x\": [0.5], \"xaxis\": \"x5\", \"y\": [4.4], \"yaxis\": \"y5\", \"type\": \"scatter\", \"uid\": \"4514d73c-80f5-4322-866f-65c0df9be87d\", \"legendgroup\": \"Satisfaction\", \"showlegend\": false}], {\"xaxis\": {\"anchor\": \"y\", \"domain\": [0.0, 0.039999999999999994], \"showgrid\": false, \"zeroline\": false, \"showticklabels\": false, \"range\": [0, 1]}, \"yaxis\": {\"anchor\": \"x\", \"domain\": [0.0, 1.0], \"showgrid\": false, \"zeroline\": false, \"tickwidth\": 1}, \"xaxis2\": {\"anchor\": \"y2\", \"domain\": [0.24, 0.27999999999999997], \"showgrid\": false, \"zeroline\": false, \"showticklabels\": false, \"range\": [0, 1]}, \"yaxis2\": {\"anchor\": \"x2\", \"domain\": [0.0, 1.0], \"showgrid\": false, \"zeroline\": false, \"tickwidth\": 1}, \"xaxis3\": {\"anchor\": \"y3\", \"domain\": [0.48, 0.52], \"showgrid\": false, \"zeroline\": false, \"showticklabels\": false, \"range\": [0, 1]}, \"yaxis3\": {\"anchor\": \"x3\", \"domain\": [0.0, 1.0], \"showgrid\": false, \"zeroline\": false, \"tickwidth\": 1}, \"xaxis4\": {\"anchor\": \"y4\", \"domain\": [0.7200000000000001, 0.7600000000000001], \"showgrid\": false, \"zeroline\": false, \"showticklabels\": false, \"range\": [0, 1]}, \"yaxis4\": {\"anchor\": \"x4\", \"domain\": [0.0, 1.0], \"showgrid\": false, \"zeroline\": false, \"tickwidth\": 1}, \"xaxis5\": {\"anchor\": \"y5\", \"domain\": [0.96, 1.0], \"showgrid\": false, \"zeroline\": false, \"showticklabels\": false, \"range\": [0, 1]}, \"yaxis5\": {\"anchor\": \"x5\", \"domain\": [0.0, 1.0], \"showgrid\": false, \"zeroline\": false, \"tickwidth\": 1}, \"margin\": {\"l\": 80}, \"title\": {\"text\": \"lots of kwargs\"}, \"height\": 600, \"width\": 600, \"showlegend\": true, \"barmode\": \"stack\", \"annotations\": [{\"font\": {\"color\": \"#0f0f0f\", \"size\": 13}, \"showarrow\": false, \"text\": \"<b>Revenue</b>\", \"textangle\": 0, \"x\": 0.019999999999999997, \"xanchor\": \"center\", \"xref\": \"paper\", \"y\": 1.03, \"yanchor\": \"middle\", \"yref\": \"paper\"}, {\"font\": {\"color\": \"#0f0f0f\", \"size\": 13}, \"showarrow\": false, \"text\": \"<b>Profit</b>\", \"textangle\": 0, \"x\": 0.26, \"xanchor\": \"center\", \"xref\": \"paper\", \"y\": 1.03, \"yanchor\": \"middle\", \"yref\": \"paper\"}, {\"font\": {\"color\": \"#0f0f0f\", \"size\": 13}, \"showarrow\": false, \"text\": \"<b>Order Size</b>\", \"textangle\": 0, \"x\": 0.5, \"xanchor\": \"center\", \"xref\": \"paper\", \"y\": 1.03, \"yanchor\": \"middle\", \"yref\": \"paper\"}, {\"font\": {\"color\": \"#0f0f0f\", \"size\": 13}, \"showarrow\": false, \"text\": \"<b>New Customers</b>\", \"textangle\": 0, \"x\": 0.74, \"xanchor\": \"center\", \"xref\": \"paper\", \"y\": 1.03, \"yanchor\": \"middle\", \"yref\": \"paper\"}, {\"font\": {\"color\": \"#0f0f0f\", \"size\": 13}, \"showarrow\": false, \"text\": \"<b>Satisfaction</b>\", \"textangle\": 0, \"x\": 0.98, \"xanchor\": \"center\", \"xref\": \"paper\", \"y\": 1.03, \"yanchor\": \"middle\", \"yref\": \"paper\"}]}, {\"showLink\": false, \"linkText\": \"Export to plot.ly\", \"plotlyServerURL\": \"https://plot.ly\"})});</script>"
      ],
      "text/vnd.plotly.v1+html": [
       "<div id=\"00c252cd-37c1-468f-bcaf-569ebd5b796b\" style=\"height: 600px; width: 600px;\" class=\"plotly-graph-div\"></div><script type=\"text/javascript\">require([\"plotly\"], function(Plotly) { window.PLOTLYENV=window.PLOTLYENV || {};window.PLOTLYENV.BASE_URL=\"https://plot.ly\";Plotly.newPlot(\"00c252cd-37c1-468f-bcaf-569ebd5b796b\", [{\"base\": 0, \"hoverinfo\": \"y\", \"marker\": {\"color\": \"rgb(245.0, 245.0, 245.0)\"}, \"name\": \"Revenue\", \"orientation\": \"v\", \"width\": 2, \"x\": [0], \"xaxis\": \"x\", \"y\": [300], \"yaxis\": \"y\", \"type\": \"bar\", \"uid\": \"a8570c8f-d6f2-46d5-9214-2cded0122302\", \"legendgroup\": \"Revenue\", \"showlegend\": true}, {\"base\": 0, \"hoverinfo\": \"y\", \"marker\": {\"color\": \"rgb(222.5, 222.5, 222.5)\"}, \"name\": \"Revenue\", \"orientation\": \"v\", \"width\": 2, \"x\": [0], \"xaxis\": \"x\", \"y\": [225], \"yaxis\": \"y\", \"type\": \"bar\", \"uid\": \"236a7079-239c-4cc5-860a-67a0754c00df\", \"legendgroup\": \"Revenue\", \"showlegend\": false}, {\"base\": 0, \"hoverinfo\": \"y\", \"marker\": {\"color\": \"rgb(200.0, 200.0, 200.0)\"}, \"name\": \"Revenue\", \"orientation\": \"v\", \"width\": 2, \"x\": [0], \"xaxis\": \"x\", \"y\": [150], \"yaxis\": \"y\", \"type\": \"bar\", \"uid\": \"a93fd729-9cc6-47ee-855f-eb771e8303a5\", \"legendgroup\": \"Revenue\", \"showlegend\": false}, {\"base\": 0, \"hoverinfo\": \"y\", \"marker\": {\"color\": \"rgb(176.0, 196.0, 221.0)\"}, \"name\": \"Revenue\", \"orientation\": \"v\", \"width\": 0.4, \"x\": [0.5], \"xaxis\": \"x\", \"y\": [270], \"yaxis\": \"y\", \"type\": \"bar\", \"uid\": \"967988e6-d2cb-4f80-a88f-3a37c6832ca7\", \"legendgroup\": \"Revenue\", \"showlegend\": false}, {\"base\": 0, \"hoverinfo\": \"y\", \"marker\": {\"color\": \"rgb(31.0, 119.0, 180.0)\"}, \"name\": \"Revenue\", \"orientation\": \"v\", \"width\": 0.4, \"x\": [0.5], \"xaxis\": \"x\", \"y\": [220], \"yaxis\": \"y\", \"type\": \"bar\", \"uid\": \"e8bebe17-9c85-4575-ac1e-eee88527b196\", \"legendgroup\": \"Revenue\", \"showlegend\": false}, {\"hoverinfo\": \"y\", \"marker\": {\"color\": \"rgb(21, 166, 20)\", \"size\": 30, \"symbol\": \"hourglass\"}, \"name\": \"Revenue\", \"x\": [0.5], \"xaxis\": \"x\", \"y\": [250], \"yaxis\": \"y\", \"type\": \"scatter\", \"uid\": \"32e00554-1528-47a8-8eec-bb3598042f72\", \"legendgroup\": \"Revenue\", \"showlegend\": false}, {\"base\": 0, \"hoverinfo\": \"y\", \"marker\": {\"color\": \"rgb(245.0, 245.0, 245.0)\"}, \"name\": \"Profit\", \"orientation\": \"v\", \"width\": 2, \"x\": [0], \"xaxis\": \"x2\", \"y\": [30], \"yaxis\": \"y2\", \"type\": \"bar\", \"uid\": \"64b826a4-f9e8-4a45-bb81-b9a9d8bb744c\", \"legendgroup\": \"Profit\", \"showlegend\": true}, {\"base\": 0, \"hoverinfo\": \"y\", \"marker\": {\"color\": \"rgb(222.5, 222.5, 222.5)\"}, \"name\": \"Profit\", \"orientation\": \"v\", \"width\": 2, \"x\": [0], \"xaxis\": \"x2\", \"y\": [25], \"yaxis\": \"y2\", \"type\": \"bar\", \"uid\": \"b80fb516-3d24-47a1-ac81-0e5fec4c27b4\", \"legendgroup\": \"Profit\", \"showlegend\": false}, {\"base\": 0, \"hoverinfo\": \"y\", \"marker\": {\"color\": \"rgb(200.0, 200.0, 200.0)\"}, \"name\": \"Profit\", \"orientation\": \"v\", \"width\": 2, \"x\": [0], \"xaxis\": \"x2\", \"y\": [20], \"yaxis\": \"y2\", \"type\": \"bar\", \"uid\": \"7aaabf41-0ad7-4159-8029-ce71643895c1\", \"legendgroup\": \"Profit\", \"showlegend\": false}, {\"base\": 0, \"hoverinfo\": \"y\", \"marker\": {\"color\": \"rgb(176.0, 196.0, 221.0)\"}, \"name\": \"Profit\", \"orientation\": \"v\", \"width\": 0.4, \"x\": [0.5], \"xaxis\": \"x2\", \"y\": [23], \"yaxis\": \"y2\", \"type\": \"bar\", \"uid\": \"591a8fe7-5628-4fdf-a58d-6ddbcb89c794\", \"legendgroup\": \"Profit\", \"showlegend\": false}, {\"base\": 0, \"hoverinfo\": \"y\", \"marker\": {\"color\": \"rgb(31.0, 119.0, 180.0)\"}, \"name\": \"Profit\", \"orientation\": \"v\", \"width\": 0.4, \"x\": [0.5], \"xaxis\": \"x2\", \"y\": [21], \"yaxis\": \"y2\", \"type\": \"bar\", \"uid\": \"94117861-6415-405b-871a-72369ebe3af7\", \"legendgroup\": \"Profit\", \"showlegend\": false}, {\"hoverinfo\": \"y\", \"marker\": {\"color\": \"rgb(21, 166, 20)\", \"size\": 30, \"symbol\": \"hourglass\"}, \"name\": \"Profit\", \"x\": [0.5], \"xaxis\": \"x2\", \"y\": [26], \"yaxis\": \"y2\", \"type\": \"scatter\", \"uid\": \"c1995541-dfe7-414a-a3c1-8d450c9f5915\", \"legendgroup\": \"Profit\", \"showlegend\": false}, {\"base\": 0, \"hoverinfo\": \"y\", \"marker\": {\"color\": \"rgb(245.0, 245.0, 245.0)\"}, \"name\": \"Order Size\", \"orientation\": \"v\", \"width\": 2, \"x\": [0], \"xaxis\": \"x3\", \"y\": [600], \"yaxis\": \"y3\", \"type\": \"bar\", \"uid\": \"c00313ab-90f5-4ef8-a2e6-080efa9d24e0\", \"legendgroup\": \"Order Size\", \"showlegend\": true}, {\"base\": 0, \"hoverinfo\": \"y\", \"marker\": {\"color\": \"rgb(222.5, 222.5, 222.5)\"}, \"name\": \"Order Size\", \"orientation\": \"v\", \"width\": 2, \"x\": [0], \"xaxis\": \"x3\", \"y\": [500], \"yaxis\": \"y3\", \"type\": \"bar\", \"uid\": \"21b16480-486d-4f00-8bf8-8160321eed9d\", \"legendgroup\": \"Order Size\", \"showlegend\": false}, {\"base\": 0, \"hoverinfo\": \"y\", \"marker\": {\"color\": \"rgb(200.0, 200.0, 200.0)\"}, \"name\": \"Order Size\", \"orientation\": \"v\", \"width\": 2, \"x\": [0], \"xaxis\": \"x3\", \"y\": [350], \"yaxis\": \"y3\", \"type\": \"bar\", \"uid\": \"6144ce9f-9207-4308-981f-f6a2b12ffdc2\", \"legendgroup\": \"Order Size\", \"showlegend\": false}, {\"base\": 0, \"hoverinfo\": \"y\", \"marker\": {\"color\": \"rgb(176.0, 196.0, 221.0)\"}, \"name\": \"Order Size\", \"orientation\": \"v\", \"width\": 0.4, \"x\": [0.5], \"xaxis\": \"x3\", \"y\": [320], \"yaxis\": \"y3\", \"type\": \"bar\", \"uid\": \"f8950a05-f9c2-4369-8853-396d15505469\", \"legendgroup\": \"Order Size\", \"showlegend\": false}, {\"base\": 0, \"hoverinfo\": \"y\", \"marker\": {\"color\": \"rgb(31.0, 119.0, 180.0)\"}, \"name\": \"Order Size\", \"orientation\": \"v\", \"width\": 0.4, \"x\": [0.5], \"xaxis\": \"x3\", \"y\": [100], \"yaxis\": \"y3\", \"type\": \"bar\", \"uid\": \"f4fcce4b-9667-4d79-b300-62f786a2221b\", \"legendgroup\": \"Order Size\", \"showlegend\": false}, {\"hoverinfo\": \"y\", \"marker\": {\"color\": \"rgb(21, 166, 20)\", \"size\": 30, \"symbol\": \"hourglass\"}, \"name\": \"Order Size\", \"x\": [0.5], \"xaxis\": \"x3\", \"y\": [550], \"yaxis\": \"y3\", \"type\": \"scatter\", \"uid\": \"1b072ffc-aa5c-47bb-aebd-2ce23cb852ea\", \"legendgroup\": \"Order Size\", \"showlegend\": false}, {\"base\": 0, \"hoverinfo\": \"y\", \"marker\": {\"color\": \"rgb(245.0, 245.0, 245.0)\"}, \"name\": \"New Customers\", \"orientation\": \"v\", \"width\": 2, \"x\": [0], \"xaxis\": \"x4\", \"y\": [2500], \"yaxis\": \"y4\", \"type\": \"bar\", \"uid\": \"b5e8505c-786f-493e-8087-ebfc7ca3529d\", \"legendgroup\": \"New Customers\", \"showlegend\": true}, {\"base\": 0, \"hoverinfo\": \"y\", \"marker\": {\"color\": \"rgb(222.5, 222.5, 222.5)\"}, \"name\": \"New Customers\", \"orientation\": \"v\", \"width\": 2, \"x\": [0], \"xaxis\": \"x4\", \"y\": [2000], \"yaxis\": \"y4\", \"type\": \"bar\", \"uid\": \"a43ca85a-c1b8-4b2c-9ace-fcff2c491c7a\", \"legendgroup\": \"New Customers\", \"showlegend\": false}, {\"base\": 0, \"hoverinfo\": \"y\", \"marker\": {\"color\": \"rgb(200.0, 200.0, 200.0)\"}, \"name\": \"New Customers\", \"orientation\": \"v\", \"width\": 2, \"x\": [0], \"xaxis\": \"x4\", \"y\": [1400], \"yaxis\": \"y4\", \"type\": \"bar\", \"uid\": \"632d1d2a-c2de-4ba2-93bf-7a9d99337e9d\", \"legendgroup\": \"New Customers\", \"showlegend\": false}, {\"base\": 0, \"hoverinfo\": \"y\", \"marker\": {\"color\": \"rgb(176.0, 196.0, 221.0)\"}, \"name\": \"New Customers\", \"orientation\": \"v\", \"width\": 0.4, \"x\": [0.5], \"xaxis\": \"x4\", \"y\": [1650], \"yaxis\": \"y4\", \"type\": \"bar\", \"uid\": \"61cfc3a6-8bbe-461a-ab3a-e61280bb0909\", \"legendgroup\": \"New Customers\", \"showlegend\": false}, {\"base\": 0, \"hoverinfo\": \"y\", \"marker\": {\"color\": \"rgb(31.0, 119.0, 180.0)\"}, \"name\": \"New Customers\", \"orientation\": \"v\", \"width\": 0.4, \"x\": [0.5], \"xaxis\": \"x4\", \"y\": [1000], \"yaxis\": \"y4\", \"type\": \"bar\", \"uid\": \"b1dc9cfb-b36c-4a09-8a20-52cdd7d130f7\", \"legendgroup\": \"New Customers\", \"showlegend\": false}, {\"hoverinfo\": \"y\", \"marker\": {\"color\": \"rgb(21, 166, 20)\", \"size\": 30, \"symbol\": \"hourglass\"}, \"name\": \"New Customers\", \"x\": [0.5], \"xaxis\": \"x4\", \"y\": [2100], \"yaxis\": \"y4\", \"type\": \"scatter\", \"uid\": \"8d71105b-4838-420e-9419-dab4ac07214a\", \"legendgroup\": \"New Customers\", \"showlegend\": false}, {\"base\": 0, \"hoverinfo\": \"y\", \"marker\": {\"color\": \"rgb(245.0, 245.0, 245.0)\"}, \"name\": \"Satisfaction\", \"orientation\": \"v\", \"width\": 2, \"x\": [0], \"xaxis\": \"x5\", \"y\": [5], \"yaxis\": \"y5\", \"type\": \"bar\", \"uid\": \"4e75d5c4-211d-4fd8-b9fc-c2468e1bec0a\", \"legendgroup\": \"Satisfaction\", \"showlegend\": true}, {\"base\": 0, \"hoverinfo\": \"y\", \"marker\": {\"color\": \"rgb(222.5, 222.5, 222.5)\"}, \"name\": \"Satisfaction\", \"orientation\": \"v\", \"width\": 2, \"x\": [0], \"xaxis\": \"x5\", \"y\": [4.25], \"yaxis\": \"y5\", \"type\": \"bar\", \"uid\": \"31a2ee09-b057-482c-a5a4-b27ce19b468f\", \"legendgroup\": \"Satisfaction\", \"showlegend\": false}, {\"base\": 0, \"hoverinfo\": \"y\", \"marker\": {\"color\": \"rgb(200.0, 200.0, 200.0)\"}, \"name\": \"Satisfaction\", \"orientation\": \"v\", \"width\": 2, \"x\": [0], \"xaxis\": \"x5\", \"y\": [3.5], \"yaxis\": \"y5\", \"type\": \"bar\", \"uid\": \"9d7861cf-f53c-4e28-9b3b-3529a3fba59c\", \"legendgroup\": \"Satisfaction\", \"showlegend\": false}, {\"base\": 0, \"hoverinfo\": \"y\", \"marker\": {\"color\": \"rgb(176.0, 196.0, 221.0)\"}, \"name\": \"Satisfaction\", \"orientation\": \"v\", \"width\": 0.4, \"x\": [0.5], \"xaxis\": \"x5\", \"y\": [4.7], \"yaxis\": \"y5\", \"type\": \"bar\", \"uid\": \"7182bcea-3c20-400c-9847-c708b0f3a96f\", \"legendgroup\": \"Satisfaction\", \"showlegend\": false}, {\"base\": 0, \"hoverinfo\": \"y\", \"marker\": {\"color\": \"rgb(31.0, 119.0, 180.0)\"}, \"name\": \"Satisfaction\", \"orientation\": \"v\", \"width\": 0.4, \"x\": [0.5], \"xaxis\": \"x5\", \"y\": [3.2], \"yaxis\": \"y5\", \"type\": \"bar\", \"uid\": \"b1979076-eba3-48e1-b591-8e71086ccd0f\", \"legendgroup\": \"Satisfaction\", \"showlegend\": false}, {\"hoverinfo\": \"y\", \"marker\": {\"color\": \"rgb(21, 166, 20)\", \"size\": 30, \"symbol\": \"hourglass\"}, \"name\": \"Satisfaction\", \"x\": [0.5], \"xaxis\": \"x5\", \"y\": [4.4], \"yaxis\": \"y5\", \"type\": \"scatter\", \"uid\": \"4514d73c-80f5-4322-866f-65c0df9be87d\", \"legendgroup\": \"Satisfaction\", \"showlegend\": false}], {\"xaxis\": {\"anchor\": \"y\", \"domain\": [0.0, 0.039999999999999994], \"showgrid\": false, \"zeroline\": false, \"showticklabels\": false, \"range\": [0, 1]}, \"yaxis\": {\"anchor\": \"x\", \"domain\": [0.0, 1.0], \"showgrid\": false, \"zeroline\": false, \"tickwidth\": 1}, \"xaxis2\": {\"anchor\": \"y2\", \"domain\": [0.24, 0.27999999999999997], \"showgrid\": false, \"zeroline\": false, \"showticklabels\": false, \"range\": [0, 1]}, \"yaxis2\": {\"anchor\": \"x2\", \"domain\": [0.0, 1.0], \"showgrid\": false, \"zeroline\": false, \"tickwidth\": 1}, \"xaxis3\": {\"anchor\": \"y3\", \"domain\": [0.48, 0.52], \"showgrid\": false, \"zeroline\": false, \"showticklabels\": false, \"range\": [0, 1]}, \"yaxis3\": {\"anchor\": \"x3\", \"domain\": [0.0, 1.0], \"showgrid\": false, \"zeroline\": false, \"tickwidth\": 1}, \"xaxis4\": {\"anchor\": \"y4\", \"domain\": [0.7200000000000001, 0.7600000000000001], \"showgrid\": false, \"zeroline\": false, \"showticklabels\": false, \"range\": [0, 1]}, \"yaxis4\": {\"anchor\": \"x4\", \"domain\": [0.0, 1.0], \"showgrid\": false, \"zeroline\": false, \"tickwidth\": 1}, \"xaxis5\": {\"anchor\": \"y5\", \"domain\": [0.96, 1.0], \"showgrid\": false, \"zeroline\": false, \"showticklabels\": false, \"range\": [0, 1]}, \"yaxis5\": {\"anchor\": \"x5\", \"domain\": [0.0, 1.0], \"showgrid\": false, \"zeroline\": false, \"tickwidth\": 1}, \"margin\": {\"l\": 80}, \"title\": {\"text\": \"lots of kwargs\"}, \"height\": 600, \"width\": 600, \"showlegend\": true, \"barmode\": \"stack\", \"annotations\": [{\"font\": {\"color\": \"#0f0f0f\", \"size\": 13}, \"showarrow\": false, \"text\": \"<b>Revenue</b>\", \"textangle\": 0, \"x\": 0.019999999999999997, \"xanchor\": \"center\", \"xref\": \"paper\", \"y\": 1.03, \"yanchor\": \"middle\", \"yref\": \"paper\"}, {\"font\": {\"color\": \"#0f0f0f\", \"size\": 13}, \"showarrow\": false, \"text\": \"<b>Profit</b>\", \"textangle\": 0, \"x\": 0.26, \"xanchor\": \"center\", \"xref\": \"paper\", \"y\": 1.03, \"yanchor\": \"middle\", \"yref\": \"paper\"}, {\"font\": {\"color\": \"#0f0f0f\", \"size\": 13}, \"showarrow\": false, \"text\": \"<b>Order Size</b>\", \"textangle\": 0, \"x\": 0.5, \"xanchor\": \"center\", \"xref\": \"paper\", \"y\": 1.03, \"yanchor\": \"middle\", \"yref\": \"paper\"}, {\"font\": {\"color\": \"#0f0f0f\", \"size\": 13}, \"showarrow\": false, \"text\": \"<b>New Customers</b>\", \"textangle\": 0, \"x\": 0.74, \"xanchor\": \"center\", \"xref\": \"paper\", \"y\": 1.03, \"yanchor\": \"middle\", \"yref\": \"paper\"}, {\"font\": {\"color\": \"#0f0f0f\", \"size\": 13}, \"showarrow\": false, \"text\": \"<b>Satisfaction</b>\", \"textangle\": 0, \"x\": 0.98, \"xanchor\": \"center\", \"xref\": \"paper\", \"y\": 1.03, \"yanchor\": \"middle\", \"yref\": \"paper\"}]}, {\"showLink\": false, \"linkText\": \"Export to plot.ly\", \"plotlyServerURL\": \"https://plot.ly\"})});</script>"
      ]
     },
     "metadata": {},
     "output_type": "display_data"
    }
   ],
   "source": [
    "import plotly.figure_factory as ff\n",
    "\n",
    "import pandas as pd\n",
    "\n",
    "data = pd.read_json('https://cdn.rawgit.com/plotly/datasets/master/BulletData.json')\n",
    "\n",
    "fig = ff.create_bullet(\n",
    "    data, orientation='v', markers='markers', measures='measures',\n",
    "    ranges='ranges', subtitles='subtitle', titles='title',\n",
    "    title='lots of kwargs', width=600, showlegend=True,\n",
    "    scatter_options={'marker': {'size': 30,\n",
    "                                'color': 'rgb(21, 166, 20)',\n",
    "                                'symbol': 'hourglass'}}\n",
    "    \n",
    ")\n",
    "\n",
    "# group legends\n",
    "chart_elements = 6  # 3 grey bars, 2 blue bars, 1 marker\n",
    "for cols, title in enumerate(data['title']):\n",
    "    for ele in range(chart_elements):\n",
    "        if ele == 0:\n",
    "            showlegend = True\n",
    "        else:\n",
    "            showlegend = False\n",
    "        fig['data'][cols * 6 + ele].update(\n",
    "            {\n",
    "                'legendgroup': '{}'.format(title),\n",
    "                'name': title,\n",
    "                'showlegend': showlegend\n",
    "            }\n",
    "        )\n",
    "\n",
    "pyo.iplot(fig, filename='bullet chart - custom kwargs')"
   ]
  },
  {
   "cell_type": "code",
   "execution_count": null,
   "metadata": {},
   "outputs": [],
   "source": []
  }
 ],
 "metadata": {
  "kernelspec": {
   "display_name": "Python 3",
   "language": "python",
   "name": "python3"
  },
  "language_info": {
   "codemirror_mode": {
    "name": "ipython",
    "version": 3
   },
   "file_extension": ".py",
   "mimetype": "text/x-python",
   "name": "python",
   "nbconvert_exporter": "python",
   "pygments_lexer": "ipython3",
   "version": "3.6.8"
  }
 },
 "nbformat": 4,
 "nbformat_minor": 1
}
