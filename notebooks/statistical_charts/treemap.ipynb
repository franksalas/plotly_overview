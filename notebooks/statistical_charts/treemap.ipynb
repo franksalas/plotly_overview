{
 "cells": [
  {
   "cell_type": "markdown",
   "metadata": {},
   "source": [
    "# Treemaps in Python\n",
    "- https://plot.ly/python/treemaps/"
   ]
  },
  {
   "cell_type": "code",
   "execution_count": 1,
   "metadata": {},
   "outputs": [
    {
     "data": {
      "text/html": [
       "<script type=\"text/javascript\">window.PlotlyConfig = {MathJaxConfig: 'local'};</script><script type=\"text/javascript\">if (window.MathJax) {MathJax.Hub.Config({SVG: {font: \"STIX-Web\"}});}</script><script>requirejs.config({paths: { 'plotly': ['https://cdn.plot.ly/plotly-latest.min']},});if(!window._Plotly) {require(['plotly'],function(plotly) {window._Plotly=plotly;});}</script>"
      ],
      "text/vnd.plotly.v1+html": [
       "<script type=\"text/javascript\">window.PlotlyConfig = {MathJaxConfig: 'local'};</script><script type=\"text/javascript\">if (window.MathJax) {MathJax.Hub.Config({SVG: {font: \"STIX-Web\"}});}</script><script>requirejs.config({paths: { 'plotly': ['https://cdn.plot.ly/plotly-latest.min']},});if(!window._Plotly) {require(['plotly'],function(plotly) {window._Plotly=plotly;});}</script>"
      ]
     },
     "metadata": {},
     "output_type": "display_data"
    }
   ],
   "source": [
    "import plotly\n",
    "import plotly.offline as pyo\n",
    "pyo.init_notebook_mode(connected=True)"
   ]
  },
  {
   "cell_type": "code",
   "execution_count": 2,
   "metadata": {},
   "outputs": [
    {
     "name": "stdout",
     "output_type": "stream",
     "text": [
      "Collecting squarify\n",
      "  Downloading https://files.pythonhosted.org/packages/4e/f2/1f47d7f8c34e3c5f45de8b7fad06947558964e05ce6cccc94cf2066bd22b/squarify-0.4.2-py3-none-any.whl\n",
      "Installing collected packages: squarify\n",
      "Successfully installed squarify-0.4.2\n"
     ]
    }
   ],
   "source": [
    "!pip install squarify"
   ]
  },
  {
   "cell_type": "markdown",
   "metadata": {},
   "source": [
    "# Simple Example with Plotly and Squarify\n",
    "Define the coordinate system for the returned rectangles: these values will range from x to x + width and y to y + height. Then define your treemap values. The sum of the treemap values must equal the total area to be laid out (i.e. width * height). The values must be sorted in descending order and must be positive."
   ]
  },
  {
   "cell_type": "code",
   "execution_count": 3,
   "metadata": {},
   "outputs": [
    {
     "data": {
      "application/vnd.plotly.v1+json": {
       "config": {
        "linkText": "Export to plot.ly",
        "plotlyServerURL": "https://plot.ly",
        "showLink": false
       },
       "data": [
        {
         "mode": "text",
         "text": [
          "500",
          "433",
          "78",
          "25",
          "25",
          "7"
         ],
         "type": "scatter",
         "uid": "49d261fd-7f2e-43c7-8fdb-d5a83dac91c6",
         "x": [
          43.67977528089887,
          43.67977528089887,
          93.67977528089887,
          93.67977528089887,
          93.67977528089887,
          93.67977528089881
         ],
         "y": [
          26.795284030010723,
          76.79528403001073,
          28.888888888888875,
          67.03703703703701,
          85.55555555555551,
          97.40740740740739
         ]
        }
       ],
       "layout": {
        "annotations": [
         {
          "showarrow": false,
          "text": "500",
          "x": 43.67977528089887,
          "y": 26.795284030010723
         },
         {
          "showarrow": false,
          "text": "433",
          "x": 43.67977528089887,
          "y": 76.79528403001073
         },
         {
          "showarrow": false,
          "text": "78",
          "x": 93.67977528089887,
          "y": 28.888888888888875
         },
         {
          "showarrow": false,
          "text": "25",
          "x": 93.67977528089887,
          "y": 67.03703703703701
         },
         {
          "showarrow": false,
          "text": "25",
          "x": 93.67977528089887,
          "y": 85.55555555555551
         },
         {
          "showarrow": false,
          "text": "7",
          "x": 93.67977528089881,
          "y": 97.40740740740739
         }
        ],
        "height": 700,
        "hovermode": "closest",
        "shapes": [
         {
          "fillcolor": "rgb(166,206,227)",
          "line": {
           "width": 2
          },
          "type": "rect",
          "x0": 0,
          "x1": 87.35955056179775,
          "y0": 0,
          "y1": 53.59056806002145
         },
         {
          "fillcolor": "rgb(31,120,180)",
          "line": {
           "width": 2
          },
          "type": "rect",
          "x0": 0,
          "x1": 87.35955056179775,
          "y0": 53.59056806002145,
          "y1": 100.00000000000001
         },
         {
          "fillcolor": "rgb(178,223,138)",
          "line": {
           "width": 2
          },
          "type": "rect",
          "x0": 87.35955056179775,
          "x1": 100,
          "y0": 0,
          "y1": 57.77777777777775
         },
         {
          "fillcolor": "rgb(51,160,44)",
          "line": {
           "width": 2
          },
          "type": "rect",
          "x0": 87.35955056179775,
          "x1": 100,
          "y0": 57.77777777777775,
          "y1": 76.29629629629626
         },
         {
          "fillcolor": "rgb(251,154,153)",
          "line": {
           "width": 2
          },
          "type": "rect",
          "x0": 87.35955056179775,
          "x1": 100,
          "y0": 76.29629629629626,
          "y1": 94.81481481481477
         },
         {
          "fillcolor": "rgb(227,26,28)",
          "line": {
           "width": 2
          },
          "type": "rect",
          "x0": 87.35955056179775,
          "x1": 99.99999999999987,
          "y0": 94.81481481481477,
          "y1": 100
         }
        ],
        "width": 700,
        "xaxis": {
         "showgrid": false,
         "zeroline": false
        },
        "yaxis": {
         "showgrid": false,
         "zeroline": false
        }
       }
      },
      "text/html": [
       "<div id=\"00321981-fd51-4775-ab03-80905273eb81\" style=\"height: 700px; width: 700px;\" class=\"plotly-graph-div\"></div><script type=\"text/javascript\">require([\"plotly\"], function(Plotly) { window.PLOTLYENV=window.PLOTLYENV || {};window.PLOTLYENV.BASE_URL=\"https://plot.ly\";Plotly.newPlot(\"00321981-fd51-4775-ab03-80905273eb81\", [{\"mode\": \"text\", \"text\": [\"500\", \"433\", \"78\", \"25\", \"25\", \"7\"], \"x\": [43.67977528089887, 43.67977528089887, 93.67977528089887, 93.67977528089887, 93.67977528089887, 93.67977528089881], \"y\": [26.795284030010723, 76.79528403001073, 28.888888888888875, 67.03703703703701, 85.55555555555551, 97.40740740740739], \"type\": \"scatter\", \"uid\": \"5e2c1018-984e-4b83-9022-88fada334447\"}], {\"annotations\": [{\"showarrow\": false, \"text\": \"500\", \"x\": 43.67977528089887, \"y\": 26.795284030010723}, {\"showarrow\": false, \"text\": \"433\", \"x\": 43.67977528089887, \"y\": 76.79528403001073}, {\"showarrow\": false, \"text\": \"78\", \"x\": 93.67977528089887, \"y\": 28.888888888888875}, {\"showarrow\": false, \"text\": \"25\", \"x\": 93.67977528089887, \"y\": 67.03703703703701}, {\"showarrow\": false, \"text\": \"25\", \"x\": 93.67977528089887, \"y\": 85.55555555555551}, {\"showarrow\": false, \"text\": \"7\", \"x\": 93.67977528089881, \"y\": 97.40740740740739}], \"height\": 700, \"hovermode\": \"closest\", \"shapes\": [{\"fillcolor\": \"rgb(166,206,227)\", \"line\": {\"width\": 2}, \"type\": \"rect\", \"x0\": 0.0, \"x1\": 87.35955056179775, \"y0\": 0.0, \"y1\": 53.59056806002145}, {\"fillcolor\": \"rgb(31,120,180)\", \"line\": {\"width\": 2}, \"type\": \"rect\", \"x0\": 0.0, \"x1\": 87.35955056179775, \"y0\": 53.59056806002145, \"y1\": 100.00000000000001}, {\"fillcolor\": \"rgb(178,223,138)\", \"line\": {\"width\": 2}, \"type\": \"rect\", \"x0\": 87.35955056179775, \"x1\": 100.0, \"y0\": 0.0, \"y1\": 57.77777777777775}, {\"fillcolor\": \"rgb(51,160,44)\", \"line\": {\"width\": 2}, \"type\": \"rect\", \"x0\": 87.35955056179775, \"x1\": 100.0, \"y0\": 57.77777777777775, \"y1\": 76.29629629629626}, {\"fillcolor\": \"rgb(251,154,153)\", \"line\": {\"width\": 2}, \"type\": \"rect\", \"x0\": 87.35955056179775, \"x1\": 100.0, \"y0\": 76.29629629629626, \"y1\": 94.81481481481477}, {\"fillcolor\": \"rgb(227,26,28)\", \"line\": {\"width\": 2}, \"type\": \"rect\", \"x0\": 87.35955056179775, \"x1\": 99.99999999999987, \"y0\": 94.81481481481477, \"y1\": 100.0}], \"width\": 700, \"xaxis\": {\"showgrid\": false, \"zeroline\": false}, \"yaxis\": {\"showgrid\": false, \"zeroline\": false}}, {\"showLink\": false, \"linkText\": \"Export to plot.ly\", \"plotlyServerURL\": \"https://plot.ly\"})});</script>"
      ],
      "text/vnd.plotly.v1+html": [
       "<div id=\"00321981-fd51-4775-ab03-80905273eb81\" style=\"height: 700px; width: 700px;\" class=\"plotly-graph-div\"></div><script type=\"text/javascript\">require([\"plotly\"], function(Plotly) { window.PLOTLYENV=window.PLOTLYENV || {};window.PLOTLYENV.BASE_URL=\"https://plot.ly\";Plotly.newPlot(\"00321981-fd51-4775-ab03-80905273eb81\", [{\"mode\": \"text\", \"text\": [\"500\", \"433\", \"78\", \"25\", \"25\", \"7\"], \"x\": [43.67977528089887, 43.67977528089887, 93.67977528089887, 93.67977528089887, 93.67977528089887, 93.67977528089881], \"y\": [26.795284030010723, 76.79528403001073, 28.888888888888875, 67.03703703703701, 85.55555555555551, 97.40740740740739], \"type\": \"scatter\", \"uid\": \"5e2c1018-984e-4b83-9022-88fada334447\"}], {\"annotations\": [{\"showarrow\": false, \"text\": \"500\", \"x\": 43.67977528089887, \"y\": 26.795284030010723}, {\"showarrow\": false, \"text\": \"433\", \"x\": 43.67977528089887, \"y\": 76.79528403001073}, {\"showarrow\": false, \"text\": \"78\", \"x\": 93.67977528089887, \"y\": 28.888888888888875}, {\"showarrow\": false, \"text\": \"25\", \"x\": 93.67977528089887, \"y\": 67.03703703703701}, {\"showarrow\": false, \"text\": \"25\", \"x\": 93.67977528089887, \"y\": 85.55555555555551}, {\"showarrow\": false, \"text\": \"7\", \"x\": 93.67977528089881, \"y\": 97.40740740740739}], \"height\": 700, \"hovermode\": \"closest\", \"shapes\": [{\"fillcolor\": \"rgb(166,206,227)\", \"line\": {\"width\": 2}, \"type\": \"rect\", \"x0\": 0.0, \"x1\": 87.35955056179775, \"y0\": 0.0, \"y1\": 53.59056806002145}, {\"fillcolor\": \"rgb(31,120,180)\", \"line\": {\"width\": 2}, \"type\": \"rect\", \"x0\": 0.0, \"x1\": 87.35955056179775, \"y0\": 53.59056806002145, \"y1\": 100.00000000000001}, {\"fillcolor\": \"rgb(178,223,138)\", \"line\": {\"width\": 2}, \"type\": \"rect\", \"x0\": 87.35955056179775, \"x1\": 100.0, \"y0\": 0.0, \"y1\": 57.77777777777775}, {\"fillcolor\": \"rgb(51,160,44)\", \"line\": {\"width\": 2}, \"type\": \"rect\", \"x0\": 87.35955056179775, \"x1\": 100.0, \"y0\": 57.77777777777775, \"y1\": 76.29629629629626}, {\"fillcolor\": \"rgb(251,154,153)\", \"line\": {\"width\": 2}, \"type\": \"rect\", \"x0\": 87.35955056179775, \"x1\": 100.0, \"y0\": 76.29629629629626, \"y1\": 94.81481481481477}, {\"fillcolor\": \"rgb(227,26,28)\", \"line\": {\"width\": 2}, \"type\": \"rect\", \"x0\": 87.35955056179775, \"x1\": 99.99999999999987, \"y0\": 94.81481481481477, \"y1\": 100.0}], \"width\": 700, \"xaxis\": {\"showgrid\": false, \"zeroline\": false}, \"yaxis\": {\"showgrid\": false, \"zeroline\": false}}, {\"showLink\": false, \"linkText\": \"Export to plot.ly\", \"plotlyServerURL\": \"https://plot.ly\"})});</script>"
      ]
     },
     "metadata": {},
     "output_type": "display_data"
    }
   ],
   "source": [
    "import plotly.graph_objs as go\n",
    "\n",
    "import squarify\n",
    "\n",
    "x = 0.\n",
    "y = 0.\n",
    "width = 100.\n",
    "height = 100.\n",
    "\n",
    "values = [500, 433, 78, 25, 25, 7]\n",
    "\n",
    "normed = squarify.normalize_sizes(values, width, height)\n",
    "rects = squarify.squarify(normed, x, y, width, height)\n",
    "\n",
    "# Choose colors from http://colorbrewer2.org/ under \"Export\"\n",
    "color_brewer = ['rgb(166,206,227)','rgb(31,120,180)','rgb(178,223,138)',\n",
    "                'rgb(51,160,44)','rgb(251,154,153)','rgb(227,26,28)']\n",
    "shapes = []\n",
    "annotations = []\n",
    "counter = 0\n",
    "\n",
    "for r in rects:\n",
    "    shapes.append( \n",
    "        dict(\n",
    "            type = 'rect', \n",
    "            x0 = r['x'], \n",
    "            y0 = r['y'], \n",
    "            x1 = r['x']+r['dx'], \n",
    "            y1 = r['y']+r['dy'],\n",
    "            line = dict( width = 2 ),\n",
    "            fillcolor = color_brewer[counter]\n",
    "        ) \n",
    "    )\n",
    "    annotations.append(\n",
    "        dict(\n",
    "            x = r['x']+(r['dx']/2),\n",
    "            y = r['y']+(r['dy']/2),\n",
    "            text = values[counter],\n",
    "            showarrow = False\n",
    "        )\n",
    "    )\n",
    "    counter = counter + 1\n",
    "    if counter >= len(color_brewer):\n",
    "        counter = 0\n",
    "\n",
    "# For hover text\n",
    "trace0 = go.Scatter(\n",
    "    x = [ r['x']+(r['dx']/2) for r in rects ], \n",
    "    y = [ r['y']+(r['dy']/2) for r in rects ],\n",
    "    text = [ str(v) for v in values ], \n",
    "    mode = 'text',\n",
    ")\n",
    "        \n",
    "layout = dict(\n",
    "    height=700, \n",
    "    width=700,\n",
    "    xaxis=dict(showgrid=False,zeroline=False),\n",
    "    yaxis=dict(showgrid=False,zeroline=False),\n",
    "    shapes=shapes,\n",
    "    annotations=annotations,\n",
    "    hovermode='closest'\n",
    ")\n",
    "\n",
    "# With hovertext\n",
    "figure = dict(data=[trace0], layout=layout)\n",
    "\n",
    "# Without hovertext\n",
    "# figure = dict(data=[Scatter()], layout=layout)\n",
    "\n",
    "pyo.iplot(figure, filename='squarify-treemap')"
   ]
  },
  {
   "cell_type": "code",
   "execution_count": null,
   "metadata": {},
   "outputs": [],
   "source": []
  }
 ],
 "metadata": {
  "kernelspec": {
   "display_name": "Python 3",
   "language": "python",
   "name": "python3"
  },
  "language_info": {
   "codemirror_mode": {
    "name": "ipython",
    "version": 3
   },
   "file_extension": ".py",
   "mimetype": "text/x-python",
   "name": "python",
   "nbconvert_exporter": "python",
   "pygments_lexer": "ipython3",
   "version": "3.6.8"
  }
 },
 "nbformat": 4,
 "nbformat_minor": 1
}
